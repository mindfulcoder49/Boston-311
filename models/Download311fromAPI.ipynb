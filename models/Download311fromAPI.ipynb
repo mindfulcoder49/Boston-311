{
 "cells": [
  {
   "cell_type": "code",
   "execution_count": 1,
   "metadata": {},
   "outputs": [
    {
     "name": "stdout",
     "output_type": "stream",
     "text": [
      "Fetching data for 2022-07-20T20:10:00Z to 2022-07-21T20:10:00Z\n",
      "Number of requests: 50\n",
      "305026 boston_311_data_2022.csv\n",
      "Number of lines in file: 0\n",
      "Fetching data for 2022-07-20T20:16:00Z to 2022-07-21T20:16:00Z\n",
      "Number of requests: 50\n",
      "305064 boston_311_data_2022.csv\n",
      "Number of lines in file: 0\n",
      "Fetching data for 2022-07-20T20:23:00Z to 2022-07-21T20:23:00Z\n",
      "Number of requests: 50\n",
      "305124 boston_311_data_2022.csv\n",
      "Number of lines in file: 0\n",
      "Fetching data for 2022-07-20T20:24:00Z to 2022-07-21T20:24:00Z\n",
      "Number of requests: 50\n",
      "305162 boston_311_data_2022.csv\n",
      "Number of lines in file: 0\n",
      "Fetching data for 2022-07-20T20:27:00Z to 2022-07-21T20:27:00Z\n",
      "Number of requests: 50\n",
      "305222 boston_311_data_2022.csv\n",
      "Number of lines in file: 0\n",
      "Fetching data for 2022-07-20T20:28:00Z to 2022-07-21T20:28:00Z\n",
      "Number of requests: 50\n",
      "305260 boston_311_data_2022.csv\n",
      "Number of lines in file: 0\n",
      "Fetching data for 2022-07-20T20:29:00Z to 2022-07-21T20:29:00Z\n",
      "Number of requests: 50\n",
      "305320 boston_311_data_2022.csv\n",
      "Number of lines in file: 0\n"
     ]
    },
    {
     "ename": "KeyboardInterrupt",
     "evalue": "",
     "output_type": "error",
     "traceback": [
      "\u001b[0;31m---------------------------------------------------------------------------\u001b[0m",
      "\u001b[0;31mKeyboardInterrupt\u001b[0m                         Traceback (most recent call last)",
      "\u001b[1;32m/home/briarmoss/Documents/Boston_311/models/Download311fromAPI.ipynb Cell 1\u001b[0m line \u001b[0;36m7\n\u001b[1;32m     <a href='vscode-notebook-cell://ssh-remote%2Bbriarmossdesktop/home/briarmoss/Documents/Boston_311/models/Download311fromAPI.ipynb#W0sdnNjb2RlLXJlbW90ZQ%3D%3D?line=69'>70</a>\u001b[0m             start_date \u001b[39m+\u001b[39m\u001b[39m=\u001b[39m minutedelta\n\u001b[1;32m     <a href='vscode-notebook-cell://ssh-remote%2Bbriarmossdesktop/home/briarmoss/Documents/Boston_311/models/Download311fromAPI.ipynb#W0sdnNjb2RlLXJlbW90ZQ%3D%3D?line=72'>73</a>\u001b[0m     \u001b[39m# Rate limiting: Sleep for 6 seconds to stay within 10 requests per minute limit\u001b[39;00m\n\u001b[0;32m---> <a href='vscode-notebook-cell://ssh-remote%2Bbriarmossdesktop/home/briarmoss/Documents/Boston_311/models/Download311fromAPI.ipynb#W0sdnNjb2RlLXJlbW90ZQ%3D%3D?line=73'>74</a>\u001b[0m     time\u001b[39m.\u001b[39;49msleep(\u001b[39m6\u001b[39;49m)\n\u001b[1;32m     <a href='vscode-notebook-cell://ssh-remote%2Bbriarmossdesktop/home/briarmoss/Documents/Boston_311/models/Download311fromAPI.ipynb#W0sdnNjb2RlLXJlbW90ZQ%3D%3D?line=75'>76</a>\u001b[0m \u001b[39m# Close CSV file\u001b[39;00m\n\u001b[1;32m     <a href='vscode-notebook-cell://ssh-remote%2Bbriarmossdesktop/home/briarmoss/Documents/Boston_311/models/Download311fromAPI.ipynb#W0sdnNjb2RlLXJlbW90ZQ%3D%3D?line=76'>77</a>\u001b[0m csv_file\u001b[39m.\u001b[39mclose()\n",
      "\u001b[0;31mKeyboardInterrupt\u001b[0m: "
     ]
    }
   ],
   "source": [
    "import requests\n",
    "import csv\n",
    "import time\n",
    "import json\n",
    "from datetime import datetime, timedelta\n",
    "import os\n",
    "from pytz import UTC  # Import UTC timezone object\n",
    "\n",
    "# Function to get the last date in the existing CSV file\n",
    "def get_last_date_in_csv(file_path):\n",
    "    try:\n",
    "        with open(file_path, 'r', newline='', encoding='utf-8') as f:\n",
    "            csv_reader = csv.reader(f)\n",
    "            last_row = None\n",
    "            for row in csv_reader:\n",
    "                last_row = row\n",
    "            if last_row:\n",
    "                return datetime.fromisoformat(last_row[5].replace(\"Z\", \"+00:00\"))\n",
    "    except FileNotFoundError:\n",
    "        return None\n",
    "\n",
    "# Initialize CSV file\n",
    "csv_file_path = 'boston_311_data_2022.csv'\n",
    "start_date = get_last_date_in_csv(csv_file_path) or datetime(2022, 1, 1, tzinfo=UTC)\n",
    "end_date = datetime(2023, 1, 1, tzinfo=UTC)\n",
    "delta = timedelta(days=1)  # 12 hours\n",
    "minutedelta = timedelta(minutes=1)  # 1 minute\n",
    "\n",
    "csv_file = open(csv_file_path, 'a', newline='', encoding='utf-8')\n",
    "csv_writer = csv.writer(csv_file)\n",
    "\n",
    "# Write header only if the file is new\n",
    "if start_date == datetime(2023, 1, 1, tzinfo=UTC):\n",
    "    csv_writer.writerow(['service_request_id', 'status', 'service_name', 'service_code', 'description', 'requested_datetime', 'updated_datetime', 'address', 'lat', 'long', 'token'])  # Header\n",
    "\n",
    "while start_date <= end_date:\n",
    "    formatted_start_date = start_date.strftime('%Y-%m-%dT%H:%M:%S') + 'Z'\n",
    "    formatted_end_date = (start_date + delta).strftime('%Y-%m-%dT%H:%M:%S') + 'Z'\n",
    "\n",
    "    url = f\"https://311.boston.gov/open311/v2/requests.json?start_date={formatted_start_date}&end_date={formatted_end_date}\"\n",
    "\n",
    "    response = requests.get(url)\n",
    "    print(f\"Fetching data for {formatted_start_date} to {formatted_end_date}\")\n",
    "    #print number of requests in response\n",
    "    print(f\"Number of requests: {len(response.json())}\")\n",
    "\n",
    "    #print the wc -l of the file\n",
    "    print(f\"Number of lines in file: {os.system('wc -l boston_311_data_2022.csv')}\")\n",
    "\n",
    "    if response.status_code == 200:\n",
    "        try:\n",
    "            data = json.loads(response.text)\n",
    "            for record in data:\n",
    "                csv_writer.writerow([record.get('service_request_id'), record.get('status'), record.get('service_name'), record.get('service_code'), record.get('description'), record.get('requested_datetime'), record.get('updated_datetime'), record.get('address'), record.get('lat'), record.get('long'), record.get('token')])\n",
    "        except json.JSONDecodeError:\n",
    "            print(f\"Failed to decode JSON for {formatted_start_date} to {formatted_end_date}\")\n",
    "            continue  # Skip to the next iteration\n",
    "    else:\n",
    "        print(f\"Failed to fetch data for {formatted_start_date} to {formatted_end_date}\")\n",
    "\n",
    "    # Move to next half-day\n",
    "    #start_date += delta\n",
    "\n",
    "    #set start_date to the last date in this response if it's greater than the current start_date else add delta. Use multiple lines\n",
    "    if len(response.json()) > 0:\n",
    "        last_date = datetime.fromisoformat(response.json()[-1].get('requested_datetime').replace(\"Z\", \"+00:00\"))\n",
    "        if last_date > start_date:\n",
    "            start_date = last_date\n",
    "        else:\n",
    "            start_date += minutedelta\n",
    "\n",
    "\n",
    "    # Rate limiting: Sleep for 6 seconds to stay within 10 requests per minute limit\n",
    "    time.sleep(6)\n",
    "\n",
    "# Close CSV file\n",
    "csv_file.close()"
   ]
  },
  {
   "cell_type": "code",
   "execution_count": null,
   "metadata": {},
   "outputs": [
    {
     "name": "stdout",
     "output_type": "stream",
     "text": [
      "Number of lines in the CSV file:\n",
      "8532\n"
     ]
    }
   ],
   "source": [
    "#count the lines in the csv file\n",
    "num_lines = sum(1 for line in open('boston_311_data_2022.csv'))\n",
    "\n",
    "#print the count\n",
    "print(\"Number of lines in the CSV file:\")\n",
    "print(num_lines)"
   ]
  },
  {
   "cell_type": "code",
   "execution_count": 8,
   "metadata": {},
   "outputs": [
    {
     "name": "stdout",
     "output_type": "stream",
     "text": [
      "Number of unique values in the first column:\n",
      "<bound method Series.unique of 0         101004113295\n",
      "1         101004113630\n",
      "2         101004113228\n",
      "3         101004113229\n",
      "4         101004113230\n",
      "              ...     \n",
      "305353    101004397135\n",
      "305354    101004397479\n",
      "305355    101004396963\n",
      "305356    101004396409\n",
      "305357    101004396280\n",
      "Name: 101004113559, Length: 305358, dtype: int64>\n"
     ]
    }
   ],
   "source": [
    "#load the csv file into a dataframe and count the unique service codes\n",
    "import pandas as pd\n",
    "df = pd.read_csv('boston_311_data_2022.csv')\n",
    "print(\"Number of unique values in the first column:\")\n",
    "\n"
   ]
  },
  {
   "cell_type": "code",
   "execution_count": null,
   "metadata": {},
   "outputs": [],
   "source": []
  }
 ],
 "metadata": {
  "kernelspec": {
   "display_name": "Python 3",
   "language": "python",
   "name": "python3"
  },
  "language_info": {
   "codemirror_mode": {
    "name": "ipython",
    "version": 3
   },
   "file_extension": ".py",
   "mimetype": "text/x-python",
   "name": "python",
   "nbconvert_exporter": "python",
   "pygments_lexer": "ipython3",
   "version": "3.10.12"
  },
  "orig_nbformat": 4
 },
 "nbformat": 4,
 "nbformat_minor": 2
}
