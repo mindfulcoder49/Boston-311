{
  "cells": [
    {
      "cell_type": "code",
      "execution_count": 1,
      "metadata": {},
      "outputs": [],
      "source": [
        "! rm ./*.csv"
      ]
    },
    {
      "cell_type": "code",
      "execution_count": 2,
      "metadata": {},
      "outputs": [
        {
          "name": "stdout",
          "output_type": "stream",
          "text": [
            "2023-10-02_17-04-54_311_cases.csv             100%   16MB   3.2MB/s   00:04    \n",
            "2023-10-02_17-04-54_311_ml_models.csv         100%  105    48.9KB/s   00:00    \n",
            "2023-10-02_17-04-54_311_predictions.csv       100%  134KB   4.4MB/s   00:00    \n",
            "boston_2022.csv                               100%  108MB   2.4MB/s   00:46    \n",
            "boston_311_data_2022.csv                      100%  108MB   2.6MB/s   00:42    \n",
            "boston_311_data.csv                           100%  100MB   2.2MB/s   00:44    \n",
            "boston_311_data_predict.csv                   100% 2404KB   5.4MB/s   00:00    \n",
            "cls_and_pooled_embeddings_with_service_id_202 100% 1546MB   2.5MB/s   10:29    \n",
            "cls_and_pooled_embeddings_with_service_id_202 100% 1395MB   2.3MB/s   10:21    \n",
            "cls_and_pooled_embeddings_with_service_id.csv 100%   29MB   2.7MB/s   00:10    \n",
            "header.csv                                    100%  123    50.7KB/s   00:00    \n"
          ]
        }
      ],
      "source": [
        "! scp -P 1992 briarmoss@briarmossdesktop:/home/briarmoss/Documents/Boston_311/models/*.csv .\n"
      ]
    },
    {
      "cell_type": "code",
      "execution_count": null,
      "metadata": {},
      "outputs": [],
      "source": [
        "#create an export folder\n",
        "EXPORT_FOLDER = '~/Documents/BODC-DEI-site/database/seeders'\n",
        "#copy the csv files to the export folder\n",
        "!cp *_311_cases.csv {EXPORT_FOLDER}\n",
        "!cp *_311_predictions.csv {EXPORT_FOLDER}\n",
        "!cp *_311_ml_models.csv {EXPORT_FOLDER}\n",
        "!cp *_manifest.txt {EXPORT_FOLDER}\n",
        "\n"
      ]
    },
    {
      "cell_type": "markdown",
      "metadata": {},
      "source": [
        "** Copy the files to the production server **"
      ]
    },
    {
      "cell_type": "code",
      "execution_count": null,
      "metadata": {},
      "outputs": [],
      "source": [
        "# Define constants for servers\n",
        "PROD_USER = 'u353344964'\n",
        "PROD_HOSTNAME = '195.179.236.61'\n",
        "PORT_NUMBER = 65002\n",
        "PROD_BASE_FOLDER = '/home/u353344964/domains/bodc-dei.org/laravel'\n",
        "STAGE_BASE_FOLDER = '/home/u353344964/domains/bodc-dei.org/stagelaravel'\n",
        "PROD_EXPORT_FOLDER = '/home/u353344964/domains/bodc-dei.org/laravel/database/seeders'\n",
        "STAGE_EXPORT_FOLDER = '/home/u353344964/domains/bodc-dei.org/stagelaravel/database/seeders'"
      ]
    },
    {
      "cell_type": "code",
      "execution_count": null,
      "metadata": {},
      "outputs": [],
      "source": [
        "import os\n",
        "\n",
        "\n",
        "def scp_to_server(filename, user=PROD_USER, hostname=PROD_HOSTNAME, port=PORT_NUMBER, export_folder=PROD_EXPORT_FOLDER):\n",
        "    \"\"\"Copy a file to the server using scp.\"\"\"\n",
        "    command = f\"scp -P {port} {filename} {user}@{hostname}:{export_folder}\"\n",
        "    print(f\"Executing: {command}\")\n",
        "    os.system(command)\n",
        "\n",
        "# Use the function to scp files\n",
        "files_to_copy = [\n",
        "    f\"*_311_cases.csv\",\n",
        "    f\"*_311_predictions.csv\",\n",
        "    f\"*_311_ml_models.csv\",\n",
        "    f\"*_manifest.txt\"\n",
        "]\n",
        "\n",
        "# Control where to copy\n",
        "copy_to_prod = False\n",
        "copy_to_stage = True\n",
        "\n",
        "for file in files_to_copy:\n",
        "    if copy_to_prod:\n",
        "        scp_to_server(file, export_folder=PROD_EXPORT_FOLDER)\n",
        "    if copy_to_stage:\n",
        "        scp_to_server(file, export_folder=STAGE_EXPORT_FOLDER)\n"
      ]
    },
    {
      "cell_type": "code",
      "execution_count": null,
      "metadata": {},
      "outputs": [],
      "source": [
        "PORT_NUMBER"
      ]
    },
    {
      "cell_type": "code",
      "execution_count": null,
      "metadata": {},
      "outputs": [],
      "source": [
        "!ssh -p {PORT_NUMBER} {PROD_USER}@{PROD_HOSTNAME} 'cd {STAGE_BASE_FOLDER}; php artisan db:seed --class=ThreeOneOneSeeder'"
      ]
    },
    {
      "cell_type": "code",
      "execution_count": null,
      "metadata": {},
      "outputs": [],
      "source": [
        "!ssh -p {PORT_NUMBER} {PROD_USER}@{PROD_HOSTNAME} 'cd {PROD_BASE_FOLDER}; php artisan db:seed --class=ThreeOneOneSeeder'"
      ]
    },
    {
      "cell_type": "code",
      "execution_count": null,
      "metadata": {},
      "outputs": [],
      "source": []
    }
  ],
  "metadata": {
    "colab": {
      "provenance": []
    },
    "kernelspec": {
      "display_name": "Python 3 (ipykernel)",
      "language": "python",
      "name": "python3"
    },
    "language_info": {
      "codemirror_mode": {
        "name": "ipython",
        "version": 3
      },
      "file_extension": ".py",
      "mimetype": "text/x-python",
      "name": "python",
      "nbconvert_exporter": "python",
      "pygments_lexer": "ipython3",
      "version": "3.10.12"
    }
  },
  "nbformat": 4,
  "nbformat_minor": 0
}
