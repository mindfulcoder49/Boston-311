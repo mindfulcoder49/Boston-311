{
  "cells": [
    {
      "cell_type": "code",
      "execution_count": null,
      "metadata": {},
      "outputs": [],
      "source": [
        "#get current datetime in Boston timezone as string\n",
        "from datetime import datetime\n",
        "from pytz import timezone\n",
        "import pytz\n",
        "boston = timezone('US/Eastern')\n",
        "now = datetime.now(boston)\n",
        "today_datestring = now.strftime(\"%Y-%m-%d\")\n",
        "#get time in Boston timezone as string for a filename\n",
        "now = datetime.now(boston)\n",
        "time_string = now.strftime(\"%H-%M-%S\")\n",
        "#define datetime string\n",
        "my_datetime = today_datestring + '_' + time_string "
      ]
    },
    {
      "cell_type": "code",
      "execution_count": null,
      "metadata": {
        "id": "aI0HHI6YjMoQ"
      },
      "outputs": [],
      "source": [
        "all_model_cases.to_csv(my_datetime+'_311_cases.csv', index=False)\n"
      ]
    },
    {
      "cell_type": "code",
      "execution_count": null,
      "metadata": {},
      "outputs": [],
      "source": [
        "\n",
        "all_model_predictions.to_csv(my_datetime+'_311_predictions.csv', index=False)"
      ]
    },
    {
      "cell_type": "code",
      "execution_count": null,
      "metadata": {},
      "outputs": [],
      "source": [
        "\n",
        "ml_model_df.to_csv(my_datetime+'_311_ml_models.csv', index=False)"
      ]
    },
    {
      "cell_type": "code",
      "execution_count": null,
      "metadata": {},
      "outputs": [],
      "source": [
        "#create datetime _manifest.txt file with one filename per line\n",
        "with open(my_datetime+'_manifest.txt', 'w') as f:\n",
        "    f.write(my_datetime+'_311_cases.csv\\n')\n",
        "    f.write(my_datetime+'_311_predictions.csv\\n')\n",
        "    f.write(my_datetime+'_311_ml_models.csv\\n')"
      ]
    },
    {
      "cell_type": "code",
      "execution_count": null,
      "metadata": {},
      "outputs": [],
      "source": [
        "#create an export folder\n",
        "EXPORT_FOLDER = '~/Documents/BODC-DEI-site/database/seeders'\n",
        "#copy the csv files to the export folder\n",
        "!cp {my_datetime}_311_cases.csv {EXPORT_FOLDER}\n",
        "!cp {my_datetime}_311_predictions.csv {EXPORT_FOLDER}\n",
        "!cp {my_datetime}_311_ml_models.csv {EXPORT_FOLDER}\n",
        "!cp {my_datetime}_manifest.txt {EXPORT_FOLDER}\n",
        "\n"
      ]
    },
    {
      "cell_type": "markdown",
      "metadata": {},
      "source": [
        "** Copy the files to the production server **"
      ]
    },
    {
      "cell_type": "code",
      "execution_count": null,
      "metadata": {},
      "outputs": [],
      "source": [
        "# Define constants for servers\n",
        "PROD_USER = 'u353344964'\n",
        "PROD_HOSTNAME = '195.179.236.61'\n",
        "PORT_NUMBER = 65002\n",
        "PROD_BASE_FOLDER = '/home/u353344964/domains/bodc-dei.org/laravel'\n",
        "STAGE_BASE_FOLDER = '/home/u353344964/domains/bodc-dei.org/stagelaravel'\n",
        "PROD_EXPORT_FOLDER = '/home/u353344964/domains/bodc-dei.org/laravel/database/seeders'\n",
        "STAGE_EXPORT_FOLDER = '/home/u353344964/domains/bodc-dei.org/stagelaravel/database/seeders'"
      ]
    },
    {
      "cell_type": "code",
      "execution_count": null,
      "metadata": {},
      "outputs": [],
      "source": [
        "import os\n",
        "\n",
        "\n",
        "def scp_to_server(filename, user=PROD_USER, hostname=PROD_HOSTNAME, port=PORT_NUMBER, export_folder=PROD_EXPORT_FOLDER):\n",
        "    \"\"\"Copy a file to the server using scp.\"\"\"\n",
        "    command = f\"scp -P {port} {filename} {user}@{hostname}:{export_folder}\"\n",
        "    print(f\"Executing: {command}\")\n",
        "    os.system(command)\n",
        "\n",
        "# Use the function to scp files\n",
        "files_to_copy = [\n",
        "    f\"{my_datetime}_311_cases.csv\",\n",
        "    f\"{my_datetime}_311_predictions.csv\",\n",
        "    f\"{my_datetime}_311_ml_models.csv\",\n",
        "    f\"{my_datetime}_manifest.txt\"\n",
        "]\n",
        "\n",
        "# Control where to copy\n",
        "copy_to_prod = False\n",
        "copy_to_stage = True\n",
        "\n",
        "for file in files_to_copy:\n",
        "    if copy_to_prod:\n",
        "        scp_to_server(file, export_folder=PROD_EXPORT_FOLDER)\n",
        "    if copy_to_stage:\n",
        "        scp_to_server(file, export_folder=STAGE_EXPORT_FOLDER)\n"
      ]
    },
    {
      "cell_type": "code",
      "execution_count": null,
      "metadata": {},
      "outputs": [],
      "source": [
        "PORT_NUMBER"
      ]
    },
    {
      "cell_type": "code",
      "execution_count": null,
      "metadata": {},
      "outputs": [],
      "source": [
        "!ssh -p {PORT_NUMBER} {PROD_USER}@{PROD_HOSTNAME} 'cd {STAGE_BASE_FOLDER}; php artisan db:seed --class=ThreeOneOneSeeder'"
      ]
    },
    {
      "cell_type": "code",
      "execution_count": null,
      "metadata": {},
      "outputs": [],
      "source": [
        "!ssh -p {PORT_NUMBER} {PROD_USER}@{PROD_HOSTNAME} 'cd {PROD_BASE_FOLDER}; php artisan db:seed --class=ThreeOneOneSeeder'"
      ]
    },
    {
      "cell_type": "code",
      "execution_count": null,
      "metadata": {},
      "outputs": [],
      "source": []
    }
  ],
  "metadata": {
    "colab": {
      "provenance": []
    },
    "kernelspec": {
      "display_name": "Python 3 (ipykernel)",
      "language": "python",
      "name": "python3"
    },
    "language_info": {
      "codemirror_mode": {
        "name": "ipython",
        "version": 3
      },
      "file_extension": ".py",
      "mimetype": "text/x-python",
      "name": "python",
      "nbconvert_exporter": "python",
      "pygments_lexer": "ipython3",
      "version": "3.10.12"
    }
  },
  "nbformat": 4,
  "nbformat_minor": 0
}
