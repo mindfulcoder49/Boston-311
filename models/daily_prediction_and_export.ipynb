{
  "cells": [
    {
      "cell_type": "markdown",
      "metadata": {
        "id": "P1BXqsllgueC"
      },
      "source": [
        "#Boston 311 Tutorial\n",
        "\n",
        "This notebook will run you through the basic usage of this package to train 3 models on the Boston 311 data and use them to predict the outcome of cases from the last 30 days"
      ]
    },
    {
      "cell_type": "markdown",
      "metadata": {
        "id": "u54v241Vh-gN"
      },
      "source": [
        "##Install the package from github using pip"
      ]
    },
    {
      "cell_type": "code",
      "execution_count": 1,
      "metadata": {
        "id": "HF8wNhboPQ1z"
      },
      "outputs": [],
      "source": [
        "#This library is only needed for the Cox Regression Model, which is not included in this tutorial\n",
        "#! pip install lifelines"
      ]
    },
    {
      "cell_type": "code",
      "execution_count": 2,
      "metadata": {},
      "outputs": [],
      "source": [
        "#pwd()"
      ]
    },
    {
      "cell_type": "code",
      "execution_count": 3,
      "metadata": {
        "colab": {
          "base_uri": "https://localhost:8080/"
        },
        "id": "rlLnbD24LDtG",
        "outputId": "6520c1c5-4219-49a4-ba28-7d06451fdfee"
      },
      "outputs": [],
      "source": [
        "#! pip install ../"
      ]
    },
    {
      "cell_type": "markdown",
      "metadata": {
        "id": "XP7Hzen_iEAl"
      },
      "source": [
        "##Import the Boston311Model class"
      ]
    },
    {
      "cell_type": "code",
      "execution_count": 1,
      "metadata": {},
      "outputs": [
        {
          "name": "stdout",
          "output_type": "stream",
          "text": [
            "Name: boston311\n",
            "Version: 0.1.0\n",
            "Summary: A package for training machine learning models on Boston 311 data\n",
            "Home-page: https://github.com/mindfulcoder49/Boston_311\n",
            "Author: Alex Alcivar\n",
            "Author-email: alex.g.alcivar49@gmail.com\n",
            "License: UNKNOWN\n",
            "Location: /home/briarmoss/.local/lib/python3.10/site-packages\n",
            "Requires: matplotlib, numpy, pandas, scikit-learn, tensorflow\n",
            "Required-by: \n"
          ]
        }
      ],
      "source": [
        "! pip show boston311"
      ]
    },
    {
      "cell_type": "code",
      "execution_count": 2,
      "metadata": {
        "id": "LdhJESm7eWaY"
      },
      "outputs": [
        {
          "name": "stderr",
          "output_type": "stream",
          "text": [
            "2023-09-08 18:06:37.937782: I tensorflow/tsl/cuda/cudart_stub.cc:28] Could not find cuda drivers on your machine, GPU will not be used.\n",
            "2023-09-08 18:06:37.972173: I tensorflow/tsl/cuda/cudart_stub.cc:28] Could not find cuda drivers on your machine, GPU will not be used.\n",
            "2023-09-08 18:06:37.972686: I tensorflow/core/platform/cpu_feature_guard.cc:182] This TensorFlow binary is optimized to use available CPU instructions in performance-critical operations.\n",
            "To enable the following instructions: AVX2 FMA, in other operations, rebuild TensorFlow with the appropriate compiler flags.\n",
            "2023-09-08 18:06:38.442564: W tensorflow/compiler/tf2tensorrt/utils/py_utils.cc:38] TF-TRT Warning: Could not find TensorRT\n"
          ]
        }
      ],
      "source": [
        "from boston311 import Boston311LogReg, Boston311EventDecTree, Boston311SurvDecTree"
      ]
    },
    {
      "cell_type": "markdown",
      "metadata": {
        "id": "oq06XnVjPxvg"
      },
      "source": [
        "##Get latest file URLS and Current Date Ranges\n",
        "\n",
        "I will program several scenarios, eg:\n",
        "\n",
        "```\n",
        "linear_tree_model = Boston311SurvDecTree.Boston311SurvDecTree(train_date_range={'start':'2022-01-01','end':thirty_days_ago_datestring},\n",
        "                            predict_date_range={'start':thirty_days_ago_datestring,'end':today_datestring},\n",
        "                            feature_columns=['type','queue'],\n",
        "                            scenario={'dropColumnValues': {'source':['City Worker App', 'Employee Generated']},\n",
        "                                      'survivalTimeMin':0,\n",
        "                                      'survivalTimeFill':'2023-05-22'},\n",
        "                            files_dict=latest_URLS)\n",
        "```\n",
        "\n",
        "and then i will pick a prediction range to provide predictions for open cases in that range, and every day update the case information, retrain the models and provide new predictions. The front end display will show information about the models, and their predictions. the scenarios and how they were chosen, and the set of cases we are doing predictions for. The predictions will only be recorded in the database if they are made by a model when the case was open. The model id will go back to being a simple integer and not a date because the models will be retrained every day."
      ]
    },
    {
      "cell_type": "code",
      "execution_count": 6,
      "metadata": {
        "id": "_2FYkUb2P1LR"
      },
      "outputs": [],
      "source": [
        "logregmodel = Boston311LogReg()\n",
        "logregmodel.load('logregproperties.json', 'logreg.h5')"
      ]
    },
    {
      "cell_type": "code",
      "execution_count": 7,
      "metadata": {
        "colab": {
          "base_uri": "https://localhost:8080/"
        },
        "id": "uUMCPAELR9h7",
        "outputId": "05fcba64-1b74-4fb7-a52c-d3f8a499bcc6"
      },
      "outputs": [
        {
          "name": "stdout",
          "output_type": "stream",
          "text": [
            "2023-09-07 2023-08-08\n"
          ]
        }
      ],
      "source": [
        "from datetime import datetime, timedelta\n",
        "now = datetime.now()\n",
        "thirty_days = timedelta(days=30)\n",
        "thirty_days_ago = now - thirty_days\n",
        "today_datestring = now.strftime(\"%Y-%m-%d\")\n",
        "thirty_days_ago_datestring = thirty_days_ago.strftime(\"%Y-%m-%d\")\n",
        "\n",
        "print(today_datestring, thirty_days_ago_datestring)"
      ]
    },
    {
      "cell_type": "code",
      "execution_count": 8,
      "metadata": {},
      "outputs": [],
      "source": [
        "logregmodel.predict_date_range = {'start': '2023-08-01', 'end': today_datestring}"
      ]
    },
    {
      "cell_type": "code",
      "execution_count": 9,
      "metadata": {},
      "outputs": [
        {
          "name": "stderr",
          "output_type": "stream",
          "text": [
            "/home/briarmoss/.local/lib/python3.10/site-packages/boston311/Boston311Model.py:251: DtypeWarning: Columns (13) have mixed types. Specify dtype option on import or set low_memory=False.\n",
            "  df = pd.read_csv(file)\n"
          ]
        },
        {
          "name": "stdout",
          "output_type": "stream",
          "text": [
            "Files with different number of columns from File 0:  []\n",
            "Files with same number of columns as File 0:  [0]\n",
            "Files with different column order from File 0:  []\n",
            "Files with same column order as File 0:  [0]\n",
            "918/918 [==============================] - 4s 4ms/step\n"
          ]
        }
      ],
      "source": [
        "logregmodel_prediction = logregmodel.predict()"
      ]
    },
    {
      "cell_type": "code",
      "execution_count": 11,
      "metadata": {},
      "outputs": [],
      "source": [
        "import pandas as pd\n",
        "\n",
        "ml_model_name = 'logregmodel'\n",
        "ml_model_type = 'logistic regression'\n",
        "# set ml_model_id to 1 and then today_datestring as an integer, to make a string of digits\n",
        "ml_model_id = '1' + today_datestring.replace('-','')\n",
        "\n",
        "#create a new dataframe with new columns, ml_model_name, ml_model_type,ml_model_id\n",
        "ml_model_df = pd.DataFrame({'ml_model_name': [ml_model_name], \n",
        "                                    'ml_model_type': [ml_model_type],\n",
        "                                    'id': [ml_model_id],\n",
        "                                    'ml_model_date': [today_datestring]})\n",
        "\n",
        "\n"
      ]
    },
    {
      "cell_type": "code",
      "execution_count": 12,
      "metadata": {},
      "outputs": [],
      "source": [
        "#get new dataframe with just the event_prediction column from the logregmodel_prediction dataframe\n",
        "logregmodel_prediction_event = logregmodel_prediction[['event_prediction','case_enquiry_id']].copy()\n",
        "logregmodel_prediction_event['ml_model_id'] = ml_model_id\n",
        "#add today's date to the dataframe\n",
        "logregmodel_prediction_event['prediction_date'] = today_datestring\n",
        "#rename the event_prediction column to prediction\n",
        "logregmodel_prediction_event.rename(columns={'event_prediction': 'prediction'}, inplace=True)\n"
      ]
    },
    {
      "cell_type": "code",
      "execution_count": 13,
      "metadata": {},
      "outputs": [],
      "source": [
        "#remove logregmodel_prediction event_prediction column\n",
        "logregmodel_cases = logregmodel_prediction.drop('event_prediction', axis=1).copy()"
      ]
    },
    {
      "cell_type": "code",
      "execution_count": 14,
      "metadata": {},
      "outputs": [],
      "source": [
        "#remove geom column in logregmodel_cases\n",
        "logregmodel_cases = logregmodel_cases.drop('geom_4326', axis=1).copy()"
      ]
    },
    {
      "cell_type": "markdown",
      "metadata": {
        "id": "I4dxuwJdgrZr"
      },
      "source": [
        "##Save the prediction data"
      ]
    },
    {
      "cell_type": "code",
      "execution_count": 16,
      "metadata": {
        "id": "aI0HHI6YjMoQ"
      },
      "outputs": [],
      "source": [
        "logregmodel_cases.to_csv('311.csv', index=False)\n"
      ]
    },
    {
      "cell_type": "code",
      "execution_count": 17,
      "metadata": {},
      "outputs": [],
      "source": [
        "\n",
        "logregmodel_prediction_event.to_csv('311_predictions.csv', index=False)"
      ]
    },
    {
      "cell_type": "code",
      "execution_count": 18,
      "metadata": {},
      "outputs": [],
      "source": [
        "\n",
        "ml_model_df.to_csv('311_ml_models.csv', index=False)"
      ]
    }
  ],
  "metadata": {
    "colab": {
      "provenance": []
    },
    "kernelspec": {
      "display_name": "Python 3 (ipykernel)",
      "language": "python",
      "name": "python3"
    },
    "language_info": {
      "codemirror_mode": {
        "name": "ipython",
        "version": 3
      },
      "file_extension": ".py",
      "mimetype": "text/x-python",
      "name": "python",
      "nbconvert_exporter": "python",
      "pygments_lexer": "ipython3",
      "version": "3.10.12"
    }
  },
  "nbformat": 4,
  "nbformat_minor": 0
}
