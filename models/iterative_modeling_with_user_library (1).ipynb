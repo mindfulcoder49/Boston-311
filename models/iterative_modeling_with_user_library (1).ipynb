{
 "cells": [
  {
   "cell_type": "code",
   "execution_count": null,
   "id": "395e89de",
   "metadata": {},
   "outputs": [],
   "source": [
    "\n",
    "from Boston311LogReg import Boston311LogReg\n",
    "# Other necessary imports\n",
    "import pandas as pd\n",
    "import json\n",
    "\n",
    "import os"
   ]
  },
  {
   "cell_type": "code",
   "execution_count": null,
   "id": "858c22d1",
   "metadata": {},
   "outputs": [],
   "source": [
    "! pip install ../  # Uncomment this line to install the required package"
   ]
  },
  {
   "cell_type": "code",
   "execution_count": null,
   "id": "dc700cf0",
   "metadata": {},
   "outputs": [],
   "source": [
    "from Boston311LogReg import Boston311LogReg"
   ]
  },
  {
   "cell_type": "code",
   "execution_count": 2,
   "id": "604e1c00",
   "metadata": {},
   "outputs": [
    {
     "name": "stdout",
     "output_type": "stream",
     "text": [
      "softmax\n",
      "softmax\n",
      "softmax\n",
      "softmax\n",
      "softmax\n",
      "softmax\n",
      "softmax\n",
      "softmax\n",
      "softmax\n"
     ]
    }
   ],
   "source": [
    "import os\n",
    "from tensorflow.keras.models import load_model\n",
    "\n",
    "def load_and_print_weights(directory_path):\n",
    "    for filename in os.listdir(directory_path):\n",
    "        if filename.endswith('.h5'):\n",
    "            model_path = os.path.join(directory_path, filename)\n",
    "            model = load_model(model_path)\n",
    "            final_layer = model.layers[-1]\n",
    "            print(final_layer.get_config()['activation'])\n",
    "\n",
    "# Example usage\n",
    "directory_path = './daily_models/Boston311KerasNLP/'\n",
    "load_and_print_weights(directory_path)\n"
   ]
  },
  {
   "cell_type": "markdown",
   "id": "3daaf11a",
   "metadata": {},
   "source": [
    "## Get Latest File URLs and Current Date Ranges"
   ]
  },
  {
   "cell_type": "code",
   "execution_count": null,
   "id": "44178c51",
   "metadata": {},
   "outputs": [],
   "source": [
    "\n",
    "# Code to get the latest file URLs and current date ranges\n",
    "# Assuming this will be using the Boston311LogReg methods or another utility function\n"
   ]
  },
  {
   "cell_type": "markdown",
   "id": "cbd0fc07",
   "metadata": {},
   "source": [
    "## Define Several Models (Iteratively)"
   ]
  },
  {
   "cell_type": "markdown",
   "id": "89248761",
   "metadata": {},
   "source": [
    "## Example Code for Model Creation"
   ]
  },
  {
   "cell_type": "code",
   "execution_count": null,
   "id": "c7bbf1bf",
   "metadata": {},
   "outputs": [],
   "source": [
    "\n",
    "# Example code for model creation based on your syntax\n",
    "linear_tree_model = Boston311SurvDecTree(train_date_range={'start': '2022-01-01', 'end': '2022-01-31'}, other_parameters_here)\n",
    "logistic_model = Boston311LogReg(train_date_range={'start': '2022-01-01', 'end': '2022-01-31'}, other_parameters_here)\n",
    "logistic_tree_model = Boston311EventDecTree(train_date_range={'start': '2022-01-01', 'end': '2022-01-31'}, other_parameters_here)\n"
   ]
  },
  {
   "cell_type": "code",
   "execution_count": null,
   "id": "b8cfe31a",
   "metadata": {},
   "outputs": [],
   "source": [
    "\n",
    "# Create a list of model definitions with different scenarios and features\n",
    "model_definitions = [\n",
    "    # Example: {'model_type': 'DecisionTree', 'features': [...], 'scenario': {...}, 'hyperparameters': {...}},\n",
    "]\n",
    "\n",
    "# Iterate through the list and initialize models\n",
    "models = []\n",
    "for definition in model_definitions:\n",
    "    model = Boston311LogReg(**definition)\n",
    "    models.append(model)\n"
   ]
  },
  {
   "cell_type": "code",
   "execution_count": null,
   "id": "3ee6d136",
   "metadata": {},
   "outputs": [],
   "source": [
    "from typing import List, Dict, Any\n",
    "\n",
    "# Function to define an iteration scenario\n",
    "def define_iteration_scenario(feature_columns: List[str], time_spans: List[Dict[str, str]]) -> Dict[str, Any]:\n",
    "    scenario = {\n",
    "        'feature_columns': feature_columns,\n",
    "        'time_spans': time_spans\n",
    "    }\n",
    "    return scenario\n",
    "\n",
    "# Function to produce all the models based on an iteration scenario\n",
    "def generate_models(scenario: Dict[str, Any], latest_urls: Dict[str, str], model_class):\n",
    "    generated_models = []\n",
    "    \n",
    "    # Iterate through all paired combinations of feature columns\n",
    "    for feature_pair in combinations(scenario['feature_columns'], 2):\n",
    "        \n",
    "        # Iterate through all time spans\n",
    "        for time_span in scenario['time_spans']:\n",
    "            train_start = time_span['start']\n",
    "            train_end = time_span['end']\n",
    "            \n",
    "            # Create a model\n",
    "            model = model_class(\n",
    "                train_date_range={'start': train_start, 'end': train_end},\n",
    "                predict_date_range={'start': train_start, 'end': train_end},  # Adjust as needed\n",
    "                feature_columns=list(feature_pair),\n",
    "                scenario={'dropColumnValues': {'source': ['City Worker App', 'Employee Generated']}, 'survivalTimeMin': 0},  # Adjust as needed\n",
    "                files_dict=latest_urls\n",
    "            )\n",
    "            \n",
    "            generated_models.append(model)\n",
    "            \n",
    "    return generated_models\n",
    "\n",
    "# Example usage\n",
    "feature_columns_to_use = ['type', 'queue', 'source', 'location', 'priority']  # Replace with your actual feature columns\n",
    "time_spans_to_use = [\n",
    "    {'start': '2022-01-01', 'end': '2022-01-31'},\n",
    "    {'start': '2021-01-01', 'end': '2022-01-01'}\n",
    "]  # Replace with your actual time spans\n",
    "\n",
    "# Define the iteration scenario\n",
    "iteration_scenario = define_iteration_scenario(feature_columns_to_use, time_spans_to_use)\n",
    "\n",
    "# Generate the models (replace `Boston311LogReg` with the model class you want to use)\n",
    "# latest_URLS would be the actual URLs you have\n",
    "generated_models = generate_models(iteration_scenario, latest_urls={}, model_class=Boston311LogReg)  # Replace {} with your actual latest_URLS\n",
    "\n",
    "# Now, `generated_models` contains all the models based on the defined iteration scenario\n",
    "len(generated_models)  # This should give you the number of models generated\n"
   ]
  },
  {
   "cell_type": "markdown",
   "id": "244262cd",
   "metadata": {},
   "source": [
    "## Train Several Models (Iteratively)"
   ]
  },
  {
   "cell_type": "code",
   "execution_count": null,
   "id": "fd3c015e",
   "metadata": {},
   "outputs": [],
   "source": [
    "\n",
    "# Iterate through the initialized models and train them\n",
    "for model in models:\n",
    "    # Assuming a method exists for training the model in your Boston311Model class\n",
    "    model.train()\n",
    "    # Save the model\n",
    "    model.save(filepath='your/save/path', model_file='model_name', properties_file='properties.json')\n"
   ]
  },
  {
   "cell_type": "code",
   "execution_count": null,
   "id": "ea924d0a",
   "metadata": {},
   "outputs": [],
   "source": [
    "# ! pip install ../  # Uncomment this line to install the required package"
   ]
  },
  {
   "cell_type": "code",
   "execution_count": null,
   "id": "338fe278",
   "metadata": {},
   "outputs": [],
   "source": [
    "from boston311 import Boston311LogReg, Boston311EventDecTree, Boston311SurvDecTree"
   ]
  },
  {
   "cell_type": "markdown",
   "id": "47334421",
   "metadata": {},
   "source": [
    "## Fetch Latest URLs"
   ]
  },
  {
   "cell_type": "code",
   "execution_count": null,
   "id": "3cae3376",
   "metadata": {},
   "outputs": [],
   "source": [
    "\n",
    "latest_URLS = Boston311LogReg.get311URLs()\n",
    "print(latest_URLS)\n"
   ]
  }
 ],
 "metadata": {
  "kernelspec": {
   "display_name": "Python 3",
   "language": "python",
   "name": "python3"
  },
  "language_info": {
   "codemirror_mode": {
    "name": "ipython",
    "version": 3
   },
   "file_extension": ".py",
   "mimetype": "text/x-python",
   "name": "python",
   "nbconvert_exporter": "python",
   "pygments_lexer": "ipython3",
   "version": "3.10.12"
  }
 },
 "nbformat": 4,
 "nbformat_minor": 5
}
