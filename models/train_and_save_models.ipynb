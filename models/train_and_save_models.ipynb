{
  "cells": [
    {
      "cell_type": "markdown",
      "metadata": {
        "id": "P1BXqsllgueC"
      },
      "source": [
        "#Boston 311 Tutorial\n",
        "\n",
        "This notebook will run you through the basic usage of this package to train 3 models on the Boston 311 mydata and use them to predict the outcome of cases from the last 30 days"
      ]
    },
    {
      "cell_type": "code",
      "execution_count": 1,
      "metadata": {},
      "outputs": [
        {
          "name": "stdout",
          "output_type": "stream",
          "text": [
            "Defaulting to user installation because normal site-packages is not writeable\n",
            "Requirement already satisfied: keras-tuner in /home/briarmoss/.local/lib/python3.10/site-packages (1.4.0)\n",
            "Requirement already satisfied: packaging in /home/briarmoss/.local/lib/python3.10/site-packages (from keras-tuner) (23.1)\n",
            "Requirement already satisfied: kt-legacy in /home/briarmoss/.local/lib/python3.10/site-packages (from keras-tuner) (1.0.5)\n",
            "Requirement already satisfied: requests in /usr/lib/python3/dist-packages (from keras-tuner) (2.25.1)\n",
            "Requirement already satisfied: keras-core in /home/briarmoss/.local/lib/python3.10/site-packages (from keras-tuner) (0.1.7)\n",
            "Requirement already satisfied: numpy in /home/briarmoss/.local/lib/python3.10/site-packages (from keras-core->keras-tuner) (1.23.5)\n",
            "Requirement already satisfied: h5py in /home/briarmoss/.local/lib/python3.10/site-packages (from keras-core->keras-tuner) (3.8.0)\n",
            "Requirement already satisfied: namex in /home/briarmoss/.local/lib/python3.10/site-packages (from keras-core->keras-tuner) (0.0.7)\n",
            "Requirement already satisfied: absl-py in /home/briarmoss/.local/lib/python3.10/site-packages (from keras-core->keras-tuner) (1.4.0)\n",
            "Requirement already satisfied: dm-tree in /home/briarmoss/.local/lib/python3.10/site-packages (from keras-core->keras-tuner) (0.1.8)\n",
            "Requirement already satisfied: rich in /home/briarmoss/.local/lib/python3.10/site-packages (from keras-core->keras-tuner) (13.5.3)\n",
            "Requirement already satisfied: pygments<3.0.0,>=2.13.0 in /home/briarmoss/.local/lib/python3.10/site-packages (from rich->keras-core->keras-tuner) (2.15.1)\n",
            "Requirement already satisfied: markdown-it-py>=2.2.0 in /home/briarmoss/.local/lib/python3.10/site-packages (from rich->keras-core->keras-tuner) (3.0.0)\n",
            "Requirement already satisfied: mdurl~=0.1 in /home/briarmoss/.local/lib/python3.10/site-packages (from markdown-it-py>=2.2.0->rich->keras-core->keras-tuner) (0.1.2)\n"
          ]
        }
      ],
      "source": [
        "!pip install keras-tuner"
      ]
    },
    {
      "cell_type": "code",
      "execution_count": 2,
      "metadata": {},
      "outputs": [
        {
          "name": "stdout",
          "output_type": "stream",
          "text": [
            "Defaulting to user installation because normal site-packages is not writeable\n",
            "Processing /home/briarmoss/Documents/Boston_311\n",
            "  Installing build dependencies ... \u001b[?25ldone\n",
            "\u001b[?25h  Getting requirements to build wheel ... \u001b[?25ldone\n",
            "\u001b[?25h  Preparing metadata (pyproject.toml) ... \u001b[?25ldone\n",
            "\u001b[?25hRequirement already satisfied: tensorflow in /home/briarmoss/.local/lib/python3.10/site-packages (from boston311==0.1.0) (2.13.0)\n",
            "Requirement already satisfied: numpy in /home/briarmoss/.local/lib/python3.10/site-packages (from boston311==0.1.0) (1.23.5)\n",
            "Requirement already satisfied: matplotlib in /usr/lib/python3/dist-packages (from boston311==0.1.0) (3.5.1)\n",
            "Requirement already satisfied: pandas in /home/briarmoss/.local/lib/python3.10/site-packages (from boston311==0.1.0) (2.0.2)\n",
            "Requirement already satisfied: scikit-learn in /home/briarmoss/.local/lib/python3.10/site-packages (from boston311==0.1.0) (1.2.2)\n",
            "Requirement already satisfied: pytz>=2020.1 in /usr/lib/python3/dist-packages (from pandas->boston311==0.1.0) (2022.1)\n",
            "Requirement already satisfied: python-dateutil>=2.8.2 in /home/briarmoss/.local/lib/python3.10/site-packages (from pandas->boston311==0.1.0) (2.8.2)\n",
            "Requirement already satisfied: tzdata>=2022.1 in /home/briarmoss/.local/lib/python3.10/site-packages (from pandas->boston311==0.1.0) (2023.3)\n",
            "Requirement already satisfied: scipy>=1.3.2 in /home/briarmoss/.local/lib/python3.10/site-packages (from scikit-learn->boston311==0.1.0) (1.10.1)\n",
            "Requirement already satisfied: joblib>=1.1.1 in /home/briarmoss/.local/lib/python3.10/site-packages (from scikit-learn->boston311==0.1.0) (1.2.0)\n",
            "Requirement already satisfied: threadpoolctl>=2.0.0 in /home/briarmoss/.local/lib/python3.10/site-packages (from scikit-learn->boston311==0.1.0) (3.1.0)\n",
            "Requirement already satisfied: grpcio<2.0,>=1.24.3 in /home/briarmoss/.local/lib/python3.10/site-packages (from tensorflow->boston311==0.1.0) (1.54.2)\n",
            "Requirement already satisfied: packaging in /home/briarmoss/.local/lib/python3.10/site-packages (from tensorflow->boston311==0.1.0) (23.1)\n",
            "Requirement already satisfied: flatbuffers>=23.1.21 in /home/briarmoss/.local/lib/python3.10/site-packages (from tensorflow->boston311==0.1.0) (23.5.26)\n",
            "Requirement already satisfied: gast<=0.4.0,>=0.2.1 in /home/briarmoss/.local/lib/python3.10/site-packages (from tensorflow->boston311==0.1.0) (0.4.0)\n",
            "Requirement already satisfied: termcolor>=1.1.0 in /home/briarmoss/.local/lib/python3.10/site-packages (from tensorflow->boston311==0.1.0) (2.3.0)\n",
            "Requirement already satisfied: protobuf!=4.21.0,!=4.21.1,!=4.21.2,!=4.21.3,!=4.21.4,!=4.21.5,<5.0.0dev,>=3.20.3 in /home/briarmoss/.local/lib/python3.10/site-packages (from tensorflow->boston311==0.1.0) (4.23.3)\n",
            "Requirement already satisfied: h5py>=2.9.0 in /home/briarmoss/.local/lib/python3.10/site-packages (from tensorflow->boston311==0.1.0) (3.8.0)\n",
            "Requirement already satisfied: absl-py>=1.0.0 in /home/briarmoss/.local/lib/python3.10/site-packages (from tensorflow->boston311==0.1.0) (1.4.0)\n",
            "Requirement already satisfied: six>=1.12.0 in /usr/lib/python3/dist-packages (from tensorflow->boston311==0.1.0) (1.16.0)\n",
            "Requirement already satisfied: astunparse>=1.6.0 in /home/briarmoss/.local/lib/python3.10/site-packages (from tensorflow->boston311==0.1.0) (1.6.3)\n",
            "Requirement already satisfied: tensorflow-estimator<2.14,>=2.13.0 in /home/briarmoss/.local/lib/python3.10/site-packages (from tensorflow->boston311==0.1.0) (2.13.0)\n",
            "Requirement already satisfied: google-pasta>=0.1.1 in /home/briarmoss/.local/lib/python3.10/site-packages (from tensorflow->boston311==0.1.0) (0.2.0)\n",
            "Requirement already satisfied: setuptools in /usr/lib/python3/dist-packages (from tensorflow->boston311==0.1.0) (59.6.0)\n",
            "Requirement already satisfied: libclang>=13.0.0 in /home/briarmoss/.local/lib/python3.10/site-packages (from tensorflow->boston311==0.1.0) (16.0.0)\n",
            "Requirement already satisfied: keras<2.14,>=2.13.1 in /home/briarmoss/.local/lib/python3.10/site-packages (from tensorflow->boston311==0.1.0) (2.13.1)\n",
            "Requirement already satisfied: wrapt>=1.11.0 in /home/briarmoss/.local/lib/python3.10/site-packages (from tensorflow->boston311==0.1.0) (1.14.1)\n",
            "Requirement already satisfied: opt-einsum>=2.3.2 in /home/briarmoss/.local/lib/python3.10/site-packages (from tensorflow->boston311==0.1.0) (3.3.0)\n",
            "Requirement already satisfied: typing-extensions<4.6.0,>=3.6.6 in /home/briarmoss/.local/lib/python3.10/site-packages (from tensorflow->boston311==0.1.0) (4.5.0)\n",
            "Requirement already satisfied: tensorflow-io-gcs-filesystem>=0.23.1 in /home/briarmoss/.local/lib/python3.10/site-packages (from tensorflow->boston311==0.1.0) (0.32.0)\n",
            "Requirement already satisfied: tensorboard<2.14,>=2.13 in /home/briarmoss/.local/lib/python3.10/site-packages (from tensorflow->boston311==0.1.0) (2.13.0)\n",
            "Requirement already satisfied: wheel<1.0,>=0.23.0 in /usr/lib/python3/dist-packages (from astunparse>=1.6.0->tensorflow->boston311==0.1.0) (0.37.1)\n",
            "Requirement already satisfied: google-auth<3,>=1.6.3 in /home/briarmoss/.local/lib/python3.10/site-packages (from tensorboard<2.14,>=2.13->tensorflow->boston311==0.1.0) (2.20.0)\n",
            "Requirement already satisfied: google-auth-oauthlib<1.1,>=0.5 in /home/briarmoss/.local/lib/python3.10/site-packages (from tensorboard<2.14,>=2.13->tensorflow->boston311==0.1.0) (1.0.0)\n",
            "Requirement already satisfied: requests<3,>=2.21.0 in /usr/lib/python3/dist-packages (from tensorboard<2.14,>=2.13->tensorflow->boston311==0.1.0) (2.25.1)\n",
            "Requirement already satisfied: markdown>=2.6.8 in /home/briarmoss/.local/lib/python3.10/site-packages (from tensorboard<2.14,>=2.13->tensorflow->boston311==0.1.0) (3.4.3)\n",
            "Requirement already satisfied: werkzeug>=1.0.1 in /home/briarmoss/.local/lib/python3.10/site-packages (from tensorboard<2.14,>=2.13->tensorflow->boston311==0.1.0) (2.3.6)\n",
            "Requirement already satisfied: tensorboard-data-server<0.8.0,>=0.7.0 in /home/briarmoss/.local/lib/python3.10/site-packages (from tensorboard<2.14,>=2.13->tensorflow->boston311==0.1.0) (0.7.1)\n",
            "Requirement already satisfied: cachetools<6.0,>=2.0.0 in /home/briarmoss/.local/lib/python3.10/site-packages (from google-auth<3,>=1.6.3->tensorboard<2.14,>=2.13->tensorflow->boston311==0.1.0) (5.3.1)\n",
            "Requirement already satisfied: rsa<5,>=3.1.4 in /home/briarmoss/.local/lib/python3.10/site-packages (from google-auth<3,>=1.6.3->tensorboard<2.14,>=2.13->tensorflow->boston311==0.1.0) (4.9)\n",
            "Requirement already satisfied: pyasn1-modules>=0.2.1 in /home/briarmoss/.local/lib/python3.10/site-packages (from google-auth<3,>=1.6.3->tensorboard<2.14,>=2.13->tensorflow->boston311==0.1.0) (0.3.0)\n",
            "Requirement already satisfied: urllib3<2.0 in /usr/lib/python3/dist-packages (from google-auth<3,>=1.6.3->tensorboard<2.14,>=2.13->tensorflow->boston311==0.1.0) (1.26.5)\n",
            "Requirement already satisfied: requests-oauthlib>=0.7.0 in /home/briarmoss/.local/lib/python3.10/site-packages (from google-auth-oauthlib<1.1,>=0.5->tensorboard<2.14,>=2.13->tensorflow->boston311==0.1.0) (1.3.1)\n",
            "Requirement already satisfied: MarkupSafe>=2.1.1 in /home/briarmoss/.local/lib/python3.10/site-packages (from werkzeug>=1.0.1->tensorboard<2.14,>=2.13->tensorflow->boston311==0.1.0) (2.1.3)\n",
            "Requirement already satisfied: pyasn1<0.6.0,>=0.4.6 in /home/briarmoss/.local/lib/python3.10/site-packages (from pyasn1-modules>=0.2.1->google-auth<3,>=1.6.3->tensorboard<2.14,>=2.13->tensorflow->boston311==0.1.0) (0.5.0)\n",
            "Requirement already satisfied: oauthlib>=3.0.0 in /usr/lib/python3/dist-packages (from requests-oauthlib>=0.7.0->google-auth-oauthlib<1.1,>=0.5->tensorboard<2.14,>=2.13->tensorflow->boston311==0.1.0) (3.2.0)\n",
            "Building wheels for collected packages: boston311\n",
            "  Building wheel for boston311 (pyproject.toml) ... \u001b[?25ldone\n",
            "\u001b[?25h  Created wheel for boston311: filename=boston311-0.1.0-py3-none-any.whl size=18860 sha256=62694168d1873a6af6b0e2d78647beb2c7d7efd63b775df240cbcf46b10ef62f\n",
            "  Stored in directory: /tmp/pip-ephem-wheel-cache-bhrrp125/wheels/3d/69/ee/0a6ac96b9c09c948fc0e74f2724a9703aa39749a41fa757c9e\n",
            "Successfully built boston311\n",
            "Installing collected packages: boston311\n",
            "  Attempting uninstall: boston311\n",
            "    Found existing installation: boston311 0.1.0\n",
            "    Uninstalling boston311-0.1.0:\n",
            "      Successfully uninstalled boston311-0.1.0\n",
            "Successfully installed boston311-0.1.0\n"
          ]
        }
      ],
      "source": [
        "! pip install ../"
      ]
    },
    {
      "cell_type": "markdown",
      "metadata": {
        "id": "XP7Hzen_iEAl"
      },
      "source": [
        "##Import the Boston311Model class"
      ]
    },
    {
      "cell_type": "code",
      "execution_count": 3,
      "metadata": {},
      "outputs": [],
      "source": [
        "import os\n",
        "import pandas as pd"
      ]
    },
    {
      "cell_type": "code",
      "execution_count": 4,
      "metadata": {
        "id": "LdhJESm7eWaY"
      },
      "outputs": [
        {
          "name": "stderr",
          "output_type": "stream",
          "text": [
            "2023-10-16 12:48:39.170054: I tensorflow/tsl/cuda/cudart_stub.cc:28] Could not find cuda drivers on your machine, GPU will not be used.\n",
            "2023-10-16 12:48:39.306707: I tensorflow/tsl/cuda/cudart_stub.cc:28] Could not find cuda drivers on your machine, GPU will not be used.\n",
            "2023-10-16 12:48:39.307534: I tensorflow/core/platform/cpu_feature_guard.cc:182] This TensorFlow binary is optimized to use available CPU instructions in performance-critical operations.\n",
            "To enable the following instructions: AVX2 FMA, in other operations, rebuild TensorFlow with the appropriate compiler flags.\n",
            "2023-10-16 12:48:40.000363: W tensorflow/compiler/tf2tensorrt/utils/py_utils.cc:38] TF-TRT Warning: Could not find TensorRT\n"
          ]
        },
        {
          "name": "stdout",
          "output_type": "stream",
          "text": [
            "Using TensorFlow backend\n"
          ]
        }
      ],
      "source": [
        "from boston311 import Boston311LogReg, Boston311EventDecTree, Boston311SurvDecTree, Boston311KerasNLP\n"
      ]
    },
    {
      "cell_type": "markdown",
      "metadata": {
        "id": "oq06XnVjPxvg"
      },
      "source": [
        "## Get latest file URLS and Current Date Ranges"
      ]
    },
    {
      "cell_type": "code",
      "execution_count": 5,
      "metadata": {
        "id": "_2FYkUb2P1LR"
      },
      "outputs": [],
      "source": [
        "latest_URLS = Boston311LogReg.get311URLs()"
      ]
    },
    {
      "cell_type": "code",
      "execution_count": 6,
      "metadata": {
        "colab": {
          "base_uri": "https://localhost:8080/"
        },
        "id": "Mpg9Czm3QDpu",
        "outputId": "5e2b399b-0999-45d4-f9f9-d80ec19941ff"
      },
      "outputs": [
        {
          "name": "stdout",
          "output_type": "stream",
          "text": [
            "{'2023': 'https://data.boston.gov/dataset/8048697b-ad64-4bfc-b090-ee00169f2323/resource/e6013a93-1321-4f2a-bf91-8d8a02f1e62f/download/tmp1bctvalo.csv', '2022': 'https://data.boston.gov/dataset/8048697b-ad64-4bfc-b090-ee00169f2323/resource/81a7b022-f8fc-4da5-80e4-b160058ca207/download/tmpfm8veglw.csv', '2021': 'https://data.boston.gov/dataset/8048697b-ad64-4bfc-b090-ee00169f2323/resource/f53ebccd-bc61-49f9-83db-625f209c95f5/download/tmp88p9g82n.csv', '2020': 'https://data.boston.gov/dataset/8048697b-ad64-4bfc-b090-ee00169f2323/resource/6ff6a6fd-3141-4440-a880-6f60a37fe789/download/tmpcv_10m2s.csv', '2019': 'https://data.boston.gov/dataset/8048697b-ad64-4bfc-b090-ee00169f2323/resource/ea2e4696-4a2d-429c-9807-d02eb92e0222/download/tmpcje3ep_w.csv', '2018': 'https://data.boston.gov/dataset/8048697b-ad64-4bfc-b090-ee00169f2323/resource/2be28d90-3a90-4af1-a3f6-f28c1e25880a/download/tmp7602cia8.csv', '2017': 'https://data.boston.gov/dataset/8048697b-ad64-4bfc-b090-ee00169f2323/resource/30022137-709d-465e-baae-ca155b51927d/download/tmpzccn8u4q.csv', '2016': 'https://data.boston.gov/dataset/8048697b-ad64-4bfc-b090-ee00169f2323/resource/b7ea6b1b-3ca4-4c5b-9713-6dc1db52379a/download/tmpzxzxeqfb.csv', '2015': 'https://data.boston.gov/dataset/8048697b-ad64-4bfc-b090-ee00169f2323/resource/c9509ab4-6f6d-4b97-979a-0cf2a10c922b/download/tmphrybkxuh.csv', '2014': 'https://data.boston.gov/dataset/8048697b-ad64-4bfc-b090-ee00169f2323/resource/bdae89c8-d4ce-40e9-a6e1-a5203953a2e0/download/tmp8afxvko_.csv', '2013': 'https://data.boston.gov/dataset/8048697b-ad64-4bfc-b090-ee00169f2323/resource/407c5cd0-f764-4a41-adf8-054ff535049e/download/tmpyzk_wmya.csv', '2012': 'https://data.boston.gov/dataset/8048697b-ad64-4bfc-b090-ee00169f2323/resource/382e10d9-1864-40ba-bef6-4eea3c75463c/download/tmpeyvgdt5u.csv', '2011': 'https://data.boston.gov/dataset/8048697b-ad64-4bfc-b090-ee00169f2323/resource/94b499d9-712a-4d2a-b790-7ceec5c9c4b1/download/tmp_9ogynu0.csv'}\n"
          ]
        }
      ],
      "source": [
        "print(latest_URLS)"
      ]
    },
    {
      "cell_type": "code",
      "execution_count": 7,
      "metadata": {
        "colab": {
          "base_uri": "https://localhost:8080/"
        },
        "id": "uUMCPAELR9h7",
        "outputId": "05fcba64-1b74-4fb7-a52c-d3f8a499bcc6"
      },
      "outputs": [
        {
          "name": "stdout",
          "output_type": "stream",
          "text": [
            "2023-10-16 2023-09-16 2023-10-17\n"
          ]
        }
      ],
      "source": [
        "from datetime import datetime, timedelta\n",
        "now = datetime.now()\n",
        "thirty_days = timedelta(days=30)\n",
        "thirty_days_ago = now - thirty_days\n",
        "today_datestring = now.strftime(\"%Y-%m-%d\")\n",
        "thirty_days_ago_datestring = thirty_days_ago.strftime(\"%Y-%m-%d\")\n",
        "tomorrow_datestring = (datetime.today() + timedelta(days=1)).strftime('%Y-%m-%d')\n",
        "\n",
        "print(today_datestring, thirty_days_ago_datestring, tomorrow_datestring)"
      ]
    },
    {
      "cell_type": "code",
      "execution_count": 8,
      "metadata": {},
      "outputs": [],
      "source": [
        "#set model folder constant\n",
        "MODEL_FOLDER = './daily_models'"
      ]
    },
    {
      "cell_type": "markdown",
      "metadata": {},
      "source": [
        "## Load extra features"
      ]
    },
    {
      "cell_type": "code",
      "execution_count": 9,
      "metadata": {},
      "outputs": [],
      "source": [
        "#set path to mydata\n",
        "EXTRA_mydata_FILE = './cls_and_pooled_embeddings_with_three_cols.csv'\n"
      ]
    },
    {
      "cell_type": "code",
      "execution_count": 10,
      "metadata": {},
      "outputs": [],
      "source": [
        "#define a function that takes a path to a csv file and a pkl file and checks if the csv file is newer than the pkl file, and if so, loads the csv file into a dataframe and saves it as a pkl file, else loads the pkl file into a dataframe\n",
        "def pkl_load_data(csv_path, pkl_path):\n",
        "    if os.path.exists(pkl_path):\n",
        "        pkl_time = os.path.getmtime(pkl_path)\n",
        "        csv_time = os.path.getmtime(csv_path)\n",
        "        if csv_time > pkl_time:\n",
        "            df = pd.read_csv(csv_path)\n",
        "            df.to_pickle(pkl_path)\n",
        "        else:\n",
        "            df = pd.read_pickle(pkl_path)\n",
        "    else:\n",
        "        df = pd.read_csv(csv_path)\n",
        "        df.to_pickle(pkl_path)\n",
        "    return df"
      ]
    },
    {
      "cell_type": "markdown",
      "metadata": {
        "id": "NN_UiAIvb9MT"
      },
      "source": [
        "##Define several models"
      ]
    },
    {
      "cell_type": "code",
      "execution_count": 11,
      "metadata": {
        "id": "nmi4jJgDF4Fv"
      },
      "outputs": [],
      "source": [
        "linear_tree_model = Boston311SurvDecTree(train_date_range={'start':'2022-01-01','end':thirty_days_ago_datestring},\n",
        "                            predict_date_range={'start':thirty_days_ago_datestring,'end':today_datestring},\n",
        "                            feature_columns=['type','queue'],\n",
        "                            scenario={'dropColumnValues': {'source':['City Worker App', 'Employee Generated']},\n",
        "                                      'survivalTimeMin':0,\n",
        "                                      'survivalTimeFill':tomorrow_datestring},\n",
        "                            files_dict=latest_URLS)"
      ]
    },
    {
      "cell_type": "code",
      "execution_count": 12,
      "metadata": {
        "id": "GGSlYgH6s54c"
      },
      "outputs": [],
      "source": [
        "logistic_model = Boston311LogReg(train_date_range={'start':'2022-01-01','end':thirty_days_ago_datestring},\n",
        "                            predict_date_range={'start':thirty_days_ago_datestring,'end':today_datestring},\n",
        "                            feature_columns=['type', 'queue'],\n",
        "                            scenario={'dropColumnValues': {'source':['City Worker App', 'Employee Generated']},\n",
        "                                      'survivalTimeMin':0},\n",
        "                            files_dict=latest_URLS)"
      ]
    },
    {
      "cell_type": "code",
      "execution_count": 13,
      "metadata": {},
      "outputs": [],
      "source": [
        "oldlogistic_model = Boston311LogReg(train_date_range={'start':'2022-01-01','end':thirty_days_ago_datestring},\n",
        "                            predict_date_range={'start':thirty_days_ago_datestring,'end':today_datestring},\n",
        "                            feature_columns=['type', 'queue'],\n",
        "                            scenario={'dropColumnValues': {'source':['City Worker App', 'Employee Generated']},\n",
        "                                      'survivalTimeMin':0},\n",
        "                            files_dict=latest_URLS)"
      ]
    },
    {
      "cell_type": "code",
      "execution_count": 14,
      "metadata": {
        "id": "_Ddtw6t8s5rj"
      },
      "outputs": [],
      "source": [
        "logistic_tree_model = Boston311EventDecTree(train_date_range={'start':'2022-01-01','end':thirty_days_ago_datestring},\n",
        "                            predict_date_range={'start':thirty_days_ago_datestring,'end':today_datestring},\n",
        "                            feature_columns=['type', 'queue'],\n",
        "                            scenario={'dropColumnValues': {'source':['City Worker App', 'Employee Generated']},\n",
        "                                      'survivalTimeMin':0},\n",
        "                            files_dict=latest_URLS)"
      ]
    },
    {
      "cell_type": "code",
      "execution_count": 15,
      "metadata": {},
      "outputs": [],
      "source": [
        "kerasNLP_model = Boston311KerasNLP(train_date_range={'start':'2022-03-01','end':thirty_days_ago_datestring},\n",
        "                            predict_date_range={'start':thirty_days_ago_datestring,'end':today_datestring},\n",
        "                            feature_columns=['queue', 'subject', 'reason', 'department'],\n",
        "                            scenario={'dropColumnValues': {'source':['City Worker App', 'Employee Generated']},\n",
        "                                      'survivalTimeMin':0,\n",
        "                                      'survivalTimeFill':tomorrow_datestring},\n",
        "                            files_dict=latest_URLS)"
      ]
    },
    {
      "cell_type": "code",
      "execution_count": 16,
      "metadata": {},
      "outputs": [],
      "source": [
        "#get current datetime in Boston timezone as string\n",
        "from datetime import datetime\n",
        "from pytz import timezone\n",
        "import pytz\n",
        "boston = timezone('US/Eastern')\n",
        "now = datetime.now(boston)\n",
        "today_datestring = now.strftime(\"%Y-%m-%d\")\n",
        "#get time in Boston timezone as string for a filename\n",
        "now = datetime.now(boston)\n",
        "time_string = now.strftime(\"%H-%M-%S\")\n",
        "#define datetime string\n",
        "my_datetime = today_datestring + '_' + time_string "
      ]
    },
    {
      "cell_type": "code",
      "execution_count": 17,
      "metadata": {},
      "outputs": [],
      "source": [
        "mydata = None\n",
        "\n",
        "import pandas as pd\n",
        "import numpy as np\n",
        "import pickle\n",
        "\n",
        "case_data_file = 'case_data.pkl'\n",
        "case_data_csv = 'all_311_cases.csv'\n",
        "mydata = None\n",
        "\n",
        "X = None\n",
        "\n",
        "\n",
        "data = pkl_load_data(case_data_csv, case_data_file)\n",
        "mydata = kerasNLP_model.load_data(data)\n",
        "\n",
        "\n"
      ]
    },
    {
      "cell_type": "code",
      "execution_count": 18,
      "metadata": {},
      "outputs": [
        {
          "data": {
            "text/plain": [
              "2235124    101004204966\n",
              "2235125    101004204967\n",
              "2235126    101004204970\n",
              "2235127    101004204968\n",
              "2235128    101004204972\n",
              "               ...     \n",
              "2696297    101005056200\n",
              "2696298    101005056201\n",
              "2696299    101005056204\n",
              "2696300    101005056205\n",
              "2696301    101005056207\n",
              "Name: case_enquiry_id, Length: 461178, dtype: int64"
            ]
          },
          "execution_count": 18,
          "metadata": {},
          "output_type": "execute_result"
        }
      ],
      "source": [
        "mydata['case_enquiry_id']"
      ]
    },
    {
      "cell_type": "code",
      "execution_count": 19,
      "metadata": {},
      "outputs": [
        {
          "name": "stderr",
          "output_type": "stream",
          "text": [
            "/home/briarmoss/.local/lib/python3.10/site-packages/boston311/Boston311Model.py:87: SettingWithCopyWarning: \n",
            "A value is trying to be set on a copy of a slice from a DataFrame.\n",
            "Try using .loc[row_indexer,col_indexer] = value instead\n",
            "\n",
            "See the caveats in the documentation: https://pandas.pydata.org/pandas-docs/stable/user_guide/indexing.html#returning-a-view-versus-a-copy\n",
            "  data['closed_dt'] = pd.to_datetime(data['closed_dt'])\n",
            "/home/briarmoss/.local/lib/python3.10/site-packages/boston311/Boston311Model.py:88: SettingWithCopyWarning: \n",
            "A value is trying to be set on a copy of a slice from a DataFrame.\n",
            "Try using .loc[row_indexer,col_indexer] = value instead\n",
            "\n",
            "See the caveats in the documentation: https://pandas.pydata.org/pandas-docs/stable/user_guide/indexing.html#returning-a-view-versus-a-copy\n",
            "  data['open_dt'] = pd.to_datetime(data['open_dt'])\n",
            "/home/briarmoss/.local/lib/python3.10/site-packages/boston311/Boston311Model.py:89: SettingWithCopyWarning: \n",
            "A value is trying to be set on a copy of a slice from a DataFrame.\n",
            "Try using .loc[row_indexer,col_indexer] = value instead\n",
            "\n",
            "See the caveats in the documentation: https://pandas.pydata.org/pandas-docs/stable/user_guide/indexing.html#returning-a-view-versus-a-copy\n",
            "  data['survival_time'] = data['closed_dt'] - data['open_dt']\n",
            "/home/briarmoss/.local/lib/python3.10/site-packages/boston311/Boston311Model.py:90: SettingWithCopyWarning: \n",
            "A value is trying to be set on a copy of a slice from a DataFrame.\n",
            "Try using .loc[row_indexer,col_indexer] = value instead\n",
            "\n",
            "See the caveats in the documentation: https://pandas.pydata.org/pandas-docs/stable/user_guide/indexing.html#returning-a-view-versus-a-copy\n",
            "  data['event'] = data['closed_dt'].notnull().astype(int)\n",
            "/home/briarmoss/.local/lib/python3.10/site-packages/boston311/Boston311Model.py:91: SettingWithCopyWarning: \n",
            "A value is trying to be set on a copy of a slice from a DataFrame.\n",
            "Try using .loc[row_indexer,col_indexer] = value instead\n",
            "\n",
            "See the caveats in the documentation: https://pandas.pydata.org/pandas-docs/stable/user_guide/indexing.html#returning-a-view-versus-a-copy\n",
            "  data['ward_number'] = data['ward'].str.extract(r'0*(\\d+)')\n",
            "/home/briarmoss/.local/lib/python3.10/site-packages/boston311/Boston311Model.py:94: SettingWithCopyWarning: \n",
            "A value is trying to be set on a copy of a slice from a DataFrame.\n",
            "Try using .loc[row_indexer,col_indexer] = value instead\n",
            "\n",
            "See the caveats in the documentation: https://pandas.pydata.org/pandas-docs/stable/user_guide/indexing.html#returning-a-view-versus-a-copy\n",
            "  data['survival_time_hours'] = np.nan\n"
          ]
        }
      ],
      "source": [
        "mydata = kerasNLP_model.enhance_data(mydata)\n"
      ]
    },
    {
      "cell_type": "code",
      "execution_count": 20,
      "metadata": {},
      "outputs": [],
      "source": [
        "mydata = kerasNLP_model.apply_scenario(mydata)\n"
      ]
    },
    {
      "cell_type": "code",
      "execution_count": 21,
      "metadata": {},
      "outputs": [],
      "source": [
        "\n",
        "mydata = kerasNLP_model.clean_data(mydata)\n"
      ]
    },
    {
      "cell_type": "code",
      "execution_count": 22,
      "metadata": {},
      "outputs": [
        {
          "name": "stdout",
          "output_type": "stream",
          "text": [
            "2235124    101004204966\n",
            "2235125    101004204967\n",
            "2235126    101004204970\n",
            "2235127    101004204968\n",
            "2235128    101004204972\n",
            "               ...     \n",
            "2696297    101005056200\n",
            "2696298    101005056201\n",
            "2696299    101005056204\n",
            "2696300    101005056205\n",
            "2696301    101005056207\n",
            "Name: case_enquiry_id, Length: 406032, dtype: int64\n"
          ]
        }
      ],
      "source": [
        "print(mydata['case_enquiry_id'])"
      ]
    },
    {
      "cell_type": "code",
      "execution_count": 23,
      "metadata": {},
      "outputs": [],
      "source": [
        "import pandas as pd\n",
        "import numpy as np\n",
        "from ast import literal_eval\n",
        "import pickle\n",
        "\n",
        "pickle_file = 'dataframe.pkl'\n",
        "\n",
        "X = None\n",
        "\n",
        "X = pkl_load_data(EXTRA_mydata_FILE, pickle_file)\n",
        "\n",
        "# if X has a column service_request_id, do the following\n",
        "if 'service_request_id' in X.columns:\n",
        "    X.rename(columns={'service_request_id':'case_enquiry_id'}, inplace=True)\n",
        "    #X['cls_embedding'] = X['cls_embedding'].apply(literal_eval).apply(np.array)\n",
        "    #X['pooled_embedding'] = X['pooled_embedding'].apply(literal_eval).apply(np.array)\n",
        "    #new code similar two above two lines but using the six columns of embeddings: desc_cls_embedding, desc_pooled_embedding, name_cls_embedding, name_pooled_embedding, code_cls_embedding, code_pooled_embedding\n",
        "    for col in ['desc_cls_embedding', 'desc_pooled_embedding', 'name_cls_embedding', 'name_pooled_embedding', 'code_cls_embedding', 'code_pooled_embedding']:\n",
        "        X[col] = X[col].apply(literal_eval).apply(np.array)\n",
        "\n",
        "    pickle.dump(X, open(pickle_file, \"wb\"))\n",
        "\n"
      ]
    },
    {
      "cell_type": "code",
      "execution_count": 24,
      "metadata": {},
      "outputs": [
        {
          "name": "stdout",
          "output_type": "stream",
          "text": [
            "<class 'pandas.core.frame.DataFrame'>\n",
            "RangeIndex: 266206 entries, 0 to 266205\n",
            "Data columns (total 7 columns):\n",
            " #   Column                 Non-Null Count   Dtype \n",
            "---  ------                 --------------   ----- \n",
            " 0   case_enquiry_id        266206 non-null  int64 \n",
            " 1   desc_cls_embedding     266206 non-null  object\n",
            " 2   desc_pooled_embedding  266206 non-null  object\n",
            " 3   name_cls_embedding     266206 non-null  object\n",
            " 4   name_pooled_embedding  266206 non-null  object\n",
            " 5   code_cls_embedding     266206 non-null  object\n",
            " 6   code_pooled_embedding  266206 non-null  object\n",
            "dtypes: int64(1), object(6)\n",
            "memory usage: 14.2+ MB\n",
            "None\n"
          ]
        }
      ],
      "source": [
        "#print information about X2022\n",
        "print(X.info())"
      ]
    },
    {
      "cell_type": "code",
      "execution_count": 25,
      "metadata": {},
      "outputs": [],
      "source": [
        "#concatenate the two dataframes and reindex\n",
        "df = X"
      ]
    },
    {
      "cell_type": "code",
      "execution_count": 26,
      "metadata": {},
      "outputs": [
        {
          "data": {
            "text/plain": [
              "(266206, 7)"
            ]
          },
          "execution_count": 26,
          "metadata": {},
          "output_type": "execute_result"
        }
      ],
      "source": [
        "df.shape"
      ]
    },
    {
      "cell_type": "code",
      "execution_count": 27,
      "metadata": {},
      "outputs": [],
      "source": [
        "\n",
        "# Assuming df is your DataFrame and it has columns 'desc_cls_embedding', 'desc_pooled_embedding', 'name_cls_embedding', 'name_pooled_embedding', 'code_cls_embedding', 'code_pooled_embedding'\n",
        "desc_cls_embedding_flattened = np.stack(df['desc_cls_embedding'].to_numpy())\n",
        "desc_pooled_embedding_flattened = np.stack(df['desc_pooled_embedding'].to_numpy())\n",
        "#do the same for the rest\n",
        "name_cls_embedding_flattened = np.stack(df['name_cls_embedding'].to_numpy())\n",
        "name_pooled_embedding_flattened = np.stack(df['name_pooled_embedding'].to_numpy())\n",
        "code_cls_embedding_flattened = np.stack(df['code_cls_embedding'].to_numpy())\n",
        "code_pooled_embedding_flattened = np.stack(df['code_pooled_embedding'].to_numpy())\n",
        "\n",
        "\n",
        "# Remove the old columns\n",
        "df.drop(['desc_cls_embedding', 'desc_pooled_embedding'], axis=1, inplace=True)\n",
        "#do the same for the rest\n",
        "df.drop(['name_cls_embedding', 'name_pooled_embedding'], axis=1, inplace=True)\n",
        "df.drop(['code_cls_embedding', 'code_pooled_embedding'], axis=1, inplace=True)\n",
        "\n",
        "\n",
        "\n",
        "\n",
        "\n",
        "\n",
        "# Add the new flattened columns\n",
        "df_desc_cls = pd.DataFrame(desc_cls_embedding_flattened, columns=[f'desc_cls_{i}' for i in range(desc_cls_embedding_flattened.shape[1])])\n",
        "\n",
        "df_desc_pooled = pd.DataFrame(desc_pooled_embedding_flattened, columns=[f'desc_pooled_{i}' for i in range(desc_pooled_embedding_flattened.shape[1])])\n",
        "#do the same for the rest\n",
        "df_name_cls = pd.DataFrame(name_cls_embedding_flattened, columns=[f'name_cls_{i}' for i in range(name_cls_embedding_flattened.shape[1])])\n",
        "df_name_pooled = pd.DataFrame(name_pooled_embedding_flattened, columns=[f'name_pooled_{i}' for i in range(name_pooled_embedding_flattened.shape[1])])\n",
        "df_code_cls = pd.DataFrame(code_cls_embedding_flattened, columns=[f'code_cls_{i}' for i in range(code_cls_embedding_flattened.shape[1])])\n",
        "df_code_pooled = pd.DataFrame(code_pooled_embedding_flattened, columns=[f'code_pooled_{i}' for i in range(code_pooled_embedding_flattened.shape[1])])\n",
        "\n",
        "\n",
        "\n",
        "df = pd.concat([df, df_desc_cls, df_desc_pooled, df_name_cls, df_name_pooled, df_code_cls, df_code_pooled], axis=1)"
      ]
    },
    {
      "cell_type": "code",
      "execution_count": 28,
      "metadata": {},
      "outputs": [],
      "source": [
        "df['case_enquiry_id'] = df['case_enquiry_id'].astype(str)\n",
        "is_numeric = df['case_enquiry_id'].str.isnumeric()"
      ]
    },
    {
      "cell_type": "code",
      "execution_count": 29,
      "metadata": {},
      "outputs": [],
      "source": [
        "df = df[is_numeric]"
      ]
    },
    {
      "cell_type": "code",
      "execution_count": 30,
      "metadata": {},
      "outputs": [],
      "source": [
        "df['case_enquiry_id'] = df['case_enquiry_id'].astype('int64')"
      ]
    },
    {
      "cell_type": "code",
      "execution_count": 31,
      "metadata": {},
      "outputs": [
        {
          "data": {
            "text/plain": [
              "(266206, 769)"
            ]
          },
          "execution_count": 31,
          "metadata": {},
          "output_type": "execute_result"
        }
      ],
      "source": [
        "df.shape"
      ]
    },
    {
      "cell_type": "code",
      "execution_count": 32,
      "metadata": {},
      "outputs": [],
      "source": [
        "df = df.drop_duplicates(subset=['case_enquiry_id']) "
      ]
    },
    {
      "cell_type": "code",
      "execution_count": 33,
      "metadata": {},
      "outputs": [
        {
          "data": {
            "text/plain": [
              "(266206, 769)"
            ]
          },
          "execution_count": 33,
          "metadata": {},
          "output_type": "execute_result"
        }
      ],
      "source": [
        "df.shape"
      ]
    },
    {
      "cell_type": "code",
      "execution_count": 34,
      "metadata": {},
      "outputs": [
        {
          "data": {
            "text/html": [
              "<div>\n",
              "<style scoped>\n",
              "    .dataframe tbody tr th:only-of-type {\n",
              "        vertical-align: middle;\n",
              "    }\n",
              "\n",
              "    .dataframe tbody tr th {\n",
              "        vertical-align: top;\n",
              "    }\n",
              "\n",
              "    .dataframe thead th {\n",
              "        text-align: right;\n",
              "    }\n",
              "</style>\n",
              "<table border=\"1\" class=\"dataframe\">\n",
              "  <thead>\n",
              "    <tr style=\"text-align: right;\">\n",
              "      <th></th>\n",
              "      <th>case_enquiry_id</th>\n",
              "      <th>desc_cls_0</th>\n",
              "      <th>desc_cls_1</th>\n",
              "      <th>desc_cls_2</th>\n",
              "      <th>desc_cls_3</th>\n",
              "      <th>desc_cls_4</th>\n",
              "      <th>desc_cls_5</th>\n",
              "      <th>desc_cls_6</th>\n",
              "      <th>desc_cls_7</th>\n",
              "      <th>desc_cls_8</th>\n",
              "      <th>...</th>\n",
              "      <th>code_pooled_118</th>\n",
              "      <th>code_pooled_119</th>\n",
              "      <th>code_pooled_120</th>\n",
              "      <th>code_pooled_121</th>\n",
              "      <th>code_pooled_122</th>\n",
              "      <th>code_pooled_123</th>\n",
              "      <th>code_pooled_124</th>\n",
              "      <th>code_pooled_125</th>\n",
              "      <th>code_pooled_126</th>\n",
              "      <th>code_pooled_127</th>\n",
              "    </tr>\n",
              "  </thead>\n",
              "  <tbody>\n",
              "    <tr>\n",
              "      <th>0</th>\n",
              "      <td>101004113559</td>\n",
              "      <td>-1.100319</td>\n",
              "      <td>0.180848</td>\n",
              "      <td>-3.067521</td>\n",
              "      <td>-2.449431</td>\n",
              "      <td>0.048062</td>\n",
              "      <td>0.750774</td>\n",
              "      <td>-1.156688</td>\n",
              "      <td>1.701071</td>\n",
              "      <td>-1.121157</td>\n",
              "      <td>...</td>\n",
              "      <td>0.121683</td>\n",
              "      <td>-0.998929</td>\n",
              "      <td>0.036228</td>\n",
              "      <td>-0.999963</td>\n",
              "      <td>-0.742293</td>\n",
              "      <td>0.969737</td>\n",
              "      <td>-0.998525</td>\n",
              "      <td>0.986848</td>\n",
              "      <td>0.982758</td>\n",
              "      <td>0.931549</td>\n",
              "    </tr>\n",
              "    <tr>\n",
              "      <th>1</th>\n",
              "      <td>101004113295</td>\n",
              "      <td>-0.136960</td>\n",
              "      <td>0.691521</td>\n",
              "      <td>-3.540846</td>\n",
              "      <td>-1.352687</td>\n",
              "      <td>1.299200</td>\n",
              "      <td>-0.141181</td>\n",
              "      <td>0.158119</td>\n",
              "      <td>2.410162</td>\n",
              "      <td>0.071449</td>\n",
              "      <td>...</td>\n",
              "      <td>0.086003</td>\n",
              "      <td>-0.998614</td>\n",
              "      <td>0.014076</td>\n",
              "      <td>-0.999995</td>\n",
              "      <td>-0.893147</td>\n",
              "      <td>0.982163</td>\n",
              "      <td>-0.999566</td>\n",
              "      <td>0.996798</td>\n",
              "      <td>0.977021</td>\n",
              "      <td>0.915342</td>\n",
              "    </tr>\n",
              "    <tr>\n",
              "      <th>2</th>\n",
              "      <td>101004113630</td>\n",
              "      <td>0.175361</td>\n",
              "      <td>0.668518</td>\n",
              "      <td>-3.556810</td>\n",
              "      <td>-1.355421</td>\n",
              "      <td>1.444425</td>\n",
              "      <td>0.603148</td>\n",
              "      <td>-1.361185</td>\n",
              "      <td>1.510217</td>\n",
              "      <td>-0.073560</td>\n",
              "      <td>...</td>\n",
              "      <td>0.120324</td>\n",
              "      <td>-0.999417</td>\n",
              "      <td>0.059866</td>\n",
              "      <td>-0.999934</td>\n",
              "      <td>-0.765923</td>\n",
              "      <td>0.960436</td>\n",
              "      <td>-0.998330</td>\n",
              "      <td>0.985888</td>\n",
              "      <td>0.973252</td>\n",
              "      <td>0.943457</td>\n",
              "    </tr>\n",
              "    <tr>\n",
              "      <th>3</th>\n",
              "      <td>101004113228</td>\n",
              "      <td>-0.649289</td>\n",
              "      <td>0.929046</td>\n",
              "      <td>-2.988562</td>\n",
              "      <td>-1.767200</td>\n",
              "      <td>-0.438132</td>\n",
              "      <td>-0.361119</td>\n",
              "      <td>0.010478</td>\n",
              "      <td>1.114518</td>\n",
              "      <td>-0.448996</td>\n",
              "      <td>...</td>\n",
              "      <td>0.183652</td>\n",
              "      <td>-0.997964</td>\n",
              "      <td>0.057766</td>\n",
              "      <td>-0.999915</td>\n",
              "      <td>-0.724165</td>\n",
              "      <td>0.798789</td>\n",
              "      <td>-0.999548</td>\n",
              "      <td>0.995305</td>\n",
              "      <td>0.995679</td>\n",
              "      <td>0.948751</td>\n",
              "    </tr>\n",
              "    <tr>\n",
              "      <th>4</th>\n",
              "      <td>101004113229</td>\n",
              "      <td>-0.649289</td>\n",
              "      <td>0.929046</td>\n",
              "      <td>-2.988562</td>\n",
              "      <td>-1.767200</td>\n",
              "      <td>-0.438132</td>\n",
              "      <td>-0.361119</td>\n",
              "      <td>0.010478</td>\n",
              "      <td>1.114518</td>\n",
              "      <td>-0.448996</td>\n",
              "      <td>...</td>\n",
              "      <td>0.183652</td>\n",
              "      <td>-0.997964</td>\n",
              "      <td>0.057766</td>\n",
              "      <td>-0.999915</td>\n",
              "      <td>-0.724165</td>\n",
              "      <td>0.798789</td>\n",
              "      <td>-0.999548</td>\n",
              "      <td>0.995305</td>\n",
              "      <td>0.995679</td>\n",
              "      <td>0.948751</td>\n",
              "    </tr>\n",
              "  </tbody>\n",
              "</table>\n",
              "<p>5 rows × 769 columns</p>\n",
              "</div>"
            ],
            "text/plain": [
              "   case_enquiry_id  desc_cls_0  desc_cls_1  desc_cls_2  desc_cls_3  \\\n",
              "0     101004113559   -1.100319    0.180848   -3.067521   -2.449431   \n",
              "1     101004113295   -0.136960    0.691521   -3.540846   -1.352687   \n",
              "2     101004113630    0.175361    0.668518   -3.556810   -1.355421   \n",
              "3     101004113228   -0.649289    0.929046   -2.988562   -1.767200   \n",
              "4     101004113229   -0.649289    0.929046   -2.988562   -1.767200   \n",
              "\n",
              "   desc_cls_4  desc_cls_5  desc_cls_6  desc_cls_7  desc_cls_8  ...  \\\n",
              "0    0.048062    0.750774   -1.156688    1.701071   -1.121157  ...   \n",
              "1    1.299200   -0.141181    0.158119    2.410162    0.071449  ...   \n",
              "2    1.444425    0.603148   -1.361185    1.510217   -0.073560  ...   \n",
              "3   -0.438132   -0.361119    0.010478    1.114518   -0.448996  ...   \n",
              "4   -0.438132   -0.361119    0.010478    1.114518   -0.448996  ...   \n",
              "\n",
              "   code_pooled_118  code_pooled_119  code_pooled_120  code_pooled_121  \\\n",
              "0         0.121683        -0.998929         0.036228        -0.999963   \n",
              "1         0.086003        -0.998614         0.014076        -0.999995   \n",
              "2         0.120324        -0.999417         0.059866        -0.999934   \n",
              "3         0.183652        -0.997964         0.057766        -0.999915   \n",
              "4         0.183652        -0.997964         0.057766        -0.999915   \n",
              "\n",
              "   code_pooled_122  code_pooled_123  code_pooled_124  code_pooled_125  \\\n",
              "0        -0.742293         0.969737        -0.998525         0.986848   \n",
              "1        -0.893147         0.982163        -0.999566         0.996798   \n",
              "2        -0.765923         0.960436        -0.998330         0.985888   \n",
              "3        -0.724165         0.798789        -0.999548         0.995305   \n",
              "4        -0.724165         0.798789        -0.999548         0.995305   \n",
              "\n",
              "   code_pooled_126  code_pooled_127  \n",
              "0         0.982758         0.931549  \n",
              "1         0.977021         0.915342  \n",
              "2         0.973252         0.943457  \n",
              "3         0.995679         0.948751  \n",
              "4         0.995679         0.948751  \n",
              "\n",
              "[5 rows x 769 columns]"
            ]
          },
          "execution_count": 34,
          "metadata": {},
          "output_type": "execute_result"
        }
      ],
      "source": [
        "df.head()"
      ]
    },
    {
      "cell_type": "code",
      "execution_count": 35,
      "metadata": {},
      "outputs": [
        {
          "data": {
            "text/plain": [
              "(406032, 246)"
            ]
          },
          "execution_count": 35,
          "metadata": {},
          "output_type": "execute_result"
        }
      ],
      "source": [
        "mydata.shape"
      ]
    },
    {
      "cell_type": "code",
      "execution_count": 36,
      "metadata": {},
      "outputs": [],
      "source": [
        "mydata = mydata.drop_duplicates(subset=['case_enquiry_id'])"
      ]
    },
    {
      "cell_type": "code",
      "execution_count": 37,
      "metadata": {},
      "outputs": [
        {
          "data": {
            "text/plain": [
              "(406032, 246)"
            ]
          },
          "execution_count": 37,
          "metadata": {},
          "output_type": "execute_result"
        }
      ],
      "source": [
        "mydata.shape"
      ]
    },
    {
      "cell_type": "code",
      "execution_count": 38,
      "metadata": {},
      "outputs": [],
      "source": [
        "#join them so we are left only with records that have mydata in both files\n",
        "new_mydata = mydata.merge(df, on='case_enquiry_id', how='inner')\n",
        "\n"
      ]
    },
    {
      "cell_type": "code",
      "execution_count": 39,
      "metadata": {},
      "outputs": [
        {
          "data": {
            "text/plain": [
              "(156620, 1014)"
            ]
          },
          "execution_count": 39,
          "metadata": {},
          "output_type": "execute_result"
        }
      ],
      "source": [
        "new_mydata.shape"
      ]
    },
    {
      "cell_type": "code",
      "execution_count": 40,
      "metadata": {},
      "outputs": [],
      "source": [
        "old_bin_edges = [0, 12, 24, 72, 168, 336, 672, 1344, 2688, 9999999]\n",
        "old_bin_labels = [\n",
        "                \"0-12 hours\",      # Less than half a day\n",
        "                \"12-24 hours\",     # Half to one day\n",
        "                \"1-3 days\",        # One to three days\n",
        "                \"4-7 days\",        # Four to seven days\n",
        "                \"1-2 weeks\",       # One to two weeks\n",
        "                \"2-4 weeks\",       # Two to four weeks\n",
        "                \"1-2 months\",      # One to two months\n",
        "                \"2-4 months\",      # Two to four months\n",
        "                \"4+ months\"        # More than four months\n",
        "            ]"
      ]
    },
    {
      "cell_type": "code",
      "execution_count": 41,
      "metadata": {},
      "outputs": [],
      "source": [
        "bin_edges = [0, 24, 48, 72, 96, 120, 144, 168, 192, 216, 240, 264, 288, 312, 336, 360, 384, 408, 432, 456, 480, 504, 528, 552, 576, 600, 624, 648, 672, 696, 720, 744, 768, 792, 816, 840, 864, 888, 912, 936, 960, 984, 1008, 1032, 1056, 1080, 1104, 1128, 1152, 1176, 1200, 1224, 1248, 1272, 1296, 1320, 1344, 1368, 1392, 1416, 1440, 1464, 1488, 1512, 1536, 1560, 1584, 1608, 1632, 1656, 1680, 1704, 1728, 1752, 1776, 1800, 1824, 1848, 1872, 1896, 1920, 1944, 1968, 1992, 2016, 2040, 2064, 2088, 2112, 2136, 2160, 2184, 2208, 2232, 2256, 2280, 2304, 2328, 2352, 2376, 2400, 2424, 2448, 2472, 2496, 2520, 2544, 2568, 2592, 2616, 2640, 2664, 2688, 2712, 2736, 2760, 2784, 2808, 2832, 2856, 2880, 2904, 2928, 2952, 2976, 3000, 3024, 3048, 3072, 3096, 3120, 3144, 3168, 3192, 3216, 3240, 3264, 3288, 3312, 3336, 3360, 3384, 3408, 3432, 3456, 3480, 3504, 3528, 3552, 3576, 3600, 3624, 3648, 3672, 3696, 3720, 3744, 3768, 3792, 3816, 3840, 3864, 3888, 3912, 3936, 3960, 3984, 4008, 4032, 4056, 4080, 4104, 4128, 4152, 4176, 4200, 4224, 4248, 4272, 4296, 4320, 1000000]\n",
        "bin_labels = [\n",
        "            \"0-24 hours\", \"1-2 days\", \"2-3 days\", \"3-4 days\", \"4-5 days\", \n",
        "            \"5-6 days\", \"6-7 days\", \"7-8 days\", \"8-9 days\", \"9-10 days\",\n",
        "            \"10-11 days\", \"11-12 days\", \"12-13 days\", \"13-14 days\", \"14-15 days\",\n",
        "            \"15-16 days\", \"16-17 days\", \"17-18 days\", \"18-19 days\", \"19-20 days\",\n",
        "            \"20-21 days\", \"21-22 days\", \"22-23 days\", \"23-24 days\", \"24-25 days\",\n",
        "            \"25-26 days\", \"26-27 days\", \"27-28 days\", \"28-29 days\", \"29-30 days\",\n",
        "            \"30-31 days\", \"31-32 days\", \"32-33 days\", \"33-34 days\", \"34-35 days\",\n",
        "            \"35-36 days\", \"36-37 days\", \"37-38 days\", \"38-39 days\", \"39-40 days\",\n",
        "            \"40-41 days\", \"41-42 days\", \"42-43 days\", \"43-44 days\", \"44-45 days\",\n",
        "            \"45-46 days\", \"46-47 days\", \"47-48 days\", \"48-49 days\", \"49-50 days\",\n",
        "            \"50-51 days\", \"51-52 days\", \"52-53 days\", \"53-54 days\", \"54-55 days\",\n",
        "            \"55-56 days\", \"56-57 days\", \"57-58 days\", \"58-59 days\", \"59-60 days\",\n",
        "            \"60-61 days\", \"61-62 days\", \"62-63 days\", \"63-64 days\", \"64-65 days\",\n",
        "            \"65-66 days\", \"66-67 days\", \"67-68 days\", \"68-69 days\", \"69-70 days\",\n",
        "            \"70-71 days\", \"71-72 days\", \"72-73 days\", \"73-74 days\", \"74-75 days\",\n",
        "            \"75-76 days\", \"76-77 days\", \"77-78 days\", \"78-79 days\", \"79-80 days\",\n",
        "            \"80-81 days\", \"81-82 days\", \"82-83 days\", \"83-84 days\", \"84-85 days\",\n",
        "            \"85-86 days\", \"86-87 days\", \"87-88 days\", \"88-89 days\", \"89-90 days\",\n",
        "            \"90-91 days\", \"91-92 days\", \"92-93 days\", \"93-94 days\", \"94-95 days\",\n",
        "            \"95-96 days\", \"96-97 days\", \"97-98 days\", \"98-99 days\", \"99-100 days\",\n",
        "            \"100-101 days\", \"101-102 days\", \"102-103 days\", \"103-104 days\", \"104-105 days\",\n",
        "            \"105-106 days\", \"106-107 days\", \"107-108 days\", \"108-109 days\", \"109-110 days\",\n",
        "            \"110-111 days\", \"111-112 days\", \"112-113 days\", \"113-114 days\", \"114-115 days\",\n",
        "            \"115-116 days\", \"116-117 days\", \"117-118 days\", \"118-119 days\", \"119-120 days\",\n",
        "            \"120-121 days\", \"121-122 days\", \"122-123 days\", \"123-124 days\", \"124-125 days\",\n",
        "            \"125-126 days\", \"126-127 days\", \"127-128 days\", \"128-129 days\", \"129-130 days\",\n",
        "            \"130-131 days\", \"131-132 days\", \"132-133 days\", \"133-134 days\", \"134-135 days\",\n",
        "            \"135-136 days\", \"136-137 days\", \"137-138 days\", \"138-139 days\", \"139-140 days\",\n",
        "            \"140-141 days\", \"141-142 days\", \"142-143 days\", \"143-144 days\", \"144-145 days\",\n",
        "            \"145-146 days\", \"146-147 days\", \"147-148 days\", \"148-149 days\", \"149-150 days\",\n",
        "            \"150-151 days\", \"151-152 days\", \"152-153 days\", \"153-154 days\", \"154-155 days\",\n",
        "            \"155-156 days\", \"156-157 days\", \"157-158 days\", \"158-159 days\", \"159-160 days\",\n",
        "            \"160-161 days\", \"161-162 days\", \"162-163 days\", \"163-164 days\", \"164-165 days\",\n",
        "            \"165-166 days\", \"166-167 days\", \"167-168 days\", \"168-169 days\", \"169-170 days\",\n",
        "            \"170-171 days\", \"171-172 days\", \"172-173 days\", \"173-174 days\", \"174-175 days\",\n",
        "            \"175-176 days\", \"176-177 days\", \"177-178 days\", \"178-179 days\", \"179-180 days\",\n",
        "            \"180+ days\"]\n",
        "bin_number = len(bin_labels)"
      ]
    },
    {
      "cell_type": "code",
      "execution_count": 42,
      "metadata": {},
      "outputs": [
        {
          "name": "stdout",
          "output_type": "stream",
          "text": [
            "$prediction_timespans = [\n",
            "    \"0-24 hours\" => [0, 24],\n",
            "    \"1-2 days\" => [24, 48],\n",
            "    \"2-3 days\" => [48, 72],\n",
            "    \"3-4 days\" => [72, 96],\n",
            "    \"4-5 days\" => [96, 120],\n",
            "    \"5-6 days\" => [120, 144],\n",
            "    \"6-7 days\" => [144, 168],\n",
            "    \"7-8 days\" => [168, 192],\n",
            "    \"8-9 days\" => [192, 216],\n",
            "    \"9-10 days\" => [216, 240],\n",
            "    \"10-11 days\" => [240, 264],\n",
            "    \"11-12 days\" => [264, 288],\n",
            "    \"12-13 days\" => [288, 312],\n",
            "    \"13-14 days\" => [312, 336],\n",
            "    \"14-15 days\" => [336, 360],\n",
            "    \"15-16 days\" => [360, 384],\n",
            "    \"16-17 days\" => [384, 408],\n",
            "    \"17-18 days\" => [408, 432],\n",
            "    \"18-19 days\" => [432, 456],\n",
            "    \"19-20 days\" => [456, 480],\n",
            "    \"20-21 days\" => [480, 504],\n",
            "    \"21-22 days\" => [504, 528],\n",
            "    \"22-23 days\" => [528, 552],\n",
            "    \"23-24 days\" => [552, 576],\n",
            "    \"24-25 days\" => [576, 600],\n",
            "    \"25-26 days\" => [600, 624],\n",
            "    \"26-27 days\" => [624, 648],\n",
            "    \"27-28 days\" => [648, 672],\n",
            "    \"28-29 days\" => [672, 696],\n",
            "    \"29-30 days\" => [696, 720],\n",
            "    \"30-31 days\" => [720, 744],\n",
            "    \"31-32 days\" => [744, 768],\n",
            "    \"32-33 days\" => [768, 792],\n",
            "    \"33-34 days\" => [792, 816],\n",
            "    \"34-35 days\" => [816, 840],\n",
            "    \"35-36 days\" => [840, 864],\n",
            "    \"36-37 days\" => [864, 888],\n",
            "    \"37-38 days\" => [888, 912],\n",
            "    \"38-39 days\" => [912, 936],\n",
            "    \"39-40 days\" => [936, 960],\n",
            "    \"40-41 days\" => [960, 984],\n",
            "    \"41-42 days\" => [984, 1008],\n",
            "    \"42-43 days\" => [1008, 1032],\n",
            "    \"43-44 days\" => [1032, 1056],\n",
            "    \"44-45 days\" => [1056, 1080],\n",
            "    \"45-46 days\" => [1080, 1104],\n",
            "    \"46-47 days\" => [1104, 1128],\n",
            "    \"47-48 days\" => [1128, 1152],\n",
            "    \"48-49 days\" => [1152, 1176],\n",
            "    \"49-50 days\" => [1176, 1200],\n",
            "    \"50-51 days\" => [1200, 1224],\n",
            "    \"51-52 days\" => [1224, 1248],\n",
            "    \"52-53 days\" => [1248, 1272],\n",
            "    \"53-54 days\" => [1272, 1296],\n",
            "    \"54-55 days\" => [1296, 1320],\n",
            "    \"55-56 days\" => [1320, 1344],\n",
            "    \"56-57 days\" => [1344, 1368],\n",
            "    \"57-58 days\" => [1368, 1392],\n",
            "    \"58-59 days\" => [1392, 1416],\n",
            "    \"59-60 days\" => [1416, 1440],\n",
            "    \"60-61 days\" => [1440, 1464],\n",
            "    \"61-62 days\" => [1464, 1488],\n",
            "    \"62-63 days\" => [1488, 1512],\n",
            "    \"63-64 days\" => [1512, 1536],\n",
            "    \"64-65 days\" => [1536, 1560],\n",
            "    \"65-66 days\" => [1560, 1584],\n",
            "    \"66-67 days\" => [1584, 1608],\n",
            "    \"67-68 days\" => [1608, 1632],\n",
            "    \"68-69 days\" => [1632, 1656],\n",
            "    \"69-70 days\" => [1656, 1680],\n",
            "    \"70-71 days\" => [1680, 1704],\n",
            "    \"71-72 days\" => [1704, 1728],\n",
            "    \"72-73 days\" => [1728, 1752],\n",
            "    \"73-74 days\" => [1752, 1776],\n",
            "    \"74-75 days\" => [1776, 1800],\n",
            "    \"75-76 days\" => [1800, 1824],\n",
            "    \"76-77 days\" => [1824, 1848],\n",
            "    \"77-78 days\" => [1848, 1872],\n",
            "    \"78-79 days\" => [1872, 1896],\n",
            "    \"79-80 days\" => [1896, 1920],\n",
            "    \"80-81 days\" => [1920, 1944],\n",
            "    \"81-82 days\" => [1944, 1968],\n",
            "    \"82-83 days\" => [1968, 1992],\n",
            "    \"83-84 days\" => [1992, 2016],\n",
            "    \"84-85 days\" => [2016, 2040],\n",
            "    \"85-86 days\" => [2040, 2064],\n",
            "    \"86-87 days\" => [2064, 2088],\n",
            "    \"87-88 days\" => [2088, 2112],\n",
            "    \"88-89 days\" => [2112, 2136],\n",
            "    \"89-90 days\" => [2136, 2160],\n",
            "    \"90-91 days\" => [2160, 2184],\n",
            "    \"91-92 days\" => [2184, 2208],\n",
            "    \"92-93 days\" => [2208, 2232],\n",
            "    \"93-94 days\" => [2232, 2256],\n",
            "    \"94-95 days\" => [2256, 2280],\n",
            "    \"95-96 days\" => [2280, 2304],\n",
            "    \"96-97 days\" => [2304, 2328],\n",
            "    \"97-98 days\" => [2328, 2352],\n",
            "    \"98-99 days\" => [2352, 2376],\n",
            "    \"99-100 days\" => [2376, 2400],\n",
            "    \"100-101 days\" => [2400, 2424],\n",
            "    \"101-102 days\" => [2424, 2448],\n",
            "    \"102-103 days\" => [2448, 2472],\n",
            "    \"103-104 days\" => [2472, 2496],\n",
            "    \"104-105 days\" => [2496, 2520],\n",
            "    \"105-106 days\" => [2520, 2544],\n",
            "    \"106-107 days\" => [2544, 2568],\n",
            "    \"107-108 days\" => [2568, 2592],\n",
            "    \"108-109 days\" => [2592, 2616],\n",
            "    \"109-110 days\" => [2616, 2640],\n",
            "    \"110-111 days\" => [2640, 2664],\n",
            "    \"111-112 days\" => [2664, 2688],\n",
            "    \"112-113 days\" => [2688, 2712],\n",
            "    \"113-114 days\" => [2712, 2736],\n",
            "    \"114-115 days\" => [2736, 2760],\n",
            "    \"115-116 days\" => [2760, 2784],\n",
            "    \"116-117 days\" => [2784, 2808],\n",
            "    \"117-118 days\" => [2808, 2832],\n",
            "    \"118-119 days\" => [2832, 2856],\n",
            "    \"119-120 days\" => [2856, 2880],\n",
            "    \"120-121 days\" => [2880, 2904],\n",
            "    \"121-122 days\" => [2904, 2928],\n",
            "    \"122-123 days\" => [2928, 2952],\n",
            "    \"123-124 days\" => [2952, 2976],\n",
            "    \"124-125 days\" => [2976, 3000],\n",
            "    \"125-126 days\" => [3000, 3024],\n",
            "    \"126-127 days\" => [3024, 3048],\n",
            "    \"127-128 days\" => [3048, 3072],\n",
            "    \"128-129 days\" => [3072, 3096],\n",
            "    \"129-130 days\" => [3096, 3120],\n",
            "    \"130-131 days\" => [3120, 3144],\n",
            "    \"131-132 days\" => [3144, 3168],\n",
            "    \"132-133 days\" => [3168, 3192],\n",
            "    \"133-134 days\" => [3192, 3216],\n",
            "    \"134-135 days\" => [3216, 3240],\n",
            "    \"135-136 days\" => [3240, 3264],\n",
            "    \"136-137 days\" => [3264, 3288],\n",
            "    \"137-138 days\" => [3288, 3312],\n",
            "    \"138-139 days\" => [3312, 3336],\n",
            "    \"139-140 days\" => [3336, 3360],\n",
            "    \"140-141 days\" => [3360, 3384],\n",
            "    \"141-142 days\" => [3384, 3408],\n",
            "    \"142-143 days\" => [3408, 3432],\n",
            "    \"143-144 days\" => [3432, 3456],\n",
            "    \"144-145 days\" => [3456, 3480],\n",
            "    \"145-146 days\" => [3480, 3504],\n",
            "    \"146-147 days\" => [3504, 3528],\n",
            "    \"147-148 days\" => [3528, 3552],\n",
            "    \"148-149 days\" => [3552, 3576],\n",
            "    \"149-150 days\" => [3576, 3600],\n",
            "    \"150-151 days\" => [3600, 3624],\n",
            "    \"151-152 days\" => [3624, 3648],\n",
            "    \"152-153 days\" => [3648, 3672],\n",
            "    \"153-154 days\" => [3672, 3696],\n",
            "    \"154-155 days\" => [3696, 3720],\n",
            "    \"155-156 days\" => [3720, 3744],\n",
            "    \"156-157 days\" => [3744, 3768],\n",
            "    \"157-158 days\" => [3768, 3792],\n",
            "    \"158-159 days\" => [3792, 3816],\n",
            "    \"159-160 days\" => [3816, 3840],\n",
            "    \"160-161 days\" => [3840, 3864],\n",
            "    \"161-162 days\" => [3864, 3888],\n",
            "    \"162-163 days\" => [3888, 3912],\n",
            "    \"163-164 days\" => [3912, 3936],\n",
            "    \"164-165 days\" => [3936, 3960],\n",
            "    \"165-166 days\" => [3960, 3984],\n",
            "    \"166-167 days\" => [3984, 4008],\n",
            "    \"167-168 days\" => [4008, 4032],\n",
            "    \"168-169 days\" => [4032, 4056],\n",
            "    \"169-170 days\" => [4056, 4080],\n",
            "    \"170-171 days\" => [4080, 4104],\n",
            "    \"171-172 days\" => [4104, 4128],\n",
            "    \"172-173 days\" => [4128, 4152],\n",
            "    \"173-174 days\" => [4152, 4176],\n",
            "    \"174-175 days\" => [4176, 4200],\n",
            "    \"175-176 days\" => [4200, 4224],\n",
            "    \"176-177 days\" => [4224, 4248],\n",
            "    \"177-178 days\" => [4248, 4272],\n",
            "    \"178-179 days\" => [4272, 4296],\n",
            "    \"179-180 days\" => [4296, 4320],\n",
            "    \"180+ days\" => [4320, 1000000],\n",
            "];\n"
          ]
        }
      ],
      "source": [
        "php_array = \"$prediction_timespans = [\\n\"\n",
        "for i, label in enumerate(bin_labels):\n",
        "    php_array += f'    \"{label}\" => [{bin_edges[i]}, {bin_edges[i + 1]}],\\n'\n",
        "php_array += \"];\"\n",
        "\n",
        "print(php_array)\n"
      ]
    },
    {
      "cell_type": "code",
      "execution_count": 43,
      "metadata": {},
      "outputs": [],
      "source": [
        "\n",
        "df, y = kerasNLP_model.split_data(new_mydata, bin_edges=bin_edges, bin_labels=bin_labels)"
      ]
    },
    {
      "cell_type": "code",
      "execution_count": 44,
      "metadata": {},
      "outputs": [],
      "source": [
        "#cast all columns that are type bool to float\n",
        "for col in df.columns:\n",
        "    if df[col].dtype == 'bool':\n",
        "        df[col] = df[col].astype('float64')"
      ]
    },
    {
      "cell_type": "code",
      "execution_count": 45,
      "metadata": {},
      "outputs": [
        {
          "name": "stdout",
          "output_type": "stream",
          "text": [
            "(156620, 1011)\n",
            "(156620,)\n"
          ]
        }
      ],
      "source": [
        "#list the number of rows in X and y\n",
        "print(df.shape)\n",
        "print(y.shape)\n"
      ]
    },
    {
      "cell_type": "code",
      "execution_count": 46,
      "metadata": {},
      "outputs": [],
      "source": [
        "#best_model, best_hyperparameters = kerasNLP_model.tune_model(df, y, '/home/briarmoss/Documents/Boston_311/models/tuning')"
      ]
    },
    {
      "cell_type": "code",
      "execution_count": 47,
      "metadata": {},
      "outputs": [],
      "source": [
        "#define hyperparameters\n",
        "from kerastuner import HyperParameters\n",
        "\n",
        "#set constants\n",
        "start_nodes = 1024  \n",
        "end_nodes = 256\n",
        "#l2_0 = 0.00001\n",
        "#learning_rate = 7.5842e-05\n",
        "l2_0 = 0.001\n",
        "learning_rate = 0.0001\n",
        "\n",
        "\n",
        "hp = HyperParameters()\n",
        "hp.Fixed('start_nodes', start_nodes)\n",
        "hp.Fixed('end_nodes', end_nodes)\n",
        "hp.Fixed('l2_0', l2_0)\n",
        "hp.Fixed('learning_rate', learning_rate)\n",
        "hp.Fixed('final_layer', bin_number)\n",
        "hp.Fixed('final_activation', 'softmax')\n",
        "kerasNLP_model.best_hyperparameters = hp\n",
        "\n",
        "\n",
        "#parameters for linear regression\n",
        "linear='''\n",
        "hp = HyperParameters()\n",
        "hp.Fixed('start_nodes', start_nodes)\n",
        "hp.Fixed('end_nodes', end_nodes)\n",
        "hp.Fixed('l2_0', l2_0)\n",
        "hp.Fixed('learning_rate', learning_rate)\n",
        "hp.Fixed('final_layer', 1)\n",
        "hp.Fixed('final_activation', 'linear')\n",
        "kerasNLP_model.best_hyperparameters = hp\n",
        "'''"
      ]
    },
    {
      "cell_type": "code",
      "execution_count": 48,
      "metadata": {},
      "outputs": [],
      "source": [
        "#free all unused dataframes\n",
        "try :\n",
        "    df_to_delete = [X, new_mydata, is_numeric, mydata, merged_data]\n",
        "    df_to_delete.extend([df_desc_cls, df_desc_pooled, df_name_cls, df_name_pooled, df_code_cls, df_code_pooled])\n",
        "except NameError:\n",
        "    pass\n",
        "try :\n",
        "    for data_frame in df_to_delete:\n",
        "        try:\n",
        "            del data_frame\n",
        "        #if the dataframe doesn't exist, pass\n",
        "        except NameError:\n",
        "            pass\n",
        "except NameError:\n",
        "    pass\n",
        "        "
      ]
    },
    {
      "cell_type": "code",
      "execution_count": 49,
      "metadata": {},
      "outputs": [
        {
          "data": {
            "text/plain": [
              "25"
            ]
          },
          "execution_count": 49,
          "metadata": {},
          "output_type": "execute_result"
        }
      ],
      "source": [
        "import gc\n",
        "gc.collect()"
      ]
    },
    {
      "cell_type": "code",
      "execution_count": 50,
      "metadata": {},
      "outputs": [
        {
          "name": "stdout",
          "output_type": "stream",
          "text": [
            "Starting Training at 2023-10-16 12:48:58.170583\n"
          ]
        },
        {
          "name": "stdout",
          "output_type": "stream",
          "text": [
            "Model: \"sequential\"\n",
            "_________________________________________________________________\n",
            " Layer (type)                Output Shape              Param #   \n",
            "=================================================================\n",
            " dense (Dense)               (None, 1024)              1036288   \n",
            "                                                                 \n",
            " dense_1 (Dense)             (None, 512)               524800    \n",
            "                                                                 \n",
            " dense_2 (Dense)             (None, 256)               131328    \n",
            "                                                                 \n",
            " dense_3 (Dense)             (None, 181)               46517     \n",
            "                                                                 \n",
            "=================================================================\n",
            "Total params: 1738933 (6.63 MB)\n",
            "Trainable params: 1738933 (6.63 MB)\n",
            "Non-trainable params: 0 (0.00 Byte)\n",
            "_________________________________________________________________\n",
            "None\n",
            "<class 'pandas.core.frame.DataFrame'> (125296, 181)\n",
            "<class 'pandas.core.frame.DataFrame'> (31324, 181)\n",
            "run fit\n",
            "\n",
            "Epoch 1/100\n"
          ]
        },
        {
          "name": "stderr",
          "output_type": "stream",
          "text": [
            "2023-10-16 12:49:01.098418: W tensorflow/tsl/framework/cpu_allocator_impl.cc:83] Allocation of 1013394048 exceeds 10% of free system memory.\n"
          ]
        },
        {
          "name": "stdout",
          "output_type": "stream",
          "text": [
            "3916/3916 [==============================] - ETA: 0s - loss: 2.4110 - accuracy: 0.6432 - top_k_categorical_accuracy: 0.7262"
          ]
        },
        {
          "name": "stderr",
          "output_type": "stream",
          "text": [
            "2023-10-16 12:49:40.790765: W tensorflow/tsl/framework/cpu_allocator_impl.cc:83] Allocation of 253348512 exceeds 10% of free system memory.\n"
          ]
        },
        {
          "name": "stdout",
          "output_type": "stream",
          "text": [
            "3916/3916 [==============================] - 40s 10ms/step - loss: 2.4110 - accuracy: 0.6432 - top_k_categorical_accuracy: 0.7262 - val_loss: 1.9890 - val_accuracy: 0.6542 - val_top_k_categorical_accuracy: 0.7363\n",
            "Epoch 2/100\n",
            "3916/3916 [==============================] - 40s 10ms/step - loss: 1.8706 - accuracy: 0.6538 - top_k_categorical_accuracy: 0.7332 - val_loss: 1.7697 - val_accuracy: 0.6590 - val_top_k_categorical_accuracy: 0.7383\n",
            "Epoch 3/100\n",
            "3916/3916 [==============================] - 40s 10ms/step - loss: 1.7327 - accuracy: 0.6560 - top_k_categorical_accuracy: 0.7353 - val_loss: 1.6974 - val_accuracy: 0.6564 - val_top_k_categorical_accuracy: 0.7393\n",
            "Epoch 4/100\n",
            "3916/3916 [==============================] - 40s 10ms/step - loss: 1.6738 - accuracy: 0.6574 - top_k_categorical_accuracy: 0.7364 - val_loss: 1.6739 - val_accuracy: 0.6513 - val_top_k_categorical_accuracy: 0.7365\n",
            "Epoch 5/100\n",
            "3916/3916 [==============================] - 40s 10ms/step - loss: 1.6415 - accuracy: 0.6585 - top_k_categorical_accuracy: 0.7373 - val_loss: 1.6363 - val_accuracy: 0.6582 - val_top_k_categorical_accuracy: 0.7392\n",
            "Epoch 6/100\n",
            "3916/3916 [==============================] - 40s 10ms/step - loss: 1.6220 - accuracy: 0.6589 - top_k_categorical_accuracy: 0.7376 - val_loss: 1.6099 - val_accuracy: 0.6613 - val_top_k_categorical_accuracy: 0.7401\n",
            "Epoch 7/100\n",
            "3916/3916 [==============================] - 40s 10ms/step - loss: 1.6090 - accuracy: 0.6592 - top_k_categorical_accuracy: 0.7382 - val_loss: 1.6044 - val_accuracy: 0.6618 - val_top_k_categorical_accuracy: 0.7413\n",
            "Epoch 8/100\n",
            "3916/3916 [==============================] - 40s 10ms/step - loss: 1.6009 - accuracy: 0.6592 - top_k_categorical_accuracy: 0.7384 - val_loss: 1.5919 - val_accuracy: 0.6621 - val_top_k_categorical_accuracy: 0.7413\n",
            "Epoch 9/100\n",
            "3916/3916 [==============================] - 40s 10ms/step - loss: 1.5921 - accuracy: 0.6605 - top_k_categorical_accuracy: 0.7388 - val_loss: 1.6098 - val_accuracy: 0.6602 - val_top_k_categorical_accuracy: 0.7385\n",
            "Epoch 10/100\n",
            "3916/3916 [==============================] - 40s 10ms/step - loss: 1.5879 - accuracy: 0.6603 - top_k_categorical_accuracy: 0.7392 - val_loss: 1.5862 - val_accuracy: 0.6610 - val_top_k_categorical_accuracy: 0.7414\n",
            "Epoch 11/100\n",
            "3916/3916 [==============================] - 40s 10ms/step - loss: 1.5829 - accuracy: 0.6601 - top_k_categorical_accuracy: 0.7393 - val_loss: 1.6134 - val_accuracy: 0.6531 - val_top_k_categorical_accuracy: 0.7391\n",
            "Epoch 12/100\n",
            "3916/3916 [==============================] - 40s 10ms/step - loss: 1.5787 - accuracy: 0.6605 - top_k_categorical_accuracy: 0.7396 - val_loss: 1.5745 - val_accuracy: 0.6616 - val_top_k_categorical_accuracy: 0.7419\n",
            "Epoch 13/100\n",
            "3916/3916 [==============================] - 40s 10ms/step - loss: 1.5751 - accuracy: 0.6607 - top_k_categorical_accuracy: 0.7397 - val_loss: 1.5755 - val_accuracy: 0.6612 - val_top_k_categorical_accuracy: 0.7413\n",
            "Epoch 14/100\n",
            "3916/3916 [==============================] - 40s 10ms/step - loss: 1.5719 - accuracy: 0.6610 - top_k_categorical_accuracy: 0.7398 - val_loss: 1.5739 - val_accuracy: 0.6622 - val_top_k_categorical_accuracy: 0.7419\n",
            "Epoch 15/100\n",
            "3916/3916 [==============================] - 39s 10ms/step - loss: 1.5697 - accuracy: 0.6609 - top_k_categorical_accuracy: 0.7402 - val_loss: 1.5675 - val_accuracy: 0.6622 - val_top_k_categorical_accuracy: 0.7423\n",
            "Epoch 16/100\n",
            "3916/3916 [==============================] - 39s 10ms/step - loss: 1.5658 - accuracy: 0.6613 - top_k_categorical_accuracy: 0.7408 - val_loss: 1.5707 - val_accuracy: 0.6613 - val_top_k_categorical_accuracy: 0.7422\n",
            "Epoch 17/100\n",
            "3916/3916 [==============================] - 40s 10ms/step - loss: 1.5640 - accuracy: 0.6613 - top_k_categorical_accuracy: 0.7400 - val_loss: 1.5747 - val_accuracy: 0.6613 - val_top_k_categorical_accuracy: 0.7416\n",
            "Epoch 18/100\n",
            "3916/3916 [==============================] - 40s 10ms/step - loss: 1.5629 - accuracy: 0.6614 - top_k_categorical_accuracy: 0.7401 - val_loss: 1.5678 - val_accuracy: 0.6621 - val_top_k_categorical_accuracy: 0.7413\n",
            "Epoch 19/100\n",
            "3916/3916 [==============================] - 40s 10ms/step - loss: 1.5615 - accuracy: 0.6616 - top_k_categorical_accuracy: 0.7408 - val_loss: 1.5614 - val_accuracy: 0.6622 - val_top_k_categorical_accuracy: 0.7416\n",
            "Epoch 20/100\n",
            "3916/3916 [==============================] - 40s 10ms/step - loss: 1.5583 - accuracy: 0.6619 - top_k_categorical_accuracy: 0.7406 - val_loss: 1.5721 - val_accuracy: 0.6610 - val_top_k_categorical_accuracy: 0.7408\n",
            "Epoch 21/100\n",
            "3916/3916 [==============================] - 40s 10ms/step - loss: 1.5572 - accuracy: 0.6617 - top_k_categorical_accuracy: 0.7405 - val_loss: 1.6043 - val_accuracy: 0.6540 - val_top_k_categorical_accuracy: 0.7383\n",
            "Epoch 22/100\n",
            "3916/3916 [==============================] - 40s 10ms/step - loss: 1.5560 - accuracy: 0.6616 - top_k_categorical_accuracy: 0.7408 - val_loss: 1.5613 - val_accuracy: 0.6623 - val_top_k_categorical_accuracy: 0.7420\n",
            "Epoch 23/100\n",
            "3916/3916 [==============================] - 40s 10ms/step - loss: 1.5543 - accuracy: 0.6622 - top_k_categorical_accuracy: 0.7409 - val_loss: 1.5669 - val_accuracy: 0.6610 - val_top_k_categorical_accuracy: 0.7414\n",
            "Epoch 24/100\n",
            "3916/3916 [==============================] - 40s 10ms/step - loss: 1.5528 - accuracy: 0.6620 - top_k_categorical_accuracy: 0.7408 - val_loss: 1.5621 - val_accuracy: 0.6633 - val_top_k_categorical_accuracy: 0.7416\n",
            "Epoch 25/100\n",
            "3916/3916 [==============================] - 40s 10ms/step - loss: 1.5521 - accuracy: 0.6619 - top_k_categorical_accuracy: 0.7412 - val_loss: 1.5589 - val_accuracy: 0.6621 - val_top_k_categorical_accuracy: 0.7417\n",
            "Epoch 26/100\n",
            "3916/3916 [==============================] - 40s 10ms/step - loss: 1.5516 - accuracy: 0.6623 - top_k_categorical_accuracy: 0.7411 - val_loss: 1.5611 - val_accuracy: 0.6620 - val_top_k_categorical_accuracy: 0.7415\n",
            "Epoch 27/100\n",
            "3916/3916 [==============================] - 40s 10ms/step - loss: 1.5507 - accuracy: 0.6622 - top_k_categorical_accuracy: 0.7413 - val_loss: 1.5614 - val_accuracy: 0.6622 - val_top_k_categorical_accuracy: 0.7412\n",
            "Epoch 28/100\n",
            "3916/3916 [==============================] - 40s 10ms/step - loss: 1.5491 - accuracy: 0.6620 - top_k_categorical_accuracy: 0.7412 - val_loss: 1.5721 - val_accuracy: 0.6599 - val_top_k_categorical_accuracy: 0.7395\n",
            "Epoch 29/100\n",
            "3916/3916 [==============================] - 40s 10ms/step - loss: 1.5484 - accuracy: 0.6623 - top_k_categorical_accuracy: 0.7415 - val_loss: 1.5565 - val_accuracy: 0.6620 - val_top_k_categorical_accuracy: 0.7415\n",
            "Epoch 30/100\n",
            "3916/3916 [==============================] - 40s 10ms/step - loss: 1.5472 - accuracy: 0.6623 - top_k_categorical_accuracy: 0.7413 - val_loss: 1.5537 - val_accuracy: 0.6628 - val_top_k_categorical_accuracy: 0.7435\n",
            "Epoch 31/100\n",
            "3916/3916 [==============================] - 40s 10ms/step - loss: 1.5464 - accuracy: 0.6623 - top_k_categorical_accuracy: 0.7415 - val_loss: 1.5539 - val_accuracy: 0.6628 - val_top_k_categorical_accuracy: 0.7411\n",
            "Epoch 32/100\n",
            "3916/3916 [==============================] - 40s 10ms/step - loss: 1.5458 - accuracy: 0.6628 - top_k_categorical_accuracy: 0.7415 - val_loss: 1.5495 - val_accuracy: 0.6630 - val_top_k_categorical_accuracy: 0.7427\n",
            "Epoch 33/100\n",
            "3916/3916 [==============================] - 40s 10ms/step - loss: 1.5456 - accuracy: 0.6623 - top_k_categorical_accuracy: 0.7414 - val_loss: 1.5612 - val_accuracy: 0.6617 - val_top_k_categorical_accuracy: 0.7422\n",
            "Epoch 34/100\n",
            "3916/3916 [==============================] - 40s 10ms/step - loss: 1.5449 - accuracy: 0.6623 - top_k_categorical_accuracy: 0.7414 - val_loss: 1.5541 - val_accuracy: 0.6618 - val_top_k_categorical_accuracy: 0.7425\n",
            "Epoch 35/100\n",
            "3916/3916 [==============================] - 40s 10ms/step - loss: 1.5438 - accuracy: 0.6627 - top_k_categorical_accuracy: 0.7418 - val_loss: 1.5583 - val_accuracy: 0.6618 - val_top_k_categorical_accuracy: 0.7408\n",
            "Epoch 36/100\n",
            "3916/3916 [==============================] - 39s 10ms/step - loss: 1.5432 - accuracy: 0.6626 - top_k_categorical_accuracy: 0.7417 - val_loss: 1.5566 - val_accuracy: 0.6624 - val_top_k_categorical_accuracy: 0.7423\n",
            "Epoch 37/100\n",
            "3916/3916 [==============================] - 40s 10ms/step - loss: 1.5426 - accuracy: 0.6628 - top_k_categorical_accuracy: 0.7417 - val_loss: 1.5509 - val_accuracy: 0.6630 - val_top_k_categorical_accuracy: 0.7427\n",
            "Epoch 38/100\n",
            "3916/3916 [==============================] - 40s 10ms/step - loss: 1.5421 - accuracy: 0.6627 - top_k_categorical_accuracy: 0.7416 - val_loss: 1.5498 - val_accuracy: 0.6630 - val_top_k_categorical_accuracy: 0.7428\n",
            "Epoch 39/100\n",
            "3916/3916 [==============================] - 40s 10ms/step - loss: 1.5419 - accuracy: 0.6627 - top_k_categorical_accuracy: 0.7414 - val_loss: 1.5465 - val_accuracy: 0.6634 - val_top_k_categorical_accuracy: 0.7432\n",
            "Epoch 40/100\n",
            "3916/3916 [==============================] - 40s 10ms/step - loss: 1.5414 - accuracy: 0.6623 - top_k_categorical_accuracy: 0.7416 - val_loss: 1.5502 - val_accuracy: 0.6616 - val_top_k_categorical_accuracy: 0.7425\n",
            "Epoch 41/100\n",
            "3916/3916 [==============================] - 40s 10ms/step - loss: 1.5406 - accuracy: 0.6627 - top_k_categorical_accuracy: 0.7417 - val_loss: 1.5534 - val_accuracy: 0.6619 - val_top_k_categorical_accuracy: 0.7422\n",
            "Epoch 42/100\n",
            "3916/3916 [==============================] - 40s 10ms/step - loss: 1.5396 - accuracy: 0.6627 - top_k_categorical_accuracy: 0.7418 - val_loss: 1.5482 - val_accuracy: 0.6627 - val_top_k_categorical_accuracy: 0.7420\n",
            "Epoch 43/100\n",
            "3916/3916 [==============================] - 40s 10ms/step - loss: 1.5395 - accuracy: 0.6628 - top_k_categorical_accuracy: 0.7414 - val_loss: 1.5502 - val_accuracy: 0.6627 - val_top_k_categorical_accuracy: 0.7417\n",
            "Epoch 44/100\n",
            "3916/3916 [==============================] - 39s 10ms/step - loss: 1.5385 - accuracy: 0.6625 - top_k_categorical_accuracy: 0.7418 - val_loss: 1.5517 - val_accuracy: 0.6627 - val_top_k_categorical_accuracy: 0.7421\n",
            "Epoch 45/100\n",
            "3916/3916 [==============================] - 40s 10ms/step - loss: 1.5384 - accuracy: 0.6634 - top_k_categorical_accuracy: 0.7419 - val_loss: 1.5494 - val_accuracy: 0.6625 - val_top_k_categorical_accuracy: 0.7422\n",
            "Epoch 46/100\n",
            "3916/3916 [==============================] - 40s 10ms/step - loss: 1.5377 - accuracy: 0.6629 - top_k_categorical_accuracy: 0.7420 - val_loss: 1.5480 - val_accuracy: 0.6635 - val_top_k_categorical_accuracy: 0.7429\n",
            "Epoch 47/100\n",
            "3916/3916 [==============================] - 40s 10ms/step - loss: 1.5375 - accuracy: 0.6629 - top_k_categorical_accuracy: 0.7418 - val_loss: 1.5479 - val_accuracy: 0.6631 - val_top_k_categorical_accuracy: 0.7422\n",
            "Epoch 48/100\n",
            "3916/3916 [==============================] - 40s 10ms/step - loss: 1.5374 - accuracy: 0.6627 - top_k_categorical_accuracy: 0.7419 - val_loss: 1.5477 - val_accuracy: 0.6624 - val_top_k_categorical_accuracy: 0.7423\n",
            "Epoch 49/100\n",
            "3916/3916 [==============================] - 39s 10ms/step - loss: 1.5364 - accuracy: 0.6629 - top_k_categorical_accuracy: 0.7417 - val_loss: 1.5468 - val_accuracy: 0.6630 - val_top_k_categorical_accuracy: 0.7430\n",
            "126/979 [==>...........................] - ETA: 1s - loss: 1.5479 - accuracy: 0.6634 - top_k_categorical_accuracy: 0.7431"
          ]
        },
        {
          "name": "stderr",
          "output_type": "stream",
          "text": [
            "2023-10-16 13:21:21.092972: W tensorflow/tsl/framework/cpu_allocator_impl.cc:83] Allocation of 253348512 exceeds 10% of free system memory.\n"
          ]
        },
        {
          "name": "stdout",
          "output_type": "stream",
          "text": [
            "979/979 [==============================] - 1s 1ms/step - loss: 1.5465 - accuracy: 0.6634 - top_k_categorical_accuracy: 0.7432\n",
            "Testing accuracy: 0.6633571982383728 \n",
            "Top-2 accuracy: 0.7431681752204895 \n",
            "Test loss: 1.5464606285095215\n",
            "Ending Training at 2023-10-16 13:21:22.348510\n",
            "Training took 0:32:24.177927\n"
          ]
        }
      ],
      "source": [
        "\n",
        "#parse CLS embedding column as array\n",
        "test_acc = kerasNLP_model.train_model( df, y )"
      ]
    },
    {
      "cell_type": "code",
      "execution_count": null,
      "metadata": {},
      "outputs": [],
      "source": []
    },
    {
      "cell_type": "markdown",
      "metadata": {
        "id": "sSSkyth-2K3A"
      },
      "source": [
        "## Train several models"
      ]
    },
    {
      "cell_type": "code",
      "execution_count": 51,
      "metadata": {},
      "outputs": [
        {
          "name": "stdout",
          "output_type": "stream",
          "text": [
            "learning is fun!\n"
          ]
        }
      ],
      "source": [
        "print(\"learning is fun!\") "
      ]
    },
    {
      "cell_type": "code",
      "execution_count": 52,
      "metadata": {
        "colab": {
          "base_uri": "https://localhost:8080/"
        },
        "id": "Lv4ivBuvinss",
        "outputId": "814ef4fb-e100-4b22-ccbc-6b9d91e5a341"
      },
      "outputs": [],
      "source": [
        "#logistic_tree_model.run_pipeline()"
      ]
    },
    {
      "cell_type": "code",
      "execution_count": 53,
      "metadata": {
        "colab": {
          "base_uri": "https://localhost:8080/"
        },
        "id": "_UIaks6jjPkU",
        "outputId": "0e365ed1-472e-4cb1-cdde-ae0a2d32722e"
      },
      "outputs": [],
      "source": [
        "#logistic_model.run_pipeline()"
      ]
    },
    {
      "cell_type": "code",
      "execution_count": 54,
      "metadata": {},
      "outputs": [
        {
          "data": {
            "text/plain": [
              "2294"
            ]
          },
          "execution_count": 54,
          "metadata": {},
          "output_type": "execute_result"
        }
      ],
      "source": [
        "import gc\n",
        "gc.collect()"
      ]
    },
    {
      "cell_type": "code",
      "execution_count": 55,
      "metadata": {},
      "outputs": [],
      "source": [
        "#linear_tree_model.run_pipeline()"
      ]
    },
    {
      "cell_type": "code",
      "execution_count": 56,
      "metadata": {},
      "outputs": [
        {
          "name": "stderr",
          "output_type": "stream",
          "text": [
            "/home/briarmoss/.local/lib/python3.10/site-packages/keras/src/engine/training.py:3000: UserWarning: You are saving your model as an HDF5 file via `model.save()`. This file format is considered legacy. We recommend using instead the native Keras format, e.g. `model.save('my_model.keras')`.\n",
            "  saving_api.save_model(\n"
          ]
        },
        {
          "ename": "TypeError",
          "evalue": "Object of type HyperParameters is not JSON serializable",
          "output_type": "error",
          "traceback": [
            "\u001b[0;31m---------------------------------------------------------------------------\u001b[0m",
            "\u001b[0;31mTypeError\u001b[0m                                 Traceback (most recent call last)",
            "\u001b[1;32m/home/briarmoss/Documents/Boston_311/models/train_and_save_models.ipynb Cell 63\u001b[0m line \u001b[0;36m2\n\u001b[1;32m     <a href='vscode-notebook-cell://ssh-remote%2Bbriarmossdesktop/home/briarmoss/Documents/Boston_311/models/train_and_save_models.ipynb#Y110sdnNjb2RlLXJlbW90ZQ%3D%3D?line=18'>19</a>\u001b[0m \u001b[39m# Iterate over models and save\u001b[39;00m\n\u001b[1;32m     <a href='vscode-notebook-cell://ssh-remote%2Bbriarmossdesktop/home/briarmoss/Documents/Boston_311/models/train_and_save_models.ipynb#Y110sdnNjb2RlLXJlbW90ZQ%3D%3D?line=19'>20</a>\u001b[0m \u001b[39mfor\u001b[39;00m model \u001b[39min\u001b[39;00m models:\n\u001b[0;32m---> <a href='vscode-notebook-cell://ssh-remote%2Bbriarmossdesktop/home/briarmoss/Documents/Boston_311/models/train_and_save_models.ipynb#Y110sdnNjb2RlLXJlbW90ZQ%3D%3D?line=20'>21</a>\u001b[0m     save_model_to_dir(model, model\u001b[39m.\u001b[39;49mmodel_type)\n",
            "\u001b[1;32m/home/briarmoss/Documents/Boston_311/models/train_and_save_models.ipynb Cell 63\u001b[0m line \u001b[0;36m1\n\u001b[1;32m     <a href='vscode-notebook-cell://ssh-remote%2Bbriarmossdesktop/home/briarmoss/Documents/Boston_311/models/train_and_save_models.ipynb#Y110sdnNjb2RlLXJlbW90ZQ%3D%3D?line=9'>10</a>\u001b[0m model_name \u001b[39m=\u001b[39m timestamp \u001b[39m+\u001b[39m \u001b[39m\"\u001b[39m\u001b[39m_\u001b[39m\u001b[39m\"\u001b[39m \u001b[39m+\u001b[39m model\u001b[39m.\u001b[39mmodel_type\n\u001b[1;32m     <a href='vscode-notebook-cell://ssh-remote%2Bbriarmossdesktop/home/briarmoss/Documents/Boston_311/models/train_and_save_models.ipynb#Y110sdnNjb2RlLXJlbW90ZQ%3D%3D?line=10'>11</a>\u001b[0m properties_name \u001b[39m=\u001b[39m model_name\n\u001b[0;32m---> <a href='vscode-notebook-cell://ssh-remote%2Bbriarmossdesktop/home/briarmoss/Documents/Boston_311/models/train_and_save_models.ipynb#Y110sdnNjb2RlLXJlbW90ZQ%3D%3D?line=12'>13</a>\u001b[0m model\u001b[39m.\u001b[39;49msave(dir_path, model_name, properties_name)\n",
            "File \u001b[0;32m~/.local/lib/python3.10/site-packages/boston311/Boston311KerasNLP.py:32\u001b[0m, in \u001b[0;36mBoston311KerasNLP.save\u001b[0;34m(self, filepath, model_file, properties_file)\u001b[0m\n\u001b[1;32m     29\u001b[0m \u001b[39mself\u001b[39m\u001b[39m.\u001b[39mmodel\u001b[39m.\u001b[39msave(filepath \u001b[39m+\u001b[39m \u001b[39m'\u001b[39m\u001b[39m/\u001b[39m\u001b[39m'\u001b[39m \u001b[39m+\u001b[39m model_file \u001b[39m+\u001b[39m \u001b[39m'\u001b[39m\u001b[39m.h5\u001b[39m\u001b[39m'\u001b[39m)\n\u001b[1;32m     31\u001b[0m \u001b[39m# Save other properties\u001b[39;00m\n\u001b[0;32m---> 32\u001b[0m \u001b[39msuper\u001b[39;49m()\u001b[39m.\u001b[39;49msave_properties(filepath, properties_file)\n",
            "File \u001b[0;32m~/.local/lib/python3.10/site-packages/boston311/Boston311Model.py:50\u001b[0m, in \u001b[0;36mBoston311Model.save_properties\u001b[0;34m(self, filepath, properties_file)\u001b[0m\n\u001b[1;32m     41\u001b[0m json\u001b[39m.\u001b[39mdump({\n\u001b[1;32m     42\u001b[0m     \u001b[39m'\u001b[39m\u001b[39mfeature_columns\u001b[39m\u001b[39m'\u001b[39m: \u001b[39mself\u001b[39m\u001b[39m.\u001b[39mfeature_columns,\n\u001b[1;32m     43\u001b[0m     \u001b[39m'\u001b[39m\u001b[39mfeature_dict\u001b[39m\u001b[39m'\u001b[39m: \u001b[39mself\u001b[39m\u001b[39m.\u001b[39mfeature_dict,\n\u001b[0;32m   (...)\u001b[0m\n\u001b[1;32m     47\u001b[0m     \u001b[39m'\u001b[39m\u001b[39mmodel_type\u001b[39m\u001b[39m'\u001b[39m: \u001b[39mself\u001b[39m\u001b[39m.\u001b[39mmodel_type,\n\u001b[1;32m     48\u001b[0m }, f)\n\u001b[1;32m     49\u001b[0m \u001b[39mif\u001b[39;00m \u001b[39mself\u001b[39m\u001b[39m.\u001b[39mbest_hyperparameters \u001b[39mis\u001b[39;00m \u001b[39mnot\u001b[39;00m \u001b[39mNone\u001b[39;00m :\n\u001b[0;32m---> 50\u001b[0m     json\u001b[39m.\u001b[39;49mdump({\n\u001b[1;32m     51\u001b[0m         \u001b[39m'\u001b[39;49m\u001b[39mbest_hyperparameters\u001b[39;49m\u001b[39m'\u001b[39;49m: \u001b[39mself\u001b[39;49m\u001b[39m.\u001b[39;49mbest_hyperparameters\n\u001b[1;32m     52\u001b[0m     }, f)\n",
            "File \u001b[0;32m/usr/lib/python3.10/json/__init__.py:179\u001b[0m, in \u001b[0;36mdump\u001b[0;34m(obj, fp, skipkeys, ensure_ascii, check_circular, allow_nan, cls, indent, separators, default, sort_keys, **kw)\u001b[0m\n\u001b[1;32m    173\u001b[0m     iterable \u001b[39m=\u001b[39m \u001b[39mcls\u001b[39m(skipkeys\u001b[39m=\u001b[39mskipkeys, ensure_ascii\u001b[39m=\u001b[39mensure_ascii,\n\u001b[1;32m    174\u001b[0m         check_circular\u001b[39m=\u001b[39mcheck_circular, allow_nan\u001b[39m=\u001b[39mallow_nan, indent\u001b[39m=\u001b[39mindent,\n\u001b[1;32m    175\u001b[0m         separators\u001b[39m=\u001b[39mseparators,\n\u001b[1;32m    176\u001b[0m         default\u001b[39m=\u001b[39mdefault, sort_keys\u001b[39m=\u001b[39msort_keys, \u001b[39m*\u001b[39m\u001b[39m*\u001b[39mkw)\u001b[39m.\u001b[39miterencode(obj)\n\u001b[1;32m    177\u001b[0m \u001b[39m# could accelerate with writelines in some versions of Python, at\u001b[39;00m\n\u001b[1;32m    178\u001b[0m \u001b[39m# a debuggability cost\u001b[39;00m\n\u001b[0;32m--> 179\u001b[0m \u001b[39mfor\u001b[39;00m chunk \u001b[39min\u001b[39;00m iterable:\n\u001b[1;32m    180\u001b[0m     fp\u001b[39m.\u001b[39mwrite(chunk)\n",
            "File \u001b[0;32m/usr/lib/python3.10/json/encoder.py:431\u001b[0m, in \u001b[0;36m_make_iterencode.<locals>._iterencode\u001b[0;34m(o, _current_indent_level)\u001b[0m\n\u001b[1;32m    429\u001b[0m     \u001b[39myield from\u001b[39;00m _iterencode_list(o, _current_indent_level)\n\u001b[1;32m    430\u001b[0m \u001b[39melif\u001b[39;00m \u001b[39misinstance\u001b[39m(o, \u001b[39mdict\u001b[39m):\n\u001b[0;32m--> 431\u001b[0m     \u001b[39myield from\u001b[39;00m _iterencode_dict(o, _current_indent_level)\n\u001b[1;32m    432\u001b[0m \u001b[39melse\u001b[39;00m:\n\u001b[1;32m    433\u001b[0m     \u001b[39mif\u001b[39;00m markers \u001b[39mis\u001b[39;00m \u001b[39mnot\u001b[39;00m \u001b[39mNone\u001b[39;00m:\n",
            "File \u001b[0;32m/usr/lib/python3.10/json/encoder.py:405\u001b[0m, in \u001b[0;36m_make_iterencode.<locals>._iterencode_dict\u001b[0;34m(dct, _current_indent_level)\u001b[0m\n\u001b[1;32m    403\u001b[0m         \u001b[39melse\u001b[39;00m:\n\u001b[1;32m    404\u001b[0m             chunks \u001b[39m=\u001b[39m _iterencode(value, _current_indent_level)\n\u001b[0;32m--> 405\u001b[0m         \u001b[39myield from\u001b[39;00m chunks\n\u001b[1;32m    406\u001b[0m \u001b[39mif\u001b[39;00m newline_indent \u001b[39mis\u001b[39;00m \u001b[39mnot\u001b[39;00m \u001b[39mNone\u001b[39;00m:\n\u001b[1;32m    407\u001b[0m     _current_indent_level \u001b[39m-\u001b[39m\u001b[39m=\u001b[39m \u001b[39m1\u001b[39m\n",
            "File \u001b[0;32m/usr/lib/python3.10/json/encoder.py:438\u001b[0m, in \u001b[0;36m_make_iterencode.<locals>._iterencode\u001b[0;34m(o, _current_indent_level)\u001b[0m\n\u001b[1;32m    436\u001b[0m         \u001b[39mraise\u001b[39;00m \u001b[39mValueError\u001b[39;00m(\u001b[39m\"\u001b[39m\u001b[39mCircular reference detected\u001b[39m\u001b[39m\"\u001b[39m)\n\u001b[1;32m    437\u001b[0m     markers[markerid] \u001b[39m=\u001b[39m o\n\u001b[0;32m--> 438\u001b[0m o \u001b[39m=\u001b[39m _default(o)\n\u001b[1;32m    439\u001b[0m \u001b[39myield from\u001b[39;00m _iterencode(o, _current_indent_level)\n\u001b[1;32m    440\u001b[0m \u001b[39mif\u001b[39;00m markers \u001b[39mis\u001b[39;00m \u001b[39mnot\u001b[39;00m \u001b[39mNone\u001b[39;00m:\n",
            "File \u001b[0;32m/usr/lib/python3.10/json/encoder.py:179\u001b[0m, in \u001b[0;36mJSONEncoder.default\u001b[0;34m(self, o)\u001b[0m\n\u001b[1;32m    160\u001b[0m \u001b[39mdef\u001b[39;00m \u001b[39mdefault\u001b[39m(\u001b[39mself\u001b[39m, o):\n\u001b[1;32m    161\u001b[0m \u001b[39m    \u001b[39m\u001b[39m\"\"\"Implement this method in a subclass such that it returns\u001b[39;00m\n\u001b[1;32m    162\u001b[0m \u001b[39m    a serializable object for ``o``, or calls the base implementation\u001b[39;00m\n\u001b[1;32m    163\u001b[0m \u001b[39m    (to raise a ``TypeError``).\u001b[39;00m\n\u001b[0;32m   (...)\u001b[0m\n\u001b[1;32m    177\u001b[0m \n\u001b[1;32m    178\u001b[0m \u001b[39m    \"\"\"\u001b[39;00m\n\u001b[0;32m--> 179\u001b[0m     \u001b[39mraise\u001b[39;00m \u001b[39mTypeError\u001b[39;00m(\u001b[39mf\u001b[39m\u001b[39m'\u001b[39m\u001b[39mObject of type \u001b[39m\u001b[39m{\u001b[39;00mo\u001b[39m.\u001b[39m\u001b[39m__class__\u001b[39m\u001b[39m.\u001b[39m\u001b[39m__name__\u001b[39m\u001b[39m}\u001b[39;00m\u001b[39m \u001b[39m\u001b[39m'\u001b[39m\n\u001b[1;32m    180\u001b[0m                     \u001b[39mf\u001b[39m\u001b[39m'\u001b[39m\u001b[39mis not JSON serializable\u001b[39m\u001b[39m'\u001b[39m)\n",
            "\u001b[0;31mTypeError\u001b[0m: Object of type HyperParameters is not JSON serializable"
          ]
        },
        {
          "ename": "",
          "evalue": "",
          "output_type": "error",
          "traceback": [
            "\u001b[1;31mThe Kernel crashed while executing code in the the current cell or a previous cell. Please review the code in the cell(s) to identify a possible cause of the failure. Click <a href='https://aka.ms/vscodeJupyterKernelCrash'>here</a> for more info. View Jupyter <a href='command:jupyter.viewOutput'>log</a> for further details."
          ]
        }
      ],
      "source": [
        "import datetime\n",
        "\n",
        "def save_model_to_dir(model, folder_name):\n",
        "    dir_path = os.path.join(MODEL_FOLDER, folder_name)\n",
        "    \n",
        "    if not os.path.exists(dir_path):\n",
        "        os.mkdir(dir_path)\n",
        "    \n",
        "    timestamp = datetime.datetime.now().strftime('%Y%m%d_%H%M%S')\n",
        "    model_name = timestamp + \"_\" + model.model_type\n",
        "    properties_name = model_name\n",
        "    \n",
        "    model.save(dir_path, model_name, properties_name)\n",
        "\n",
        "# List of models\n",
        "models = [kerasNLP_model]\n",
        "\n",
        "\n",
        "# Iterate over models and save\n",
        "for model in models:\n",
        "    save_model_to_dir(model, model.model_type)\n"
      ]
    },
    {
      "cell_type": "code",
      "execution_count": null,
      "metadata": {},
      "outputs": [
        {
          "data": {
            "text/plain": [
              "\"\\ndata = kerasNLP_model.load_data( 'predict' )\\ndata = kerasNLP_model.enhance_data( data, 'predict')\\nclean_data = kerasNLP_model.clean_data_for_prediction( data )\\n\\nX_predict, y_predict = kerasNLP_model.split_data( clean_data )\\ny_predict = kerasNLP_model.model.predict(X_predict)\\ndata['survival_prediction'] = y_predict\\nreturn data\\n\""
            ]
          },
          "execution_count": 57,
          "metadata": {},
          "output_type": "execute_result"
        }
      ],
      "source": [
        "\"\"\"\n",
        "data = kerasNLP_model.load_data( 'predict' )\n",
        "data = kerasNLP_model.enhance_data( data, 'predict')\n",
        "clean_data = kerasNLP_model.clean_data_for_prediction( data )\n",
        "\n",
        "X_predict, y_predict = kerasNLP_model.split_data( clean_data )\n",
        "y_predict = kerasNLP_model.model.predict(X_predict)\n",
        "data['survival_prediction'] = y_predict\n",
        "return data\n",
        "\"\"\"\n"
      ]
    },
    {
      "cell_type": "code",
      "execution_count": null,
      "metadata": {},
      "outputs": [
        {
          "ename": "",
          "evalue": "",
          "output_type": "error",
          "traceback": [
            "\u001b[1;31mThe Kernel crashed while executing code in the the current cell or a previous cell. Please review the code in the cell(s) to identify a possible cause of the failure. Click <a href='https://aka.ms/vscodeJupyterKernelCrash'>here</a> for more info. View Jupyter <a href='command:jupyter.viewOutput'>log</a> for further details."
          ]
        }
      ],
      "source": [
        "\n",
        "import datetime\n",
        "\n",
        "def save_model_to_dir(model, folder_name):\n",
        "    dir_path = os.path.join(MODEL_FOLDER, folder_name)\n",
        "    \n",
        "    if not os.path.exists(dir_path):\n",
        "        os.mkdir(dir_path)\n",
        "    \n",
        "    timestamp = datetime.datetime.now().strftime('%Y%m%d_%H%M%S')\n",
        "    model_name = timestamp + \"_\" + model.model_type\n",
        "    properties_name = model_name\n",
        "    \n",
        "    model.save(dir_path, model_name, properties_name)\n",
        "\n",
        "# List of models\n",
        "models = [kerasNLP_model]\n",
        "\n",
        "\n",
        "# Iterate over models and save\n",
        "for model in models:\n",
        "    save_model_to_dir(model, model.model_type)\n",
        "\n"
      ]
    },
    {
      "cell_type": "code",
      "execution_count": null,
      "metadata": {},
      "outputs": [],
      "source": []
    }
  ],
  "metadata": {
    "colab": {
      "provenance": []
    },
    "kernelspec": {
      "display_name": "Python 3 (ipykernel)",
      "language": "python",
      "name": "python3"
    },
    "language_info": {
      "codemirror_mode": {
        "name": "ipython",
        "version": 3
      },
      "file_extension": ".py",
      "mimetype": "text/x-python",
      "name": "python",
      "nbconvert_exporter": "python",
      "pygments_lexer": "ipython3",
      "version": "3.10.12"
    }
  },
  "nbformat": 4,
  "nbformat_minor": 0
}
