{
  "cells": [
    {
      "cell_type": "markdown",
      "metadata": {
        "id": "P1BXqsllgueC"
      },
      "source": [
        "#Boston 311 Tutorial\n",
        "\n",
        "This notebook will run you through the basic usage of this package to train 3 models on the Boston 311 mydata and use them to predict the outcome of cases from the last 30 days"
      ]
    },
    {
      "cell_type": "code",
      "execution_count": 1,
      "metadata": {},
      "outputs": [
        {
          "name": "stdout",
          "output_type": "stream",
          "text": [
            "Defaulting to user installation because normal site-packages is not writeable\n",
            "Processing /home/briarmoss/Documents/Boston_311\n",
            "  Installing build dependencies ... \u001b[?25ldone\n",
            "\u001b[?25h  Getting requirements to build wheel ... \u001b[?25ldone\n",
            "\u001b[?25h  Preparing metadata (pyproject.toml) ... \u001b[?25ldone\n",
            "\u001b[?25hRequirement already satisfied: scikit-learn in /home/briarmoss/.local/lib/python3.10/site-packages (from boston311==0.1.0) (1.2.2)\n",
            "Requirement already satisfied: pandas in /home/briarmoss/.local/lib/python3.10/site-packages (from boston311==0.1.0) (2.0.2)\n",
            "Requirement already satisfied: tensorflow in /home/briarmoss/.local/lib/python3.10/site-packages (from boston311==0.1.0) (2.13.0)\n",
            "Requirement already satisfied: matplotlib in /usr/lib/python3/dist-packages (from boston311==0.1.0) (3.5.1)\n",
            "Requirement already satisfied: numpy in /home/briarmoss/.local/lib/python3.10/site-packages (from boston311==0.1.0) (1.23.5)\n",
            "Requirement already satisfied: pytz>=2020.1 in /usr/lib/python3/dist-packages (from pandas->boston311==0.1.0) (2022.1)\n",
            "Requirement already satisfied: tzdata>=2022.1 in /home/briarmoss/.local/lib/python3.10/site-packages (from pandas->boston311==0.1.0) (2023.3)\n",
            "Requirement already satisfied: python-dateutil>=2.8.2 in /home/briarmoss/.local/lib/python3.10/site-packages (from pandas->boston311==0.1.0) (2.8.2)\n",
            "Requirement already satisfied: scipy>=1.3.2 in /home/briarmoss/.local/lib/python3.10/site-packages (from scikit-learn->boston311==0.1.0) (1.10.1)\n",
            "Requirement already satisfied: threadpoolctl>=2.0.0 in /home/briarmoss/.local/lib/python3.10/site-packages (from scikit-learn->boston311==0.1.0) (3.1.0)\n",
            "Requirement already satisfied: joblib>=1.1.1 in /home/briarmoss/.local/lib/python3.10/site-packages (from scikit-learn->boston311==0.1.0) (1.2.0)\n",
            "Requirement already satisfied: typing-extensions<4.6.0,>=3.6.6 in /home/briarmoss/.local/lib/python3.10/site-packages (from tensorflow->boston311==0.1.0) (4.5.0)\n",
            "Requirement already satisfied: tensorflow-estimator<2.14,>=2.13.0 in /home/briarmoss/.local/lib/python3.10/site-packages (from tensorflow->boston311==0.1.0) (2.13.0)\n",
            "Requirement already satisfied: termcolor>=1.1.0 in /home/briarmoss/.local/lib/python3.10/site-packages (from tensorflow->boston311==0.1.0) (2.3.0)\n",
            "Requirement already satisfied: setuptools in /usr/lib/python3/dist-packages (from tensorflow->boston311==0.1.0) (59.6.0)\n",
            "Requirement already satisfied: google-pasta>=0.1.1 in /home/briarmoss/.local/lib/python3.10/site-packages (from tensorflow->boston311==0.1.0) (0.2.0)\n",
            "Requirement already satisfied: keras<2.14,>=2.13.1 in /home/briarmoss/.local/lib/python3.10/site-packages (from tensorflow->boston311==0.1.0) (2.13.1)\n",
            "Requirement already satisfied: packaging in /home/briarmoss/.local/lib/python3.10/site-packages (from tensorflow->boston311==0.1.0) (23.1)\n",
            "Requirement already satisfied: tensorboard<2.14,>=2.13 in /home/briarmoss/.local/lib/python3.10/site-packages (from tensorflow->boston311==0.1.0) (2.13.0)\n",
            "Requirement already satisfied: wrapt>=1.11.0 in /home/briarmoss/.local/lib/python3.10/site-packages (from tensorflow->boston311==0.1.0) (1.14.1)\n",
            "Requirement already satisfied: absl-py>=1.0.0 in /home/briarmoss/.local/lib/python3.10/site-packages (from tensorflow->boston311==0.1.0) (1.4.0)\n",
            "Requirement already satisfied: grpcio<2.0,>=1.24.3 in /home/briarmoss/.local/lib/python3.10/site-packages (from tensorflow->boston311==0.1.0) (1.54.2)\n",
            "Requirement already satisfied: gast<=0.4.0,>=0.2.1 in /home/briarmoss/.local/lib/python3.10/site-packages (from tensorflow->boston311==0.1.0) (0.4.0)\n",
            "Requirement already satisfied: opt-einsum>=2.3.2 in /home/briarmoss/.local/lib/python3.10/site-packages (from tensorflow->boston311==0.1.0) (3.3.0)\n",
            "Requirement already satisfied: tensorflow-io-gcs-filesystem>=0.23.1 in /home/briarmoss/.local/lib/python3.10/site-packages (from tensorflow->boston311==0.1.0) (0.32.0)\n",
            "Requirement already satisfied: libclang>=13.0.0 in /home/briarmoss/.local/lib/python3.10/site-packages (from tensorflow->boston311==0.1.0) (16.0.0)\n",
            "Requirement already satisfied: astunparse>=1.6.0 in /home/briarmoss/.local/lib/python3.10/site-packages (from tensorflow->boston311==0.1.0) (1.6.3)\n",
            "Requirement already satisfied: flatbuffers>=23.1.21 in /home/briarmoss/.local/lib/python3.10/site-packages (from tensorflow->boston311==0.1.0) (23.5.26)\n",
            "Requirement already satisfied: protobuf!=4.21.0,!=4.21.1,!=4.21.2,!=4.21.3,!=4.21.4,!=4.21.5,<5.0.0dev,>=3.20.3 in /home/briarmoss/.local/lib/python3.10/site-packages (from tensorflow->boston311==0.1.0) (4.23.3)\n",
            "Requirement already satisfied: six>=1.12.0 in /usr/lib/python3/dist-packages (from tensorflow->boston311==0.1.0) (1.16.0)\n",
            "Requirement already satisfied: h5py>=2.9.0 in /home/briarmoss/.local/lib/python3.10/site-packages (from tensorflow->boston311==0.1.0) (3.8.0)\n",
            "Requirement already satisfied: wheel<1.0,>=0.23.0 in /usr/lib/python3/dist-packages (from astunparse>=1.6.0->tensorflow->boston311==0.1.0) (0.37.1)\n",
            "Requirement already satisfied: markdown>=2.6.8 in /home/briarmoss/.local/lib/python3.10/site-packages (from tensorboard<2.14,>=2.13->tensorflow->boston311==0.1.0) (3.4.3)\n",
            "Requirement already satisfied: requests<3,>=2.21.0 in /usr/lib/python3/dist-packages (from tensorboard<2.14,>=2.13->tensorflow->boston311==0.1.0) (2.25.1)\n",
            "Requirement already satisfied: werkzeug>=1.0.1 in /home/briarmoss/.local/lib/python3.10/site-packages (from tensorboard<2.14,>=2.13->tensorflow->boston311==0.1.0) (2.3.6)\n",
            "Requirement already satisfied: google-auth-oauthlib<1.1,>=0.5 in /home/briarmoss/.local/lib/python3.10/site-packages (from tensorboard<2.14,>=2.13->tensorflow->boston311==0.1.0) (1.0.0)\n",
            "Requirement already satisfied: tensorboard-data-server<0.8.0,>=0.7.0 in /home/briarmoss/.local/lib/python3.10/site-packages (from tensorboard<2.14,>=2.13->tensorflow->boston311==0.1.0) (0.7.1)\n",
            "Requirement already satisfied: google-auth<3,>=1.6.3 in /home/briarmoss/.local/lib/python3.10/site-packages (from tensorboard<2.14,>=2.13->tensorflow->boston311==0.1.0) (2.20.0)\n",
            "Requirement already satisfied: pyasn1-modules>=0.2.1 in /home/briarmoss/.local/lib/python3.10/site-packages (from google-auth<3,>=1.6.3->tensorboard<2.14,>=2.13->tensorflow->boston311==0.1.0) (0.3.0)\n",
            "Requirement already satisfied: urllib3<2.0 in /usr/lib/python3/dist-packages (from google-auth<3,>=1.6.3->tensorboard<2.14,>=2.13->tensorflow->boston311==0.1.0) (1.26.5)\n",
            "Requirement already satisfied: cachetools<6.0,>=2.0.0 in /home/briarmoss/.local/lib/python3.10/site-packages (from google-auth<3,>=1.6.3->tensorboard<2.14,>=2.13->tensorflow->boston311==0.1.0) (5.3.1)\n",
            "Requirement already satisfied: rsa<5,>=3.1.4 in /home/briarmoss/.local/lib/python3.10/site-packages (from google-auth<3,>=1.6.3->tensorboard<2.14,>=2.13->tensorflow->boston311==0.1.0) (4.9)\n",
            "Requirement already satisfied: requests-oauthlib>=0.7.0 in /home/briarmoss/.local/lib/python3.10/site-packages (from google-auth-oauthlib<1.1,>=0.5->tensorboard<2.14,>=2.13->tensorflow->boston311==0.1.0) (1.3.1)\n",
            "Requirement already satisfied: MarkupSafe>=2.1.1 in /home/briarmoss/.local/lib/python3.10/site-packages (from werkzeug>=1.0.1->tensorboard<2.14,>=2.13->tensorflow->boston311==0.1.0) (2.1.3)\n",
            "Requirement already satisfied: pyasn1<0.6.0,>=0.4.6 in /home/briarmoss/.local/lib/python3.10/site-packages (from pyasn1-modules>=0.2.1->google-auth<3,>=1.6.3->tensorboard<2.14,>=2.13->tensorflow->boston311==0.1.0) (0.5.0)\n",
            "Requirement already satisfied: oauthlib>=3.0.0 in /usr/lib/python3/dist-packages (from requests-oauthlib>=0.7.0->google-auth-oauthlib<1.1,>=0.5->tensorboard<2.14,>=2.13->tensorflow->boston311==0.1.0) (3.2.0)\n",
            "Building wheels for collected packages: boston311\n",
            "  Building wheel for boston311 (pyproject.toml) ... \u001b[?25ldone\n",
            "\u001b[?25h  Created wheel for boston311: filename=boston311-0.1.0-py3-none-any.whl size=17777 sha256=aaf1e4d059259b9ba100e6fd6010441f67f36efff16dbff5f4ac55d578179c5d\n",
            "  Stored in directory: /tmp/pip-ephem-wheel-cache-y42bkv1e/wheels/3d/69/ee/0a6ac96b9c09c948fc0e74f2724a9703aa39749a41fa757c9e\n",
            "Successfully built boston311\n",
            "Installing collected packages: boston311\n",
            "  Attempting uninstall: boston311\n",
            "    Found existing installation: boston311 0.1.0\n",
            "    Uninstalling boston311-0.1.0:\n",
            "      Successfully uninstalled boston311-0.1.0\n",
            "Successfully installed boston311-0.1.0\n"
          ]
        }
      ],
      "source": [
        "! pip install ../"
      ]
    },
    {
      "cell_type": "markdown",
      "metadata": {
        "id": "XP7Hzen_iEAl"
      },
      "source": [
        "##Import the Boston311Model class"
      ]
    },
    {
      "cell_type": "code",
      "execution_count": 2,
      "metadata": {},
      "outputs": [],
      "source": [
        "import os\n",
        "import pandas as pd"
      ]
    },
    {
      "cell_type": "code",
      "execution_count": 3,
      "metadata": {
        "id": "LdhJESm7eWaY"
      },
      "outputs": [
        {
          "name": "stderr",
          "output_type": "stream",
          "text": [
            "2023-09-23 18:25:57.769524: I tensorflow/tsl/cuda/cudart_stub.cc:28] Could not find cuda drivers on your machine, GPU will not be used.\n",
            "2023-09-23 18:25:57.803753: I tensorflow/tsl/cuda/cudart_stub.cc:28] Could not find cuda drivers on your machine, GPU will not be used.\n",
            "2023-09-23 18:25:57.804464: I tensorflow/core/platform/cpu_feature_guard.cc:182] This TensorFlow binary is optimized to use available CPU instructions in performance-critical operations.\n",
            "To enable the following instructions: AVX2 FMA, in other operations, rebuild TensorFlow with the appropriate compiler flags.\n",
            "2023-09-23 18:25:58.290246: W tensorflow/compiler/tf2tensorrt/utils/py_utils.cc:38] TF-TRT Warning: Could not find TensorRT\n"
          ]
        }
      ],
      "source": [
        "from boston311 import Boston311LogReg, Boston311EventDecTree, Boston311SurvDecTree, Boston311KerasNLP\n"
      ]
    },
    {
      "cell_type": "markdown",
      "metadata": {
        "id": "oq06XnVjPxvg"
      },
      "source": [
        "## Get latest file URLS and Current Date Ranges"
      ]
    },
    {
      "cell_type": "code",
      "execution_count": 4,
      "metadata": {
        "id": "_2FYkUb2P1LR"
      },
      "outputs": [],
      "source": [
        "latest_URLS = Boston311LogReg.get311URLs()"
      ]
    },
    {
      "cell_type": "code",
      "execution_count": 5,
      "metadata": {
        "colab": {
          "base_uri": "https://localhost:8080/"
        },
        "id": "Mpg9Czm3QDpu",
        "outputId": "5e2b399b-0999-45d4-f9f9-d80ec19941ff"
      },
      "outputs": [
        {
          "name": "stdout",
          "output_type": "stream",
          "text": [
            "{'2023': 'https://data.boston.gov/dataset/8048697b-ad64-4bfc-b090-ee00169f2323/resource/e6013a93-1321-4f2a-bf91-8d8a02f1e62f/download/tmpn3l7dphs.csv', '2022': 'https://data.boston.gov/dataset/8048697b-ad64-4bfc-b090-ee00169f2323/resource/81a7b022-f8fc-4da5-80e4-b160058ca207/download/tmpfm8veglw.csv', '2021': 'https://data.boston.gov/dataset/8048697b-ad64-4bfc-b090-ee00169f2323/resource/f53ebccd-bc61-49f9-83db-625f209c95f5/download/tmp88p9g82n.csv', '2020': 'https://data.boston.gov/dataset/8048697b-ad64-4bfc-b090-ee00169f2323/resource/6ff6a6fd-3141-4440-a880-6f60a37fe789/download/tmpcv_10m2s.csv', '2019': 'https://data.boston.gov/dataset/8048697b-ad64-4bfc-b090-ee00169f2323/resource/ea2e4696-4a2d-429c-9807-d02eb92e0222/download/tmpcje3ep_w.csv', '2018': 'https://data.boston.gov/dataset/8048697b-ad64-4bfc-b090-ee00169f2323/resource/2be28d90-3a90-4af1-a3f6-f28c1e25880a/download/tmp7602cia8.csv', '2017': 'https://data.boston.gov/dataset/8048697b-ad64-4bfc-b090-ee00169f2323/resource/30022137-709d-465e-baae-ca155b51927d/download/tmpzccn8u4q.csv', '2016': 'https://data.boston.gov/dataset/8048697b-ad64-4bfc-b090-ee00169f2323/resource/b7ea6b1b-3ca4-4c5b-9713-6dc1db52379a/download/tmpzxzxeqfb.csv', '2015': 'https://data.boston.gov/dataset/8048697b-ad64-4bfc-b090-ee00169f2323/resource/c9509ab4-6f6d-4b97-979a-0cf2a10c922b/download/tmphrybkxuh.csv', '2014': 'https://data.boston.gov/dataset/8048697b-ad64-4bfc-b090-ee00169f2323/resource/bdae89c8-d4ce-40e9-a6e1-a5203953a2e0/download/tmp8afxvko_.csv', '2013': 'https://data.boston.gov/dataset/8048697b-ad64-4bfc-b090-ee00169f2323/resource/407c5cd0-f764-4a41-adf8-054ff535049e/download/tmpyzk_wmya.csv', '2012': 'https://data.boston.gov/dataset/8048697b-ad64-4bfc-b090-ee00169f2323/resource/382e10d9-1864-40ba-bef6-4eea3c75463c/download/tmpeyvgdt5u.csv', '2011': 'https://data.boston.gov/dataset/8048697b-ad64-4bfc-b090-ee00169f2323/resource/94b499d9-712a-4d2a-b790-7ceec5c9c4b1/download/tmp_9ogynu0.csv'}\n"
          ]
        }
      ],
      "source": [
        "print(latest_URLS)"
      ]
    },
    {
      "cell_type": "code",
      "execution_count": 6,
      "metadata": {
        "colab": {
          "base_uri": "https://localhost:8080/"
        },
        "id": "uUMCPAELR9h7",
        "outputId": "05fcba64-1b74-4fb7-a52c-d3f8a499bcc6"
      },
      "outputs": [
        {
          "name": "stdout",
          "output_type": "stream",
          "text": [
            "2023-09-23 2023-08-24 2023-09-24\n"
          ]
        }
      ],
      "source": [
        "from datetime import datetime, timedelta\n",
        "now = datetime.now()\n",
        "thirty_days = timedelta(days=30)\n",
        "thirty_days_ago = now - thirty_days\n",
        "today_datestring = now.strftime(\"%Y-%m-%d\")\n",
        "thirty_days_ago_datestring = thirty_days_ago.strftime(\"%Y-%m-%d\")\n",
        "tomorrow_datestring = (datetime.today() + timedelta(days=1)).strftime('%Y-%m-%d')\n",
        "\n",
        "print(today_datestring, thirty_days_ago_datestring, tomorrow_datestring)"
      ]
    },
    {
      "cell_type": "code",
      "execution_count": 7,
      "metadata": {},
      "outputs": [],
      "source": [
        "#set model folder constant\n",
        "MODEL_FOLDER = './daily_models'"
      ]
    },
    {
      "cell_type": "markdown",
      "metadata": {},
      "source": [
        "## Load extra features"
      ]
    },
    {
      "cell_type": "code",
      "execution_count": 9,
      "metadata": {},
      "outputs": [],
      "source": [
        "#set path to mydata\n",
        "EXTRA_mydata_FILE = './cls_and_pooled_embeddings_with_service_id.csv'\n"
      ]
    },
    {
      "cell_type": "markdown",
      "metadata": {
        "id": "NN_UiAIvb9MT"
      },
      "source": [
        "##Define several models"
      ]
    },
    {
      "cell_type": "code",
      "execution_count": 10,
      "metadata": {
        "id": "nmi4jJgDF4Fv"
      },
      "outputs": [],
      "source": [
        "linear_tree_model = Boston311SurvDecTree(train_date_range={'start':'2022-01-01','end':thirty_days_ago_datestring},\n",
        "                            predict_date_range={'start':thirty_days_ago_datestring,'end':today_datestring},\n",
        "                            feature_columns=['type','queue'],\n",
        "                            scenario={'dropColumnValues': {'source':['City Worker App', 'Employee Generated']},\n",
        "                                      'survivalTimeMin':0,\n",
        "                                      'survivalTimeFill':tomorrow_datestring},\n",
        "                            files_dict=latest_URLS)"
      ]
    },
    {
      "cell_type": "code",
      "execution_count": 11,
      "metadata": {
        "id": "GGSlYgH6s54c"
      },
      "outputs": [],
      "source": [
        "logistic_model = Boston311LogReg(train_date_range={'start':'2022-01-01','end':thirty_days_ago_datestring},\n",
        "                            predict_date_range={'start':thirty_days_ago_datestring,'end':today_datestring},\n",
        "                            feature_columns=['type', 'queue'],\n",
        "                            scenario={'dropColumnValues': {'source':['City Worker App', 'Employee Generated']},\n",
        "                                      'survivalTimeMin':0},\n",
        "                            files_dict=latest_URLS,\n",
        "                            add_columns=extra_mydata)"
      ]
    },
    {
      "cell_type": "code",
      "execution_count": 12,
      "metadata": {},
      "outputs": [],
      "source": [
        "oldlogistic_model = Boston311LogReg(train_date_range={'start':'2022-01-01','end':thirty_days_ago_datestring},\n",
        "                            predict_date_range={'start':thirty_days_ago_datestring,'end':today_datestring},\n",
        "                            feature_columns=['type', 'queue'],\n",
        "                            scenario={'dropColumnValues': {'source':['City Worker App', 'Employee Generated']},\n",
        "                                      'survivalTimeMin':0},\n",
        "                            files_dict=latest_URLS)"
      ]
    },
    {
      "cell_type": "code",
      "execution_count": 13,
      "metadata": {
        "id": "_Ddtw6t8s5rj"
      },
      "outputs": [],
      "source": [
        "logistic_tree_model = Boston311EventDecTree(train_date_range={'start':'2022-01-01','end':thirty_days_ago_datestring},\n",
        "                            predict_date_range={'start':thirty_days_ago_datestring,'end':today_datestring},\n",
        "                            feature_columns=['type', 'queue'],\n",
        "                            scenario={'dropColumnValues': {'source':['City Worker App', 'Employee Generated']},\n",
        "                                      'survivalTimeMin':0},\n",
        "                            files_dict=latest_URLS)"
      ]
    },
    {
      "cell_type": "code",
      "execution_count": 77,
      "metadata": {},
      "outputs": [],
      "source": [
        "kerasNLP_model = Boston311KerasNLP(train_date_range={'start':'2022-01-01','end':thirty_days_ago_datestring},\n",
        "                            predict_date_range={'start':thirty_days_ago_datestring,'end':today_datestring},\n",
        "                            feature_columns=['type', 'queue', 'source', 'subject', 'reason', 'department', 'ward_number'],\n",
        "                            scenario={'dropColumnValues': {'source':['City Worker App', 'Employee Generated']},\n",
        "                                      'survivalTimeMin':0,\n",
        "                                      'survivalTimeFill':tomorrow_datestring},\n",
        "                            files_dict=latest_URLS)"
      ]
    },
    {
      "cell_type": "code",
      "execution_count": 78,
      "metadata": {},
      "outputs": [],
      "source": [
        "#get current datetime in Boston timezone as string\n",
        "from datetime import datetime\n",
        "from pytz import timezone\n",
        "import pytz\n",
        "boston = timezone('US/Eastern')\n",
        "now = datetime.now(boston)\n",
        "today_datestring = now.strftime(\"%Y-%m-%d\")\n",
        "#get time in Boston timezone as string for a filename\n",
        "now = datetime.now(boston)\n",
        "time_string = now.strftime(\"%H-%M-%S\")\n",
        "#define datetime string\n",
        "my_datetime = today_datestring + '_' + time_string "
      ]
    },
    {
      "cell_type": "code",
      "execution_count": 79,
      "metadata": {},
      "outputs": [
        {
          "name": "stderr",
          "output_type": "stream",
          "text": [
            "/home/briarmoss/.local/lib/python3.10/site-packages/boston311/Boston311Model.py:259: DtypeWarning: Columns (13) have mixed types. Specify dtype option on import or set low_memory=False.\n",
            "  df = pd.read_csv(file)\n",
            "/home/briarmoss/.local/lib/python3.10/site-packages/boston311/Boston311Model.py:259: DtypeWarning: Columns (13) have mixed types. Specify dtype option on import or set low_memory=False.\n",
            "  df = pd.read_csv(file)\n"
          ]
        },
        {
          "name": "stdout",
          "output_type": "stream",
          "text": [
            "Files with different number of columns from File 0:  []\n",
            "Files with same number of columns as File 0:  [0, 1]\n",
            "Files with different column order from File 0:  []\n",
            "Files with same column order as File 0:  [0, 1]\n"
          ]
        }
      ],
      "source": [
        "mydata = kerasNLP_model.load_data()\n",
        "\n"
      ]
    },
    {
      "cell_type": "code",
      "execution_count": 80,
      "metadata": {},
      "outputs": [
        {
          "data": {
            "text/plain": [
              "0         101004113346\n",
              "1         101004113347\n",
              "2         101004113348\n",
              "3         101004113349\n",
              "4         101004113351\n",
              "              ...     \n",
              "475098    101005010786\n",
              "475099    101005010788\n",
              "475100    101005010789\n",
              "475101    101005010790\n",
              "475102    101005010791\n",
              "Name: case_enquiry_id, Length: 475103, dtype: int64"
            ]
          },
          "execution_count": 80,
          "metadata": {},
          "output_type": "execute_result"
        }
      ],
      "source": [
        "mydata['case_enquiry_id']"
      ]
    },
    {
      "cell_type": "code",
      "execution_count": 81,
      "metadata": {},
      "outputs": [],
      "source": [
        "mydata = kerasNLP_model.enhance_data(mydata)\n"
      ]
    },
    {
      "cell_type": "code",
      "execution_count": 82,
      "metadata": {},
      "outputs": [],
      "source": [
        "mydata = kerasNLP_model.apply_scenario(mydata)\n"
      ]
    },
    {
      "cell_type": "code",
      "execution_count": 83,
      "metadata": {},
      "outputs": [],
      "source": [
        "\n",
        "mydata = kerasNLP_model.clean_data(mydata)"
      ]
    },
    {
      "cell_type": "code",
      "execution_count": 84,
      "metadata": {},
      "outputs": [
        {
          "name": "stdout",
          "output_type": "stream",
          "text": [
            "0         101004113346\n",
            "1         101004113347\n",
            "2         101004113348\n",
            "3         101004113349\n",
            "4         101004113351\n",
            "              ...     \n",
            "475098    101005010786\n",
            "475099    101005010788\n",
            "475100    101005010789\n",
            "475101    101005010790\n",
            "475102    101005010791\n",
            "Name: case_enquiry_id, Length: 422510, dtype: int64\n"
          ]
        }
      ],
      "source": [
        "print(mydata['case_enquiry_id'])"
      ]
    },
    {
      "cell_type": "code",
      "execution_count": 85,
      "metadata": {},
      "outputs": [
        {
          "name": "stderr",
          "output_type": "stream",
          "text": [
            "/tmp/ipykernel_314356/1570977766.py:6: DtypeWarning: Columns (0) have mixed types. Specify dtype option on import or set low_memory=False.\n",
            "  X = pd.read_csv(EXTRA_mydata_FILE)\n"
          ]
        }
      ],
      "source": [
        "import pandas as pd\n",
        "import numpy as np\n",
        "from ast import literal_eval\n",
        "\n",
        "\n",
        "X = pd.read_csv(EXTRA_mydata_FILE)\n",
        "\n",
        "#rename service_request_id to case_enquiry_id\n",
        "X.rename(columns={'service_request_id':'case_enquiry_id'}, inplace=True)\n",
        "#remove all rows where case_enquiry_id is non-numeric\n",
        "#X = X[X['case_enquiry_id'].str.isnumeric()]\n",
        "#convert case_enquiry_id to int64\n",
        "#X['case_enquiry_id'] = X['case_enquiry_id'].astype('int64')\n",
        "\n",
        "# Convert stringified arrays back to NumPy arrays\n",
        "X['cls_embedding'] = X['cls_embedding'].apply(literal_eval).apply(np.array)\n",
        "X['pooled_embedding'] = X['pooled_embedding'].apply(literal_eval).apply(np.array)\n"
      ]
    },
    {
      "cell_type": "code",
      "execution_count": 86,
      "metadata": {},
      "outputs": [
        {
          "data": {
            "text/plain": [
              "(275503, 3)"
            ]
          },
          "execution_count": 86,
          "metadata": {},
          "output_type": "execute_result"
        }
      ],
      "source": [
        "X.shape"
      ]
    },
    {
      "cell_type": "code",
      "execution_count": 87,
      "metadata": {},
      "outputs": [],
      "source": [
        "df = X\n",
        "# Assuming df is your DataFrame and it has columns 'cls_embedding' and 'pooled_embedding'\n",
        "cls_embedding_flattened = np.stack(df['cls_embedding'].to_numpy())\n",
        "pooled_embedding_flattened = np.stack(df['pooled_embedding'].to_numpy())\n",
        "\n",
        "# Remove the old columns\n",
        "df.drop(['cls_embedding', 'pooled_embedding'], axis=1, inplace=True)\n",
        "\n",
        "# Add the new flattened columns\n",
        "df_cls = pd.DataFrame(cls_embedding_flattened, columns=[f'cls_{i}' for i in range(cls_embedding_flattened.shape[1])])\n",
        "df_pooled = pd.DataFrame(pooled_embedding_flattened, columns=[f'pooled_{i}' for i in range(pooled_embedding_flattened.shape[1])])\n",
        "\n",
        "df = pd.concat([df, df_cls, df_pooled], axis=1)\n",
        "X = df"
      ]
    },
    {
      "cell_type": "code",
      "execution_count": 88,
      "metadata": {},
      "outputs": [
        {
          "data": {
            "text/plain": [
              "0               101004615710\n",
              "1               101004615710\n",
              "2         service_request_id\n",
              "3               101004616099\n",
              "4               101004616098\n",
              "                 ...        \n",
              "275498          101005063009\n",
              "275499          101005062363\n",
              "275500          101005061781\n",
              "275501          101005063039\n",
              "275502          101005062077\n",
              "Name: case_enquiry_id, Length: 275503, dtype: object"
            ]
          },
          "execution_count": 88,
          "metadata": {},
          "output_type": "execute_result"
        }
      ],
      "source": [
        "X['case_enquiry_id']"
      ]
    },
    {
      "cell_type": "code",
      "execution_count": 89,
      "metadata": {},
      "outputs": [],
      "source": [
        "X['case_enquiry_id'] = X['case_enquiry_id'].astype(str)\n",
        "is_numeric = X['case_enquiry_id'].str.isnumeric()"
      ]
    },
    {
      "cell_type": "code",
      "execution_count": 90,
      "metadata": {},
      "outputs": [],
      "source": [
        "X = X[is_numeric]"
      ]
    },
    {
      "cell_type": "code",
      "execution_count": 91,
      "metadata": {},
      "outputs": [
        {
          "name": "stderr",
          "output_type": "stream",
          "text": [
            "/tmp/ipykernel_314356/2653176235.py:1: SettingWithCopyWarning: \n",
            "A value is trying to be set on a copy of a slice from a DataFrame.\n",
            "Try using .loc[row_indexer,col_indexer] = value instead\n",
            "\n",
            "See the caveats in the documentation: https://pandas.pydata.org/pandas-docs/stable/user_guide/indexing.html#returning-a-view-versus-a-copy\n",
            "  X['case_enquiry_id'] = X['case_enquiry_id'].astype('int64')\n"
          ]
        }
      ],
      "source": [
        "X['case_enquiry_id'] = X['case_enquiry_id'].astype('int64')"
      ]
    },
    {
      "cell_type": "code",
      "execution_count": 92,
      "metadata": {},
      "outputs": [
        {
          "data": {
            "text/plain": [
              "(275502, 257)"
            ]
          },
          "execution_count": 92,
          "metadata": {},
          "output_type": "execute_result"
        }
      ],
      "source": [
        "X.shape"
      ]
    },
    {
      "cell_type": "code",
      "execution_count": 93,
      "metadata": {},
      "outputs": [
        {
          "data": {
            "text/plain": [
              "(422510, 443)"
            ]
          },
          "execution_count": 93,
          "metadata": {},
          "output_type": "execute_result"
        }
      ],
      "source": [
        "mydata.shape"
      ]
    },
    {
      "cell_type": "code",
      "execution_count": 94,
      "metadata": {},
      "outputs": [],
      "source": [
        "#join them so we are left only with records that have mydata in both files\n",
        "new_mydata = mydata.merge(X, on='case_enquiry_id', how='inner')\n"
      ]
    },
    {
      "cell_type": "code",
      "execution_count": 95,
      "metadata": {},
      "outputs": [
        {
          "data": {
            "text/plain": [
              "(147671, 699)"
            ]
          },
          "execution_count": 95,
          "metadata": {},
          "output_type": "execute_result"
        }
      ],
      "source": [
        "new_mydata.shape"
      ]
    },
    {
      "cell_type": "code",
      "execution_count": 96,
      "metadata": {},
      "outputs": [],
      "source": [
        "\n",
        "X, y = kerasNLP_model.split_data(new_mydata)"
      ]
    },
    {
      "cell_type": "code",
      "execution_count": 97,
      "metadata": {},
      "outputs": [],
      "source": [
        "#cast all columns that are type bool to float\n",
        "for col in X.columns:\n",
        "    if X[col].dtype == 'bool':\n",
        "        X[col] = X[col].astype('float64')"
      ]
    },
    {
      "cell_type": "code",
      "execution_count": 98,
      "metadata": {},
      "outputs": [
        {
          "name": "stdout",
          "output_type": "stream",
          "text": [
            "(147671, 696)\n",
            "(147671,)\n"
          ]
        }
      ],
      "source": [
        "#list the number of rows in X and y\n",
        "print(X.shape)\n",
        "print(y.shape)\n"
      ]
    },
    {
      "cell_type": "code",
      "execution_count": 99,
      "metadata": {},
      "outputs": [
        {
          "name": "stdout",
          "output_type": "stream",
          "text": [
            "Starting Training at 2023-09-23 19:32:57.154709\n"
          ]
        },
        {
          "name": "stderr",
          "output_type": "stream",
          "text": [
            "WARNING:absl:`lr` is deprecated in Keras optimizer, please use `learning_rate` or use the legacy optimizer, e.g.,tf.keras.optimizers.legacy.Adam.\n"
          ]
        },
        {
          "name": "stdout",
          "output_type": "stream",
          "text": [
            "Epoch 1/100\n"
          ]
        },
        {
          "name": "stderr",
          "output_type": "stream",
          "text": [
            "2023-09-23 19:32:58.103672: W tensorflow/tsl/framework/cpu_allocator_impl.cc:83] Allocation of 657781248 exceeds 10% of free system memory.\n"
          ]
        },
        {
          "name": "stdout",
          "output_type": "stream",
          "text": [
            "3692/3692 [==============================] - 4s 1ms/step - loss: 0.5974 - accuracy: 0.7732 - val_loss: 0.5515 - val_accuracy: 0.7924\n",
            "Epoch 2/100\n",
            "3692/3692 [==============================] - 4s 1ms/step - loss: 0.5126 - accuracy: 0.8064 - val_loss: 0.4967 - val_accuracy: 0.8098\n",
            "Epoch 3/100\n",
            "3692/3692 [==============================] - 4s 978us/step - loss: 0.4810 - accuracy: 0.8171 - val_loss: 0.4792 - val_accuracy: 0.8195\n",
            "Epoch 4/100\n",
            "3692/3692 [==============================] - 4s 970us/step - loss: 0.4620 - accuracy: 0.8242 - val_loss: 0.4586 - val_accuracy: 0.8274\n",
            "Epoch 5/100\n",
            "3692/3692 [==============================] - 4s 1ms/step - loss: 0.4478 - accuracy: 0.8288 - val_loss: 0.4562 - val_accuracy: 0.8280\n",
            "Epoch 6/100\n",
            "3692/3692 [==============================] - 4s 1ms/step - loss: 0.4384 - accuracy: 0.8319 - val_loss: 0.4486 - val_accuracy: 0.8287\n",
            "Epoch 7/100\n",
            "3692/3692 [==============================] - 4s 1ms/step - loss: 0.4308 - accuracy: 0.8338 - val_loss: 0.4332 - val_accuracy: 0.8341\n",
            "Epoch 8/100\n",
            "3692/3692 [==============================] - 4s 1ms/step - loss: 0.4244 - accuracy: 0.8362 - val_loss: 0.4423 - val_accuracy: 0.8297\n",
            "Epoch 9/100\n",
            "3692/3692 [==============================] - 4s 1ms/step - loss: 0.4198 - accuracy: 0.8376 - val_loss: 0.4317 - val_accuracy: 0.8345\n",
            "Epoch 10/100\n",
            "3692/3692 [==============================] - 4s 964us/step - loss: 0.4150 - accuracy: 0.8384 - val_loss: 0.4319 - val_accuracy: 0.8333\n",
            "Epoch 11/100\n",
            "3692/3692 [==============================] - 4s 1ms/step - loss: 0.4111 - accuracy: 0.8393 - val_loss: 0.4335 - val_accuracy: 0.8345\n",
            "Epoch 12/100\n",
            "3692/3692 [==============================] - 4s 980us/step - loss: 0.4065 - accuracy: 0.8409 - val_loss: 0.4512 - val_accuracy: 0.8290\n",
            "Epoch 13/100\n",
            "3692/3692 [==============================] - 4s 1ms/step - loss: 0.4031 - accuracy: 0.8411 - val_loss: 0.4368 - val_accuracy: 0.8322\n",
            "Epoch 14/100\n",
            "3692/3692 [==============================] - 4s 1ms/step - loss: 0.4002 - accuracy: 0.8417 - val_loss: 0.4355 - val_accuracy: 0.8372\n",
            "Epoch 15/100\n",
            "3692/3692 [==============================] - 4s 1ms/step - loss: 0.3982 - accuracy: 0.8435 - val_loss: 0.4270 - val_accuracy: 0.8326\n",
            "Epoch 16/100\n",
            "3692/3692 [==============================] - 4s 1ms/step - loss: 0.3956 - accuracy: 0.8425 - val_loss: 0.4343 - val_accuracy: 0.8322\n",
            "Epoch 17/100\n",
            "3692/3692 [==============================] - 4s 1ms/step - loss: 0.3930 - accuracy: 0.8440 - val_loss: 0.4269 - val_accuracy: 0.8381\n",
            "Epoch 18/100\n",
            "3692/3692 [==============================] - 4s 1ms/step - loss: 0.3909 - accuracy: 0.8447 - val_loss: 0.4269 - val_accuracy: 0.8348\n",
            "Epoch 19/100\n",
            "3692/3692 [==============================] - 4s 1ms/step - loss: 0.3888 - accuracy: 0.8453 - val_loss: 0.4289 - val_accuracy: 0.8354\n",
            "Epoch 20/100\n",
            "3692/3692 [==============================] - 4s 971us/step - loss: 0.3862 - accuracy: 0.8452 - val_loss: 0.4265 - val_accuracy: 0.8378\n",
            "Epoch 21/100\n",
            "3692/3692 [==============================] - 4s 1ms/step - loss: 0.3844 - accuracy: 0.8457 - val_loss: 0.4292 - val_accuracy: 0.8352\n",
            "Epoch 22/100\n",
            "3692/3692 [==============================] - 4s 1ms/step - loss: 0.3825 - accuracy: 0.8469 - val_loss: 0.4233 - val_accuracy: 0.8373\n",
            "Epoch 23/100\n",
            "3692/3692 [==============================] - 4s 1ms/step - loss: 0.3811 - accuracy: 0.8470 - val_loss: 0.4274 - val_accuracy: 0.8355\n",
            "Epoch 24/100\n",
            "3692/3692 [==============================] - 4s 1ms/step - loss: 0.3790 - accuracy: 0.8471 - val_loss: 0.4243 - val_accuracy: 0.8369\n",
            "Epoch 25/100\n",
            "3692/3692 [==============================] - 4s 995us/step - loss: 0.3775 - accuracy: 0.8477 - val_loss: 0.4236 - val_accuracy: 0.8363\n",
            "Epoch 26/100\n",
            "3692/3692 [==============================] - 4s 1ms/step - loss: 0.3760 - accuracy: 0.8474 - val_loss: 0.4301 - val_accuracy: 0.8369\n",
            "Epoch 27/100\n",
            "3692/3692 [==============================] - 4s 1ms/step - loss: 0.3748 - accuracy: 0.8488 - val_loss: 0.4253 - val_accuracy: 0.8354\n",
            "Epoch 28/100\n",
            "3692/3692 [==============================] - 4s 984us/step - loss: 0.3731 - accuracy: 0.8494 - val_loss: 0.4250 - val_accuracy: 0.8370\n",
            "Epoch 29/100\n",
            "3692/3692 [==============================] - 4s 968us/step - loss: 0.3717 - accuracy: 0.8492 - val_loss: 0.4277 - val_accuracy: 0.8376\n",
            "Epoch 30/100\n",
            "3692/3692 [==============================] - 4s 979us/step - loss: 0.3699 - accuracy: 0.8494 - val_loss: 0.4238 - val_accuracy: 0.8370\n",
            "Epoch 31/100\n",
            "3692/3692 [==============================] - 4s 1ms/step - loss: 0.3684 - accuracy: 0.8501 - val_loss: 0.4386 - val_accuracy: 0.8353\n",
            "Epoch 32/100\n",
            "3692/3692 [==============================] - 4s 1ms/step - loss: 0.3679 - accuracy: 0.8509 - val_loss: 0.4256 - val_accuracy: 0.8352\n",
            "Epoch 33/100\n",
            "3692/3692 [==============================] - 4s 989us/step - loss: 0.3665 - accuracy: 0.8504 - val_loss: 0.4296 - val_accuracy: 0.8362\n",
            "Epoch 34/100\n",
            "3692/3692 [==============================] - 4s 1ms/step - loss: 0.3649 - accuracy: 0.8504 - val_loss: 0.4390 - val_accuracy: 0.8343\n",
            "Epoch 35/100\n",
            "3692/3692 [==============================] - 4s 978us/step - loss: 0.3636 - accuracy: 0.8514 - val_loss: 0.4362 - val_accuracy: 0.8362\n",
            "Epoch 36/100\n",
            "3692/3692 [==============================] - 3s 946us/step - loss: 0.3625 - accuracy: 0.8521 - val_loss: 0.4319 - val_accuracy: 0.8364\n",
            "Epoch 37/100\n",
            "3692/3692 [==============================] - 4s 977us/step - loss: 0.3614 - accuracy: 0.8523 - val_loss: 0.4354 - val_accuracy: 0.8357\n",
            "Epoch 38/100\n",
            "3692/3692 [==============================] - 4s 1ms/step - loss: 0.3610 - accuracy: 0.8524 - val_loss: 0.4390 - val_accuracy: 0.8349\n",
            "Epoch 39/100\n",
            "3692/3692 [==============================] - 4s 1ms/step - loss: 0.3598 - accuracy: 0.8521 - val_loss: 0.4320 - val_accuracy: 0.8360\n",
            "Epoch 40/100\n",
            "3692/3692 [==============================] - 4s 1ms/step - loss: 0.3583 - accuracy: 0.8532 - val_loss: 0.4274 - val_accuracy: 0.8376\n",
            "Epoch 41/100\n",
            "3692/3692 [==============================] - 4s 1ms/step - loss: 0.3573 - accuracy: 0.8532 - val_loss: 0.4395 - val_accuracy: 0.8361\n",
            "Epoch 42/100\n",
            "3692/3692 [==============================] - 4s 1ms/step - loss: 0.3573 - accuracy: 0.8534 - val_loss: 0.4385 - val_accuracy: 0.8350\n",
            "Epoch 43/100\n",
            "3692/3692 [==============================] - 4s 1ms/step - loss: 0.3562 - accuracy: 0.8532 - val_loss: 0.4388 - val_accuracy: 0.8352\n",
            "Epoch 44/100\n",
            "3692/3692 [==============================] - 4s 990us/step - loss: 0.3553 - accuracy: 0.8539 - val_loss: 0.4326 - val_accuracy: 0.8348\n",
            "Epoch 45/100\n",
            "3692/3692 [==============================] - 4s 986us/step - loss: 0.3543 - accuracy: 0.8547 - val_loss: 0.4382 - val_accuracy: 0.8346\n",
            "Epoch 46/100\n",
            "3692/3692 [==============================] - 4s 1ms/step - loss: 0.3525 - accuracy: 0.8545 - val_loss: 0.4363 - val_accuracy: 0.8352\n",
            "Epoch 47/100\n",
            "3692/3692 [==============================] - 4s 953us/step - loss: 0.3518 - accuracy: 0.8554 - val_loss: 0.4376 - val_accuracy: 0.8380\n",
            "Epoch 48/100\n",
            "3692/3692 [==============================] - 4s 1ms/step - loss: 0.3518 - accuracy: 0.8551 - val_loss: 0.4362 - val_accuracy: 0.8342\n",
            "Epoch 49/100\n",
            "3692/3692 [==============================] - 4s 961us/step - loss: 0.3506 - accuracy: 0.8545 - val_loss: 0.4490 - val_accuracy: 0.8334\n",
            "Epoch 50/100\n",
            "3692/3692 [==============================] - 4s 980us/step - loss: 0.3493 - accuracy: 0.8556 - val_loss: 0.4363 - val_accuracy: 0.8379\n",
            "Epoch 51/100\n",
            "3692/3692 [==============================] - 4s 1ms/step - loss: 0.3502 - accuracy: 0.8547 - val_loss: 0.4311 - val_accuracy: 0.8366\n",
            "Epoch 52/100\n",
            "3692/3692 [==============================] - 4s 1ms/step - loss: 0.3483 - accuracy: 0.8561 - val_loss: 0.4309 - val_accuracy: 0.8374\n",
            "Epoch 53/100\n",
            "3692/3692 [==============================] - 4s 1ms/step - loss: 0.3475 - accuracy: 0.8564 - val_loss: 0.4425 - val_accuracy: 0.8324\n",
            "Epoch 54/100\n",
            "3692/3692 [==============================] - 4s 1ms/step - loss: 0.3474 - accuracy: 0.8566 - val_loss: 0.4366 - val_accuracy: 0.8371\n",
            "Epoch 55/100\n",
            "3692/3692 [==============================] - 4s 1ms/step - loss: 0.3461 - accuracy: 0.8572 - val_loss: 0.4506 - val_accuracy: 0.8373\n",
            "Epoch 56/100\n",
            "3692/3692 [==============================] - 4s 1ms/step - loss: 0.3458 - accuracy: 0.8567 - val_loss: 0.4431 - val_accuracy: 0.8362\n",
            "Epoch 57/100\n",
            "3692/3692 [==============================] - 4s 1ms/step - loss: 0.3451 - accuracy: 0.8574 - val_loss: 0.4384 - val_accuracy: 0.8365\n",
            "Epoch 58/100\n",
            "3692/3692 [==============================] - 4s 1ms/step - loss: 0.3445 - accuracy: 0.8573 - val_loss: 0.4529 - val_accuracy: 0.8346\n",
            "Epoch 59/100\n",
            "3692/3692 [==============================] - 4s 1ms/step - loss: 0.3431 - accuracy: 0.8575 - val_loss: 0.4434 - val_accuracy: 0.8362\n",
            "Epoch 60/100\n",
            "3692/3692 [==============================] - 4s 1ms/step - loss: 0.3427 - accuracy: 0.8576 - val_loss: 0.4441 - val_accuracy: 0.8379\n",
            "Epoch 61/100\n",
            "3692/3692 [==============================] - 4s 1ms/step - loss: 0.3419 - accuracy: 0.8584 - val_loss: 0.4519 - val_accuracy: 0.8336\n",
            "Epoch 62/100\n",
            "3692/3692 [==============================] - 4s 1ms/step - loss: 0.3420 - accuracy: 0.8584 - val_loss: 0.4412 - val_accuracy: 0.8383\n",
            "Epoch 63/100\n",
            "3692/3692 [==============================] - 4s 1ms/step - loss: 0.3415 - accuracy: 0.8582 - val_loss: 0.4429 - val_accuracy: 0.8361\n",
            "Epoch 64/100\n",
            "3692/3692 [==============================] - 3s 927us/step - loss: 0.3414 - accuracy: 0.8581 - val_loss: 0.4442 - val_accuracy: 0.8348\n",
            "Epoch 65/100\n",
            "3692/3692 [==============================] - 4s 996us/step - loss: 0.3391 - accuracy: 0.8582 - val_loss: 0.4477 - val_accuracy: 0.8376\n",
            "Epoch 66/100\n",
            "3692/3692 [==============================] - 4s 983us/step - loss: 0.3398 - accuracy: 0.8590 - val_loss: 0.4502 - val_accuracy: 0.8351\n",
            "Epoch 67/100\n",
            "3692/3692 [==============================] - 4s 956us/step - loss: 0.3390 - accuracy: 0.8590 - val_loss: 0.4494 - val_accuracy: 0.8335\n",
            "Epoch 68/100\n",
            "3692/3692 [==============================] - 4s 1ms/step - loss: 0.3384 - accuracy: 0.8592 - val_loss: 0.4441 - val_accuracy: 0.8371\n",
            "Epoch 69/100\n",
            "3692/3692 [==============================] - 4s 1ms/step - loss: 0.3379 - accuracy: 0.8589 - val_loss: 0.4461 - val_accuracy: 0.8348\n",
            "Epoch 70/100\n",
            "3692/3692 [==============================] - 4s 1ms/step - loss: 0.3368 - accuracy: 0.8597 - val_loss: 0.4627 - val_accuracy: 0.8325\n",
            "Epoch 71/100\n",
            "3692/3692 [==============================] - 4s 1ms/step - loss: 0.3375 - accuracy: 0.8589 - val_loss: 0.4406 - val_accuracy: 0.8368\n",
            "Epoch 72/100\n",
            "3692/3692 [==============================] - 4s 1ms/step - loss: 0.3354 - accuracy: 0.8603 - val_loss: 0.4614 - val_accuracy: 0.8345\n",
            "Epoch 73/100\n",
            "3692/3692 [==============================] - 4s 1ms/step - loss: 0.3361 - accuracy: 0.8595 - val_loss: 0.4513 - val_accuracy: 0.8373\n",
            "Epoch 74/100\n",
            "3692/3692 [==============================] - 4s 1ms/step - loss: 0.3356 - accuracy: 0.8600 - val_loss: 0.4525 - val_accuracy: 0.8360\n",
            "Epoch 75/100\n",
            "3692/3692 [==============================] - 4s 1ms/step - loss: 0.3342 - accuracy: 0.8606 - val_loss: 0.4493 - val_accuracy: 0.8355\n",
            "Epoch 76/100\n",
            "3692/3692 [==============================] - 4s 1ms/step - loss: 0.3341 - accuracy: 0.8602 - val_loss: 0.4429 - val_accuracy: 0.8369\n",
            "Epoch 77/100\n",
            "3692/3692 [==============================] - 4s 1ms/step - loss: 0.3344 - accuracy: 0.8608 - val_loss: 0.4490 - val_accuracy: 0.8348\n",
            "Epoch 78/100\n",
            "3692/3692 [==============================] - 3s 945us/step - loss: 0.3339 - accuracy: 0.8606 - val_loss: 0.4607 - val_accuracy: 0.8350\n",
            "Epoch 79/100\n",
            "3692/3692 [==============================] - 4s 993us/step - loss: 0.3327 - accuracy: 0.8605 - val_loss: 0.4506 - val_accuracy: 0.8327\n",
            "Epoch 80/100\n",
            "3692/3692 [==============================] - 4s 1ms/step - loss: 0.3327 - accuracy: 0.8612 - val_loss: 0.4514 - val_accuracy: 0.8337\n",
            "Epoch 81/100\n",
            "3692/3692 [==============================] - 4s 960us/step - loss: 0.3319 - accuracy: 0.8617 - val_loss: 0.4510 - val_accuracy: 0.8389\n",
            "Epoch 82/100\n",
            "3692/3692 [==============================] - 4s 992us/step - loss: 0.3319 - accuracy: 0.8611 - val_loss: 0.4465 - val_accuracy: 0.8363\n",
            "Epoch 83/100\n",
            "3692/3692 [==============================] - 4s 976us/step - loss: 0.3315 - accuracy: 0.8614 - val_loss: 0.4561 - val_accuracy: 0.8372\n",
            "Epoch 84/100\n",
            "3692/3692 [==============================] - 4s 1ms/step - loss: 0.3303 - accuracy: 0.8615 - val_loss: 0.4541 - val_accuracy: 0.8368\n",
            "Epoch 85/100\n",
            "3692/3692 [==============================] - 4s 1ms/step - loss: 0.3305 - accuracy: 0.8615 - val_loss: 0.4588 - val_accuracy: 0.8388\n",
            "Epoch 86/100\n",
            "3692/3692 [==============================] - 4s 1ms/step - loss: 0.3304 - accuracy: 0.8617 - val_loss: 0.4628 - val_accuracy: 0.8380\n",
            "Epoch 87/100\n",
            "3692/3692 [==============================] - 4s 974us/step - loss: 0.3295 - accuracy: 0.8619 - val_loss: 0.4562 - val_accuracy: 0.8370\n",
            "Epoch 88/100\n",
            "3692/3692 [==============================] - 4s 1ms/step - loss: 0.3284 - accuracy: 0.8631 - val_loss: 0.4580 - val_accuracy: 0.8380\n",
            "Epoch 89/100\n",
            "3692/3692 [==============================] - 4s 1ms/step - loss: 0.3288 - accuracy: 0.8621 - val_loss: 0.4535 - val_accuracy: 0.8383\n",
            "Epoch 90/100\n",
            "3692/3692 [==============================] - 4s 991us/step - loss: 0.3286 - accuracy: 0.8619 - val_loss: 0.4551 - val_accuracy: 0.8372\n",
            "Epoch 91/100\n",
            "3692/3692 [==============================] - 4s 1ms/step - loss: 0.3273 - accuracy: 0.8624 - val_loss: 0.4540 - val_accuracy: 0.8361\n",
            "Epoch 92/100\n",
            "3692/3692 [==============================] - 4s 1ms/step - loss: 0.3281 - accuracy: 0.8629 - val_loss: 0.4639 - val_accuracy: 0.8367\n",
            "Epoch 93/100\n",
            "3692/3692 [==============================] - 4s 972us/step - loss: 0.3279 - accuracy: 0.8626 - val_loss: 0.4485 - val_accuracy: 0.8381\n",
            "Epoch 94/100\n",
            "3692/3692 [==============================] - 4s 1ms/step - loss: 0.3264 - accuracy: 0.8637 - val_loss: 0.4615 - val_accuracy: 0.8370\n",
            "Epoch 95/100\n",
            "3692/3692 [==============================] - 4s 1ms/step - loss: 0.3275 - accuracy: 0.8620 - val_loss: 0.4537 - val_accuracy: 0.8376\n",
            "Epoch 96/100\n",
            "3692/3692 [==============================] - 4s 1ms/step - loss: 0.3257 - accuracy: 0.8635 - val_loss: 0.4531 - val_accuracy: 0.8373\n",
            "Epoch 97/100\n",
            "3692/3692 [==============================] - 4s 959us/step - loss: 0.3254 - accuracy: 0.8636 - val_loss: 0.4591 - val_accuracy: 0.8358\n",
            "Epoch 98/100\n",
            "3692/3692 [==============================] - 4s 1ms/step - loss: 0.3251 - accuracy: 0.8636 - val_loss: 0.4622 - val_accuracy: 0.8364\n",
            "Epoch 99/100\n",
            "3692/3692 [==============================] - 4s 1ms/step - loss: 0.3251 - accuracy: 0.8635 - val_loss: 0.4634 - val_accuracy: 0.8364\n",
            "Epoch 100/100\n",
            "3692/3692 [==============================] - 4s 1ms/step - loss: 0.3246 - accuracy: 0.8637 - val_loss: 0.4528 - val_accuracy: 0.8374\n",
            "923/923 [==============================] - 0s 529us/step - loss: 0.4528 - accuracy: 0.8374\n",
            "Testing accuracy: 0.8374471068382263\n",
            "Ending Training at 2023-09-23 19:39:18.110813\n",
            "Training took 0:06:20.956104\n"
          ]
        }
      ],
      "source": [
        "\n",
        "#parse CLS embedding column as array\n",
        "test_acc = kerasNLP_model.train_model( X, y )"
      ]
    },
    {
      "cell_type": "markdown",
      "metadata": {
        "id": "sSSkyth-2K3A"
      },
      "source": [
        "## Train several models"
      ]
    },
    {
      "cell_type": "code",
      "execution_count": null,
      "metadata": {},
      "outputs": [],
      "source": [
        "kerasNLP_model.run_pipeline()"
      ]
    },
    {
      "cell_type": "code",
      "execution_count": null,
      "metadata": {
        "colab": {
          "base_uri": "https://localhost:8080/"
        },
        "id": "Lv4ivBuvinss",
        "outputId": "814ef4fb-e100-4b22-ccbc-6b9d91e5a341"
      },
      "outputs": [],
      "source": [
        "logistic_tree_model.run_pipeline()"
      ]
    },
    {
      "cell_type": "code",
      "execution_count": null,
      "metadata": {
        "colab": {
          "base_uri": "https://localhost:8080/"
        },
        "id": "_UIaks6jjPkU",
        "outputId": "0e365ed1-472e-4cb1-cdde-ae0a2d32722e"
      },
      "outputs": [],
      "source": [
        "logistic_model.run_pipeline()"
      ]
    },
    {
      "cell_type": "code",
      "execution_count": null,
      "metadata": {},
      "outputs": [],
      "source": [
        "import gc\n",
        "gc.collect()"
      ]
    },
    {
      "cell_type": "code",
      "execution_count": null,
      "metadata": {},
      "outputs": [],
      "source": [
        "linear_tree_model.run_pipeline()"
      ]
    },
    {
      "cell_type": "code",
      "execution_count": null,
      "metadata": {},
      "outputs": [],
      "source": [
        "import datetime\n",
        "\n",
        "def save_model_to_dir(model, folder_name):\n",
        "    dir_path = os.path.join(MODEL_FOLDER, folder_name)\n",
        "    \n",
        "    if not os.path.exists(dir_path):\n",
        "        os.mkdir(dir_path)\n",
        "    \n",
        "    timestamp = datetime.datetime.now().strftime('%Y%m%d_%H%M%S')\n",
        "    model_name = timestamp + \"_\" + model.model_type\n",
        "    properties_name = model_name\n",
        "    \n",
        "    model.save(dir_path, model_name, properties_name)\n",
        "\n",
        "# List of models\n",
        "models = [linear_tree_model, logistic_tree_model, logistic_model]\n",
        "\n",
        "\n",
        "# Iterate over models and save\n",
        "for model in models:\n",
        "    save_model_to_dir(model, model.model_type)\n"
      ]
    }
  ],
  "metadata": {
    "colab": {
      "provenance": []
    },
    "kernelspec": {
      "display_name": "Python 3 (ipykernel)",
      "language": "python",
      "name": "python3"
    },
    "language_info": {
      "codemirror_mode": {
        "name": "ipython",
        "version": 3
      },
      "file_extension": ".py",
      "mimetype": "text/x-python",
      "name": "python",
      "nbconvert_exporter": "python",
      "pygments_lexer": "ipython3",
      "version": "3.10.12"
    }
  },
  "nbformat": 4,
  "nbformat_minor": 0
}
