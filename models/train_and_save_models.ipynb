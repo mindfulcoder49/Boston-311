{
  "cells": [
    {
      "cell_type": "code",
      "execution_count": 25,
      "metadata": {},
      "outputs": [
        {
          "name": "stdout",
          "output_type": "stream",
          "text": [
            "Defaulting to user installation because normal site-packages is not writeable\n",
            "Processing /home/briarmoss/Documents/Boston_311\n",
            "  Installing build dependencies ... \u001b[?25ldone\n",
            "\u001b[?25h  Getting requirements to build wheel ... \u001b[?25ldone\n",
            "\u001b[?25h  Preparing metadata (pyproject.toml) ... \u001b[?25ldone\n",
            "\u001b[?25hBuilding wheels for collected packages: boston311\n",
            "  Building wheel for boston311 (pyproject.toml) ... \u001b[?25ldone\n",
            "\u001b[?25h  Created wheel for boston311: filename=boston311-0.2.0-py3-none-any.whl size=24770 sha256=43aba0f285c87b6e9aa9cf47b033d3b88e9e8bab7fc07140107837684e1a8c0c\n",
            "  Stored in directory: /tmp/pip-ephem-wheel-cache-hhmih76j/wheels/3d/69/ee/0a6ac96b9c09c948fc0e74f2724a9703aa39749a41fa757c9e\n",
            "Successfully built boston311\n",
            "Installing collected packages: boston311\n",
            "  Attempting uninstall: boston311\n",
            "    Found existing installation: boston311 0.2.0\n",
            "    Uninstalling boston311-0.2.0:\n",
            "      Successfully uninstalled boston311-0.2.0\n",
            "Successfully installed boston311-0.2.0\n"
          ]
        }
      ],
      "source": [
        "! pip install  ../"
      ]
    },
    {
      "cell_type": "code",
      "execution_count": 26,
      "metadata": {},
      "outputs": [],
      "source": [
        "import os\n",
        "os.environ['CUDA_VISIBLE_DEVICES'] = '-1'\n",
        "\n",
        "import pandas as pd\n",
        "import numpy as np\n",
        "import pickle\n",
        "from ast import literal_eval\n",
        "from datetime import datetime, timedelta\n",
        "from keras_tuner import HyperParameters\n",
        "from boston311 import Boston311LogReg, Boston311KerasNN"
      ]
    },
    {
      "cell_type": "code",
      "execution_count": 27,
      "metadata": {
        "colab": {
          "base_uri": "https://localhost:8080/"
        },
        "id": "uUMCPAELR9h7",
        "outputId": "05fcba64-1b74-4fb7-a52c-d3f8a499bcc6"
      },
      "outputs": [],
      "source": [
        "today_datestring, tomorrow_datestring, thirty_days_ago_datestring = Boston311LogReg().get_datestrings()"
      ]
    },
    {
      "cell_type": "code",
      "execution_count": 28,
      "metadata": {},
      "outputs": [],
      "source": [
        "KerasNN_model = Boston311KerasNN()"
      ]
    },
    {
      "cell_type": "code",
      "execution_count": 29,
      "metadata": {},
      "outputs": [],
      "source": [
        "KerasNN_model.train_date_range={'start':'2023-01-01','end':thirty_days_ago_datestring}\n",
        "\n",
        "KerasNN_model.predict_date_range={'start':thirty_days_ago_datestring,'end':today_datestring}\n",
        "\n",
        "KerasNN_model.feature_columns=['queue', 'subject', 'reason', 'department']\n",
        "\n",
        "KerasNN_model.scenario={'dropColumnValues': {'source':['City Worker App', 'Employee Generated']}, 'survivalTimeMin':300, 'survivalTimeFill':tomorrow_datestring}\n",
        "\n",
        "KerasNN_model.epochs = 20\n",
        "KerasNN_model.batch_size = 32"
      ]
    },
    {
      "cell_type": "code",
      "execution_count": 30,
      "metadata": {},
      "outputs": [],
      "source": [
        "\n",
        "hour_interval = 48\n",
        "max_days = 120\n",
        "\n",
        "#KerasNN_model.bin_edges = KerasNN_model.generate_time_bins_statistics(df, num_intervals=60)\n",
        "KerasNN_model.bin_edges = KerasNN_model.generate_time_bins_fixed_interval(hour_interval, max_days)\n",
        "\n",
        "start_nodes = 256  \n",
        "end_nodes = 128\n",
        "#l2_0 = 0.00001\n",
        "#learning_rate = 7.5842e-05\n",
        "l2_0 = 0.001\n",
        "learning_rate = 0.0001\n",
        "\n",
        "hp = HyperParameters()\n",
        "hp.Fixed('start_nodes', start_nodes)\n",
        "hp.Fixed('end_nodes', end_nodes)\n",
        "hp.Fixed('l2_0', l2_0)\n",
        "hp.Fixed('learning_rate', learning_rate)\n",
        "bin_number = len(KerasNN_model.bin_edges) - 1\n",
        "hp.Fixed('final_layer', bin_number)\n",
        "hp.Fixed('final_activation', 'softmax')\n",
        "KerasNN_model.best_hyperparameters = hp"
      ]
    },
    {
      "cell_type": "code",
      "execution_count": 31,
      "metadata": {},
      "outputs": [
        {
          "data": {
            "text/plain": [
              "'\\n\\npickle_file = \\'dataframe.pkl\\'\\nxz_file = \\'../dataframe.csv.xz\\'\\n#unpack xz file if it exists\\nif os.path.exists(xz_file):\\n    os.system(f\\'unxz {xz_file}\\')\\n    df = pd.read_csv(\\'dataframe.csv\\')\\n    pickle.dump(df, open(pickle_file, \"wb\"))\\nEXTRA_mydata_FILE = \\'./cls_and_pooled_embeddings_with_three_cols.csv\\'\\n\\ndf = KerasNN_model.pkl_load_data(EXTRA_mydata_FILE, pickle_file)\\n\\n# if df has a column service_request_id, do the following\\nif \\'service_request_id\\' in df.columns:\\n    df.rename(columns={\\'service_request_id\\':\\'case_enquiry_id\\'}, inplace=True)\\n\\n    df[\\'case_enquiry_id\\'] = df[\\'case_enquiry_id\\'].astype(str)\\n    is_numeric = df[\\'case_enquiry_id\\'].str.isnumeric()\\n    df = df[is_numeric]\\n    df[\\'case_enquiry_id\\'] = df[\\'case_enquiry_id\\'].astype(\\'int64\\')\\n    for col in [\\'desc_cls_embedding\\', \\'desc_pooled_embedding\\', \\'name_cls_embedding\\', \\'name_pooled_embedding\\', \\'code_cls_embedding\\', \\'code_pooled_embedding\\']:\\n        df[col] = df[col].apply(literal_eval).apply(np.array)\\n\\n    pickle.dump(df, open(pickle_file, \"wb\"))\\n\\n# Assuming df is your DataFrame\\ncolumn_names = [\\'desc_cls_embedding\\', \\'desc_pooled_embedding\\', \\'name_cls_embedding\\', \\'name_pooled_embedding\\', \\'code_cls_embedding\\', \\'code_pooled_embedding\\']\\ndf = KerasNN_model.flatten_and_replace_columns(df, column_names)\\n'"
            ]
          },
          "execution_count": 31,
          "metadata": {},
          "output_type": "execute_result"
        }
      ],
      "source": [
        "\n",
        "'''\n",
        "\n",
        "pickle_file = 'dataframe.pkl'\n",
        "xz_file = '../dataframe.csv.xz'\n",
        "#unpack xz file if it exists\n",
        "if os.path.exists(xz_file):\n",
        "    os.system(f'unxz {xz_file}')\n",
        "    df = pd.read_csv('dataframe.csv')\n",
        "    pickle.dump(df, open(pickle_file, \"wb\"))\n",
        "EXTRA_mydata_FILE = './cls_and_pooled_embeddings_with_three_cols.csv'\n",
        "\n",
        "df = KerasNN_model.pkl_load_data(EXTRA_mydata_FILE, pickle_file)\n",
        "\n",
        "# if df has a column service_request_id, do the following\n",
        "if 'service_request_id' in df.columns:\n",
        "    df.rename(columns={'service_request_id':'case_enquiry_id'}, inplace=True)\n",
        "\n",
        "    df['case_enquiry_id'] = df['case_enquiry_id'].astype(str)\n",
        "    is_numeric = df['case_enquiry_id'].str.isnumeric()\n",
        "    df = df[is_numeric]\n",
        "    df['case_enquiry_id'] = df['case_enquiry_id'].astype('int64')\n",
        "    for col in ['desc_cls_embedding', 'desc_pooled_embedding', 'name_cls_embedding', 'name_pooled_embedding', 'code_cls_embedding', 'code_pooled_embedding']:\n",
        "        df[col] = df[col].apply(literal_eval).apply(np.array)\n",
        "\n",
        "    pickle.dump(df, open(pickle_file, \"wb\"))\n",
        "\n",
        "# Assuming df is your DataFrame\n",
        "column_names = ['desc_cls_embedding', 'desc_pooled_embedding', 'name_cls_embedding', 'name_pooled_embedding', 'code_cls_embedding', 'code_pooled_embedding']\n",
        "df = KerasNN_model.flatten_and_replace_columns(df, column_names)\n",
        "'''\n",
        "\n",
        "\n"
      ]
    },
    {
      "cell_type": "code",
      "execution_count": 32,
      "metadata": {},
      "outputs": [
        {
          "name": "stderr",
          "output_type": "stream",
          "text": [
            "/home/briarmoss/.local/lib/python3.10/site-packages/boston311/Boston311Model.py:95: DtypeWarning: Columns (13,14) have mixed types. Specify dtype option on import or set low_memory=False.\n",
            "  df = pd.read_csv(csv_path)\n"
          ]
        }
      ],
      "source": [
        "case_data_file = 'case_data.pkl'\n",
        "case_data_csv = 'all_311_cases.csv'\n",
        "data = KerasNN_model.pkl_load_data(case_data_csv, case_data_file)"
      ]
    },
    {
      "cell_type": "code",
      "execution_count": 33,
      "metadata": {},
      "outputs": [],
      "source": [
        "#get current datetime in Boston timezone as string\n",
        "my_datetime_str = KerasNN_model.get_current_datetime_str()"
      ]
    },
    {
      "cell_type": "code",
      "execution_count": 34,
      "metadata": {},
      "outputs": [
        {
          "name": "stdout",
          "output_type": "stream",
          "text": [
            "bin_labels is None\n"
          ]
        },
        {
          "name": "stdout",
          "output_type": "stream",
          "text": [
            "Starting Training at 2024-01-01 15:39:42.303818\n",
            "input_dim: 244\n",
            "Model: \"sequential_3\"\n",
            "_________________________________________________________________\n",
            " Layer (type)                Output Shape              Param #   \n",
            "=================================================================\n",
            " dense_9 (Dense)             (None, 256)               62720     \n",
            "                                                                 \n",
            " dense_10 (Dense)            (None, 128)               32896     \n",
            "                                                                 \n",
            " dense_11 (Dense)            (None, 61)                7869      \n",
            "                                                                 \n",
            "=================================================================\n",
            "Total params: 103485 (404.24 KB)\n",
            "Trainable params: 103485 (404.24 KB)\n",
            "Non-trainable params: 0 (0.00 Byte)\n",
            "_________________________________________________________________\n",
            "None\n",
            "<class 'pandas.core.frame.DataFrame'> (202055, 61)\n",
            "<class 'pandas.core.frame.DataFrame'> (50514, 61)\n",
            "run fit\n",
            "\n",
            "Epoch 1/20\n",
            "6315/6315 [==============================] - 12s 2ms/step - loss: 1.7333 - accuracy: 0.5927 - top_k_categorical_accuracy: 0.7003 - val_loss: 1.7583 - val_accuracy: 0.5689 - val_top_k_categorical_accuracy: 0.6555\n",
            "Epoch 2/20\n",
            "6315/6315 [==============================] - 12s 2ms/step - loss: 1.5320 - accuracy: 0.6050 - top_k_categorical_accuracy: 0.7143 - val_loss: 1.7176 - val_accuracy: 0.5707 - val_top_k_categorical_accuracy: 0.6620\n",
            "Epoch 3/20\n",
            "6315/6315 [==============================] - 11s 2ms/step - loss: 1.5058 - accuracy: 0.6056 - top_k_categorical_accuracy: 0.7148 - val_loss: 1.7116 - val_accuracy: 0.5637 - val_top_k_categorical_accuracy: 0.6611\n",
            "Epoch 4/20\n",
            "6315/6315 [==============================] - 12s 2ms/step - loss: 1.4935 - accuracy: 0.6058 - top_k_categorical_accuracy: 0.7152 - val_loss: 1.6951 - val_accuracy: 0.5711 - val_top_k_categorical_accuracy: 0.6615\n",
            "Epoch 5/20\n",
            "6315/6315 [==============================] - 11s 2ms/step - loss: 1.4861 - accuracy: 0.6059 - top_k_categorical_accuracy: 0.7152 - val_loss: 1.6822 - val_accuracy: 0.5662 - val_top_k_categorical_accuracy: 0.6595\n",
            "Epoch 6/20\n",
            "6315/6315 [==============================] - 11s 2ms/step - loss: 1.4815 - accuracy: 0.6061 - top_k_categorical_accuracy: 0.7150 - val_loss: 1.6725 - val_accuracy: 0.5710 - val_top_k_categorical_accuracy: 0.6617\n",
            "Epoch 7/20\n",
            "6315/6315 [==============================] - 12s 2ms/step - loss: 1.4776 - accuracy: 0.6058 - top_k_categorical_accuracy: 0.7149 - val_loss: 1.6733 - val_accuracy: 0.5671 - val_top_k_categorical_accuracy: 0.6627\n",
            "Epoch 8/20\n",
            "6315/6315 [==============================] - 11s 2ms/step - loss: 1.4746 - accuracy: 0.6056 - top_k_categorical_accuracy: 0.7153 - val_loss: 1.6756 - val_accuracy: 0.5622 - val_top_k_categorical_accuracy: 0.6620\n",
            "Epoch 9/20\n",
            "6315/6315 [==============================] - 12s 2ms/step - loss: 1.4722 - accuracy: 0.6060 - top_k_categorical_accuracy: 0.7153 - val_loss: 1.6655 - val_accuracy: 0.5694 - val_top_k_categorical_accuracy: 0.6617\n",
            "Epoch 10/20\n",
            "6315/6315 [==============================] - 12s 2ms/step - loss: 1.4701 - accuracy: 0.6059 - top_k_categorical_accuracy: 0.7156 - val_loss: 1.6768 - val_accuracy: 0.5671 - val_top_k_categorical_accuracy: 0.6622\n",
            "Epoch 11/20\n",
            "6315/6315 [==============================] - 8s 1ms/step - loss: 1.4680 - accuracy: 0.6063 - top_k_categorical_accuracy: 0.7154 - val_loss: 1.6783 - val_accuracy: 0.5694 - val_top_k_categorical_accuracy: 0.6617\n",
            "Epoch 12/20\n",
            "6315/6315 [==============================] - 8s 1ms/step - loss: 1.4665 - accuracy: 0.6065 - top_k_categorical_accuracy: 0.7156 - val_loss: 1.6671 - val_accuracy: 0.5620 - val_top_k_categorical_accuracy: 0.6618\n",
            "Epoch 13/20\n",
            "6315/6315 [==============================] - 8s 1ms/step - loss: 1.4650 - accuracy: 0.6060 - top_k_categorical_accuracy: 0.7155 - val_loss: 1.6693 - val_accuracy: 0.5709 - val_top_k_categorical_accuracy: 0.6621\n",
            "Epoch 14/20\n",
            "6315/6315 [==============================] - 8s 1ms/step - loss: 1.4637 - accuracy: 0.6063 - top_k_categorical_accuracy: 0.7155 - val_loss: 1.6604 - val_accuracy: 0.5679 - val_top_k_categorical_accuracy: 0.6623\n",
            "Epoch 15/20\n",
            "6315/6315 [==============================] - 8s 1ms/step - loss: 1.4627 - accuracy: 0.6064 - top_k_categorical_accuracy: 0.7158 - val_loss: 1.6540 - val_accuracy: 0.5707 - val_top_k_categorical_accuracy: 0.6622\n",
            "Epoch 16/20\n",
            "6315/6315 [==============================] - 8s 1ms/step - loss: 1.4614 - accuracy: 0.6062 - top_k_categorical_accuracy: 0.7155 - val_loss: 1.6583 - val_accuracy: 0.5701 - val_top_k_categorical_accuracy: 0.6621\n",
            "Epoch 17/20\n",
            "6315/6315 [==============================] - 8s 1ms/step - loss: 1.4605 - accuracy: 0.6064 - top_k_categorical_accuracy: 0.7158 - val_loss: 1.6565 - val_accuracy: 0.5710 - val_top_k_categorical_accuracy: 0.6626\n",
            "Epoch 18/20\n",
            "6315/6315 [==============================] - 8s 1ms/step - loss: 1.4593 - accuracy: 0.6059 - top_k_categorical_accuracy: 0.7157 - val_loss: 1.6608 - val_accuracy: 0.5703 - val_top_k_categorical_accuracy: 0.6622\n",
            "Epoch 19/20\n",
            "6315/6315 [==============================] - 8s 1ms/step - loss: 1.4585 - accuracy: 0.6061 - top_k_categorical_accuracy: 0.7156 - val_loss: 1.6651 - val_accuracy: 0.5662 - val_top_k_categorical_accuracy: 0.6565\n",
            "Epoch 20/20\n",
            "6315/6315 [==============================] - 8s 1ms/step - loss: 1.4577 - accuracy: 0.6064 - top_k_categorical_accuracy: 0.7160 - val_loss: 1.6593 - val_accuracy: 0.5700 - val_top_k_categorical_accuracy: 0.6621\n",
            "1579/1579 [==============================] - 1s 602us/step - loss: 1.4553 - accuracy: 0.6090 - top_k_categorical_accuracy: 0.7188\n",
            "Testing accuracy: 0.6090192794799805 \n",
            "Top-2 accuracy: 0.718830406665802 \n",
            "Test loss: 1.4552973508834839\n",
            "Ending Training at 2024-01-01 15:43:01.830973\n",
            "Training took 0:03:19.527155\n"
          ]
        },
        {
          "data": {
            "text/plain": [
              "0.6090192794799805"
            ]
          },
          "execution_count": 34,
          "metadata": {},
          "output_type": "execute_result"
        }
      ],
      "source": [
        "KerasNN_model.run_pipeline(data=data)\n"
      ]
    },
    {
      "cell_type": "code",
      "execution_count": 35,
      "metadata": {},
      "outputs": [
        {
          "name": "stdout",
          "output_type": "stream",
          "text": [
            "Checking files_dict\n",
            "files_dict is None\n",
            "trying to call get311URLs\n",
            "trying to get csv URLs\n"
          ]
        },
        {
          "name": "stdout",
          "output_type": "stream",
          "text": [
            "Found URL: https://data.boston.gov/dataset/8048697b-ad64-4bfc-b090-ee00169f2323/resource/e6013a93-1321-4f2a-bf91-8d8a02f1e62f/download/tmphdne3icr.csv for year 2024\n",
            "Found URL: https://data.boston.gov/dataset/8048697b-ad64-4bfc-b090-ee00169f2323/resource/81a7b022-f8fc-4da5-80e4-b160058ca207/download/tmpfm8veglw.csv for year 2023\n",
            "Found URL: https://data.boston.gov/dataset/8048697b-ad64-4bfc-b090-ee00169f2323/resource/f53ebccd-bc61-49f9-83db-625f209c95f5/download/tmp88p9g82n.csv for year 2022\n",
            "Found URL: https://data.boston.gov/dataset/8048697b-ad64-4bfc-b090-ee00169f2323/resource/6ff6a6fd-3141-4440-a880-6f60a37fe789/download/tmpcv_10m2s.csv for year 2021\n",
            "Found URL: https://data.boston.gov/dataset/8048697b-ad64-4bfc-b090-ee00169f2323/resource/ea2e4696-4a2d-429c-9807-d02eb92e0222/download/tmpcje3ep_w.csv for year 2020\n",
            "Found URL: https://data.boston.gov/dataset/8048697b-ad64-4bfc-b090-ee00169f2323/resource/2be28d90-3a90-4af1-a3f6-f28c1e25880a/download/tmp7602cia8.csv for year 2019\n",
            "Found URL: https://data.boston.gov/dataset/8048697b-ad64-4bfc-b090-ee00169f2323/resource/30022137-709d-465e-baae-ca155b51927d/download/tmpzccn8u4q.csv for year 2018\n",
            "Found URL: https://data.boston.gov/dataset/8048697b-ad64-4bfc-b090-ee00169f2323/resource/b7ea6b1b-3ca4-4c5b-9713-6dc1db52379a/download/tmpzxzxeqfb.csv for year 2017\n",
            "Found URL: https://data.boston.gov/dataset/8048697b-ad64-4bfc-b090-ee00169f2323/resource/c9509ab4-6f6d-4b97-979a-0cf2a10c922b/download/tmphrybkxuh.csv for year 2016\n",
            "Found URL: https://data.boston.gov/dataset/8048697b-ad64-4bfc-b090-ee00169f2323/resource/bdae89c8-d4ce-40e9-a6e1-a5203953a2e0/download/tmp8afxvko_.csv for year 2015\n",
            "Found URL: https://data.boston.gov/dataset/8048697b-ad64-4bfc-b090-ee00169f2323/resource/407c5cd0-f764-4a41-adf8-054ff535049e/download/tmpyzk_wmya.csv for year 2014\n",
            "Found URL: https://data.boston.gov/dataset/8048697b-ad64-4bfc-b090-ee00169f2323/resource/382e10d9-1864-40ba-bef6-4eea3c75463c/download/tmpeyvgdt5u.csv for year 2013\n",
            "Found URL: https://data.boston.gov/dataset/8048697b-ad64-4bfc-b090-ee00169f2323/resource/94b499d9-712a-4d2a-b790-7ceec5c9c4b1/download/tmp_9ogynu0.csv for year 2012\n",
            "files_dict is {'2024': 'https://data.boston.gov/dataset/8048697b-ad64-4bfc-b090-ee00169f2323/resource/e6013a93-1321-4f2a-bf91-8d8a02f1e62f/download/tmphdne3icr.csv', '2023': 'https://data.boston.gov/dataset/8048697b-ad64-4bfc-b090-ee00169f2323/resource/81a7b022-f8fc-4da5-80e4-b160058ca207/download/tmpfm8veglw.csv', '2022': 'https://data.boston.gov/dataset/8048697b-ad64-4bfc-b090-ee00169f2323/resource/f53ebccd-bc61-49f9-83db-625f209c95f5/download/tmp88p9g82n.csv', '2021': 'https://data.boston.gov/dataset/8048697b-ad64-4bfc-b090-ee00169f2323/resource/6ff6a6fd-3141-4440-a880-6f60a37fe789/download/tmpcv_10m2s.csv', '2020': 'https://data.boston.gov/dataset/8048697b-ad64-4bfc-b090-ee00169f2323/resource/ea2e4696-4a2d-429c-9807-d02eb92e0222/download/tmpcje3ep_w.csv', '2019': 'https://data.boston.gov/dataset/8048697b-ad64-4bfc-b090-ee00169f2323/resource/2be28d90-3a90-4af1-a3f6-f28c1e25880a/download/tmp7602cia8.csv', '2018': 'https://data.boston.gov/dataset/8048697b-ad64-4bfc-b090-ee00169f2323/resource/30022137-709d-465e-baae-ca155b51927d/download/tmpzccn8u4q.csv', '2017': 'https://data.boston.gov/dataset/8048697b-ad64-4bfc-b090-ee00169f2323/resource/b7ea6b1b-3ca4-4c5b-9713-6dc1db52379a/download/tmpzxzxeqfb.csv', '2016': 'https://data.boston.gov/dataset/8048697b-ad64-4bfc-b090-ee00169f2323/resource/c9509ab4-6f6d-4b97-979a-0cf2a10c922b/download/tmphrybkxuh.csv', '2015': 'https://data.boston.gov/dataset/8048697b-ad64-4bfc-b090-ee00169f2323/resource/bdae89c8-d4ce-40e9-a6e1-a5203953a2e0/download/tmp8afxvko_.csv', '2014': 'https://data.boston.gov/dataset/8048697b-ad64-4bfc-b090-ee00169f2323/resource/407c5cd0-f764-4a41-adf8-054ff535049e/download/tmpyzk_wmya.csv', '2013': 'https://data.boston.gov/dataset/8048697b-ad64-4bfc-b090-ee00169f2323/resource/382e10d9-1864-40ba-bef6-4eea3c75463c/download/tmpeyvgdt5u.csv', '2012': 'https://data.boston.gov/dataset/8048697b-ad64-4bfc-b090-ee00169f2323/resource/94b499d9-712a-4d2a-b790-7ceec5c9c4b1/download/tmp_9ogynu0.csv'}\n"
          ]
        },
        {
          "name": "stderr",
          "output_type": "stream",
          "text": [
            "/home/briarmoss/.local/lib/python3.10/site-packages/boston311/Boston311Model.py:336: DtypeWarning: Columns (13) have mixed types. Specify dtype option on import or set low_memory=False.\n",
            "  df = pd.read_csv(file)\n",
            "/home/briarmoss/.local/lib/python3.10/site-packages/boston311/Boston311Model.py:336: DtypeWarning: Columns (13) have mixed types. Specify dtype option on import or set low_memory=False.\n",
            "  df = pd.read_csv(file)\n"
          ]
        },
        {
          "name": "stdout",
          "output_type": "stream",
          "text": [
            "columns in data before drop: Index(['case_enquiry_id', 'open_dt', 'sla_target_dt', 'closed_dt', 'on_time',\n",
            "       'case_status', 'closure_reason', 'case_title', 'subject', 'reason',\n",
            "       'type', 'queue', 'department', 'submitted_photo', 'closed_photo',\n",
            "       'location', 'fire_district', 'pwd_district', 'city_council_district',\n",
            "       'police_district', 'neighborhood', 'neighborhood_services_district',\n",
            "       'ward', 'precinct', 'location_street_name', 'location_zipcode',\n",
            "       'latitude', 'longitude', 'geom_4326', 'source', 'survival_time',\n",
            "       'event', 'ward_number', 'survival_time_hours'],\n",
            "      dtype='object')\n",
            "columns to drop: Index(['case_status', 'case_title', 'city_council_district', 'closed_dt',\n",
            "       'closed_photo', 'closure_reason', 'fire_district', 'geom_4326',\n",
            "       'latitude', 'location', 'location_street_name', 'location_zipcode',\n",
            "       'longitude', 'neighborhood', 'neighborhood_services_district',\n",
            "       'on_time', 'open_dt', 'police_district', 'precinct', 'pwd_district',\n",
            "       'sla_target_dt', 'source', 'submitted_photo', 'survival_time', 'type',\n",
            "       'ward', 'ward_number'],\n",
            "      dtype='object')\n",
            "columns in data before ohewfd: Index(['case_enquiry_id', 'subject', 'reason', 'queue', 'department', 'event',\n",
            "       'survival_time_hours'],\n",
            "      dtype='object')\n",
            "  1/588 [..............................] - ETA: 15s"
          ]
        },
        {
          "name": "stderr",
          "output_type": "stream",
          "text": [
            "/home/briarmoss/.local/lib/python3.10/site-packages/boston311/Boston311Model.py:267: FutureWarning: The behavior of DataFrame concatenation with empty or all-NA entries is deprecated. In a future version, this will no longer exclude empty or all-NA columns when determining the result dtypes. To retain the old behavior, exclude the relevant entries before the concat operation.\n",
            "  data = pd.concat([data, fake_df], ignore_index=True)\n"
          ]
        },
        {
          "name": "stdout",
          "output_type": "stream",
          "text": [
            "588/588 [==============================] - 0s 543us/step\n"
          ]
        }
      ],
      "source": [
        "predictions = KerasNN_model.predict()"
      ]
    },
    {
      "cell_type": "code",
      "execution_count": 36,
      "metadata": {},
      "outputs": [
        {
          "name": "stdout",
          "output_type": "stream",
          "text": [
            "(array([[9.8571086e-01, 1.1121310e-02, 1.2720719e-03, ..., 8.4666963e-06,\n",
            "        8.4274643e-06, 3.3580855e-04],\n",
            "       [2.7253813e-01, 9.7030632e-02, 6.1388515e-02, ..., 4.1984334e-03,\n",
            "        2.9380131e-03, 1.3642371e-01],\n",
            "       [1.4051642e-01, 2.3272300e-01, 1.8313232e-01, ..., 3.4495746e-04,\n",
            "        1.8950374e-04, 3.7587893e-03],\n",
            "       ...,\n",
            "       [6.5039122e-01, 1.3639423e-01, 9.8013029e-02, ..., 1.6034235e-05,\n",
            "        1.7299879e-05, 1.0340229e-04],\n",
            "       [6.5039122e-01, 1.3639423e-01, 9.8013029e-02, ..., 1.6034235e-05,\n",
            "        1.7299879e-05, 1.0340229e-04],\n",
            "       [9.9110109e-01, 6.4599221e-03, 7.6955603e-04, ..., 7.9747961e-06,\n",
            "        8.7662556e-06, 3.0992634e-04]], dtype=float32),         case_enquiry_id             open_dt        sla_target_dt  \\\n",
            "276736     101005187078 2023-12-02 06:19:00  2023-12-07 03:30:00   \n",
            "276737     101005187122 2023-12-02 06:47:49  2023-12-04 06:47:49   \n",
            "276739     101005187183 2023-12-02 07:31:07                  NaN   \n",
            "276740     101005187139 2023-12-02 07:03:00                  NaN   \n",
            "276741     101005187156 2023-12-02 07:14:18                  NaN   \n",
            "...                 ...                 ...                  ...   \n",
            "588813     101005230136 2023-12-29 13:03:00  2024-01-17 03:30:00   \n",
            "588814     101005230141 2023-12-29 13:09:34  2024-01-04 03:30:00   \n",
            "588815     101005230145 2023-12-29 13:14:50  2024-01-03 03:30:00   \n",
            "588816     101005230148 2023-12-29 13:17:58  2024-01-03 03:30:00   \n",
            "588817     101005230168 2023-12-29 13:39:56  2024-01-04 03:30:00   \n",
            "\n",
            "                 closed_dt on_time case_status  \\\n",
            "276736 2023-12-06 03:52:54  ONTIME      Closed   \n",
            "276737 2023-12-02 06:51:14  ONTIME      Closed   \n",
            "276739                 NaT  ONTIME        Open   \n",
            "276740 2023-12-04 04:16:19  ONTIME      Closed   \n",
            "276741 2023-12-02 07:39:23  ONTIME      Closed   \n",
            "...                    ...     ...         ...   \n",
            "588813                 NaT  ONTIME        Open   \n",
            "588814                 NaT  ONTIME        Open   \n",
            "588815 2023-12-29 13:17:32  ONTIME      Closed   \n",
            "588816 2023-12-29 13:22:16  ONTIME      Closed   \n",
            "588817                 NaT  ONTIME        Open   \n",
            "\n",
            "                                           closure_reason  \\\n",
            "276736  Case Closed. Closed date : Wed Dec 06 08:52:54...   \n",
            "276737  Case Closed. Closed date : 2023-12-02 11:51:14...   \n",
            "276739                                                      \n",
            "276740  Case Closed. Closed date : 2023-12-04 09:16:19...   \n",
            "276741  Case Closed. Closed date : Sat Dec 02 12:39:23...   \n",
            "...                                                   ...   \n",
            "588813                                                      \n",
            "588814                                                      \n",
            "588815  Case Closed. Closed date : 2023-12-29 18:17:32...   \n",
            "588816  Case Closed. Closed date : 2023-12-29 18:22:16...   \n",
            "588817                                                      \n",
            "\n",
            "                                 case_title  \\\n",
            "276736          Poor Conditions of Property   \n",
            "276737                    Work w/out Permit   \n",
            "276739            Schedule Bulk Item Pickup   \n",
            "276740               Animal Generic Request   \n",
            "276741                        Needle Pickup   \n",
            "...                                     ...   \n",
            "588813      Street Light Outages printed DP   \n",
            "588814  Improper Storage of Trash (Barrels)   \n",
            "588815                  Parking Enforcement   \n",
            "588816                  Parking Enforcement   \n",
            "588817  Improper Storage of Trash (Barrels)   \n",
            "\n",
            "                                  subject                            reason  \\\n",
            "276736            Public Works Department                  Code Enforcement   \n",
            "276737              Inspectional Services                          Building   \n",
            "276739            Public Works Department                        Sanitation   \n",
            "276740                     Animal Control                     Animal Issues   \n",
            "276741            Mayor's 24 Hour Hotline                    Needle Program   \n",
            "...                                   ...                               ...   \n",
            "588813            Public Works Department                     Street Lights   \n",
            "588814            Public Works Department                  Code Enforcement   \n",
            "588815  Transportation - Traffic Division  Enforcement & Abandoned Vehicles   \n",
            "588816  Transportation - Traffic Division  Enforcement & Abandoned Vehicles   \n",
            "588817            Public Works Department                  Code Enforcement   \n",
            "\n",
            "        ...                     location_street_name location_zipcode  \\\n",
            "276736  ...                            80 Poydras St           2126.0   \n",
            "276737  ...                            96 Waltham St           2118.0   \n",
            "276739  ...                     390 Commonwealth Ave           2215.0   \n",
            "276740  ...        INTERSECTION Bussey St & South St              NaN   \n",
            "276741  ...                          53 E Concord St           2118.0   \n",
            "...     ...                                      ...              ...   \n",
            "588813  ...  INTERSECTION Cambridge St & Sorrento St              NaN   \n",
            "588814  ...      INTERSECTION Ralwood Rd & Ranley Rd              NaN   \n",
            "588815  ...                         119 W Seventh St           2127.0   \n",
            "588816  ...                             12 Baxter St           2127.0   \n",
            "588817  ...   INTERSECTION Columbus Ave & Rutland Sq              NaN   \n",
            "\n",
            "         latitude  longitude  \\\n",
            "276736  42.261994 -71.106202   \n",
            "276737  42.343500 -71.071231   \n",
            "276739  42.348604 -71.090321   \n",
            "276740  42.295550 -71.122007   \n",
            "276741  42.336640 -71.073681   \n",
            "...           ...        ...   \n",
            "588813  42.358549 -71.124706   \n",
            "588814  42.266893 -71.103232   \n",
            "588815  42.335810 -71.053420   \n",
            "588816  42.336656 -71.055241   \n",
            "588817  42.342639 -71.079121   \n",
            "\n",
            "                                                geom_4326  \\\n",
            "276736  0101000020E610000048D5C902CCC651C0989BBA058921...   \n",
            "276737  0101000020E6100000BDB1680A8FC451C0C09CF9CAF72B...   \n",
            "276739  0101000020E6100000269FCDCFC7C551C09C73A30A9F2C...   \n",
            "276740  0101000020E6100000C07734F8CEC751C05C660D97D425...   \n",
            "276741  0101000020E6100000BC518A2EB7C451C040472801172B...   \n",
            "...                                                   ...   \n",
            "588813  0101000020E6100000609C9430FBC751C0DFE1EDEAE42D...   \n",
            "588814  0101000020E6100000483A685A9BC651C0E47AD4882922...   \n",
            "588815  0101000020E61000006492C23D6BC351C0003462CEFB2A...   \n",
            "588816  0101000020E61000007B37021289C351C0B91B5388172B...   \n",
            "588817  0101000020E61000001046595310C551C0EA252996DB2B...   \n",
            "\n",
            "                      source   survival_time event ward_number  \\\n",
            "276736  Citizens Connect App 3 days 21:33:54     1          18   \n",
            "276737      Constituent Call 0 days 00:03:25     1           3   \n",
            "276739          Self Service             NaT     0           5   \n",
            "276740      Constituent Call 1 days 21:13:19     1          19   \n",
            "276741  Citizens Connect App 0 days 00:25:05     1           8   \n",
            "...                      ...             ...   ...         ...   \n",
            "588813      Constituent Call             NaT     0          22   \n",
            "588814  Citizens Connect App             NaT     0          18   \n",
            "588815  Citizens Connect App 0 days 00:02:42     1           6   \n",
            "588816  Citizens Connect App 0 days 00:04:18     1           6   \n",
            "588817  Citizens Connect App             NaT     0           4   \n",
            "\n",
            "       survival_time_hours  \n",
            "276736           93.565000  \n",
            "276737            0.056944  \n",
            "276739                 NaN  \n",
            "276740           45.221944  \n",
            "276741            0.418056  \n",
            "...                    ...  \n",
            "588813                 NaN  \n",
            "588814                 NaN  \n",
            "588815            0.045000  \n",
            "588816            0.071667  \n",
            "588817                 NaN  \n",
            "\n",
            "[18799 rows x 34 columns])\n"
          ]
        }
      ],
      "source": [
        "print(predictions)"
      ]
    },
    {
      "cell_type": "code",
      "execution_count": 37,
      "metadata": {},
      "outputs": [],
      "source": [
        "#set model folder constant\n",
        "MODEL_FOLDER = './daily_models'\n",
        "\n",
        "def save_model_to_dir(model, folder_name, datetime_string=None):\n",
        "    dir_path = os.path.join(MODEL_FOLDER, folder_name)\n",
        "    \n",
        "    if not os.path.exists(dir_path):\n",
        "        os.mkdir(dir_path)\n",
        "    \n",
        "    if datetime_string is None:\n",
        "        timestamp = datetime.datetime.now().strftime('%Y%m%d_%H%M%S')\n",
        "    else:\n",
        "        timestamp = datetime_string\n",
        "    \n",
        "    model_name = timestamp + \"_\" + model.model_type\n",
        "    properties_name = model_name\n",
        "    \n",
        "    model.save(dir_path, model_name, properties_name)\n",
        "\n",
        "\n",
        "save_model_to_dir(KerasNN_model, KerasNN_model.model_type, datetime_string=my_datetime_str)\n"
      ]
    }
  ],
  "metadata": {
    "colab": {
      "provenance": []
    },
    "kernelspec": {
      "display_name": "Python 3 (ipykernel)",
      "language": "python",
      "name": "python3"
    },
    "language_info": {
      "codemirror_mode": {
        "name": "ipython",
        "version": 3
      },
      "file_extension": ".py",
      "mimetype": "text/x-python",
      "name": "python",
      "nbconvert_exporter": "python",
      "pygments_lexer": "ipython3",
      "version": "3.10.12"
    }
  },
  "nbformat": 4,
  "nbformat_minor": 0
}
