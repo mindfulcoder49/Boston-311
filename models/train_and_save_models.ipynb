{
  "cells": [
    {
      "cell_type": "code",
      "execution_count": 1,
      "metadata": {},
      "outputs": [
        {
          "name": "stdout",
          "output_type": "stream",
          "text": [
            "Processing /home/briarmoss/Documents/Boston_311\n",
            "  Installing build dependencies ... \u001b[?25ldone\n",
            "\u001b[?25h  Getting requirements to build wheel ... \u001b[?25ldone\n",
            "\u001b[?25h  Preparing metadata (pyproject.toml) ... \u001b[?25ldone\n",
            "\u001b[?25hBuilding wheels for collected packages: boston311\n",
            "  Building wheel for boston311 (pyproject.toml) ... \u001b[?25ldone\n",
            "\u001b[?25h  Created wheel for boston311: filename=boston311-0.1.0-py3-none-any.whl size=29369 sha256=3b69ed43ff3143905b29647ef82bf08e79611081999565a0420dff8286eb678c\n",
            "  Stored in directory: /tmp/pip-ephem-wheel-cache-dnpoildn/wheels/f0/64/4b/66cfeded2bab9dcf52b7b41dcf05bc2f6d8527030bf49ec80d\n",
            "Successfully built boston311\n",
            "Installing collected packages: boston311\n",
            "  Attempting uninstall: boston311\n",
            "    Found existing installation: boston311 0.1.0\n",
            "    Uninstalling boston311-0.1.0:\n",
            "      Successfully uninstalled boston311-0.1.0\n",
            "Successfully installed boston311-0.1.0\n"
          ]
        }
      ],
      "source": [
        "! pip install  ../"
      ]
    },
    {
      "cell_type": "code",
      "execution_count": 2,
      "metadata": {},
      "outputs": [
        {
          "name": "stdout",
          "output_type": "stream",
          "text": [
            "Using TensorFlow backend\n"
          ]
        },
        {
          "name": "stderr",
          "output_type": "stream",
          "text": [
            "2024-07-11 12:23:21.603083: I tensorflow/core/util/port.cc:113] oneDNN custom operations are on. You may see slightly different numerical results due to floating-point round-off errors from different computation orders. To turn them off, set the environment variable `TF_ENABLE_ONEDNN_OPTS=0`.\n",
            "2024-07-11 12:23:21.603325: I external/local_tsl/tsl/cuda/cudart_stub.cc:32] Could not find cuda drivers on your machine, GPU will not be used.\n",
            "2024-07-11 12:23:21.605988: I external/local_tsl/tsl/cuda/cudart_stub.cc:32] Could not find cuda drivers on your machine, GPU will not be used.\n",
            "2024-07-11 12:23:21.637616: I tensorflow/core/platform/cpu_feature_guard.cc:210] This TensorFlow binary is optimized to use available CPU instructions in performance-critical operations.\n",
            "To enable the following instructions: AVX2 AVX512F AVX512_VNNI FMA, in other operations, rebuild TensorFlow with the appropriate compiler flags.\n",
            "2024-07-11 12:23:22.234041: W tensorflow/compiler/tf2tensorrt/utils/py_utils.cc:38] TF-TRT Warning: Could not find TensorRT\n"
          ]
        }
      ],
      "source": [
        "import os\n",
        "os.environ['CUDA_VISIBLE_DEVICES'] = '-1'\n",
        "\n",
        "import pandas as pd\n",
        "import numpy as np\n",
        "import pickle\n",
        "from ast import literal_eval\n",
        "from datetime import datetime, timedelta\n",
        "from keras_tuner import HyperParameters\n",
        "from boston311 import Boston311LogReg, Boston311KerasNN"
      ]
    },
    {
      "cell_type": "code",
      "execution_count": 3,
      "metadata": {
        "colab": {
          "base_uri": "https://localhost:8080/"
        },
        "id": "uUMCPAELR9h7",
        "outputId": "05fcba64-1b74-4fb7-a52c-d3f8a499bcc6"
      },
      "outputs": [],
      "source": [
        "today_datestring, tomorrow_datestring, thirty_days_ago_datestring = Boston311LogReg().get_datestrings()"
      ]
    },
    {
      "cell_type": "code",
      "execution_count": 4,
      "metadata": {},
      "outputs": [],
      "source": [
        "KerasNN_model = Boston311KerasNN()"
      ]
    },
    {
      "cell_type": "code",
      "execution_count": 5,
      "metadata": {},
      "outputs": [],
      "source": [
        "KerasNN_model.train_date_range={'start':'2023-01-01','end':thirty_days_ago_datestring}\n",
        "\n",
        "KerasNN_model.predict_date_range={'start':thirty_days_ago_datestring,'end':today_datestring}\n",
        "\n",
        "KerasNN_model.feature_columns=['queue', 'subject', 'reason', 'department']\n",
        "\n",
        "KerasNN_model.scenario={'dropColumnValues': {'source':['City Worker App', 'Employee Generated']}, 'survivalTimeMin':300, 'survivalTimeFill':tomorrow_datestring}\n",
        "\n",
        "KerasNN_model.epochs = 20\n",
        "KerasNN_model.batch_size = 32"
      ]
    },
    {
      "cell_type": "code",
      "execution_count": 6,
      "metadata": {},
      "outputs": [],
      "source": [
        "\n",
        "hour_interval = 48\n",
        "max_days = 120\n",
        "\n",
        "#KerasNN_model.bin_edges = KerasNN_model.generate_time_bins_statistics(df, num_intervals=60)\n",
        "KerasNN_model.bin_edges = KerasNN_model.generate_time_bins_fixed_interval(hour_interval, max_days)\n",
        "\n",
        "start_nodes = 256  \n",
        "end_nodes = 128\n",
        "#l2_0 = 0.00001\n",
        "#learning_rate = 7.5842e-05\n",
        "l2_0 = 0.001\n",
        "learning_rate = 0.0001\n",
        "\n",
        "hp = HyperParameters()\n",
        "hp.Fixed('start_nodes', start_nodes)\n",
        "hp.Fixed('end_nodes', end_nodes)\n",
        "hp.Fixed('l2_0', l2_0)\n",
        "hp.Fixed('learning_rate', learning_rate)\n",
        "bin_number = len(KerasNN_model.bin_edges) - 1\n",
        "hp.Fixed('final_layer', bin_number)\n",
        "hp.Fixed('final_activation', 'softmax')\n",
        "KerasNN_model.best_hyperparameters = hp"
      ]
    },
    {
      "cell_type": "code",
      "execution_count": 7,
      "metadata": {},
      "outputs": [
        {
          "data": {
            "text/plain": [
              "'\\n\\npickle_file = \\'dataframe.pkl\\'\\nxz_file = \\'../dataframe.csv.xz\\'\\n#unpack xz file if it exists\\nif os.path.exists(xz_file):\\n    os.system(f\\'unxz {xz_file}\\')\\n    df = pd.read_csv(\\'dataframe.csv\\')\\n    pickle.dump(df, open(pickle_file, \"wb\"))\\nEXTRA_mydata_FILE = \\'./cls_and_pooled_embeddings_with_three_cols.csv\\'\\n\\ndf = KerasNN_model.pkl_load_data(EXTRA_mydata_FILE, pickle_file)\\n\\n# if df has a column service_request_id, do the following\\nif \\'service_request_id\\' in df.columns:\\n    df.rename(columns={\\'service_request_id\\':\\'case_enquiry_id\\'}, inplace=True)\\n\\n    df[\\'case_enquiry_id\\'] = df[\\'case_enquiry_id\\'].astype(str)\\n    is_numeric = df[\\'case_enquiry_id\\'].str.isnumeric()\\n    df = df[is_numeric]\\n    df[\\'case_enquiry_id\\'] = df[\\'case_enquiry_id\\'].astype(\\'int64\\')\\n    for col in [\\'desc_cls_embedding\\', \\'desc_pooled_embedding\\', \\'name_cls_embedding\\', \\'name_pooled_embedding\\', \\'code_cls_embedding\\', \\'code_pooled_embedding\\']:\\n        df[col] = df[col].apply(literal_eval).apply(np.array)\\n\\n    pickle.dump(df, open(pickle_file, \"wb\"))\\n\\n# Assuming df is your DataFrame\\ncolumn_names = [\\'desc_cls_embedding\\', \\'desc_pooled_embedding\\', \\'name_cls_embedding\\', \\'name_pooled_embedding\\', \\'code_cls_embedding\\', \\'code_pooled_embedding\\']\\ndf = KerasNN_model.flatten_and_replace_columns(df, column_names)\\n'"
            ]
          },
          "execution_count": 7,
          "metadata": {},
          "output_type": "execute_result"
        }
      ],
      "source": [
        "\n",
        "'''\n",
        "\n",
        "pickle_file = 'dataframe.pkl'\n",
        "xz_file = '../dataframe.csv.xz'\n",
        "#unpack xz file if it exists\n",
        "if os.path.exists(xz_file):\n",
        "    os.system(f'unxz {xz_file}')\n",
        "    df = pd.read_csv('dataframe.csv')\n",
        "    pickle.dump(df, open(pickle_file, \"wb\"))\n",
        "EXTRA_mydata_FILE = './cls_and_pooled_embeddings_with_three_cols.csv'\n",
        "\n",
        "df = KerasNN_model.pkl_load_data(EXTRA_mydata_FILE, pickle_file)\n",
        "\n",
        "# if df has a column service_request_id, do the following\n",
        "if 'service_request_id' in df.columns:\n",
        "    df.rename(columns={'service_request_id':'case_enquiry_id'}, inplace=True)\n",
        "\n",
        "    df['case_enquiry_id'] = df['case_enquiry_id'].astype(str)\n",
        "    is_numeric = df['case_enquiry_id'].str.isnumeric()\n",
        "    df = df[is_numeric]\n",
        "    df['case_enquiry_id'] = df['case_enquiry_id'].astype('int64')\n",
        "    for col in ['desc_cls_embedding', 'desc_pooled_embedding', 'name_cls_embedding', 'name_pooled_embedding', 'code_cls_embedding', 'code_pooled_embedding']:\n",
        "        df[col] = df[col].apply(literal_eval).apply(np.array)\n",
        "\n",
        "    pickle.dump(df, open(pickle_file, \"wb\"))\n",
        "\n",
        "# Assuming df is your DataFrame\n",
        "column_names = ['desc_cls_embedding', 'desc_pooled_embedding', 'name_cls_embedding', 'name_pooled_embedding', 'code_cls_embedding', 'code_pooled_embedding']\n",
        "df = KerasNN_model.flatten_and_replace_columns(df, column_names)\n",
        "'''\n",
        "\n",
        "\n"
      ]
    },
    {
      "cell_type": "code",
      "execution_count": 8,
      "metadata": {},
      "outputs": [
        {
          "name": "stderr",
          "output_type": "stream",
          "text": [
            "/home/briarmoss/Documents/Boston_311/.venv/lib/python3.12/site-packages/boston311/Boston311Model.py:95: DtypeWarning: Columns (13) have mixed types. Specify dtype option on import or set low_memory=False.\n",
            "  df = pd.read_csv(csv_path)\n"
          ]
        }
      ],
      "source": [
        "case_data_file = 'case_data.pkl'\n",
        "case_data_csv = 'all_311_cases.csv'\n",
        "data = KerasNN_model.pkl_load_data(case_data_csv, case_data_file)"
      ]
    },
    {
      "cell_type": "code",
      "execution_count": 9,
      "metadata": {},
      "outputs": [],
      "source": [
        "#get current datetime in Boston timezone as string\n",
        "my_datetime_str = KerasNN_model.get_current_datetime_str()"
      ]
    },
    {
      "cell_type": "code",
      "execution_count": 10,
      "metadata": {},
      "outputs": [
        {
          "name": "stdout",
          "output_type": "stream",
          "text": [
            "bin_labels is None\n",
            "Starting Training at 2024-07-11 12:23:38.349903\n",
            "input_dim: 260\n"
          ]
        },
        {
          "name": "stderr",
          "output_type": "stream",
          "text": [
            "/home/briarmoss/Documents/Boston_311/.venv/lib/python3.12/site-packages/keras/src/layers/core/dense.py:87: UserWarning: Do not pass an `input_shape`/`input_dim` argument to a layer. When using Sequential models, prefer using an `Input(shape)` object as the first layer in the model instead.\n",
            "  super().__init__(activity_regularizer=activity_regularizer, **kwargs)\n",
            "2024-07-11 12:23:38.625680: E external/local_xla/xla/stream_executor/cuda/cuda_driver.cc:282] failed call to cuInit: CUDA_ERROR_NO_DEVICE: no CUDA-capable device is detected\n",
            "2024-07-11 12:23:38.625706: I external/local_xla/xla/stream_executor/cuda/cuda_diagnostics.cc:134] retrieving CUDA diagnostic information for host: Alex-Linux\n",
            "2024-07-11 12:23:38.625709: I external/local_xla/xla/stream_executor/cuda/cuda_diagnostics.cc:141] hostname: Alex-Linux\n",
            "2024-07-11 12:23:38.625863: I external/local_xla/xla/stream_executor/cuda/cuda_diagnostics.cc:165] libcuda reported version is: 535.183.1\n",
            "2024-07-11 12:23:38.625881: I external/local_xla/xla/stream_executor/cuda/cuda_diagnostics.cc:169] kernel reported version is: 535.183.1\n",
            "2024-07-11 12:23:38.625884: I external/local_xla/xla/stream_executor/cuda/cuda_diagnostics.cc:248] kernel version seems to match DSO: 535.183.1\n"
          ]
        },
        {
          "data": {
            "text/html": [
              "<pre style=\"white-space:pre;overflow-x:auto;line-height:normal;font-family:Menlo,'DejaVu Sans Mono',consolas,'Courier New',monospace\"><span style=\"font-weight: bold\">Model: \"sequential\"</span>\n",
              "</pre>\n"
            ],
            "text/plain": [
              "\u001b[1mModel: \"sequential\"\u001b[0m\n"
            ]
          },
          "metadata": {},
          "output_type": "display_data"
        },
        {
          "data": {
            "text/html": [
              "<pre style=\"white-space:pre;overflow-x:auto;line-height:normal;font-family:Menlo,'DejaVu Sans Mono',consolas,'Courier New',monospace\">┏━━━━━━━━━━━━━━━━━━━━━━━━━━━━━━━━━┳━━━━━━━━━━━━━━━━━━━━━━━━┳━━━━━━━━━━━━━━━┓\n",
              "┃<span style=\"font-weight: bold\"> Layer (type)                    </span>┃<span style=\"font-weight: bold\"> Output Shape           </span>┃<span style=\"font-weight: bold\">       Param # </span>┃\n",
              "┡━━━━━━━━━━━━━━━━━━━━━━━━━━━━━━━━━╇━━━━━━━━━━━━━━━━━━━━━━━━╇━━━━━━━━━━━━━━━┩\n",
              "│ dense (<span style=\"color: #0087ff; text-decoration-color: #0087ff\">Dense</span>)                   │ (<span style=\"color: #00d7ff; text-decoration-color: #00d7ff\">None</span>, <span style=\"color: #00af00; text-decoration-color: #00af00\">256</span>)            │        <span style=\"color: #00af00; text-decoration-color: #00af00\">66,816</span> │\n",
              "├─────────────────────────────────┼────────────────────────┼───────────────┤\n",
              "│ dense_1 (<span style=\"color: #0087ff; text-decoration-color: #0087ff\">Dense</span>)                 │ (<span style=\"color: #00d7ff; text-decoration-color: #00d7ff\">None</span>, <span style=\"color: #00af00; text-decoration-color: #00af00\">128</span>)            │        <span style=\"color: #00af00; text-decoration-color: #00af00\">32,896</span> │\n",
              "├─────────────────────────────────┼────────────────────────┼───────────────┤\n",
              "│ dense_2 (<span style=\"color: #0087ff; text-decoration-color: #0087ff\">Dense</span>)                 │ (<span style=\"color: #00d7ff; text-decoration-color: #00d7ff\">None</span>, <span style=\"color: #00af00; text-decoration-color: #00af00\">61</span>)             │         <span style=\"color: #00af00; text-decoration-color: #00af00\">7,869</span> │\n",
              "└─────────────────────────────────┴────────────────────────┴───────────────┘\n",
              "</pre>\n"
            ],
            "text/plain": [
              "┏━━━━━━━━━━━━━━━━━━━━━━━━━━━━━━━━━┳━━━━━━━━━━━━━━━━━━━━━━━━┳━━━━━━━━━━━━━━━┓\n",
              "┃\u001b[1m \u001b[0m\u001b[1mLayer (type)                   \u001b[0m\u001b[1m \u001b[0m┃\u001b[1m \u001b[0m\u001b[1mOutput Shape          \u001b[0m\u001b[1m \u001b[0m┃\u001b[1m \u001b[0m\u001b[1m      Param #\u001b[0m\u001b[1m \u001b[0m┃\n",
              "┡━━━━━━━━━━━━━━━━━━━━━━━━━━━━━━━━━╇━━━━━━━━━━━━━━━━━━━━━━━━╇━━━━━━━━━━━━━━━┩\n",
              "│ dense (\u001b[38;5;33mDense\u001b[0m)                   │ (\u001b[38;5;45mNone\u001b[0m, \u001b[38;5;34m256\u001b[0m)            │        \u001b[38;5;34m66,816\u001b[0m │\n",
              "├─────────────────────────────────┼────────────────────────┼───────────────┤\n",
              "│ dense_1 (\u001b[38;5;33mDense\u001b[0m)                 │ (\u001b[38;5;45mNone\u001b[0m, \u001b[38;5;34m128\u001b[0m)            │        \u001b[38;5;34m32,896\u001b[0m │\n",
              "├─────────────────────────────────┼────────────────────────┼───────────────┤\n",
              "│ dense_2 (\u001b[38;5;33mDense\u001b[0m)                 │ (\u001b[38;5;45mNone\u001b[0m, \u001b[38;5;34m61\u001b[0m)             │         \u001b[38;5;34m7,869\u001b[0m │\n",
              "└─────────────────────────────────┴────────────────────────┴───────────────┘\n"
            ]
          },
          "metadata": {},
          "output_type": "display_data"
        },
        {
          "data": {
            "text/html": [
              "<pre style=\"white-space:pre;overflow-x:auto;line-height:normal;font-family:Menlo,'DejaVu Sans Mono',consolas,'Courier New',monospace\"><span style=\"font-weight: bold\"> Total params: </span><span style=\"color: #00af00; text-decoration-color: #00af00\">107,581</span> (420.24 KB)\n",
              "</pre>\n"
            ],
            "text/plain": [
              "\u001b[1m Total params: \u001b[0m\u001b[38;5;34m107,581\u001b[0m (420.24 KB)\n"
            ]
          },
          "metadata": {},
          "output_type": "display_data"
        },
        {
          "data": {
            "text/html": [
              "<pre style=\"white-space:pre;overflow-x:auto;line-height:normal;font-family:Menlo,'DejaVu Sans Mono',consolas,'Courier New',monospace\"><span style=\"font-weight: bold\"> Trainable params: </span><span style=\"color: #00af00; text-decoration-color: #00af00\">107,581</span> (420.24 KB)\n",
              "</pre>\n"
            ],
            "text/plain": [
              "\u001b[1m Trainable params: \u001b[0m\u001b[38;5;34m107,581\u001b[0m (420.24 KB)\n"
            ]
          },
          "metadata": {},
          "output_type": "display_data"
        },
        {
          "data": {
            "text/html": [
              "<pre style=\"white-space:pre;overflow-x:auto;line-height:normal;font-family:Menlo,'DejaVu Sans Mono',consolas,'Courier New',monospace\"><span style=\"font-weight: bold\"> Non-trainable params: </span><span style=\"color: #00af00; text-decoration-color: #00af00\">0</span> (0.00 B)\n",
              "</pre>\n"
            ],
            "text/plain": [
              "\u001b[1m Non-trainable params: \u001b[0m\u001b[38;5;34m0\u001b[0m (0.00 B)\n"
            ]
          },
          "metadata": {},
          "output_type": "display_data"
        },
        {
          "name": "stdout",
          "output_type": "stream",
          "text": [
            "None\n",
            "<class 'pandas.core.frame.DataFrame'> (305715, 61)\n",
            "<class 'pandas.core.frame.DataFrame'> (76429, 61)\n",
            "run fit\n",
            "\n",
            "Epoch 1/20\n",
            "\u001b[1m9554/9554\u001b[0m \u001b[32m━━━━━━━━━━━━━━━━━━━━\u001b[0m\u001b[37m\u001b[0m \u001b[1m11s\u001b[0m 1ms/step - accuracy: 0.5984 - loss: 1.8837 - top_k_categorical_accuracy: 0.7070 - val_accuracy: 0.6507 - val_loss: 1.5777 - val_top_k_categorical_accuracy: 0.7387\n",
            "Epoch 2/20\n",
            "\u001b[1m9554/9554\u001b[0m \u001b[32m━━━━━━━━━━━━━━━━━━━━\u001b[0m\u001b[37m\u001b[0m \u001b[1m10s\u001b[0m 1ms/step - accuracy: 0.6278 - loss: 1.4719 - top_k_categorical_accuracy: 0.7334 - val_accuracy: 0.6503 - val_loss: 1.5490 - val_top_k_categorical_accuracy: 0.7388\n",
            "Epoch 3/20\n",
            "\u001b[1m9554/9554\u001b[0m \u001b[32m━━━━━━━━━━━━━━━━━━━━\u001b[0m\u001b[37m\u001b[0m \u001b[1m10s\u001b[0m 1ms/step - accuracy: 0.6275 - loss: 1.4497 - top_k_categorical_accuracy: 0.7328 - val_accuracy: 0.6507 - val_loss: 1.5361 - val_top_k_categorical_accuracy: 0.7391\n",
            "Epoch 4/20\n",
            "\u001b[1m9554/9554\u001b[0m \u001b[32m━━━━━━━━━━━━━━━━━━━━\u001b[0m\u001b[37m\u001b[0m \u001b[1m10s\u001b[0m 1ms/step - accuracy: 0.6268 - loss: 1.4445 - top_k_categorical_accuracy: 0.7316 - val_accuracy: 0.6509 - val_loss: 1.5346 - val_top_k_categorical_accuracy: 0.7392\n",
            "Epoch 5/20\n",
            "\u001b[1m9554/9554\u001b[0m \u001b[32m━━━━━━━━━━━━━━━━━━━━\u001b[0m\u001b[37m\u001b[0m \u001b[1m10s\u001b[0m 1ms/step - accuracy: 0.6274 - loss: 1.4363 - top_k_categorical_accuracy: 0.7323 - val_accuracy: 0.6507 - val_loss: 1.5300 - val_top_k_categorical_accuracy: 0.7386\n",
            "Epoch 6/20\n",
            "\u001b[1m9554/9554\u001b[0m \u001b[32m━━━━━━━━━━━━━━━━━━━━\u001b[0m\u001b[37m\u001b[0m \u001b[1m10s\u001b[0m 1ms/step - accuracy: 0.6277 - loss: 1.4297 - top_k_categorical_accuracy: 0.7333 - val_accuracy: 0.6512 - val_loss: 1.5292 - val_top_k_categorical_accuracy: 0.7391\n",
            "Epoch 7/20\n",
            "\u001b[1m9554/9554\u001b[0m \u001b[32m━━━━━━━━━━━━━━━━━━━━\u001b[0m\u001b[37m\u001b[0m \u001b[1m10s\u001b[0m 1ms/step - accuracy: 0.6290 - loss: 1.4249 - top_k_categorical_accuracy: 0.7335 - val_accuracy: 0.6513 - val_loss: 1.5219 - val_top_k_categorical_accuracy: 0.7392\n",
            "Epoch 8/20\n",
            "\u001b[1m9554/9554\u001b[0m \u001b[32m━━━━━━━━━━━━━━━━━━━━\u001b[0m\u001b[37m\u001b[0m \u001b[1m10s\u001b[0m 1ms/step - accuracy: 0.6273 - loss: 1.4291 - top_k_categorical_accuracy: 0.7319 - val_accuracy: 0.6502 - val_loss: 1.5257 - val_top_k_categorical_accuracy: 0.7386\n",
            "Epoch 9/20\n",
            "\u001b[1m9554/9554\u001b[0m \u001b[32m━━━━━━━━━━━━━━━━━━━━\u001b[0m\u001b[37m\u001b[0m \u001b[1m10s\u001b[0m 1ms/step - accuracy: 0.6284 - loss: 1.4216 - top_k_categorical_accuracy: 0.7328 - val_accuracy: 0.6513 - val_loss: 1.5273 - val_top_k_categorical_accuracy: 0.7393\n",
            "Epoch 10/20\n",
            "\u001b[1m9554/9554\u001b[0m \u001b[32m━━━━━━━━━━━━━━━━━━━━\u001b[0m\u001b[37m\u001b[0m \u001b[1m10s\u001b[0m 1ms/step - accuracy: 0.6277 - loss: 1.4237 - top_k_categorical_accuracy: 0.7326 - val_accuracy: 0.6513 - val_loss: 1.5328 - val_top_k_categorical_accuracy: 0.7387\n",
            "Epoch 11/20\n",
            "\u001b[1m9554/9554\u001b[0m \u001b[32m━━━━━━━━━━━━━━━━━━━━\u001b[0m\u001b[37m\u001b[0m \u001b[1m10s\u001b[0m 1ms/step - accuracy: 0.6282 - loss: 1.4199 - top_k_categorical_accuracy: 0.7332 - val_accuracy: 0.6517 - val_loss: 1.5226 - val_top_k_categorical_accuracy: 0.7389\n",
            "Epoch 12/20\n",
            "\u001b[1m9554/9554\u001b[0m \u001b[32m━━━━━━━━━━━━━━━━━━━━\u001b[0m\u001b[37m\u001b[0m \u001b[1m10s\u001b[0m 1ms/step - accuracy: 0.6278 - loss: 1.4198 - top_k_categorical_accuracy: 0.7331 - val_accuracy: 0.6504 - val_loss: 1.5163 - val_top_k_categorical_accuracy: 0.7385\n",
            "Epoch 13/20\n",
            "\u001b[1m9554/9554\u001b[0m \u001b[32m━━━━━━━━━━━━━━━━━━━━\u001b[0m\u001b[37m\u001b[0m \u001b[1m10s\u001b[0m 1ms/step - accuracy: 0.6288 - loss: 1.4185 - top_k_categorical_accuracy: 0.7327 - val_accuracy: 0.6514 - val_loss: 1.5184 - val_top_k_categorical_accuracy: 0.7390\n",
            "Epoch 14/20\n",
            "\u001b[1m9554/9554\u001b[0m \u001b[32m━━━━━━━━━━━━━━━━━━━━\u001b[0m\u001b[37m\u001b[0m \u001b[1m10s\u001b[0m 1ms/step - accuracy: 0.6279 - loss: 1.4196 - top_k_categorical_accuracy: 0.7327 - val_accuracy: 0.6138 - val_loss: 1.5301 - val_top_k_categorical_accuracy: 0.7379\n",
            "Epoch 15/20\n",
            "\u001b[1m9554/9554\u001b[0m \u001b[32m━━━━━━━━━━━━━━━━━━━━\u001b[0m\u001b[37m\u001b[0m \u001b[1m10s\u001b[0m 1ms/step - accuracy: 0.6298 - loss: 1.4114 - top_k_categorical_accuracy: 0.7345 - val_accuracy: 0.6511 - val_loss: 1.5069 - val_top_k_categorical_accuracy: 0.7380\n",
            "Epoch 16/20\n",
            "\u001b[1m9554/9554\u001b[0m \u001b[32m━━━━━━━━━━━━━━━━━━━━\u001b[0m\u001b[37m\u001b[0m \u001b[1m10s\u001b[0m 1ms/step - accuracy: 0.6283 - loss: 1.4140 - top_k_categorical_accuracy: 0.7335 - val_accuracy: 0.6513 - val_loss: 1.5059 - val_top_k_categorical_accuracy: 0.7387\n",
            "Epoch 17/20\n",
            "\u001b[1m9554/9554\u001b[0m \u001b[32m━━━━━━━━━━━━━━━━━━━━\u001b[0m\u001b[37m\u001b[0m \u001b[1m10s\u001b[0m 1ms/step - accuracy: 0.6289 - loss: 1.4158 - top_k_categorical_accuracy: 0.7324 - val_accuracy: 0.6512 - val_loss: 1.5158 - val_top_k_categorical_accuracy: 0.7384\n",
            "Epoch 18/20\n",
            "\u001b[1m9554/9554\u001b[0m \u001b[32m━━━━━━━━━━━━━━━━━━━━\u001b[0m\u001b[37m\u001b[0m \u001b[1m11s\u001b[0m 1ms/step - accuracy: 0.6278 - loss: 1.4152 - top_k_categorical_accuracy: 0.7310 - val_accuracy: 0.6511 - val_loss: 1.5146 - val_top_k_categorical_accuracy: 0.7380\n",
            "Epoch 19/20\n",
            "\u001b[1m9554/9554\u001b[0m \u001b[32m━━━━━━━━━━━━━━━━━━━━\u001b[0m\u001b[37m\u001b[0m \u001b[1m11s\u001b[0m 1ms/step - accuracy: 0.6277 - loss: 1.4159 - top_k_categorical_accuracy: 0.7324 - val_accuracy: 0.6512 - val_loss: 1.5110 - val_top_k_categorical_accuracy: 0.7383\n",
            "Epoch 20/20\n",
            "\u001b[1m9554/9554\u001b[0m \u001b[32m━━━━━━━━━━━━━━━━━━━━\u001b[0m\u001b[37m\u001b[0m \u001b[1m11s\u001b[0m 1ms/step - accuracy: 0.6286 - loss: 1.4111 - top_k_categorical_accuracy: 0.7332 - val_accuracy: 0.6513 - val_loss: 1.5174 - val_top_k_categorical_accuracy: 0.7387\n",
            "\u001b[1m2389/2389\u001b[0m \u001b[32m━━━━━━━━━━━━━━━━━━━━\u001b[0m\u001b[37m\u001b[0m \u001b[1m1s\u001b[0m 505us/step - accuracy: 0.6323 - loss: 1.3102 - top_k_categorical_accuracy: 0.7499\n",
            "Testing accuracy: 0.6293160915374756 \n",
            "Top-2 accuracy: 0.7340930700302124 \n",
            "Test loss: 1.41123366355896\n",
            "Ending Training at 2024-07-11 12:27:09.334994\n",
            "Training took 0:03:30.985091\n"
          ]
        },
        {
          "data": {
            "text/plain": [
              "0.6293160915374756"
            ]
          },
          "execution_count": 10,
          "metadata": {},
          "output_type": "execute_result"
        }
      ],
      "source": [
        "KerasNN_model.run_pipeline(data=data)\n"
      ]
    },
    {
      "cell_type": "code",
      "execution_count": 11,
      "metadata": {},
      "outputs": [
        {
          "name": "stdout",
          "output_type": "stream",
          "text": [
            "Checking files_dict\n",
            "files_dict is None\n",
            "trying to call get311URLs\n",
            "trying to get csv URLs\n"
          ]
        },
        {
          "name": "stdout",
          "output_type": "stream",
          "text": [
            "Found URL: https://data.boston.gov/dataset/8048697b-ad64-4bfc-b090-ee00169f2323/resource/dff4d804-5031-443a-8409-8344efd0e5c8/download/tmpbyxp9x5h.csv for year 2024\n",
            "Found URL: https://data.boston.gov/dataset/8048697b-ad64-4bfc-b090-ee00169f2323/resource/e6013a93-1321-4f2a-bf91-8d8a02f1e62f/download/tmp182oee02.csv for year 2023\n",
            "Found URL: https://data.boston.gov/dataset/8048697b-ad64-4bfc-b090-ee00169f2323/resource/81a7b022-f8fc-4da5-80e4-b160058ca207/download/tmpfm8veglw.csv for year 2022\n",
            "Found URL: https://data.boston.gov/dataset/8048697b-ad64-4bfc-b090-ee00169f2323/resource/f53ebccd-bc61-49f9-83db-625f209c95f5/download/tmp88p9g82n.csv for year 2021\n",
            "Found URL: https://data.boston.gov/dataset/8048697b-ad64-4bfc-b090-ee00169f2323/resource/6ff6a6fd-3141-4440-a880-6f60a37fe789/download/tmpcv_10m2s.csv for year 2020\n",
            "Found URL: https://data.boston.gov/dataset/8048697b-ad64-4bfc-b090-ee00169f2323/resource/ea2e4696-4a2d-429c-9807-d02eb92e0222/download/tmpcje3ep_w.csv for year 2019\n",
            "Found URL: https://data.boston.gov/dataset/8048697b-ad64-4bfc-b090-ee00169f2323/resource/2be28d90-3a90-4af1-a3f6-f28c1e25880a/download/tmp7602cia8.csv for year 2018\n",
            "Found URL: https://data.boston.gov/dataset/8048697b-ad64-4bfc-b090-ee00169f2323/resource/30022137-709d-465e-baae-ca155b51927d/download/tmpzccn8u4q.csv for year 2017\n",
            "Found URL: https://data.boston.gov/dataset/8048697b-ad64-4bfc-b090-ee00169f2323/resource/b7ea6b1b-3ca4-4c5b-9713-6dc1db52379a/download/tmpzxzxeqfb.csv for year 2016\n",
            "Found URL: https://data.boston.gov/dataset/8048697b-ad64-4bfc-b090-ee00169f2323/resource/c9509ab4-6f6d-4b97-979a-0cf2a10c922b/download/tmphrybkxuh.csv for year 2015\n",
            "Found URL: https://data.boston.gov/dataset/8048697b-ad64-4bfc-b090-ee00169f2323/resource/bdae89c8-d4ce-40e9-a6e1-a5203953a2e0/download/tmp8afxvko_.csv for year 2014\n",
            "Found URL: https://data.boston.gov/dataset/8048697b-ad64-4bfc-b090-ee00169f2323/resource/407c5cd0-f764-4a41-adf8-054ff535049e/download/tmpyzk_wmya.csv for year 2013\n",
            "Found URL: https://data.boston.gov/dataset/8048697b-ad64-4bfc-b090-ee00169f2323/resource/382e10d9-1864-40ba-bef6-4eea3c75463c/download/tmpeyvgdt5u.csv for year 2012\n",
            "Found URL: https://data.boston.gov/dataset/8048697b-ad64-4bfc-b090-ee00169f2323/resource/94b499d9-712a-4d2a-b790-7ceec5c9c4b1/download/tmp_9ogynu0.csv for year 2011\n",
            "files_dict is {'2024': 'https://data.boston.gov/dataset/8048697b-ad64-4bfc-b090-ee00169f2323/resource/dff4d804-5031-443a-8409-8344efd0e5c8/download/tmpbyxp9x5h.csv', '2023': 'https://data.boston.gov/dataset/8048697b-ad64-4bfc-b090-ee00169f2323/resource/e6013a93-1321-4f2a-bf91-8d8a02f1e62f/download/tmp182oee02.csv', '2022': 'https://data.boston.gov/dataset/8048697b-ad64-4bfc-b090-ee00169f2323/resource/81a7b022-f8fc-4da5-80e4-b160058ca207/download/tmpfm8veglw.csv', '2021': 'https://data.boston.gov/dataset/8048697b-ad64-4bfc-b090-ee00169f2323/resource/f53ebccd-bc61-49f9-83db-625f209c95f5/download/tmp88p9g82n.csv', '2020': 'https://data.boston.gov/dataset/8048697b-ad64-4bfc-b090-ee00169f2323/resource/6ff6a6fd-3141-4440-a880-6f60a37fe789/download/tmpcv_10m2s.csv', '2019': 'https://data.boston.gov/dataset/8048697b-ad64-4bfc-b090-ee00169f2323/resource/ea2e4696-4a2d-429c-9807-d02eb92e0222/download/tmpcje3ep_w.csv', '2018': 'https://data.boston.gov/dataset/8048697b-ad64-4bfc-b090-ee00169f2323/resource/2be28d90-3a90-4af1-a3f6-f28c1e25880a/download/tmp7602cia8.csv', '2017': 'https://data.boston.gov/dataset/8048697b-ad64-4bfc-b090-ee00169f2323/resource/30022137-709d-465e-baae-ca155b51927d/download/tmpzccn8u4q.csv', '2016': 'https://data.boston.gov/dataset/8048697b-ad64-4bfc-b090-ee00169f2323/resource/b7ea6b1b-3ca4-4c5b-9713-6dc1db52379a/download/tmpzxzxeqfb.csv', '2015': 'https://data.boston.gov/dataset/8048697b-ad64-4bfc-b090-ee00169f2323/resource/c9509ab4-6f6d-4b97-979a-0cf2a10c922b/download/tmphrybkxuh.csv', '2014': 'https://data.boston.gov/dataset/8048697b-ad64-4bfc-b090-ee00169f2323/resource/bdae89c8-d4ce-40e9-a6e1-a5203953a2e0/download/tmp8afxvko_.csv', '2013': 'https://data.boston.gov/dataset/8048697b-ad64-4bfc-b090-ee00169f2323/resource/407c5cd0-f764-4a41-adf8-054ff535049e/download/tmpyzk_wmya.csv', '2012': 'https://data.boston.gov/dataset/8048697b-ad64-4bfc-b090-ee00169f2323/resource/382e10d9-1864-40ba-bef6-4eea3c75463c/download/tmpeyvgdt5u.csv', '2011': 'https://data.boston.gov/dataset/8048697b-ad64-4bfc-b090-ee00169f2323/resource/94b499d9-712a-4d2a-b790-7ceec5c9c4b1/download/tmp_9ogynu0.csv'}\n",
            "columns in data before drop: Index(['case_enquiry_id', 'open_dt', 'sla_target_dt', 'closed_dt', 'on_time',\n",
            "       'case_status', 'closure_reason', 'case_title', 'subject', 'reason',\n",
            "       'type', 'queue', 'department', 'submitted_photo', 'closed_photo',\n",
            "       'location', 'fire_district', 'pwd_district', 'city_council_district',\n",
            "       'police_district', 'neighborhood', 'neighborhood_services_district',\n",
            "       'ward', 'precinct', 'location_street_name', 'location_zipcode',\n",
            "       'latitude', 'longitude', 'geom_4326', 'source', 'survival_time',\n",
            "       'event', 'ward_number', 'survival_time_hours'],\n",
            "      dtype='object')\n",
            "columns to drop: Index(['case_status', 'case_title', 'city_council_district', 'closed_dt',\n",
            "       'closed_photo', 'closure_reason', 'fire_district', 'geom_4326',\n",
            "       'latitude', 'location', 'location_street_name', 'location_zipcode',\n",
            "       'longitude', 'neighborhood', 'neighborhood_services_district',\n",
            "       'on_time', 'open_dt', 'police_district', 'precinct', 'pwd_district',\n",
            "       'sla_target_dt', 'source', 'submitted_photo', 'survival_time', 'type',\n",
            "       'ward', 'ward_number'],\n",
            "      dtype='object')\n",
            "columns in data before ohewfd: Index(['case_enquiry_id', 'subject', 'reason', 'queue', 'department', 'event',\n",
            "       'survival_time_hours'],\n",
            "      dtype='object')\n",
            "\u001b[1m768/768\u001b[0m \u001b[32m━━━━━━━━━━━━━━━━━━━━\u001b[0m\u001b[37m\u001b[0m \u001b[1m0s\u001b[0m 489us/step\n"
          ]
        }
      ],
      "source": [
        "predictions = KerasNN_model.predict()"
      ]
    },
    {
      "cell_type": "code",
      "execution_count": 12,
      "metadata": {},
      "outputs": [
        {
          "name": "stdout",
          "output_type": "stream",
          "text": [
            "(array([[6.9874245e-01, 1.1576772e-01, 7.2598800e-02, ..., 3.4427514e-05,\n",
            "        3.9642571e-05, 1.4063848e-02],\n",
            "       [8.6184859e-02, 1.4957829e-01, 1.1446991e-01, ..., 2.2139282e-03,\n",
            "        3.3252705e-03, 2.3656711e-01],\n",
            "       [6.9874245e-01, 1.1576772e-01, 7.2598800e-02, ..., 3.4427514e-05,\n",
            "        3.9642571e-05, 1.4063848e-02],\n",
            "       ...,\n",
            "       [8.6184859e-02, 1.4957829e-01, 1.1446991e-01, ..., 2.2139282e-03,\n",
            "        3.3252705e-03, 2.3656711e-01],\n",
            "       [3.7031710e-01, 1.1200211e-01, 7.9096444e-02, ..., 1.5000901e-04,\n",
            "        1.8015578e-04, 1.3718456e-02],\n",
            "       [3.7031710e-01, 1.1200211e-01, 7.9096444e-02, ..., 1.5000901e-04,\n",
            "        1.8015578e-04, 1.3718456e-02]], dtype=float32),         case_enquiry_id             open_dt        sla_target_dt  \\\n",
            "20838      101005511042 2024-06-11 03:03:18  2024-06-12 04:30:00   \n",
            "20839      101005510988 2024-06-11 01:50:47                  NaN   \n",
            "20840      101005510993 2024-06-11 01:57:31  2024-06-12 04:30:00   \n",
            "20841      101005511009 2024-06-11 02:33:23  2024-06-12 04:30:00   \n",
            "20843      101005511013 2024-06-11 02:37:14                  NaN   \n",
            "...                 ...                 ...                  ...   \n",
            "153929     101005562855 2024-07-10 07:32:00  2024-07-11 07:32:57   \n",
            "153930     101005562645 2024-07-10 06:13:37  2024-07-11 06:13:39   \n",
            "153932     101005562861 2024-07-10 07:38:00                  NaN   \n",
            "153934     101005562658 2024-07-10 06:16:00  2024-07-31 06:16:18   \n",
            "153935     101005563002 2024-07-10 09:01:00  2024-07-31 09:01:33   \n",
            "\n",
            "                 closed_dt  on_time case_status  \\\n",
            "20838                  NaT  OVERDUE        Open   \n",
            "20839                  NaT   ONTIME        Open   \n",
            "20840                  NaT  OVERDUE        Open   \n",
            "20841                  NaT  OVERDUE        Open   \n",
            "20843  2024-06-11 03:01:16   ONTIME      Closed   \n",
            "...                    ...      ...         ...   \n",
            "153929                 NaT   ONTIME        Open   \n",
            "153930                 NaT   ONTIME        Open   \n",
            "153932                 NaT   ONTIME        Open   \n",
            "153934                 NaT   ONTIME        Open   \n",
            "153935                 NaT   ONTIME        Open   \n",
            "\n",
            "                                           closure_reason  \\\n",
            "20838                                                       \n",
            "20839                                                       \n",
            "20840                                                       \n",
            "20841                                                       \n",
            "20843   Case Closed. Closed date : Tue Jun 11 07:01:16...   \n",
            "...                                                   ...   \n",
            "153929                                                      \n",
            "153930                                                      \n",
            "153932                                                      \n",
            "153934                                                      \n",
            "153935                                                      \n",
            "\n",
            "                          case_title                            subject  \\\n",
            "20838            Parking Enforcement  Transportation - Traffic Division   \n",
            "20839      Schedule Bulk Item Pickup            Public Works Department   \n",
            "20840            Parking Enforcement  Transportation - Traffic Division   \n",
            "20841            Parking Enforcement  Transportation - Traffic Division   \n",
            "20843                  Needle Pickup            Mayor's 24 Hour Hotline   \n",
            "...                              ...                                ...   \n",
            "153929  Requests for Street Cleaning            Public Works Department   \n",
            "153930           Parking Enforcement  Transportation - Traffic Division   \n",
            "153932   Schedule a Bulk Item Pickup            Public Works Department   \n",
            "153934    Request for Recycling Cart            Public Works Department   \n",
            "153935    Request for Recycling Cart            Public Works Department   \n",
            "\n",
            "                                  reason  ... location_street_name  \\\n",
            "20838   Enforcement & Abandoned Vehicles  ...         17 Loring St   \n",
            "20839                         Sanitation  ...          9 Walton St   \n",
            "20840   Enforcement & Abandoned Vehicles  ...     1512 Columbia Rd   \n",
            "20841   Enforcement & Abandoned Vehicles  ...      26 Browning Ave   \n",
            "20843                     Needle Program  ...  86 W Springfield St   \n",
            "...                                  ...  ...                  ...   \n",
            "153929                   Street Cleaning  ...      293 Shawmut Ave   \n",
            "153930  Enforcement & Abandoned Vehicles  ...        14 Stanley St   \n",
            "153932                        Sanitation  ...      34 Larchmont St   \n",
            "153934                         Recycling  ...        78 Davison St   \n",
            "153935                         Recycling  ...      101-103 Rowe St   \n",
            "\n",
            "       location_zipcode   latitude  longitude  \\\n",
            "20838            2127.0  42.334341 -71.052153   \n",
            "20839            2124.0  42.287080 -71.070691   \n",
            "20840            2127.0  42.330689 -71.040250   \n",
            "20841            2124.0  42.294033 -71.081696   \n",
            "20843            2118.0  42.337260 -71.076901   \n",
            "...                 ...        ...        ...   \n",
            "153929           2118.0  42.342760 -71.069911   \n",
            "153930           2125.0  42.311080 -71.068181   \n",
            "153932           2124.0  42.296730 -71.069081   \n",
            "153934           2136.0  42.258050 -71.117541   \n",
            "153935           2131.0  42.281290 -71.120781   \n",
            "\n",
            "                                                geom_4326  \\\n",
            "20838   0101000020E61000004632947B56C351C0E8AF82ABCB2A...   \n",
            "20839   0101000020E610000088A3013286C451C0C184BF05BF24...   \n",
            "20840   0101000020E61000006029B37693C251C0650B9208542A...   \n",
            "20841   0101000020E6100000C77056823AC551C05198C4E0A225...   \n",
            "20843   0101000020E6100000845239F0EBC451C0CAC020522B2B...   \n",
            "...                                                   ...   \n",
            "153929  0101000020E6100000A519EC6979C451C084C8638BDF2B...   \n",
            "153930  0101000020E61000004A600E125DC451C01D414B74D127...   \n",
            "153932  0101000020E6100000E4B912D16BC451C07D3CCB3BFB25...   \n",
            "153934  0101000020E610000096C3DDC985C751C046F80AC50721...   \n",
            "153935  0101000020E6100000DE4839DFBAC751C0A35B4D4C0124...   \n",
            "\n",
            "                      source   survival_time event ward_number  \\\n",
            "20838   Citizens Connect App             NaT     0           6   \n",
            "20839           Self Service             NaT     0          17   \n",
            "20840   Citizens Connect App             NaT     0           7   \n",
            "20841   Citizens Connect App             NaT     0          14   \n",
            "20843   Citizens Connect App 0 days 00:24:02     1           9   \n",
            "...                      ...             ...   ...         ...   \n",
            "153929      Constituent Call             NaT     0           3   \n",
            "153930  Citizens Connect App             NaT     0          15   \n",
            "153932      Constituent Call             NaT     0          17   \n",
            "153934      Constituent Call             NaT     0          18   \n",
            "153935      Constituent Call             NaT     0          19   \n",
            "\n",
            "       survival_time_hours  \n",
            "20838                  NaN  \n",
            "20839                  NaN  \n",
            "20840                  NaN  \n",
            "20841                  NaN  \n",
            "20843             0.400556  \n",
            "...                    ...  \n",
            "153929                 NaN  \n",
            "153930                 NaN  \n",
            "153932                 NaN  \n",
            "153934                 NaN  \n",
            "153935                 NaN  \n",
            "\n",
            "[24576 rows x 34 columns])\n"
          ]
        }
      ],
      "source": [
        "print(predictions)"
      ]
    },
    {
      "cell_type": "code",
      "execution_count": 13,
      "metadata": {},
      "outputs": [],
      "source": [
        "#set model folder constant\n",
        "MODEL_FOLDER = './daily_models'\n",
        "\n",
        "def save_model_to_dir(model, folder_name, datetime_string=None):\n",
        "    dir_path = os.path.join(MODEL_FOLDER, folder_name)\n",
        "    \n",
        "    if not os.path.exists(dir_path):\n",
        "        os.mkdir(dir_path)\n",
        "    \n",
        "    if datetime_string is None:\n",
        "        timestamp = datetime.datetime.now().strftime('%Y%m%d_%H%M%S')\n",
        "    else:\n",
        "        timestamp = datetime_string\n",
        "    \n",
        "    model_name = timestamp + \"_\" + model.model_type\n",
        "    properties_name = model_name\n",
        "    \n",
        "    model.save(dir_path, model_name, properties_name)\n",
        "\n",
        "\n",
        "save_model_to_dir(KerasNN_model, KerasNN_model.model_type, datetime_string=my_datetime_str)\n"
      ]
    }
  ],
  "metadata": {
    "colab": {
      "provenance": []
    },
    "kernelspec": {
      "display_name": "Python 3 (ipykernel)",
      "language": "python",
      "name": "python3"
    },
    "language_info": {
      "codemirror_mode": {
        "name": "ipython",
        "version": 3
      },
      "file_extension": ".py",
      "mimetype": "text/x-python",
      "name": "python",
      "nbconvert_exporter": "python",
      "pygments_lexer": "ipython3",
      "version": "3.12.3"
    }
  },
  "nbformat": 4,
  "nbformat_minor": 0
}
