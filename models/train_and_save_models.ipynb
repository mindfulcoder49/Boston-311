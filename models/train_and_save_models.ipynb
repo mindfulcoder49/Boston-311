{
  "cells": [
    {
      "cell_type": "markdown",
      "metadata": {
        "id": "P1BXqsllgueC"
      },
      "source": [
        "#Boston 311 Tutorial\n",
        "\n",
        "This notebook will run you through the basic usage of this package to train 3 models on the Boston 311 mydata and use them to predict the outcome of cases from the last 30 days"
      ]
    },
    {
      "cell_type": "code",
      "execution_count": 1,
      "metadata": {},
      "outputs": [
        {
          "name": "stdout",
          "output_type": "stream",
          "text": [
            "Defaulting to user installation because normal site-packages is not writeable\n",
            "Requirement already satisfied: keras-tuner in /home/briarmoss/.local/lib/python3.10/site-packages (1.4.0)\n",
            "Requirement already satisfied: requests in /usr/lib/python3/dist-packages (from keras-tuner) (2.25.1)\n",
            "Requirement already satisfied: kt-legacy in /home/briarmoss/.local/lib/python3.10/site-packages (from keras-tuner) (1.0.5)\n",
            "Requirement already satisfied: keras-core in /home/briarmoss/.local/lib/python3.10/site-packages (from keras-tuner) (0.1.7)\n",
            "Requirement already satisfied: packaging in /home/briarmoss/.local/lib/python3.10/site-packages (from keras-tuner) (23.1)\n",
            "Requirement already satisfied: numpy in /home/briarmoss/.local/lib/python3.10/site-packages (from keras-core->keras-tuner) (1.23.5)\n",
            "Requirement already satisfied: h5py in /home/briarmoss/.local/lib/python3.10/site-packages (from keras-core->keras-tuner) (3.8.0)\n",
            "Requirement already satisfied: rich in /home/briarmoss/.local/lib/python3.10/site-packages (from keras-core->keras-tuner) (13.5.3)\n",
            "Requirement already satisfied: absl-py in /home/briarmoss/.local/lib/python3.10/site-packages (from keras-core->keras-tuner) (1.4.0)\n",
            "Requirement already satisfied: namex in /home/briarmoss/.local/lib/python3.10/site-packages (from keras-core->keras-tuner) (0.0.7)\n",
            "Requirement already satisfied: dm-tree in /home/briarmoss/.local/lib/python3.10/site-packages (from keras-core->keras-tuner) (0.1.8)\n",
            "Requirement already satisfied: pygments<3.0.0,>=2.13.0 in /home/briarmoss/.local/lib/python3.10/site-packages (from rich->keras-core->keras-tuner) (2.15.1)\n",
            "Requirement already satisfied: markdown-it-py>=2.2.0 in /home/briarmoss/.local/lib/python3.10/site-packages (from rich->keras-core->keras-tuner) (3.0.0)\n",
            "Requirement already satisfied: mdurl~=0.1 in /home/briarmoss/.local/lib/python3.10/site-packages (from markdown-it-py>=2.2.0->rich->keras-core->keras-tuner) (0.1.2)\n"
          ]
        }
      ],
      "source": [
        "!pip install keras-tuner"
      ]
    },
    {
      "cell_type": "code",
      "execution_count": 2,
      "metadata": {},
      "outputs": [
        {
          "name": "stdout",
          "output_type": "stream",
          "text": [
            "Defaulting to user installation because normal site-packages is not writeable\n",
            "Processing /home/briarmoss/Documents/Boston_311\n",
            "  Installing build dependencies ... \u001b[?25ldone\n",
            "\u001b[?25h  Getting requirements to build wheel ... \u001b[?25ldone\n",
            "\u001b[?25h  Preparing metadata (pyproject.toml) ... \u001b[?25ldone\n",
            "\u001b[?25hRequirement already satisfied: numpy in /home/briarmoss/.local/lib/python3.10/site-packages (from boston311==0.1.0) (1.23.5)\n",
            "Requirement already satisfied: tensorflow in /home/briarmoss/.local/lib/python3.10/site-packages (from boston311==0.1.0) (2.13.0)\n",
            "Requirement already satisfied: scikit-learn in /home/briarmoss/.local/lib/python3.10/site-packages (from boston311==0.1.0) (1.2.2)\n",
            "Requirement already satisfied: matplotlib in /usr/lib/python3/dist-packages (from boston311==0.1.0) (3.5.1)\n",
            "Requirement already satisfied: pandas in /home/briarmoss/.local/lib/python3.10/site-packages (from boston311==0.1.0) (2.0.2)\n",
            "Requirement already satisfied: python-dateutil>=2.8.2 in /home/briarmoss/.local/lib/python3.10/site-packages (from pandas->boston311==0.1.0) (2.8.2)\n",
            "Requirement already satisfied: pytz>=2020.1 in /usr/lib/python3/dist-packages (from pandas->boston311==0.1.0) (2022.1)\n",
            "Requirement already satisfied: tzdata>=2022.1 in /home/briarmoss/.local/lib/python3.10/site-packages (from pandas->boston311==0.1.0) (2023.3)\n",
            "Requirement already satisfied: joblib>=1.1.1 in /home/briarmoss/.local/lib/python3.10/site-packages (from scikit-learn->boston311==0.1.0) (1.2.0)\n",
            "Requirement already satisfied: scipy>=1.3.2 in /home/briarmoss/.local/lib/python3.10/site-packages (from scikit-learn->boston311==0.1.0) (1.10.1)\n",
            "Requirement already satisfied: threadpoolctl>=2.0.0 in /home/briarmoss/.local/lib/python3.10/site-packages (from scikit-learn->boston311==0.1.0) (3.1.0)\n",
            "Requirement already satisfied: protobuf!=4.21.0,!=4.21.1,!=4.21.2,!=4.21.3,!=4.21.4,!=4.21.5,<5.0.0dev,>=3.20.3 in /home/briarmoss/.local/lib/python3.10/site-packages (from tensorflow->boston311==0.1.0) (4.23.3)\n",
            "Requirement already satisfied: wrapt>=1.11.0 in /home/briarmoss/.local/lib/python3.10/site-packages (from tensorflow->boston311==0.1.0) (1.14.1)\n",
            "Requirement already satisfied: astunparse>=1.6.0 in /home/briarmoss/.local/lib/python3.10/site-packages (from tensorflow->boston311==0.1.0) (1.6.3)\n",
            "Requirement already satisfied: libclang>=13.0.0 in /home/briarmoss/.local/lib/python3.10/site-packages (from tensorflow->boston311==0.1.0) (16.0.0)\n",
            "Requirement already satisfied: setuptools in /usr/lib/python3/dist-packages (from tensorflow->boston311==0.1.0) (59.6.0)\n",
            "Requirement already satisfied: flatbuffers>=23.1.21 in /home/briarmoss/.local/lib/python3.10/site-packages (from tensorflow->boston311==0.1.0) (23.5.26)\n",
            "Requirement already satisfied: keras<2.14,>=2.13.1 in /home/briarmoss/.local/lib/python3.10/site-packages (from tensorflow->boston311==0.1.0) (2.13.1)\n",
            "Requirement already satisfied: six>=1.12.0 in /usr/lib/python3/dist-packages (from tensorflow->boston311==0.1.0) (1.16.0)\n",
            "Requirement already satisfied: h5py>=2.9.0 in /home/briarmoss/.local/lib/python3.10/site-packages (from tensorflow->boston311==0.1.0) (3.8.0)\n",
            "Requirement already satisfied: typing-extensions<4.6.0,>=3.6.6 in /home/briarmoss/.local/lib/python3.10/site-packages (from tensorflow->boston311==0.1.0) (4.5.0)\n",
            "Requirement already satisfied: opt-einsum>=2.3.2 in /home/briarmoss/.local/lib/python3.10/site-packages (from tensorflow->boston311==0.1.0) (3.3.0)\n",
            "Requirement already satisfied: absl-py>=1.0.0 in /home/briarmoss/.local/lib/python3.10/site-packages (from tensorflow->boston311==0.1.0) (1.4.0)\n",
            "Requirement already satisfied: google-pasta>=0.1.1 in /home/briarmoss/.local/lib/python3.10/site-packages (from tensorflow->boston311==0.1.0) (0.2.0)\n",
            "Requirement already satisfied: packaging in /home/briarmoss/.local/lib/python3.10/site-packages (from tensorflow->boston311==0.1.0) (23.1)\n",
            "Requirement already satisfied: tensorflow-io-gcs-filesystem>=0.23.1 in /home/briarmoss/.local/lib/python3.10/site-packages (from tensorflow->boston311==0.1.0) (0.32.0)\n",
            "Requirement already satisfied: tensorflow-estimator<2.14,>=2.13.0 in /home/briarmoss/.local/lib/python3.10/site-packages (from tensorflow->boston311==0.1.0) (2.13.0)\n",
            "Requirement already satisfied: grpcio<2.0,>=1.24.3 in /home/briarmoss/.local/lib/python3.10/site-packages (from tensorflow->boston311==0.1.0) (1.54.2)\n",
            "Requirement already satisfied: tensorboard<2.14,>=2.13 in /home/briarmoss/.local/lib/python3.10/site-packages (from tensorflow->boston311==0.1.0) (2.13.0)\n",
            "Requirement already satisfied: termcolor>=1.1.0 in /home/briarmoss/.local/lib/python3.10/site-packages (from tensorflow->boston311==0.1.0) (2.3.0)\n",
            "Requirement already satisfied: gast<=0.4.0,>=0.2.1 in /home/briarmoss/.local/lib/python3.10/site-packages (from tensorflow->boston311==0.1.0) (0.4.0)\n",
            "Requirement already satisfied: wheel<1.0,>=0.23.0 in /usr/lib/python3/dist-packages (from astunparse>=1.6.0->tensorflow->boston311==0.1.0) (0.37.1)\n",
            "Requirement already satisfied: tensorboard-data-server<0.8.0,>=0.7.0 in /home/briarmoss/.local/lib/python3.10/site-packages (from tensorboard<2.14,>=2.13->tensorflow->boston311==0.1.0) (0.7.1)\n",
            "Requirement already satisfied: google-auth<3,>=1.6.3 in /home/briarmoss/.local/lib/python3.10/site-packages (from tensorboard<2.14,>=2.13->tensorflow->boston311==0.1.0) (2.20.0)\n",
            "Requirement already satisfied: requests<3,>=2.21.0 in /usr/lib/python3/dist-packages (from tensorboard<2.14,>=2.13->tensorflow->boston311==0.1.0) (2.25.1)\n",
            "Requirement already satisfied: markdown>=2.6.8 in /home/briarmoss/.local/lib/python3.10/site-packages (from tensorboard<2.14,>=2.13->tensorflow->boston311==0.1.0) (3.4.3)\n",
            "Requirement already satisfied: google-auth-oauthlib<1.1,>=0.5 in /home/briarmoss/.local/lib/python3.10/site-packages (from tensorboard<2.14,>=2.13->tensorflow->boston311==0.1.0) (1.0.0)\n",
            "Requirement already satisfied: werkzeug>=1.0.1 in /home/briarmoss/.local/lib/python3.10/site-packages (from tensorboard<2.14,>=2.13->tensorflow->boston311==0.1.0) (2.3.6)\n",
            "Requirement already satisfied: cachetools<6.0,>=2.0.0 in /home/briarmoss/.local/lib/python3.10/site-packages (from google-auth<3,>=1.6.3->tensorboard<2.14,>=2.13->tensorflow->boston311==0.1.0) (5.3.1)\n",
            "Requirement already satisfied: urllib3<2.0 in /usr/lib/python3/dist-packages (from google-auth<3,>=1.6.3->tensorboard<2.14,>=2.13->tensorflow->boston311==0.1.0) (1.26.5)\n",
            "Requirement already satisfied: rsa<5,>=3.1.4 in /home/briarmoss/.local/lib/python3.10/site-packages (from google-auth<3,>=1.6.3->tensorboard<2.14,>=2.13->tensorflow->boston311==0.1.0) (4.9)\n",
            "Requirement already satisfied: pyasn1-modules>=0.2.1 in /home/briarmoss/.local/lib/python3.10/site-packages (from google-auth<3,>=1.6.3->tensorboard<2.14,>=2.13->tensorflow->boston311==0.1.0) (0.3.0)\n",
            "Requirement already satisfied: requests-oauthlib>=0.7.0 in /home/briarmoss/.local/lib/python3.10/site-packages (from google-auth-oauthlib<1.1,>=0.5->tensorboard<2.14,>=2.13->tensorflow->boston311==0.1.0) (1.3.1)\n",
            "Requirement already satisfied: MarkupSafe>=2.1.1 in /home/briarmoss/.local/lib/python3.10/site-packages (from werkzeug>=1.0.1->tensorboard<2.14,>=2.13->tensorflow->boston311==0.1.0) (2.1.3)\n",
            "Requirement already satisfied: pyasn1<0.6.0,>=0.4.6 in /home/briarmoss/.local/lib/python3.10/site-packages (from pyasn1-modules>=0.2.1->google-auth<3,>=1.6.3->tensorboard<2.14,>=2.13->tensorflow->boston311==0.1.0) (0.5.0)\n",
            "Requirement already satisfied: oauthlib>=3.0.0 in /usr/lib/python3/dist-packages (from requests-oauthlib>=0.7.0->google-auth-oauthlib<1.1,>=0.5->tensorboard<2.14,>=2.13->tensorflow->boston311==0.1.0) (3.2.0)\n",
            "Building wheels for collected packages: boston311\n",
            "  Building wheel for boston311 (pyproject.toml) ... \u001b[?25ldone\n",
            "\u001b[?25h  Created wheel for boston311: filename=boston311-0.1.0-py3-none-any.whl size=18803 sha256=5b7e505bb3d885c812c017c4962a00a6f68ba7b62559e20b1497d23f46f1f289\n",
            "  Stored in directory: /tmp/pip-ephem-wheel-cache-nsalehyp/wheels/3d/69/ee/0a6ac96b9c09c948fc0e74f2724a9703aa39749a41fa757c9e\n",
            "Successfully built boston311\n",
            "Installing collected packages: boston311\n",
            "  Attempting uninstall: boston311\n",
            "    Found existing installation: boston311 0.1.0\n",
            "    Uninstalling boston311-0.1.0:\n",
            "      Successfully uninstalled boston311-0.1.0\n",
            "Successfully installed boston311-0.1.0\n"
          ]
        }
      ],
      "source": [
        "! pip install ../"
      ]
    },
    {
      "cell_type": "markdown",
      "metadata": {
        "id": "XP7Hzen_iEAl"
      },
      "source": [
        "##Import the Boston311Model class"
      ]
    },
    {
      "cell_type": "code",
      "execution_count": 3,
      "metadata": {},
      "outputs": [],
      "source": [
        "import os\n",
        "import pandas as pd"
      ]
    },
    {
      "cell_type": "code",
      "execution_count": 4,
      "metadata": {
        "id": "LdhJESm7eWaY"
      },
      "outputs": [
        {
          "name": "stderr",
          "output_type": "stream",
          "text": [
            "2023-09-25 14:17:54.849157: I tensorflow/tsl/cuda/cudart_stub.cc:28] Could not find cuda drivers on your machine, GPU will not be used.\n",
            "2023-09-25 14:17:55.007695: I tensorflow/tsl/cuda/cudart_stub.cc:28] Could not find cuda drivers on your machine, GPU will not be used.\n",
            "2023-09-25 14:17:55.008713: I tensorflow/core/platform/cpu_feature_guard.cc:182] This TensorFlow binary is optimized to use available CPU instructions in performance-critical operations.\n",
            "To enable the following instructions: AVX2 FMA, in other operations, rebuild TensorFlow with the appropriate compiler flags.\n",
            "2023-09-25 14:17:55.711694: W tensorflow/compiler/tf2tensorrt/utils/py_utils.cc:38] TF-TRT Warning: Could not find TensorRT\n"
          ]
        },
        {
          "name": "stdout",
          "output_type": "stream",
          "text": [
            "Using TensorFlow backend\n"
          ]
        }
      ],
      "source": [
        "from boston311 import Boston311LogReg, Boston311EventDecTree, Boston311SurvDecTree, Boston311KerasNLP\n"
      ]
    },
    {
      "cell_type": "markdown",
      "metadata": {
        "id": "oq06XnVjPxvg"
      },
      "source": [
        "## Get latest file URLS and Current Date Ranges"
      ]
    },
    {
      "cell_type": "code",
      "execution_count": 5,
      "metadata": {
        "id": "_2FYkUb2P1LR"
      },
      "outputs": [],
      "source": [
        "latest_URLS = Boston311LogReg.get311URLs()"
      ]
    },
    {
      "cell_type": "code",
      "execution_count": 6,
      "metadata": {
        "colab": {
          "base_uri": "https://localhost:8080/"
        },
        "id": "Mpg9Czm3QDpu",
        "outputId": "5e2b399b-0999-45d4-f9f9-d80ec19941ff"
      },
      "outputs": [
        {
          "name": "stdout",
          "output_type": "stream",
          "text": [
            "{'2023': 'https://data.boston.gov/dataset/8048697b-ad64-4bfc-b090-ee00169f2323/resource/e6013a93-1321-4f2a-bf91-8d8a02f1e62f/download/tmp1m2x5llz.csv', '2022': 'https://data.boston.gov/dataset/8048697b-ad64-4bfc-b090-ee00169f2323/resource/81a7b022-f8fc-4da5-80e4-b160058ca207/download/tmpfm8veglw.csv', '2021': 'https://data.boston.gov/dataset/8048697b-ad64-4bfc-b090-ee00169f2323/resource/f53ebccd-bc61-49f9-83db-625f209c95f5/download/tmp88p9g82n.csv', '2020': 'https://data.boston.gov/dataset/8048697b-ad64-4bfc-b090-ee00169f2323/resource/6ff6a6fd-3141-4440-a880-6f60a37fe789/download/tmpcv_10m2s.csv', '2019': 'https://data.boston.gov/dataset/8048697b-ad64-4bfc-b090-ee00169f2323/resource/ea2e4696-4a2d-429c-9807-d02eb92e0222/download/tmpcje3ep_w.csv', '2018': 'https://data.boston.gov/dataset/8048697b-ad64-4bfc-b090-ee00169f2323/resource/2be28d90-3a90-4af1-a3f6-f28c1e25880a/download/tmp7602cia8.csv', '2017': 'https://data.boston.gov/dataset/8048697b-ad64-4bfc-b090-ee00169f2323/resource/30022137-709d-465e-baae-ca155b51927d/download/tmpzccn8u4q.csv', '2016': 'https://data.boston.gov/dataset/8048697b-ad64-4bfc-b090-ee00169f2323/resource/b7ea6b1b-3ca4-4c5b-9713-6dc1db52379a/download/tmpzxzxeqfb.csv', '2015': 'https://data.boston.gov/dataset/8048697b-ad64-4bfc-b090-ee00169f2323/resource/c9509ab4-6f6d-4b97-979a-0cf2a10c922b/download/tmphrybkxuh.csv', '2014': 'https://data.boston.gov/dataset/8048697b-ad64-4bfc-b090-ee00169f2323/resource/bdae89c8-d4ce-40e9-a6e1-a5203953a2e0/download/tmp8afxvko_.csv', '2013': 'https://data.boston.gov/dataset/8048697b-ad64-4bfc-b090-ee00169f2323/resource/407c5cd0-f764-4a41-adf8-054ff535049e/download/tmpyzk_wmya.csv', '2012': 'https://data.boston.gov/dataset/8048697b-ad64-4bfc-b090-ee00169f2323/resource/382e10d9-1864-40ba-bef6-4eea3c75463c/download/tmpeyvgdt5u.csv', '2011': 'https://data.boston.gov/dataset/8048697b-ad64-4bfc-b090-ee00169f2323/resource/94b499d9-712a-4d2a-b790-7ceec5c9c4b1/download/tmp_9ogynu0.csv'}\n"
          ]
        }
      ],
      "source": [
        "print(latest_URLS)"
      ]
    },
    {
      "cell_type": "code",
      "execution_count": 7,
      "metadata": {
        "colab": {
          "base_uri": "https://localhost:8080/"
        },
        "id": "uUMCPAELR9h7",
        "outputId": "05fcba64-1b74-4fb7-a52c-d3f8a499bcc6"
      },
      "outputs": [
        {
          "name": "stdout",
          "output_type": "stream",
          "text": [
            "2023-09-25 2023-08-26 2023-09-26\n"
          ]
        }
      ],
      "source": [
        "from datetime import datetime, timedelta\n",
        "now = datetime.now()\n",
        "thirty_days = timedelta(days=30)\n",
        "thirty_days_ago = now - thirty_days\n",
        "today_datestring = now.strftime(\"%Y-%m-%d\")\n",
        "thirty_days_ago_datestring = thirty_days_ago.strftime(\"%Y-%m-%d\")\n",
        "tomorrow_datestring = (datetime.today() + timedelta(days=1)).strftime('%Y-%m-%d')\n",
        "\n",
        "print(today_datestring, thirty_days_ago_datestring, tomorrow_datestring)"
      ]
    },
    {
      "cell_type": "code",
      "execution_count": 8,
      "metadata": {},
      "outputs": [],
      "source": [
        "#set model folder constant\n",
        "MODEL_FOLDER = './daily_models'"
      ]
    },
    {
      "cell_type": "markdown",
      "metadata": {},
      "source": [
        "## Load extra features"
      ]
    },
    {
      "cell_type": "code",
      "execution_count": 9,
      "metadata": {},
      "outputs": [],
      "source": [
        "#set path to mydata\n",
        "EXTRA_mydata_FILE = './cls_and_pooled_embeddings_with_service_id.csv'\n"
      ]
    },
    {
      "cell_type": "markdown",
      "metadata": {
        "id": "NN_UiAIvb9MT"
      },
      "source": [
        "##Define several models"
      ]
    },
    {
      "cell_type": "code",
      "execution_count": 10,
      "metadata": {
        "id": "nmi4jJgDF4Fv"
      },
      "outputs": [],
      "source": [
        "linear_tree_model = Boston311SurvDecTree(train_date_range={'start':'2022-01-01','end':thirty_days_ago_datestring},\n",
        "                            predict_date_range={'start':thirty_days_ago_datestring,'end':today_datestring},\n",
        "                            feature_columns=['type','queue'],\n",
        "                            scenario={'dropColumnValues': {'source':['City Worker App', 'Employee Generated']},\n",
        "                                      'survivalTimeMin':0,\n",
        "                                      'survivalTimeFill':tomorrow_datestring},\n",
        "                            files_dict=latest_URLS)"
      ]
    },
    {
      "cell_type": "code",
      "execution_count": 11,
      "metadata": {
        "id": "GGSlYgH6s54c"
      },
      "outputs": [],
      "source": [
        "logistic_model = Boston311LogReg(train_date_range={'start':'2022-01-01','end':thirty_days_ago_datestring},\n",
        "                            predict_date_range={'start':thirty_days_ago_datestring,'end':today_datestring},\n",
        "                            feature_columns=['type', 'queue'],\n",
        "                            scenario={'dropColumnValues': {'source':['City Worker App', 'Employee Generated']},\n",
        "                                      'survivalTimeMin':0},\n",
        "                            files_dict=latest_URLS)"
      ]
    },
    {
      "cell_type": "code",
      "execution_count": 12,
      "metadata": {},
      "outputs": [],
      "source": [
        "oldlogistic_model = Boston311LogReg(train_date_range={'start':'2022-01-01','end':thirty_days_ago_datestring},\n",
        "                            predict_date_range={'start':thirty_days_ago_datestring,'end':today_datestring},\n",
        "                            feature_columns=['type', 'queue'],\n",
        "                            scenario={'dropColumnValues': {'source':['City Worker App', 'Employee Generated']},\n",
        "                                      'survivalTimeMin':0},\n",
        "                            files_dict=latest_URLS)"
      ]
    },
    {
      "cell_type": "code",
      "execution_count": 13,
      "metadata": {
        "id": "_Ddtw6t8s5rj"
      },
      "outputs": [],
      "source": [
        "logistic_tree_model = Boston311EventDecTree(train_date_range={'start':'2022-01-01','end':thirty_days_ago_datestring},\n",
        "                            predict_date_range={'start':thirty_days_ago_datestring,'end':today_datestring},\n",
        "                            feature_columns=['type', 'queue'],\n",
        "                            scenario={'dropColumnValues': {'source':['City Worker App', 'Employee Generated']},\n",
        "                                      'survivalTimeMin':0},\n",
        "                            files_dict=latest_URLS)"
      ]
    },
    {
      "cell_type": "code",
      "execution_count": 14,
      "metadata": {},
      "outputs": [],
      "source": [
        "kerasNLP_model = Boston311KerasNLP(train_date_range={'start':'2022-03-01','end':thirty_days_ago_datestring},\n",
        "                            predict_date_range={'start':thirty_days_ago_datestring,'end':today_datestring},\n",
        "                            feature_columns=['type', 'queue', 'source', 'subject', 'reason', 'department', 'ward_number'],\n",
        "                            scenario={'dropColumnValues': {'source':['City Worker App', 'Employee Generated']},\n",
        "                                      'survivalTimeMin':0,\n",
        "                                      'survivalTimeFill':tomorrow_datestring},\n",
        "                            files_dict=latest_URLS)"
      ]
    },
    {
      "cell_type": "code",
      "execution_count": 15,
      "metadata": {},
      "outputs": [],
      "source": [
        "#get current datetime in Boston timezone as string\n",
        "from datetime import datetime\n",
        "from pytz import timezone\n",
        "import pytz\n",
        "boston = timezone('US/Eastern')\n",
        "now = datetime.now(boston)\n",
        "today_datestring = now.strftime(\"%Y-%m-%d\")\n",
        "#get time in Boston timezone as string for a filename\n",
        "now = datetime.now(boston)\n",
        "time_string = now.strftime(\"%H-%M-%S\")\n",
        "#define datetime string\n",
        "my_datetime = today_datestring + '_' + time_string "
      ]
    },
    {
      "cell_type": "code",
      "execution_count": 16,
      "metadata": {},
      "outputs": [],
      "source": [
        "mydata = None\n",
        "\n",
        "import pandas as pd\n",
        "import numpy as np\n",
        "import pickle\n",
        "\n",
        "case_data_file = 'case_data.pkl'\n",
        "mydata = None\n",
        "\n",
        "X = None\n",
        "\n",
        "if os.path.exists(case_data_file):\n",
        "    mydata = pickle.load(open(case_data_file, \"rb\"))\n",
        "else:\n",
        "    mydata = kerasNLP_model.load_data()\n",
        "\n",
        "    pickle.dump(mydata, open(case_data_file, \"wb\"))\n",
        "\n",
        "\n"
      ]
    },
    {
      "cell_type": "code",
      "execution_count": 17,
      "metadata": {},
      "outputs": [
        {
          "data": {
            "text/plain": [
              "43677     101004204966\n",
              "43678     101004204967\n",
              "43679     101004204970\n",
              "43680     101004204968\n",
              "43681     101004204972\n",
              "              ...     \n",
              "476951    101005013781\n",
              "476952    101005013782\n",
              "476953    101005013783\n",
              "476954    101005013785\n",
              "476955    101005013791\n",
              "Name: case_enquiry_id, Length: 433279, dtype: int64"
            ]
          },
          "execution_count": 17,
          "metadata": {},
          "output_type": "execute_result"
        }
      ],
      "source": [
        "mydata['case_enquiry_id']"
      ]
    },
    {
      "cell_type": "code",
      "execution_count": 18,
      "metadata": {},
      "outputs": [],
      "source": [
        "mydata = kerasNLP_model.enhance_data(mydata)\n"
      ]
    },
    {
      "cell_type": "code",
      "execution_count": 19,
      "metadata": {},
      "outputs": [],
      "source": [
        "mydata = kerasNLP_model.apply_scenario(mydata)\n"
      ]
    },
    {
      "cell_type": "code",
      "execution_count": 20,
      "metadata": {},
      "outputs": [],
      "source": [
        "\n",
        "mydata = kerasNLP_model.clean_data(mydata)"
      ]
    },
    {
      "cell_type": "code",
      "execution_count": 21,
      "metadata": {},
      "outputs": [
        {
          "name": "stdout",
          "output_type": "stream",
          "text": [
            "43677     101004204966\n",
            "43678     101004204967\n",
            "43679     101004204970\n",
            "43680     101004204968\n",
            "43681     101004204972\n",
            "              ...     \n",
            "476951    101005013781\n",
            "476952    101005013782\n",
            "476953    101005013783\n",
            "476954    101005013785\n",
            "476955    101005013791\n",
            "Name: case_enquiry_id, Length: 383627, dtype: int64\n"
          ]
        }
      ],
      "source": [
        "print(mydata['case_enquiry_id'])"
      ]
    },
    {
      "cell_type": "code",
      "execution_count": 22,
      "metadata": {},
      "outputs": [],
      "source": [
        "import pandas as pd\n",
        "import numpy as np\n",
        "from ast import literal_eval\n",
        "import pickle\n",
        "\n",
        "pickle_file = 'dataframe.pkl'\n",
        "\n",
        "X = None\n",
        "\n",
        "if os.path.exists(pickle_file):\n",
        "    X = pickle.load(open(pickle_file, \"rb\"))\n",
        "else:\n",
        "    X = pd.read_csv(EXTRA_mydata_FILE)\n",
        "\n",
        "    #rename service_request_id to case_enquiry_id\n",
        "    X.rename(columns={'service_request_id':'case_enquiry_id'}, inplace=True)\n",
        "    #remove all rows where case_enquiry_id is non-numeric\n",
        "    #X = X[X['case_enquiry_id'].str.isnumeric()]\n",
        "    #convert case_enquiry_id to int64\n",
        "    #X['case_enquiry_id'] = X['case_enquiry_id'].astype('int64')\n",
        "\n",
        "    # Convert stringified arrays back to NumPy arrays\n",
        "    X['cls_embedding'] = X['cls_embedding'].apply(literal_eval).apply(np.array)\n",
        "    X['pooled_embedding'] = X['pooled_embedding'].apply(literal_eval).apply(np.array)\n",
        "\n",
        "    pickle.dump(X, open(pickle_file, \"wb\"))\n",
        "\n"
      ]
    },
    {
      "cell_type": "code",
      "execution_count": 23,
      "metadata": {},
      "outputs": [],
      "source": [
        "#load second file form pickle or from csv\n",
        "pickle_file2022 = 'dataframe2.pkl'\n",
        "EXTRA_mydata_FILE_2022 = './cls_and_pooled_embeddings_with_service_id_2022.csv'\n",
        "\n",
        "X2022 = None\n",
        "\n",
        "if os.path.exists(pickle_file2022):\n",
        "    X2022 = pickle.load(open(pickle_file2022, \"rb\"))\n",
        "else:\n",
        "    X2022 = pd.read_csv(EXTRA_mydata_FILE_2022)\n",
        "\n",
        "    #rename service_request_id to case_enquiry_id\n",
        "    X2022.rename(columns={'service_request_id':'case_enquiry_id'}, inplace=True)\n",
        "    #remove all rows where case_enquiry_id is non-numeric\n",
        "    #X2022 = X2022[X2022['case_enquiry_id'].str.isnumeric()]\n",
        "    #convert case_enquiry_id to int64\n",
        "    #X2022['case_enquiry_id'] = X2022['case_enquiry_id'].astype('int64')\n",
        "\n",
        "    # Convert stringified arrays back to NumPy arrays\n",
        "    X2022['cls_embedding'] = X2022['cls_embedding'].apply(literal_eval).apply(np.array)\n",
        "    X2022['pooled_embedding'] = X2022['pooled_embedding'].apply(literal_eval).apply(np.array)\n",
        "\n",
        "    pickle.dump(X2022, open(pickle_file2022, \"wb\"))"
      ]
    },
    {
      "cell_type": "code",
      "execution_count": 24,
      "metadata": {},
      "outputs": [
        {
          "name": "stdout",
          "output_type": "stream",
          "text": [
            "<class 'pandas.core.frame.DataFrame'>\n",
            "RangeIndex: 275503 entries, 0 to 275502\n",
            "Data columns (total 3 columns):\n",
            " #   Column            Non-Null Count   Dtype \n",
            "---  ------            --------------   ----- \n",
            " 0   case_enquiry_id   275503 non-null  object\n",
            " 1   cls_embedding     275503 non-null  object\n",
            " 2   pooled_embedding  275503 non-null  object\n",
            "dtypes: object(3)\n",
            "memory usage: 6.3+ MB\n",
            "None\n",
            "<class 'pandas.core.frame.DataFrame'>\n",
            "RangeIndex: 305359 entries, 0 to 305358\n",
            "Data columns (total 3 columns):\n",
            " #   Column            Non-Null Count   Dtype \n",
            "---  ------            --------------   ----- \n",
            " 0   case_enquiry_id   305359 non-null  int64 \n",
            " 1   cls_embedding     305359 non-null  object\n",
            " 2   pooled_embedding  305359 non-null  object\n",
            "dtypes: int64(1), object(2)\n",
            "memory usage: 7.0+ MB\n",
            "None\n"
          ]
        }
      ],
      "source": [
        "#print information about X2022\n",
        "print(X.info())\n",
        "print(X2022.info())"
      ]
    },
    {
      "cell_type": "code",
      "execution_count": 25,
      "metadata": {},
      "outputs": [],
      "source": [
        "#concatenate the two dataframes and reindex\n",
        "df = pd.concat([X, X2022], ignore_index=True)"
      ]
    },
    {
      "cell_type": "code",
      "execution_count": 26,
      "metadata": {},
      "outputs": [
        {
          "data": {
            "text/plain": [
              "(580862, 3)"
            ]
          },
          "execution_count": 26,
          "metadata": {},
          "output_type": "execute_result"
        }
      ],
      "source": [
        "df.shape"
      ]
    },
    {
      "cell_type": "code",
      "execution_count": 27,
      "metadata": {},
      "outputs": [],
      "source": [
        "\n",
        "# Assuming df is your DataFrame and it has columns 'cls_embedding' and 'pooled_embedding'\n",
        "cls_embedding_flattened = np.stack(df['cls_embedding'].to_numpy())\n",
        "pooled_embedding_flattened = np.stack(df['pooled_embedding'].to_numpy())\n",
        "\n",
        "# Remove the old columns\n",
        "df.drop(['cls_embedding', 'pooled_embedding'], axis=1, inplace=True)\n",
        "\n",
        "# Add the new flattened columns\n",
        "df_cls = pd.DataFrame(cls_embedding_flattened, columns=[f'cls_{i}' for i in range(cls_embedding_flattened.shape[1])])\n",
        "df_pooled = pd.DataFrame(pooled_embedding_flattened, columns=[f'pooled_{i}' for i in range(pooled_embedding_flattened.shape[1])])\n",
        "\n",
        "df = pd.concat([df, df_cls, df_pooled], axis=1)"
      ]
    },
    {
      "cell_type": "code",
      "execution_count": 28,
      "metadata": {},
      "outputs": [],
      "source": [
        "df['case_enquiry_id'] = df['case_enquiry_id'].astype(str)\n",
        "is_numeric = df['case_enquiry_id'].str.isnumeric()"
      ]
    },
    {
      "cell_type": "code",
      "execution_count": 29,
      "metadata": {},
      "outputs": [],
      "source": [
        "df = df[is_numeric]"
      ]
    },
    {
      "cell_type": "code",
      "execution_count": 30,
      "metadata": {},
      "outputs": [],
      "source": [
        "df['case_enquiry_id'] = df['case_enquiry_id'].astype('int64')"
      ]
    },
    {
      "cell_type": "code",
      "execution_count": 31,
      "metadata": {},
      "outputs": [
        {
          "data": {
            "text/plain": [
              "(580861, 257)"
            ]
          },
          "execution_count": 31,
          "metadata": {},
          "output_type": "execute_result"
        }
      ],
      "source": [
        "df.shape"
      ]
    },
    {
      "cell_type": "code",
      "execution_count": 32,
      "metadata": {},
      "outputs": [
        {
          "data": {
            "text/plain": [
              "(383627, 438)"
            ]
          },
          "execution_count": 32,
          "metadata": {},
          "output_type": "execute_result"
        }
      ],
      "source": [
        "mydata.shape"
      ]
    },
    {
      "cell_type": "code",
      "execution_count": 33,
      "metadata": {},
      "outputs": [],
      "source": [
        "#join them so we are left only with records that have mydata in both files\n",
        "new_mydata = mydata.merge(df, on='case_enquiry_id', how='inner')\n"
      ]
    },
    {
      "cell_type": "code",
      "execution_count": 34,
      "metadata": {},
      "outputs": [
        {
          "data": {
            "text/plain": [
              "(305945, 694)"
            ]
          },
          "execution_count": 34,
          "metadata": {},
          "output_type": "execute_result"
        }
      ],
      "source": [
        "new_mydata.shape"
      ]
    },
    {
      "cell_type": "code",
      "execution_count": 35,
      "metadata": {},
      "outputs": [],
      "source": [
        "\n",
        "df, y = kerasNLP_model.split_data(new_mydata)"
      ]
    },
    {
      "cell_type": "code",
      "execution_count": 36,
      "metadata": {},
      "outputs": [],
      "source": [
        "#cast all columns that are type bool to float\n",
        "for col in df.columns:\n",
        "    if df[col].dtype == 'bool':\n",
        "        df[col] = df[col].astype('float64')"
      ]
    },
    {
      "cell_type": "code",
      "execution_count": 37,
      "metadata": {},
      "outputs": [
        {
          "name": "stdout",
          "output_type": "stream",
          "text": [
            "(305945, 691)\n",
            "(305945,)\n"
          ]
        }
      ],
      "source": [
        "#list the number of rows in X and y\n",
        "print(df.shape)\n",
        "print(y.shape)\n"
      ]
    },
    {
      "cell_type": "code",
      "execution_count": 38,
      "metadata": {},
      "outputs": [],
      "source": [
        "#best_model, best_hyperparameters = kerasNLP_model.tune_model(df, y, '/home/briarmoss/Documents/Boston_311/models/tuning')"
      ]
    },
    {
      "cell_type": "code",
      "execution_count": 39,
      "metadata": {},
      "outputs": [],
      "source": [
        "#define hyperparameters\n",
        "from kerastuner import HyperParameters\n",
        "\n",
        "#set constants\n",
        "start_nodes = 128\n",
        "end_nodes = 64\n",
        "#l2_0 = 0.00001\n",
        "#learning_rate = 7.5842e-05\n",
        "l2_0 = 0.001\n",
        "learning_rate = 0.0001\n",
        "\n",
        "\n",
        "hp = HyperParameters()\n",
        "hp.Fixed('start_nodes', start_nodes)\n",
        "hp.Fixed('end_nodes', end_nodes)\n",
        "hp.Fixed('l2_0', l2_0)\n",
        "hp.Fixed('learning_rate', learning_rate)\n",
        "\n",
        "kerasNLP_model.best_hyperparameters = hp"
      ]
    },
    {
      "cell_type": "code",
      "execution_count": 40,
      "metadata": {},
      "outputs": [],
      "source": [
        "#free all unused dataframes\n",
        "df_to_delete = [cls_embedding_flattened, pooled_embedding_flattened, df_cls, df_pooled, X, X2022, new_mydata, is_numeric, mydata]\n",
        "\n",
        "for data_frame in df_to_delete:\n",
        "    del data_frame"
      ]
    },
    {
      "cell_type": "code",
      "execution_count": 41,
      "metadata": {},
      "outputs": [
        {
          "name": "stdout",
          "output_type": "stream",
          "text": [
            "Starting Training at 2023-09-25 14:18:06.026850\n"
          ]
        },
        {
          "name": "stdout",
          "output_type": "stream",
          "text": [
            "Model: \"sequential\"\n",
            "_________________________________________________________________\n",
            " Layer (type)                Output Shape              Param #   \n",
            "=================================================================\n",
            " dense (Dense)               (None, 128)               88576     \n",
            "                                                                 \n",
            " dense_1 (Dense)             (None, 64)                8256      \n",
            "                                                                 \n",
            " dense_2 (Dense)             (None, 9)                 585       \n",
            "                                                                 \n",
            "=================================================================\n",
            "Total params: 97417 (380.54 KB)\n",
            "Trainable params: 97417 (380.54 KB)\n",
            "Non-trainable params: 0 (0.00 Byte)\n",
            "_________________________________________________________________\n",
            "None\n",
            "<class 'pandas.core.frame.DataFrame'> (244756, 9)\n",
            "<class 'pandas.core.frame.DataFrame'> (61189, 9)\n",
            "run fit\n",
            "\n",
            "Epoch 1/100\n"
          ]
        },
        {
          "name": "stderr",
          "output_type": "stream",
          "text": [
            "2023-09-25 14:18:09.349477: W tensorflow/tsl/framework/cpu_allocator_impl.cc:83] Allocation of 1353011168 exceeds 10% of free system memory.\n"
          ]
        },
        {
          "name": "stdout",
          "output_type": "stream",
          "text": [
            "7634/7649 [============================>.] - ETA: 0s - loss: 1.3026 - accuracy: 0.6204 - top_k_categorical_accuracy: 0.7824"
          ]
        },
        {
          "name": "stderr",
          "output_type": "stream",
          "text": [
            "2023-09-25 14:18:20.494377: W tensorflow/tsl/framework/cpu_allocator_impl.cc:83] Allocation of 338252792 exceeds 10% of free system memory.\n"
          ]
        },
        {
          "name": "stdout",
          "output_type": "stream",
          "text": [
            "7649/7649 [==============================] - 12s 1ms/step - loss: 1.3025 - accuracy: 0.6204 - top_k_categorical_accuracy: 0.7824 - val_loss: 1.1941 - val_accuracy: 0.6559 - val_top_k_categorical_accuracy: 0.8118\n",
            "Epoch 2/100\n",
            "7649/7649 [==============================] - 11s 1ms/step - loss: 1.1182 - accuracy: 0.6737 - top_k_categorical_accuracy: 0.8265 - val_loss: 1.0858 - val_accuracy: 0.6878 - val_top_k_categorical_accuracy: 0.8317\n",
            "Epoch 3/100\n",
            "7649/7649 [==============================] - 11s 1ms/step - loss: 1.0531 - accuracy: 0.6938 - top_k_categorical_accuracy: 0.8379 - val_loss: 1.0245 - val_accuracy: 0.7059 - val_top_k_categorical_accuracy: 0.8425\n",
            "Epoch 4/100\n",
            "7649/7649 [==============================] - 11s 1ms/step - loss: 1.0093 - accuracy: 0.7088 - top_k_categorical_accuracy: 0.8461 - val_loss: 0.9950 - val_accuracy: 0.7123 - val_top_k_categorical_accuracy: 0.8480\n",
            "Epoch 5/100\n",
            "7649/7649 [==============================] - 11s 1ms/step - loss: 0.9755 - accuracy: 0.7205 - top_k_categorical_accuracy: 0.8513 - val_loss: 0.9655 - val_accuracy: 0.7238 - val_top_k_categorical_accuracy: 0.8532\n",
            "Epoch 6/100\n",
            "7649/7649 [==============================] - 11s 1ms/step - loss: 0.9496 - accuracy: 0.7291 - top_k_categorical_accuracy: 0.8552 - val_loss: 0.9459 - val_accuracy: 0.7302 - val_top_k_categorical_accuracy: 0.8533\n",
            "Epoch 7/100\n",
            "7649/7649 [==============================] - 11s 1ms/step - loss: 0.9298 - accuracy: 0.7364 - top_k_categorical_accuracy: 0.8583 - val_loss: 0.9266 - val_accuracy: 0.7367 - val_top_k_categorical_accuracy: 0.8570\n",
            "Epoch 8/100\n",
            "7649/7649 [==============================] - 11s 1ms/step - loss: 0.9109 - accuracy: 0.7411 - top_k_categorical_accuracy: 0.8616 - val_loss: 0.9086 - val_accuracy: 0.7434 - val_top_k_categorical_accuracy: 0.8606\n",
            "Epoch 9/100\n",
            "7649/7649 [==============================] - 11s 1ms/step - loss: 0.8962 - accuracy: 0.7454 - top_k_categorical_accuracy: 0.8635 - val_loss: 0.8986 - val_accuracy: 0.7471 - val_top_k_categorical_accuracy: 0.8616\n",
            "Epoch 10/100\n",
            "7649/7649 [==============================] - 11s 1ms/step - loss: 0.8823 - accuracy: 0.7498 - top_k_categorical_accuracy: 0.8656 - val_loss: 0.9139 - val_accuracy: 0.7432 - val_top_k_categorical_accuracy: 0.8593\n",
            "Epoch 11/100\n",
            "7649/7649 [==============================] - 11s 2ms/step - loss: 0.8706 - accuracy: 0.7525 - top_k_categorical_accuracy: 0.8665 - val_loss: 0.8733 - val_accuracy: 0.7539 - val_top_k_categorical_accuracy: 0.8664\n",
            "Epoch 12/100\n",
            "7649/7649 [==============================] - 11s 1ms/step - loss: 0.8602 - accuracy: 0.7551 - top_k_categorical_accuracy: 0.8687 - val_loss: 0.8743 - val_accuracy: 0.7542 - val_top_k_categorical_accuracy: 0.8636\n",
            "Epoch 13/100\n",
            "7649/7649 [==============================] - 11s 1ms/step - loss: 0.8508 - accuracy: 0.7578 - top_k_categorical_accuracy: 0.8701 - val_loss: 0.8738 - val_accuracy: 0.7514 - val_top_k_categorical_accuracy: 0.8647\n",
            "Epoch 14/100\n",
            "7649/7649 [==============================] - 11s 1ms/step - loss: 0.8412 - accuracy: 0.7601 - top_k_categorical_accuracy: 0.8709 - val_loss: 0.8582 - val_accuracy: 0.7592 - val_top_k_categorical_accuracy: 0.8680\n",
            "Epoch 15/100\n",
            "7649/7649 [==============================] - 11s 1ms/step - loss: 0.8337 - accuracy: 0.7617 - top_k_categorical_accuracy: 0.8720 - val_loss: 0.8575 - val_accuracy: 0.7559 - val_top_k_categorical_accuracy: 0.8679\n",
            "Epoch 16/100\n",
            "7649/7649 [==============================] - 11s 1ms/step - loss: 0.8275 - accuracy: 0.7627 - top_k_categorical_accuracy: 0.8724 - val_loss: 0.8399 - val_accuracy: 0.7605 - val_top_k_categorical_accuracy: 0.8699\n",
            "Epoch 17/100\n",
            "7649/7649 [==============================] - 11s 2ms/step - loss: 0.8201 - accuracy: 0.7650 - top_k_categorical_accuracy: 0.8739 - val_loss: 0.8580 - val_accuracy: 0.7522 - val_top_k_categorical_accuracy: 0.8646\n",
            "Epoch 18/100\n",
            "7649/7649 [==============================] - 11s 1ms/step - loss: 0.8156 - accuracy: 0.7657 - top_k_categorical_accuracy: 0.8743 - val_loss: 0.8654 - val_accuracy: 0.7530 - val_top_k_categorical_accuracy: 0.8626\n",
            "Epoch 19/100\n",
            "7649/7649 [==============================] - 11s 1ms/step - loss: 0.8087 - accuracy: 0.7675 - top_k_categorical_accuracy: 0.8746 - val_loss: 0.8402 - val_accuracy: 0.7564 - val_top_k_categorical_accuracy: 0.8685\n",
            "Epoch 20/100\n",
            "7649/7649 [==============================] - 11s 1ms/step - loss: 0.8039 - accuracy: 0.7681 - top_k_categorical_accuracy: 0.8755 - val_loss: 0.8349 - val_accuracy: 0.7604 - val_top_k_categorical_accuracy: 0.8704\n",
            "Epoch 21/100\n",
            "7649/7649 [==============================] - 11s 1ms/step - loss: 0.7996 - accuracy: 0.7688 - top_k_categorical_accuracy: 0.8758 - val_loss: 0.8170 - val_accuracy: 0.7629 - val_top_k_categorical_accuracy: 0.8718\n",
            "Epoch 22/100\n",
            "7649/7649 [==============================] - 11s 1ms/step - loss: 0.7956 - accuracy: 0.7698 - top_k_categorical_accuracy: 0.8763 - val_loss: 0.8153 - val_accuracy: 0.7674 - val_top_k_categorical_accuracy: 0.8720\n",
            "Epoch 23/100\n",
            "7649/7649 [==============================] - 11s 1ms/step - loss: 0.7914 - accuracy: 0.7711 - top_k_categorical_accuracy: 0.8768 - val_loss: 0.8233 - val_accuracy: 0.7649 - val_top_k_categorical_accuracy: 0.8721\n",
            "Epoch 24/100\n",
            "7649/7649 [==============================] - 11s 1ms/step - loss: 0.7876 - accuracy: 0.7710 - top_k_categorical_accuracy: 0.8766 - val_loss: 0.7971 - val_accuracy: 0.7717 - val_top_k_categorical_accuracy: 0.8741\n",
            "Epoch 25/100\n",
            "7649/7649 [==============================] - 11s 1ms/step - loss: 0.7837 - accuracy: 0.7719 - top_k_categorical_accuracy: 0.8775 - val_loss: 0.8150 - val_accuracy: 0.7651 - val_top_k_categorical_accuracy: 0.8703\n",
            "Epoch 26/100\n",
            "7649/7649 [==============================] - 11s 2ms/step - loss: 0.7806 - accuracy: 0.7725 - top_k_categorical_accuracy: 0.8781 - val_loss: 0.8032 - val_accuracy: 0.7693 - val_top_k_categorical_accuracy: 0.8742\n",
            "Epoch 27/100\n",
            "7649/7649 [==============================] - 11s 1ms/step - loss: 0.7766 - accuracy: 0.7733 - top_k_categorical_accuracy: 0.8783 - val_loss: 0.7969 - val_accuracy: 0.7705 - val_top_k_categorical_accuracy: 0.8743\n",
            "Epoch 28/100\n",
            "7649/7649 [==============================] - 11s 1ms/step - loss: 0.7738 - accuracy: 0.7740 - top_k_categorical_accuracy: 0.8792 - val_loss: 0.7994 - val_accuracy: 0.7687 - val_top_k_categorical_accuracy: 0.8721\n",
            "Epoch 29/100\n",
            "7649/7649 [==============================] - 11s 1ms/step - loss: 0.7707 - accuracy: 0.7741 - top_k_categorical_accuracy: 0.8795 - val_loss: 0.8082 - val_accuracy: 0.7631 - val_top_k_categorical_accuracy: 0.8738\n",
            "Epoch 30/100\n",
            "7649/7649 [==============================] - 11s 1ms/step - loss: 0.7687 - accuracy: 0.7746 - top_k_categorical_accuracy: 0.8794 - val_loss: 0.7873 - val_accuracy: 0.7705 - val_top_k_categorical_accuracy: 0.8748\n",
            "Epoch 31/100\n",
            "7649/7649 [==============================] - 11s 1ms/step - loss: 0.7650 - accuracy: 0.7755 - top_k_categorical_accuracy: 0.8796 - val_loss: 0.7886 - val_accuracy: 0.7714 - val_top_k_categorical_accuracy: 0.8748\n",
            "Epoch 32/100\n",
            "7649/7649 [==============================] - 12s 2ms/step - loss: 0.7642 - accuracy: 0.7750 - top_k_categorical_accuracy: 0.8801 - val_loss: 0.7817 - val_accuracy: 0.7722 - val_top_k_categorical_accuracy: 0.8752\n",
            "Epoch 33/100\n",
            "7649/7649 [==============================] - 11s 2ms/step - loss: 0.7619 - accuracy: 0.7762 - top_k_categorical_accuracy: 0.8800 - val_loss: 0.7825 - val_accuracy: 0.7733 - val_top_k_categorical_accuracy: 0.8761\n",
            "Epoch 34/100\n",
            "7649/7649 [==============================] - 11s 1ms/step - loss: 0.7598 - accuracy: 0.7763 - top_k_categorical_accuracy: 0.8806 - val_loss: 0.7896 - val_accuracy: 0.7694 - val_top_k_categorical_accuracy: 0.8738\n",
            "Epoch 35/100\n",
            "7649/7649 [==============================] - 11s 1ms/step - loss: 0.7573 - accuracy: 0.7770 - top_k_categorical_accuracy: 0.8807 - val_loss: 0.7855 - val_accuracy: 0.7722 - val_top_k_categorical_accuracy: 0.8766\n",
            "Epoch 36/100\n",
            "7649/7649 [==============================] - 12s 2ms/step - loss: 0.7557 - accuracy: 0.7762 - top_k_categorical_accuracy: 0.8811 - val_loss: 0.7769 - val_accuracy: 0.7746 - val_top_k_categorical_accuracy: 0.8766\n",
            "Epoch 37/100\n",
            "7649/7649 [==============================] - 11s 2ms/step - loss: 0.7530 - accuracy: 0.7775 - top_k_categorical_accuracy: 0.8816 - val_loss: 0.7784 - val_accuracy: 0.7730 - val_top_k_categorical_accuracy: 0.8759\n",
            "Epoch 38/100\n",
            "7649/7649 [==============================] - 11s 1ms/step - loss: 0.7523 - accuracy: 0.7770 - top_k_categorical_accuracy: 0.8815 - val_loss: 0.7812 - val_accuracy: 0.7740 - val_top_k_categorical_accuracy: 0.8774\n",
            "Epoch 39/100\n",
            "7649/7649 [==============================] - 11s 1ms/step - loss: 0.7505 - accuracy: 0.7778 - top_k_categorical_accuracy: 0.8812 - val_loss: 0.7861 - val_accuracy: 0.7692 - val_top_k_categorical_accuracy: 0.8777\n",
            "Epoch 40/100\n",
            "7649/7649 [==============================] - 11s 1ms/step - loss: 0.7482 - accuracy: 0.7783 - top_k_categorical_accuracy: 0.8817 - val_loss: 0.8060 - val_accuracy: 0.7645 - val_top_k_categorical_accuracy: 0.8758\n",
            "Epoch 41/100\n",
            "7649/7649 [==============================] - 12s 2ms/step - loss: 0.7467 - accuracy: 0.7782 - top_k_categorical_accuracy: 0.8822 - val_loss: 0.7954 - val_accuracy: 0.7687 - val_top_k_categorical_accuracy: 0.8735\n",
            "Epoch 42/100\n",
            "7649/7649 [==============================] - 11s 1ms/step - loss: 0.7457 - accuracy: 0.7786 - top_k_categorical_accuracy: 0.8823 - val_loss: 0.7775 - val_accuracy: 0.7736 - val_top_k_categorical_accuracy: 0.8767\n",
            "Epoch 43/100\n",
            "7649/7649 [==============================] - 11s 1ms/step - loss: 0.7431 - accuracy: 0.7793 - top_k_categorical_accuracy: 0.8830 - val_loss: 0.7721 - val_accuracy: 0.7753 - val_top_k_categorical_accuracy: 0.8764\n",
            "Epoch 44/100\n",
            "7649/7649 [==============================] - 11s 1ms/step - loss: 0.7418 - accuracy: 0.7790 - top_k_categorical_accuracy: 0.8828 - val_loss: 0.7715 - val_accuracy: 0.7745 - val_top_k_categorical_accuracy: 0.8777\n",
            "Epoch 45/100\n",
            "7649/7649 [==============================] - 11s 1ms/step - loss: 0.7401 - accuracy: 0.7800 - top_k_categorical_accuracy: 0.8830 - val_loss: 0.7829 - val_accuracy: 0.7706 - val_top_k_categorical_accuracy: 0.8762\n",
            "Epoch 46/100\n",
            "7649/7649 [==============================] - 11s 1ms/step - loss: 0.7399 - accuracy: 0.7794 - top_k_categorical_accuracy: 0.8828 - val_loss: 0.7664 - val_accuracy: 0.7746 - val_top_k_categorical_accuracy: 0.8781\n",
            "Epoch 47/100\n",
            "7649/7649 [==============================] - 12s 2ms/step - loss: 0.7386 - accuracy: 0.7802 - top_k_categorical_accuracy: 0.8837 - val_loss: 0.7696 - val_accuracy: 0.7737 - val_top_k_categorical_accuracy: 0.8779\n",
            "Epoch 48/100\n",
            "7649/7649 [==============================] - 11s 1ms/step - loss: 0.7366 - accuracy: 0.7799 - top_k_categorical_accuracy: 0.8837 - val_loss: 0.7664 - val_accuracy: 0.7739 - val_top_k_categorical_accuracy: 0.8775\n",
            "Epoch 49/100\n",
            "7649/7649 [==============================] - 11s 1ms/step - loss: 0.7355 - accuracy: 0.7806 - top_k_categorical_accuracy: 0.8834 - val_loss: 0.7650 - val_accuracy: 0.7764 - val_top_k_categorical_accuracy: 0.8785\n",
            "Epoch 50/100\n",
            "7649/7649 [==============================] - 11s 1ms/step - loss: 0.7348 - accuracy: 0.7808 - top_k_categorical_accuracy: 0.8837 - val_loss: 0.7668 - val_accuracy: 0.7765 - val_top_k_categorical_accuracy: 0.8773\n",
            "Epoch 51/100\n",
            "7649/7649 [==============================] - 11s 1ms/step - loss: 0.7339 - accuracy: 0.7807 - top_k_categorical_accuracy: 0.8834 - val_loss: 0.7678 - val_accuracy: 0.7743 - val_top_k_categorical_accuracy: 0.8770\n",
            "Epoch 52/100\n",
            "7649/7649 [==============================] - 11s 1ms/step - loss: 0.7327 - accuracy: 0.7807 - top_k_categorical_accuracy: 0.8835 - val_loss: 0.7575 - val_accuracy: 0.7779 - val_top_k_categorical_accuracy: 0.8781\n",
            "Epoch 53/100\n",
            "7649/7649 [==============================] - 11s 1ms/step - loss: 0.7324 - accuracy: 0.7807 - top_k_categorical_accuracy: 0.8839 - val_loss: 0.7623 - val_accuracy: 0.7759 - val_top_k_categorical_accuracy: 0.8776\n",
            "Epoch 54/100\n",
            "7649/7649 [==============================] - 11s 1ms/step - loss: 0.7305 - accuracy: 0.7814 - top_k_categorical_accuracy: 0.8845 - val_loss: 0.7612 - val_accuracy: 0.7764 - val_top_k_categorical_accuracy: 0.8780\n",
            "Epoch 55/100\n",
            "7649/7649 [==============================] - 11s 1ms/step - loss: 0.7297 - accuracy: 0.7815 - top_k_categorical_accuracy: 0.8843 - val_loss: 0.7643 - val_accuracy: 0.7753 - val_top_k_categorical_accuracy: 0.8773\n",
            "Epoch 56/100\n",
            "7649/7649 [==============================] - 11s 1ms/step - loss: 0.7289 - accuracy: 0.7818 - top_k_categorical_accuracy: 0.8845 - val_loss: 0.7620 - val_accuracy: 0.7762 - val_top_k_categorical_accuracy: 0.8781\n",
            "Epoch 57/100\n",
            "7649/7649 [==============================] - 11s 1ms/step - loss: 0.7279 - accuracy: 0.7813 - top_k_categorical_accuracy: 0.8839 - val_loss: 0.7836 - val_accuracy: 0.7720 - val_top_k_categorical_accuracy: 0.8755\n",
            "Epoch 58/100\n",
            "7649/7649 [==============================] - 12s 2ms/step - loss: 0.7264 - accuracy: 0.7820 - top_k_categorical_accuracy: 0.8847 - val_loss: 0.7686 - val_accuracy: 0.7712 - val_top_k_categorical_accuracy: 0.8762\n",
            "Epoch 59/100\n",
            "7649/7649 [==============================] - 11s 1ms/step - loss: 0.7263 - accuracy: 0.7821 - top_k_categorical_accuracy: 0.8846 - val_loss: 0.7500 - val_accuracy: 0.7785 - val_top_k_categorical_accuracy: 0.8803\n",
            "Epoch 60/100\n",
            "7649/7649 [==============================] - 11s 1ms/step - loss: 0.7255 - accuracy: 0.7821 - top_k_categorical_accuracy: 0.8849 - val_loss: 0.7558 - val_accuracy: 0.7774 - val_top_k_categorical_accuracy: 0.8774\n",
            "Epoch 61/100\n",
            "7649/7649 [==============================] - 12s 2ms/step - loss: 0.7245 - accuracy: 0.7824 - top_k_categorical_accuracy: 0.8852 - val_loss: 0.7561 - val_accuracy: 0.7769 - val_top_k_categorical_accuracy: 0.8774\n",
            "Epoch 62/100\n",
            "7649/7649 [==============================] - 11s 1ms/step - loss: 0.7231 - accuracy: 0.7827 - top_k_categorical_accuracy: 0.8849 - val_loss: 0.7784 - val_accuracy: 0.7684 - val_top_k_categorical_accuracy: 0.8751\n",
            "Epoch 63/100\n",
            "7649/7649 [==============================] - 11s 1ms/step - loss: 0.7227 - accuracy: 0.7829 - top_k_categorical_accuracy: 0.8850 - val_loss: 0.7617 - val_accuracy: 0.7752 - val_top_k_categorical_accuracy: 0.8785\n",
            "Epoch 64/100\n",
            "7649/7649 [==============================] - 11s 1ms/step - loss: 0.7216 - accuracy: 0.7827 - top_k_categorical_accuracy: 0.8851 - val_loss: 0.7508 - val_accuracy: 0.7771 - val_top_k_categorical_accuracy: 0.8788\n",
            "Epoch 65/100\n",
            "7649/7649 [==============================] - 11s 1ms/step - loss: 0.7208 - accuracy: 0.7832 - top_k_categorical_accuracy: 0.8856 - val_loss: 0.7561 - val_accuracy: 0.7780 - val_top_k_categorical_accuracy: 0.8789\n",
            "Epoch 66/100\n",
            "7649/7649 [==============================] - 11s 1ms/step - loss: 0.7205 - accuracy: 0.7829 - top_k_categorical_accuracy: 0.8852 - val_loss: 0.7634 - val_accuracy: 0.7745 - val_top_k_categorical_accuracy: 0.8759\n",
            "Epoch 67/100\n",
            "7649/7649 [==============================] - 11s 1ms/step - loss: 0.7197 - accuracy: 0.7833 - top_k_categorical_accuracy: 0.8854 - val_loss: 0.7592 - val_accuracy: 0.7780 - val_top_k_categorical_accuracy: 0.8786\n",
            "Epoch 68/100\n",
            "7649/7649 [==============================] - 11s 1ms/step - loss: 0.7187 - accuracy: 0.7837 - top_k_categorical_accuracy: 0.8857 - val_loss: 0.7704 - val_accuracy: 0.7725 - val_top_k_categorical_accuracy: 0.8773\n",
            "Epoch 69/100\n",
            "7649/7649 [==============================] - 11s 1ms/step - loss: 0.7182 - accuracy: 0.7834 - top_k_categorical_accuracy: 0.8855 - val_loss: 0.7497 - val_accuracy: 0.7793 - val_top_k_categorical_accuracy: 0.8791\n",
            "Epoch 70/100\n",
            "7649/7649 [==============================] - 11s 1ms/step - loss: 0.7166 - accuracy: 0.7840 - top_k_categorical_accuracy: 0.8855 - val_loss: 0.7576 - val_accuracy: 0.7748 - val_top_k_categorical_accuracy: 0.8799\n",
            "Epoch 71/100\n",
            "7649/7649 [==============================] - 11s 1ms/step - loss: 0.7172 - accuracy: 0.7840 - top_k_categorical_accuracy: 0.8856 - val_loss: 0.7553 - val_accuracy: 0.7785 - val_top_k_categorical_accuracy: 0.8788\n",
            "Epoch 72/100\n",
            "7649/7649 [==============================] - 11s 1ms/step - loss: 0.7157 - accuracy: 0.7845 - top_k_categorical_accuracy: 0.8859 - val_loss: 0.7497 - val_accuracy: 0.7786 - val_top_k_categorical_accuracy: 0.8796\n",
            "Epoch 73/100\n",
            "7649/7649 [==============================] - 11s 1ms/step - loss: 0.7156 - accuracy: 0.7842 - top_k_categorical_accuracy: 0.8862 - val_loss: 0.7528 - val_accuracy: 0.7770 - val_top_k_categorical_accuracy: 0.8779\n",
            "Epoch 74/100\n",
            "7649/7649 [==============================] - 11s 1ms/step - loss: 0.7151 - accuracy: 0.7846 - top_k_categorical_accuracy: 0.8858 - val_loss: 0.7637 - val_accuracy: 0.7741 - val_top_k_categorical_accuracy: 0.8770\n",
            "Epoch 75/100\n",
            "7649/7649 [==============================] - 11s 2ms/step - loss: 0.7137 - accuracy: 0.7844 - top_k_categorical_accuracy: 0.8864 - val_loss: 0.7477 - val_accuracy: 0.7787 - val_top_k_categorical_accuracy: 0.8793\n",
            "Epoch 76/100\n",
            "7649/7649 [==============================] - 11s 2ms/step - loss: 0.7140 - accuracy: 0.7846 - top_k_categorical_accuracy: 0.8861 - val_loss: 0.7545 - val_accuracy: 0.7779 - val_top_k_categorical_accuracy: 0.8776\n",
            "Epoch 77/100\n",
            "7649/7649 [==============================] - 11s 1ms/step - loss: 0.7138 - accuracy: 0.7843 - top_k_categorical_accuracy: 0.8862 - val_loss: 0.7470 - val_accuracy: 0.7794 - val_top_k_categorical_accuracy: 0.8785\n",
            "Epoch 78/100\n",
            "7649/7649 [==============================] - 11s 1ms/step - loss: 0.7125 - accuracy: 0.7849 - top_k_categorical_accuracy: 0.8867 - val_loss: 0.7568 - val_accuracy: 0.7771 - val_top_k_categorical_accuracy: 0.8787\n",
            "Epoch 79/100\n",
            "7649/7649 [==============================] - 11s 1ms/step - loss: 0.7127 - accuracy: 0.7841 - top_k_categorical_accuracy: 0.8860 - val_loss: 0.7529 - val_accuracy: 0.7793 - val_top_k_categorical_accuracy: 0.8788\n",
            "Epoch 80/100\n",
            "7649/7649 [==============================] - 11s 1ms/step - loss: 0.7119 - accuracy: 0.7846 - top_k_categorical_accuracy: 0.8863 - val_loss: 0.7477 - val_accuracy: 0.7777 - val_top_k_categorical_accuracy: 0.8803\n",
            "Epoch 81/100\n",
            "7649/7649 [==============================] - 11s 1ms/step - loss: 0.7111 - accuracy: 0.7851 - top_k_categorical_accuracy: 0.8870 - val_loss: 0.7487 - val_accuracy: 0.7782 - val_top_k_categorical_accuracy: 0.8778\n",
            "Epoch 82/100\n",
            "7649/7649 [==============================] - 11s 1ms/step - loss: 0.7111 - accuracy: 0.7846 - top_k_categorical_accuracy: 0.8871 - val_loss: 0.7583 - val_accuracy: 0.7752 - val_top_k_categorical_accuracy: 0.8772\n",
            "Epoch 83/100\n",
            "7649/7649 [==============================] - 12s 2ms/step - loss: 0.7103 - accuracy: 0.7852 - top_k_categorical_accuracy: 0.8867 - val_loss: 0.7465 - val_accuracy: 0.7785 - val_top_k_categorical_accuracy: 0.8792\n",
            "Epoch 84/100\n",
            "7649/7649 [==============================] - 11s 1ms/step - loss: 0.7089 - accuracy: 0.7851 - top_k_categorical_accuracy: 0.8869 - val_loss: 0.7528 - val_accuracy: 0.7773 - val_top_k_categorical_accuracy: 0.8793\n",
            "Epoch 85/100\n",
            "7649/7649 [==============================] - 11s 1ms/step - loss: 0.7089 - accuracy: 0.7857 - top_k_categorical_accuracy: 0.8872 - val_loss: 0.7497 - val_accuracy: 0.7774 - val_top_k_categorical_accuracy: 0.8796\n",
            "Epoch 86/100\n",
            "7649/7649 [==============================] - 11s 1ms/step - loss: 0.7093 - accuracy: 0.7851 - top_k_categorical_accuracy: 0.8875 - val_loss: 0.7491 - val_accuracy: 0.7801 - val_top_k_categorical_accuracy: 0.8788\n",
            "Epoch 87/100\n",
            "7649/7649 [==============================] - 11s 1ms/step - loss: 0.7083 - accuracy: 0.7855 - top_k_categorical_accuracy: 0.8864 - val_loss: 0.7475 - val_accuracy: 0.7788 - val_top_k_categorical_accuracy: 0.8794\n",
            "Epoch 88/100\n",
            "7649/7649 [==============================] - 11s 1ms/step - loss: 0.7083 - accuracy: 0.7850 - top_k_categorical_accuracy: 0.8871 - val_loss: 0.7584 - val_accuracy: 0.7764 - val_top_k_categorical_accuracy: 0.8769\n",
            "Epoch 89/100\n",
            "7649/7649 [==============================] - 11s 1ms/step - loss: 0.7063 - accuracy: 0.7856 - top_k_categorical_accuracy: 0.8878 - val_loss: 0.7502 - val_accuracy: 0.7784 - val_top_k_categorical_accuracy: 0.8787\n",
            "Epoch 90/100\n",
            "7649/7649 [==============================] - 11s 1ms/step - loss: 0.7061 - accuracy: 0.7858 - top_k_categorical_accuracy: 0.8871 - val_loss: 0.7517 - val_accuracy: 0.7763 - val_top_k_categorical_accuracy: 0.8789\n",
            "Epoch 91/100\n",
            "7649/7649 [==============================] - 12s 2ms/step - loss: 0.7065 - accuracy: 0.7855 - top_k_categorical_accuracy: 0.8875 - val_loss: 0.7529 - val_accuracy: 0.7765 - val_top_k_categorical_accuracy: 0.8788\n",
            "Epoch 92/100\n",
            "7649/7649 [==============================] - 11s 1ms/step - loss: 0.7058 - accuracy: 0.7858 - top_k_categorical_accuracy: 0.8875 - val_loss: 0.7445 - val_accuracy: 0.7785 - val_top_k_categorical_accuracy: 0.8800\n",
            "Epoch 93/100\n",
            "7649/7649 [==============================] - 11s 1ms/step - loss: 0.7055 - accuracy: 0.7858 - top_k_categorical_accuracy: 0.8873 - val_loss: 0.7561 - val_accuracy: 0.7766 - val_top_k_categorical_accuracy: 0.8782\n",
            "Epoch 94/100\n",
            "7649/7649 [==============================] - 11s 1ms/step - loss: 0.7048 - accuracy: 0.7856 - top_k_categorical_accuracy: 0.8878 - val_loss: 0.7458 - val_accuracy: 0.7777 - val_top_k_categorical_accuracy: 0.8787\n",
            "Epoch 95/100\n",
            "7649/7649 [==============================] - 11s 1ms/step - loss: 0.7041 - accuracy: 0.7860 - top_k_categorical_accuracy: 0.8876 - val_loss: 0.7530 - val_accuracy: 0.7771 - val_top_k_categorical_accuracy: 0.8794\n",
            "Epoch 96/100\n",
            "7649/7649 [==============================] - 11s 1ms/step - loss: 0.7038 - accuracy: 0.7863 - top_k_categorical_accuracy: 0.8877 - val_loss: 0.7497 - val_accuracy: 0.7784 - val_top_k_categorical_accuracy: 0.8789\n",
            "Epoch 97/100\n",
            "7649/7649 [==============================] - 11s 1ms/step - loss: 0.7036 - accuracy: 0.7863 - top_k_categorical_accuracy: 0.8877 - val_loss: 0.7436 - val_accuracy: 0.7798 - val_top_k_categorical_accuracy: 0.8795\n",
            "Epoch 98/100\n",
            "7649/7649 [==============================] - 11s 1ms/step - loss: 0.7032 - accuracy: 0.7866 - top_k_categorical_accuracy: 0.8879 - val_loss: 0.7498 - val_accuracy: 0.7795 - val_top_k_categorical_accuracy: 0.8797\n",
            "Epoch 99/100\n",
            "7649/7649 [==============================] - 11s 1ms/step - loss: 0.7028 - accuracy: 0.7862 - top_k_categorical_accuracy: 0.8880 - val_loss: 0.7903 - val_accuracy: 0.7645 - val_top_k_categorical_accuracy: 0.8786\n",
            "Epoch 100/100\n",
            "7649/7649 [==============================] - 11s 1ms/step - loss: 0.7015 - accuracy: 0.7863 - top_k_categorical_accuracy: 0.8881 - val_loss: 0.7421 - val_accuracy: 0.7792 - val_top_k_categorical_accuracy: 0.8813\n",
            " 270/1913 [===>..........................] - ETA: 0s - loss: 0.7512 - accuracy: 0.7721 - top_k_categorical_accuracy: 0.8788"
          ]
        },
        {
          "name": "stderr",
          "output_type": "stream",
          "text": [
            "2023-09-25 14:37:03.089459: W tensorflow/tsl/framework/cpu_allocator_impl.cc:83] Allocation of 338252792 exceeds 10% of free system memory.\n"
          ]
        },
        {
          "name": "stdout",
          "output_type": "stream",
          "text": [
            "1913/1913 [==============================] - 1s 584us/step - loss: 0.7421 - accuracy: 0.7792 - top_k_categorical_accuracy: 0.8813\n",
            "Testing accuracy: 0.779192328453064 \n",
            "Top-2 accuracy: 0.8812695145606995 \n",
            "Test loss: 0.7420598268508911\n",
            "Ending Training at 2023-09-25 14:37:04.327930\n",
            "Training took 0:18:58.301080\n"
          ]
        }
      ],
      "source": [
        "\n",
        "#parse CLS embedding column as array\n",
        "test_acc = kerasNLP_model.train_model( df, y )"
      ]
    },
    {
      "cell_type": "markdown",
      "metadata": {
        "id": "sSSkyth-2K3A"
      },
      "source": [
        "## Train several models"
      ]
    },
    {
      "cell_type": "code",
      "execution_count": 42,
      "metadata": {},
      "outputs": [
        {
          "name": "stdout",
          "output_type": "stream",
          "text": [
            "learning is fun!\n"
          ]
        }
      ],
      "source": [
        "print(\"learning is fun!\") "
      ]
    },
    {
      "cell_type": "code",
      "execution_count": 43,
      "metadata": {
        "colab": {
          "base_uri": "https://localhost:8080/"
        },
        "id": "Lv4ivBuvinss",
        "outputId": "814ef4fb-e100-4b22-ccbc-6b9d91e5a341"
      },
      "outputs": [],
      "source": [
        "#logistic_tree_model.run_pipeline()"
      ]
    },
    {
      "cell_type": "code",
      "execution_count": 44,
      "metadata": {
        "colab": {
          "base_uri": "https://localhost:8080/"
        },
        "id": "_UIaks6jjPkU",
        "outputId": "0e365ed1-472e-4cb1-cdde-ae0a2d32722e"
      },
      "outputs": [],
      "source": [
        "#logistic_model.run_pipeline()"
      ]
    },
    {
      "cell_type": "code",
      "execution_count": 45,
      "metadata": {},
      "outputs": [
        {
          "data": {
            "text/plain": [
              "2290"
            ]
          },
          "execution_count": 45,
          "metadata": {},
          "output_type": "execute_result"
        }
      ],
      "source": [
        "import gc\n",
        "gc.collect()"
      ]
    },
    {
      "cell_type": "code",
      "execution_count": 46,
      "metadata": {},
      "outputs": [],
      "source": [
        "#linear_tree_model.run_pipeline()"
      ]
    },
    {
      "cell_type": "code",
      "execution_count": 47,
      "metadata": {},
      "outputs": [
        {
          "name": "stderr",
          "output_type": "stream",
          "text": [
            "/home/briarmoss/.local/lib/python3.10/site-packages/keras/src/engine/training.py:3000: UserWarning: You are saving your model as an HDF5 file via `model.save()`. This file format is considered legacy. We recommend using instead the native Keras format, e.g. `model.save('my_model.keras')`.\n",
            "  saving_api.save_model(\n"
          ]
        }
      ],
      "source": [
        "import datetime\n",
        "\n",
        "def save_model_to_dir(model, folder_name):\n",
        "    dir_path = os.path.join(MODEL_FOLDER, folder_name)\n",
        "    \n",
        "    if not os.path.exists(dir_path):\n",
        "        os.mkdir(dir_path)\n",
        "    \n",
        "    timestamp = datetime.datetime.now().strftime('%Y%m%d_%H%M%S')\n",
        "    model_name = timestamp + \"_\" + model.model_type\n",
        "    properties_name = model_name\n",
        "    \n",
        "    model.save(dir_path, model_name, properties_name)\n",
        "\n",
        "# List of models\n",
        "models = [kerasNLP_model]\n",
        "\n",
        "\n",
        "# Iterate over models and save\n",
        "for model in models:\n",
        "    save_model_to_dir(model, model.model_type)\n"
      ]
    },
    {
      "cell_type": "code",
      "execution_count": 48,
      "metadata": {},
      "outputs": [
        {
          "data": {
            "text/plain": [
              "\"\\ndata = kerasNLP_model.load_data( 'predict' )\\ndata = kerasNLP_model.enhance_data( data, 'predict')\\nclean_data = kerasNLP_model.clean_data_for_prediction( data )\\n\\nX_predict, y_predict = kerasNLP_model.split_data( clean_data )\\ny_predict = kerasNLP_model.model.predict(X_predict)\\ndata['survival_prediction'] = y_predict\\nreturn data\\n\""
            ]
          },
          "execution_count": 48,
          "metadata": {},
          "output_type": "execute_result"
        }
      ],
      "source": [
        "\"\"\"\n",
        "data = kerasNLP_model.load_data( 'predict' )\n",
        "data = kerasNLP_model.enhance_data( data, 'predict')\n",
        "clean_data = kerasNLP_model.clean_data_for_prediction( data )\n",
        "\n",
        "X_predict, y_predict = kerasNLP_model.split_data( clean_data )\n",
        "y_predict = kerasNLP_model.model.predict(X_predict)\n",
        "data['survival_prediction'] = y_predict\n",
        "return data\n",
        "\"\"\"\n"
      ]
    },
    {
      "cell_type": "code",
      "execution_count": 49,
      "metadata": {},
      "outputs": [
        {
          "ename": "AttributeError",
          "evalue": "'NoneType' object has no attribute 'save'",
          "output_type": "error",
          "traceback": [
            "\u001b[0;31m---------------------------------------------------------------------------\u001b[0m",
            "\u001b[0;31mAttributeError\u001b[0m                            Traceback (most recent call last)",
            "\u001b[1;32m/home/briarmoss/Documents/Boston_311/models/train_and_save_models.ipynb Cell 55\u001b[0m line \u001b[0;36m2\n\u001b[1;32m     <a href='vscode-notebook-cell://ssh-remote%2Bbriarmossdesktop/home/briarmoss/Documents/Boston_311/models/train_and_save_models.ipynb#Y214sdnNjb2RlLXJlbW90ZQ%3D%3D?line=18'>19</a>\u001b[0m \u001b[39m# Iterate over models and save\u001b[39;00m\n\u001b[1;32m     <a href='vscode-notebook-cell://ssh-remote%2Bbriarmossdesktop/home/briarmoss/Documents/Boston_311/models/train_and_save_models.ipynb#Y214sdnNjb2RlLXJlbW90ZQ%3D%3D?line=19'>20</a>\u001b[0m \u001b[39mfor\u001b[39;00m model \u001b[39min\u001b[39;00m models:\n\u001b[0;32m---> <a href='vscode-notebook-cell://ssh-remote%2Bbriarmossdesktop/home/briarmoss/Documents/Boston_311/models/train_and_save_models.ipynb#Y214sdnNjb2RlLXJlbW90ZQ%3D%3D?line=20'>21</a>\u001b[0m     save_model_to_dir(model, model\u001b[39m.\u001b[39;49mmodel_type)\n",
            "\u001b[1;32m/home/briarmoss/Documents/Boston_311/models/train_and_save_models.ipynb Cell 55\u001b[0m line \u001b[0;36m1\n\u001b[1;32m     <a href='vscode-notebook-cell://ssh-remote%2Bbriarmossdesktop/home/briarmoss/Documents/Boston_311/models/train_and_save_models.ipynb#Y214sdnNjb2RlLXJlbW90ZQ%3D%3D?line=9'>10</a>\u001b[0m model_name \u001b[39m=\u001b[39m timestamp \u001b[39m+\u001b[39m \u001b[39m\"\u001b[39m\u001b[39m_\u001b[39m\u001b[39m\"\u001b[39m \u001b[39m+\u001b[39m model\u001b[39m.\u001b[39mmodel_type\n\u001b[1;32m     <a href='vscode-notebook-cell://ssh-remote%2Bbriarmossdesktop/home/briarmoss/Documents/Boston_311/models/train_and_save_models.ipynb#Y214sdnNjb2RlLXJlbW90ZQ%3D%3D?line=10'>11</a>\u001b[0m properties_name \u001b[39m=\u001b[39m model_name\n\u001b[0;32m---> <a href='vscode-notebook-cell://ssh-remote%2Bbriarmossdesktop/home/briarmoss/Documents/Boston_311/models/train_and_save_models.ipynb#Y214sdnNjb2RlLXJlbW90ZQ%3D%3D?line=12'>13</a>\u001b[0m model\u001b[39m.\u001b[39;49msave(dir_path, model_name, properties_name)\n",
            "File \u001b[0;32m~/.local/lib/python3.10/site-packages/boston311/Boston311LogReg.py:10\u001b[0m, in \u001b[0;36mBoston311LogReg.save\u001b[0;34m(self, filepath, model_file, properties_file)\u001b[0m\n\u001b[1;32m      8\u001b[0m \u001b[39mdef\u001b[39;00m \u001b[39msave\u001b[39m(\u001b[39mself\u001b[39m, filepath, model_file, properties_file):\n\u001b[1;32m      9\u001b[0m     \u001b[39m# Save keras model\u001b[39;00m\n\u001b[0;32m---> 10\u001b[0m     \u001b[39mself\u001b[39;49m\u001b[39m.\u001b[39;49mmodel\u001b[39m.\u001b[39;49msave(filepath \u001b[39m+\u001b[39m \u001b[39m'\u001b[39m\u001b[39m/\u001b[39m\u001b[39m'\u001b[39m \u001b[39m+\u001b[39m model_file \u001b[39m+\u001b[39m \u001b[39m'\u001b[39m\u001b[39m.h5\u001b[39m\u001b[39m'\u001b[39m)\n\u001b[1;32m     12\u001b[0m     \u001b[39m# Save other properties\u001b[39;00m\n\u001b[1;32m     13\u001b[0m     \u001b[39msuper\u001b[39m()\u001b[39m.\u001b[39msave_properties(filepath, properties_file)\n",
            "\u001b[0;31mAttributeError\u001b[0m: 'NoneType' object has no attribute 'save'"
          ]
        }
      ],
      "source": [
        "\n",
        "import datetime\n",
        "\n",
        "def save_model_to_dir(model, folder_name):\n",
        "    dir_path = os.path.join(MODEL_FOLDER, folder_name)\n",
        "    \n",
        "    if not os.path.exists(dir_path):\n",
        "        os.mkdir(dir_path)\n",
        "    \n",
        "    timestamp = datetime.datetime.now().strftime('%Y%m%d_%H%M%S')\n",
        "    model_name = timestamp + \"_\" + model.model_type\n",
        "    properties_name = model_name\n",
        "    \n",
        "    model.save(dir_path, model_name, properties_name)\n",
        "\n",
        "# List of models\n",
        "models = [linear_tree_model, logistic_tree_model, logistic_model]\n",
        "\n",
        "\n",
        "# Iterate over models and save\n",
        "for model in models:\n",
        "    save_model_to_dir(model, model.model_type)\n",
        "\n"
      ]
    }
  ],
  "metadata": {
    "colab": {
      "provenance": []
    },
    "kernelspec": {
      "display_name": "Python 3 (ipykernel)",
      "language": "python",
      "name": "python3"
    },
    "language_info": {
      "codemirror_mode": {
        "name": "ipython",
        "version": 3
      },
      "file_extension": ".py",
      "mimetype": "text/x-python",
      "name": "python",
      "nbconvert_exporter": "python",
      "pygments_lexer": "ipython3",
      "version": "3.10.12"
    }
  },
  "nbformat": 4,
  "nbformat_minor": 0
}
