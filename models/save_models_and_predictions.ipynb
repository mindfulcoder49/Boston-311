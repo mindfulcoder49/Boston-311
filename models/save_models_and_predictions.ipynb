{
  "cells": [
    {
      "cell_type": "markdown",
      "metadata": {
        "id": "P1BXqsllgueC"
      },
      "source": [
        "#Boston 311 Tutorial\n",
        "\n",
        "This notebook will run you through the basic usage of this package to train 3 models on the Boston 311 data and use them to predict the outcome of cases from the last 30 days"
      ]
    },
    {
      "cell_type": "markdown",
      "metadata": {
        "id": "u54v241Vh-gN"
      },
      "source": [
        "##Install the package from github using pip"
      ]
    },
    {
      "cell_type": "code",
      "execution_count": 1,
      "metadata": {
        "id": "HF8wNhboPQ1z"
      },
      "outputs": [],
      "source": [
        "#This library is only needed for the Cox Regression Model, which is not included in this tutorial\n",
        "#! pip install lifelines"
      ]
    },
    {
      "cell_type": "code",
      "execution_count": 2,
      "metadata": {},
      "outputs": [],
      "source": [
        "#pwd()"
      ]
    },
    {
      "cell_type": "code",
      "execution_count": 3,
      "metadata": {
        "colab": {
          "base_uri": "https://localhost:8080/"
        },
        "id": "rlLnbD24LDtG",
        "outputId": "6520c1c5-4219-49a4-ba28-7d06451fdfee"
      },
      "outputs": [],
      "source": [
        "#! pip install ../"
      ]
    },
    {
      "cell_type": "markdown",
      "metadata": {
        "id": "XP7Hzen_iEAl"
      },
      "source": [
        "##Import the Boston311Model class"
      ]
    },
    {
      "cell_type": "code",
      "execution_count": null,
      "metadata": {},
      "outputs": [
        {
          "ename": "",
          "evalue": "",
          "output_type": "error",
          "traceback": [
            "\u001b[1;31mFailed to start the Kernel. \n",
            "\u001b[1;31mFailed to connect to the remote Jupyter Server 'Localhostjup'. Verify the server is running and reachable. (request to http://localhost:8888/hub/api failed, reason: connect ECONNREFUSED 127.0.0.1:8888). \n",
            "\u001b[1;31mView Jupyter <a href='command:jupyter.viewOutput'>log</a> for further details."
          ]
        }
      ],
      "source": [
        "! pip show boston311"
      ]
    },
    {
      "cell_type": "code",
      "execution_count": 5,
      "metadata": {
        "id": "LdhJESm7eWaY"
      },
      "outputs": [
        {
          "name": "stderr",
          "output_type": "stream",
          "text": [
            "2023-09-07 12:59:17.377934: I tensorflow/tsl/cuda/cudart_stub.cc:28] Could not find cuda drivers on your machine, GPU will not be used.\n",
            "2023-09-07 12:59:17.874861: I tensorflow/tsl/cuda/cudart_stub.cc:28] Could not find cuda drivers on your machine, GPU will not be used.\n",
            "2023-09-07 12:59:17.879069: I tensorflow/core/platform/cpu_feature_guard.cc:182] This TensorFlow binary is optimized to use available CPU instructions in performance-critical operations.\n",
            "To enable the following instructions: AVX2 FMA, in other operations, rebuild TensorFlow with the appropriate compiler flags.\n",
            "2023-09-07 12:59:20.992056: W tensorflow/compiler/tf2tensorrt/utils/py_utils.cc:38] TF-TRT Warning: Could not find TensorRT\n"
          ]
        }
      ],
      "source": [
        "from boston311 import Boston311LogReg, Boston311EventDecTree, Boston311SurvDecTree"
      ]
    },
    {
      "cell_type": "markdown",
      "metadata": {
        "id": "oq06XnVjPxvg"
      },
      "source": [
        "##Get latest file URLS and Current Date Ranges"
      ]
    },
    {
      "cell_type": "code",
      "execution_count": 6,
      "metadata": {
        "id": "_2FYkUb2P1LR"
      },
      "outputs": [],
      "source": [
        "logregmodel = Boston311LogReg()\n",
        "logregmodel.load('logregproperties.json', 'logreg.h5')"
      ]
    },
    {
      "cell_type": "code",
      "execution_count": 7,
      "metadata": {
        "colab": {
          "base_uri": "https://localhost:8080/"
        },
        "id": "uUMCPAELR9h7",
        "outputId": "05fcba64-1b74-4fb7-a52c-d3f8a499bcc6"
      },
      "outputs": [
        {
          "name": "stdout",
          "output_type": "stream",
          "text": [
            "2023-09-07 2023-08-08\n"
          ]
        }
      ],
      "source": [
        "from datetime import datetime, timedelta\n",
        "now = datetime.now()\n",
        "thirty_days = timedelta(days=30)\n",
        "thirty_days_ago = now - thirty_days\n",
        "today_datestring = now.strftime(\"%Y-%m-%d\")\n",
        "thirty_days_ago_datestring = thirty_days_ago.strftime(\"%Y-%m-%d\")\n",
        "\n",
        "print(today_datestring, thirty_days_ago_datestring)"
      ]
    },
    {
      "cell_type": "code",
      "execution_count": 8,
      "metadata": {},
      "outputs": [],
      "source": [
        "logregmodel.predict_date_range = {'start': thirty_days_ago_datestring, 'end': today_datestring}"
      ]
    },
    {
      "cell_type": "code",
      "execution_count": 9,
      "metadata": {},
      "outputs": [
        {
          "name": "stderr",
          "output_type": "stream",
          "text": [
            "/home/briarmoss/.local/lib/python3.10/site-packages/boston311/Boston311Model.py:251: DtypeWarning: Columns (13) have mixed types. Specify dtype option on import or set low_memory=False.\n",
            "  df = pd.read_csv(file)\n"
          ]
        },
        {
          "name": "stdout",
          "output_type": "stream",
          "text": [
            "Files with different number of columns from File 0:  []\n",
            "Files with same number of columns as File 0:  [0]\n",
            "Files with different column order from File 0:  []\n",
            "Files with same column order as File 0:  [0]\n",
            "918/918 [==============================] - 4s 4ms/step\n"
          ]
        }
      ],
      "source": [
        "logregmodel_prediction = logregmodel.predict()"
      ]
    },
    {
      "cell_type": "code",
      "execution_count": 10,
      "metadata": {},
      "outputs": [
        {
          "data": {
            "text/html": [
              "<div>\n",
              "<style scoped>\n",
              "    .dataframe tbody tr th:only-of-type {\n",
              "        vertical-align: middle;\n",
              "    }\n",
              "\n",
              "    .dataframe tbody tr th {\n",
              "        vertical-align: top;\n",
              "    }\n",
              "\n",
              "    .dataframe thead th {\n",
              "        text-align: right;\n",
              "    }\n",
              "</style>\n",
              "<table border=\"1\" class=\"dataframe\">\n",
              "  <thead>\n",
              "    <tr style=\"text-align: right;\">\n",
              "      <th></th>\n",
              "      <th>case_enquiry_id</th>\n",
              "      <th>open_dt</th>\n",
              "      <th>sla_target_dt</th>\n",
              "      <th>closed_dt</th>\n",
              "      <th>on_time</th>\n",
              "      <th>case_status</th>\n",
              "      <th>closure_reason</th>\n",
              "      <th>case_title</th>\n",
              "      <th>subject</th>\n",
              "      <th>reason</th>\n",
              "      <th>...</th>\n",
              "      <th>location_zipcode</th>\n",
              "      <th>latitude</th>\n",
              "      <th>longitude</th>\n",
              "      <th>geom_4326</th>\n",
              "      <th>source</th>\n",
              "      <th>survival_time</th>\n",
              "      <th>event</th>\n",
              "      <th>ward_number</th>\n",
              "      <th>survival_time_hours</th>\n",
              "      <th>event_prediction</th>\n",
              "    </tr>\n",
              "  </thead>\n",
              "  <tbody>\n",
              "    <tr>\n",
              "      <th>26522</th>\n",
              "      <td>101005014325</td>\n",
              "      <td>2023-08-26 06:18:00</td>\n",
              "      <td>2023-08-29 04:30:00</td>\n",
              "      <td>2023-08-26 14:15:10</td>\n",
              "      <td>ONTIME</td>\n",
              "      <td>Closed</td>\n",
              "      <td>Case Closed. Closed date : Sat Aug 26 18:15:10...</td>\n",
              "      <td>Requests for Street Cleaning</td>\n",
              "      <td>Public Works Department</td>\n",
              "      <td>Street Cleaning</td>\n",
              "      <td>...</td>\n",
              "      <td>2111.0</td>\n",
              "      <td>42.350910</td>\n",
              "      <td>-71.057170</td>\n",
              "      <td>0101000020E61000009C044BAEA8C351C0CA74669AEA2C...</td>\n",
              "      <td>Citizens Connect App</td>\n",
              "      <td>0 days 07:57:10</td>\n",
              "      <td>1</td>\n",
              "      <td>3</td>\n",
              "      <td>7.952778</td>\n",
              "      <td>1.000000</td>\n",
              "    </tr>\n",
              "    <tr>\n",
              "      <th>27919</th>\n",
              "      <td>101005014359</td>\n",
              "      <td>2023-08-26 06:32:00</td>\n",
              "      <td>2023-08-29 04:30:00</td>\n",
              "      <td>2023-08-28 07:14:36</td>\n",
              "      <td>ONTIME</td>\n",
              "      <td>Closed</td>\n",
              "      <td>Case Closed. Closed date : 2023-08-28 11:14:36...</td>\n",
              "      <td>Parking Enforcement</td>\n",
              "      <td>Transportation - Traffic Division</td>\n",
              "      <td>Enforcement &amp; Abandoned Vehicles</td>\n",
              "      <td>...</td>\n",
              "      <td>NaN</td>\n",
              "      <td>42.307148</td>\n",
              "      <td>-71.082349</td>\n",
              "      <td>0101000020E61000003939283345C551C0032BE6A05027...</td>\n",
              "      <td>Constituent Call</td>\n",
              "      <td>2 days 00:42:36</td>\n",
              "      <td>1</td>\n",
              "      <td>14</td>\n",
              "      <td>48.710000</td>\n",
              "      <td>0.998558</td>\n",
              "    </tr>\n",
              "    <tr>\n",
              "      <th>27970</th>\n",
              "      <td>101005014366</td>\n",
              "      <td>2023-08-26 06:37:08</td>\n",
              "      <td>2023-08-29 04:30:00</td>\n",
              "      <td>2023-08-28 03:43:16</td>\n",
              "      <td>ONTIME</td>\n",
              "      <td>Closed</td>\n",
              "      <td>Case Closed. Closed date : Mon Aug 28 07:43:16...</td>\n",
              "      <td>Requests for Street Cleaning</td>\n",
              "      <td>Public Works Department</td>\n",
              "      <td>Street Cleaning</td>\n",
              "      <td>...</td>\n",
              "      <td>2136.0</td>\n",
              "      <td>42.258130</td>\n",
              "      <td>-71.121401</td>\n",
              "      <td>0101000020E6100000513CEA07C5C751C097AF2D640A21...</td>\n",
              "      <td>Citizens Connect App</td>\n",
              "      <td>1 days 21:06:08</td>\n",
              "      <td>1</td>\n",
              "      <td>18</td>\n",
              "      <td>45.102222</td>\n",
              "      <td>0.999998</td>\n",
              "    </tr>\n",
              "    <tr>\n",
              "      <th>28344</th>\n",
              "      <td>101005014372</td>\n",
              "      <td>2023-08-26 06:38:46</td>\n",
              "      <td>2023-08-29 04:30:00</td>\n",
              "      <td>2023-08-26 09:32:56</td>\n",
              "      <td>ONTIME</td>\n",
              "      <td>Closed</td>\n",
              "      <td>Case Closed. Closed date : Sat Aug 26 13:32:56...</td>\n",
              "      <td>Requests for Street Cleaning</td>\n",
              "      <td>Public Works Department</td>\n",
              "      <td>Street Cleaning</td>\n",
              "      <td>...</td>\n",
              "      <td>2116.0</td>\n",
              "      <td>42.344750</td>\n",
              "      <td>-71.074471</td>\n",
              "      <td>0101000020E61000007D54F91FC4C451C08C8AC4C0202C...</td>\n",
              "      <td>Citizens Connect App</td>\n",
              "      <td>0 days 02:54:10</td>\n",
              "      <td>1</td>\n",
              "      <td>4</td>\n",
              "      <td>2.902778</td>\n",
              "      <td>0.999662</td>\n",
              "    </tr>\n",
              "    <tr>\n",
              "      <th>28365</th>\n",
              "      <td>101005014400</td>\n",
              "      <td>2023-08-26 06:49:00</td>\n",
              "      <td>NaN</td>\n",
              "      <td>NaT</td>\n",
              "      <td>ONTIME</td>\n",
              "      <td>Open</td>\n",
              "      <td></td>\n",
              "      <td>Mattress Pickup</td>\n",
              "      <td>Public Works Department</td>\n",
              "      <td>Sanitation</td>\n",
              "      <td>...</td>\n",
              "      <td>2125.0</td>\n",
              "      <td>42.316170</td>\n",
              "      <td>-71.056941</td>\n",
              "      <td>0101000020E6100000A207EDE9A4C351C0C57C2D3E7828...</td>\n",
              "      <td>Constituent Call</td>\n",
              "      <td>NaT</td>\n",
              "      <td>0</td>\n",
              "      <td>13</td>\n",
              "      <td>NaN</td>\n",
              "      <td>1.000000</td>\n",
              "    </tr>\n",
              "  </tbody>\n",
              "</table>\n",
              "<p>5 rows × 35 columns</p>\n",
              "</div>"
            ],
            "text/plain": [
              "       case_enquiry_id             open_dt        sla_target_dt   \n",
              "26522     101005014325 2023-08-26 06:18:00  2023-08-29 04:30:00  \\\n",
              "27919     101005014359 2023-08-26 06:32:00  2023-08-29 04:30:00   \n",
              "27970     101005014366 2023-08-26 06:37:08  2023-08-29 04:30:00   \n",
              "28344     101005014372 2023-08-26 06:38:46  2023-08-29 04:30:00   \n",
              "28365     101005014400 2023-08-26 06:49:00                  NaN   \n",
              "\n",
              "                closed_dt on_time case_status   \n",
              "26522 2023-08-26 14:15:10  ONTIME      Closed  \\\n",
              "27919 2023-08-28 07:14:36  ONTIME      Closed   \n",
              "27970 2023-08-28 03:43:16  ONTIME      Closed   \n",
              "28344 2023-08-26 09:32:56  ONTIME      Closed   \n",
              "28365                 NaT  ONTIME        Open   \n",
              "\n",
              "                                          closure_reason   \n",
              "26522  Case Closed. Closed date : Sat Aug 26 18:15:10...  \\\n",
              "27919  Case Closed. Closed date : 2023-08-28 11:14:36...   \n",
              "27970  Case Closed. Closed date : Mon Aug 28 07:43:16...   \n",
              "28344  Case Closed. Closed date : Sat Aug 26 13:32:56...   \n",
              "28365                                                      \n",
              "\n",
              "                         case_title                            subject   \n",
              "26522  Requests for Street Cleaning            Public Works Department  \\\n",
              "27919           Parking Enforcement  Transportation - Traffic Division   \n",
              "27970  Requests for Street Cleaning            Public Works Department   \n",
              "28344  Requests for Street Cleaning            Public Works Department   \n",
              "28365               Mattress Pickup            Public Works Department   \n",
              "\n",
              "                                 reason  ... location_zipcode   latitude   \n",
              "26522                   Street Cleaning  ...           2111.0  42.350910  \\\n",
              "27919  Enforcement & Abandoned Vehicles  ...              NaN  42.307148   \n",
              "27970                   Street Cleaning  ...           2136.0  42.258130   \n",
              "28344                   Street Cleaning  ...           2116.0  42.344750   \n",
              "28365                        Sanitation  ...           2125.0  42.316170   \n",
              "\n",
              "       longitude                                          geom_4326   \n",
              "26522 -71.057170  0101000020E61000009C044BAEA8C351C0CA74669AEA2C...  \\\n",
              "27919 -71.082349  0101000020E61000003939283345C551C0032BE6A05027...   \n",
              "27970 -71.121401  0101000020E6100000513CEA07C5C751C097AF2D640A21...   \n",
              "28344 -71.074471  0101000020E61000007D54F91FC4C451C08C8AC4C0202C...   \n",
              "28365 -71.056941  0101000020E6100000A207EDE9A4C351C0C57C2D3E7828...   \n",
              "\n",
              "                     source   survival_time event ward_number   \n",
              "26522  Citizens Connect App 0 days 07:57:10     1           3  \\\n",
              "27919      Constituent Call 2 days 00:42:36     1          14   \n",
              "27970  Citizens Connect App 1 days 21:06:08     1          18   \n",
              "28344  Citizens Connect App 0 days 02:54:10     1           4   \n",
              "28365      Constituent Call             NaT     0          13   \n",
              "\n",
              "      survival_time_hours event_prediction  \n",
              "26522            7.952778         1.000000  \n",
              "27919           48.710000         0.998558  \n",
              "27970           45.102222         0.999998  \n",
              "28344            2.902778         0.999662  \n",
              "28365                 NaN         1.000000  \n",
              "\n",
              "[5 rows x 35 columns]"
            ]
          },
          "execution_count": 10,
          "metadata": {},
          "output_type": "execute_result"
        }
      ],
      "source": [
        "logregmodel_prediction.head()"
      ]
    },
    {
      "cell_type": "code",
      "execution_count": 11,
      "metadata": {},
      "outputs": [],
      "source": [
        "import pandas as pd\n",
        "\n",
        "ml_model_name = 'logregmodel'\n",
        "ml_model_type = 'logistic regression'\n",
        "# set ml_model_id to 1 and then today_datestring as an integer, to make a string of digits\n",
        "ml_model_id = '1' + today_datestring.replace('-','')\n",
        "\n",
        "#create a new dataframe with new columns, ml_model_name, ml_model_type,ml_model_id\n",
        "ml_model_df = pd.DataFrame({'ml_model_name': [ml_model_name], \n",
        "                                    'ml_model_type': [ml_model_type],\n",
        "                                    'id': [ml_model_id],\n",
        "                                    'ml_model_date': [today_datestring]})\n",
        "\n",
        "\n"
      ]
    },
    {
      "cell_type": "code",
      "execution_count": 12,
      "metadata": {},
      "outputs": [],
      "source": [
        "#get new dataframe with just the event_prediction column from the logregmodel_prediction dataframe\n",
        "logregmodel_prediction_event = logregmodel_prediction[['event_prediction','case_enquiry_id']].copy()\n",
        "logregmodel_prediction_event['ml_model_id'] = ml_model_id\n",
        "#add today's date to the dataframe\n",
        "logregmodel_prediction_event['prediction_date'] = today_datestring\n",
        "#rename the event_prediction column to prediction\n",
        "logregmodel_prediction_event.rename(columns={'event_prediction': 'prediction'}, inplace=True)\n"
      ]
    },
    {
      "cell_type": "code",
      "execution_count": 13,
      "metadata": {},
      "outputs": [],
      "source": [
        "#remove logregmodel_prediction event_prediction column\n",
        "logregmodel_cases = logregmodel_prediction.drop('event_prediction', axis=1).copy()"
      ]
    },
    {
      "cell_type": "code",
      "execution_count": 14,
      "metadata": {},
      "outputs": [],
      "source": [
        "#remove geom column in logregmodel_cases\n",
        "logregmodel_cases = logregmodel_cases.drop('geom_4326', axis=1).copy()"
      ]
    },
    {
      "cell_type": "code",
      "execution_count": 15,
      "metadata": {},
      "outputs": [
        {
          "data": {
            "text/html": [
              "<div>\n",
              "<style scoped>\n",
              "    .dataframe tbody tr th:only-of-type {\n",
              "        vertical-align: middle;\n",
              "    }\n",
              "\n",
              "    .dataframe tbody tr th {\n",
              "        vertical-align: top;\n",
              "    }\n",
              "\n",
              "    .dataframe thead th {\n",
              "        text-align: right;\n",
              "    }\n",
              "</style>\n",
              "<table border=\"1\" class=\"dataframe\">\n",
              "  <thead>\n",
              "    <tr style=\"text-align: right;\">\n",
              "      <th></th>\n",
              "      <th>case_enquiry_id</th>\n",
              "      <th>open_dt</th>\n",
              "      <th>sla_target_dt</th>\n",
              "      <th>closed_dt</th>\n",
              "      <th>on_time</th>\n",
              "      <th>case_status</th>\n",
              "      <th>closure_reason</th>\n",
              "      <th>case_title</th>\n",
              "      <th>subject</th>\n",
              "      <th>reason</th>\n",
              "      <th>...</th>\n",
              "      <th>precinct</th>\n",
              "      <th>location_street_name</th>\n",
              "      <th>location_zipcode</th>\n",
              "      <th>latitude</th>\n",
              "      <th>longitude</th>\n",
              "      <th>source</th>\n",
              "      <th>survival_time</th>\n",
              "      <th>event</th>\n",
              "      <th>ward_number</th>\n",
              "      <th>survival_time_hours</th>\n",
              "    </tr>\n",
              "  </thead>\n",
              "  <tbody>\n",
              "    <tr>\n",
              "      <th>26522</th>\n",
              "      <td>101005014325</td>\n",
              "      <td>2023-08-26 06:18:00</td>\n",
              "      <td>2023-08-29 04:30:00</td>\n",
              "      <td>2023-08-26 14:15:10</td>\n",
              "      <td>ONTIME</td>\n",
              "      <td>Closed</td>\n",
              "      <td>Case Closed. Closed date : Sat Aug 26 18:15:10...</td>\n",
              "      <td>Requests for Street Cleaning</td>\n",
              "      <td>Public Works Department</td>\n",
              "      <td>Street Cleaning</td>\n",
              "      <td>...</td>\n",
              "      <td>0308</td>\n",
              "      <td>116 South St</td>\n",
              "      <td>2111.0</td>\n",
              "      <td>42.350910</td>\n",
              "      <td>-71.057170</td>\n",
              "      <td>Citizens Connect App</td>\n",
              "      <td>0 days 07:57:10</td>\n",
              "      <td>1</td>\n",
              "      <td>3</td>\n",
              "      <td>7.952778</td>\n",
              "    </tr>\n",
              "    <tr>\n",
              "      <th>27919</th>\n",
              "      <td>101005014359</td>\n",
              "      <td>2023-08-26 06:32:00</td>\n",
              "      <td>2023-08-29 04:30:00</td>\n",
              "      <td>2023-08-28 07:14:36</td>\n",
              "      <td>ONTIME</td>\n",
              "      <td>Closed</td>\n",
              "      <td>Case Closed. Closed date : 2023-08-28 11:14:36...</td>\n",
              "      <td>Parking Enforcement</td>\n",
              "      <td>Transportation - Traffic Division</td>\n",
              "      <td>Enforcement &amp; Abandoned Vehicles</td>\n",
              "      <td>...</td>\n",
              "      <td>1403</td>\n",
              "      <td>INTERSECTION Bilodeau Rd &amp; Washington St</td>\n",
              "      <td>NaN</td>\n",
              "      <td>42.307148</td>\n",
              "      <td>-71.082349</td>\n",
              "      <td>Constituent Call</td>\n",
              "      <td>2 days 00:42:36</td>\n",
              "      <td>1</td>\n",
              "      <td>14</td>\n",
              "      <td>48.710000</td>\n",
              "    </tr>\n",
              "    <tr>\n",
              "      <th>27970</th>\n",
              "      <td>101005014366</td>\n",
              "      <td>2023-08-26 06:37:08</td>\n",
              "      <td>2023-08-29 04:30:00</td>\n",
              "      <td>2023-08-28 03:43:16</td>\n",
              "      <td>ONTIME</td>\n",
              "      <td>Closed</td>\n",
              "      <td>Case Closed. Closed date : Mon Aug 28 07:43:16...</td>\n",
              "      <td>Requests for Street Cleaning</td>\n",
              "      <td>Public Works Department</td>\n",
              "      <td>Street Cleaning</td>\n",
              "      <td>...</td>\n",
              "      <td>1813</td>\n",
              "      <td>28 Webster St</td>\n",
              "      <td>2136.0</td>\n",
              "      <td>42.258130</td>\n",
              "      <td>-71.121401</td>\n",
              "      <td>Citizens Connect App</td>\n",
              "      <td>1 days 21:06:08</td>\n",
              "      <td>1</td>\n",
              "      <td>18</td>\n",
              "      <td>45.102222</td>\n",
              "    </tr>\n",
              "    <tr>\n",
              "      <th>28344</th>\n",
              "      <td>101005014372</td>\n",
              "      <td>2023-08-26 06:38:46</td>\n",
              "      <td>2023-08-29 04:30:00</td>\n",
              "      <td>2023-08-26 09:32:56</td>\n",
              "      <td>ONTIME</td>\n",
              "      <td>Closed</td>\n",
              "      <td>Case Closed. Closed date : Sat Aug 26 13:32:56...</td>\n",
              "      <td>Requests for Street Cleaning</td>\n",
              "      <td>Public Works Department</td>\n",
              "      <td>Street Cleaning</td>\n",
              "      <td>...</td>\n",
              "      <td>0401</td>\n",
              "      <td>63 Dartmouth St</td>\n",
              "      <td>2116.0</td>\n",
              "      <td>42.344750</td>\n",
              "      <td>-71.074471</td>\n",
              "      <td>Citizens Connect App</td>\n",
              "      <td>0 days 02:54:10</td>\n",
              "      <td>1</td>\n",
              "      <td>4</td>\n",
              "      <td>2.902778</td>\n",
              "    </tr>\n",
              "    <tr>\n",
              "      <th>28365</th>\n",
              "      <td>101005014400</td>\n",
              "      <td>2023-08-26 06:49:00</td>\n",
              "      <td>NaN</td>\n",
              "      <td>NaT</td>\n",
              "      <td>ONTIME</td>\n",
              "      <td>Open</td>\n",
              "      <td></td>\n",
              "      <td>Mattress Pickup</td>\n",
              "      <td>Public Works Department</td>\n",
              "      <td>Sanitation</td>\n",
              "      <td>...</td>\n",
              "      <td>1308</td>\n",
              "      <td>1015 Dorchester Ave</td>\n",
              "      <td>2125.0</td>\n",
              "      <td>42.316170</td>\n",
              "      <td>-71.056941</td>\n",
              "      <td>Constituent Call</td>\n",
              "      <td>NaT</td>\n",
              "      <td>0</td>\n",
              "      <td>13</td>\n",
              "      <td>NaN</td>\n",
              "    </tr>\n",
              "  </tbody>\n",
              "</table>\n",
              "<p>5 rows × 33 columns</p>\n",
              "</div>"
            ],
            "text/plain": [
              "       case_enquiry_id             open_dt        sla_target_dt   \n",
              "26522     101005014325 2023-08-26 06:18:00  2023-08-29 04:30:00  \\\n",
              "27919     101005014359 2023-08-26 06:32:00  2023-08-29 04:30:00   \n",
              "27970     101005014366 2023-08-26 06:37:08  2023-08-29 04:30:00   \n",
              "28344     101005014372 2023-08-26 06:38:46  2023-08-29 04:30:00   \n",
              "28365     101005014400 2023-08-26 06:49:00                  NaN   \n",
              "\n",
              "                closed_dt on_time case_status   \n",
              "26522 2023-08-26 14:15:10  ONTIME      Closed  \\\n",
              "27919 2023-08-28 07:14:36  ONTIME      Closed   \n",
              "27970 2023-08-28 03:43:16  ONTIME      Closed   \n",
              "28344 2023-08-26 09:32:56  ONTIME      Closed   \n",
              "28365                 NaT  ONTIME        Open   \n",
              "\n",
              "                                          closure_reason   \n",
              "26522  Case Closed. Closed date : Sat Aug 26 18:15:10...  \\\n",
              "27919  Case Closed. Closed date : 2023-08-28 11:14:36...   \n",
              "27970  Case Closed. Closed date : Mon Aug 28 07:43:16...   \n",
              "28344  Case Closed. Closed date : Sat Aug 26 13:32:56...   \n",
              "28365                                                      \n",
              "\n",
              "                         case_title                            subject   \n",
              "26522  Requests for Street Cleaning            Public Works Department  \\\n",
              "27919           Parking Enforcement  Transportation - Traffic Division   \n",
              "27970  Requests for Street Cleaning            Public Works Department   \n",
              "28344  Requests for Street Cleaning            Public Works Department   \n",
              "28365               Mattress Pickup            Public Works Department   \n",
              "\n",
              "                                 reason  ... precinct   \n",
              "26522                   Street Cleaning  ...     0308  \\\n",
              "27919  Enforcement & Abandoned Vehicles  ...     1403   \n",
              "27970                   Street Cleaning  ...     1813   \n",
              "28344                   Street Cleaning  ...     0401   \n",
              "28365                        Sanitation  ...     1308   \n",
              "\n",
              "                           location_street_name location_zipcode   latitude   \n",
              "26522                              116 South St           2111.0  42.350910  \\\n",
              "27919  INTERSECTION Bilodeau Rd & Washington St              NaN  42.307148   \n",
              "27970                             28 Webster St           2136.0  42.258130   \n",
              "28344                           63 Dartmouth St           2116.0  42.344750   \n",
              "28365                       1015 Dorchester Ave           2125.0  42.316170   \n",
              "\n",
              "       longitude                source   survival_time event ward_number   \n",
              "26522 -71.057170  Citizens Connect App 0 days 07:57:10     1           3  \\\n",
              "27919 -71.082349      Constituent Call 2 days 00:42:36     1          14   \n",
              "27970 -71.121401  Citizens Connect App 1 days 21:06:08     1          18   \n",
              "28344 -71.074471  Citizens Connect App 0 days 02:54:10     1           4   \n",
              "28365 -71.056941      Constituent Call             NaT     0          13   \n",
              "\n",
              "      survival_time_hours  \n",
              "26522            7.952778  \n",
              "27919           48.710000  \n",
              "27970           45.102222  \n",
              "28344            2.902778  \n",
              "28365                 NaN  \n",
              "\n",
              "[5 rows x 33 columns]"
            ]
          },
          "execution_count": 15,
          "metadata": {},
          "output_type": "execute_result"
        }
      ],
      "source": [
        "logregmodel_cases.head()"
      ]
    },
    {
      "cell_type": "markdown",
      "metadata": {
        "id": "I4dxuwJdgrZr"
      },
      "source": [
        "##Save the prediction data"
      ]
    },
    {
      "cell_type": "code",
      "execution_count": 16,
      "metadata": {
        "id": "aI0HHI6YjMoQ"
      },
      "outputs": [],
      "source": [
        "logregmodel_cases.to_csv('311.csv', index=False)\n"
      ]
    },
    {
      "cell_type": "code",
      "execution_count": 17,
      "metadata": {},
      "outputs": [],
      "source": [
        "\n",
        "logregmodel_prediction_event.to_csv('311_predictions.csv', index=False)"
      ]
    },
    {
      "cell_type": "code",
      "execution_count": 18,
      "metadata": {},
      "outputs": [],
      "source": [
        "\n",
        "ml_model_df.to_csv('311_ml_models.csv', index=False)"
      ]
    }
  ],
  "metadata": {
    "colab": {
      "provenance": []
    },
    "kernelspec": {
      "display_name": "Python 3 (ipykernel)",
      "language": "python",
      "name": "python3"
    }
  },
  "nbformat": 4,
  "nbformat_minor": 0
}
