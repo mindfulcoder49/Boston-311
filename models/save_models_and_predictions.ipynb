{
  "cells": [
    {
      "cell_type": "markdown",
      "metadata": {
        "id": "P1BXqsllgueC"
      },
      "source": [
        "#Boston 311 Tutorial\n",
        "\n",
        "This notebook will run you through the basic usage of this package to train 3 models on the Boston 311 data and use them to predict the outcome of cases from the last 30 days"
      ]
    },
    {
      "cell_type": "markdown",
      "metadata": {
        "id": "u54v241Vh-gN"
      },
      "source": [
        "##Install the package from github using pip"
      ]
    },
    {
      "cell_type": "code",
      "execution_count": null,
      "metadata": {
        "id": "HF8wNhboPQ1z"
      },
      "outputs": [],
      "source": [
        "#This library is only needed for the Cox Regression Model, which is not included in this tutorial\n",
        "! pip install lifelines"
      ]
    },
    {
      "cell_type": "code",
      "execution_count": 1,
      "metadata": {},
      "outputs": [
        {
          "data": {
            "text/plain": [
              "'/home/briarmoss/Documents/Boston_311/models'"
            ]
          },
          "execution_count": 1,
          "metadata": {},
          "output_type": "execute_result"
        }
      ],
      "source": [
        "pwd()"
      ]
    },
    {
      "cell_type": "code",
      "execution_count": 4,
      "metadata": {
        "colab": {
          "base_uri": "https://localhost:8080/"
        },
        "id": "rlLnbD24LDtG",
        "outputId": "6520c1c5-4219-49a4-ba28-7d06451fdfee"
      },
      "outputs": [
        {
          "name": "stdout",
          "output_type": "stream",
          "text": [
            "Defaulting to user installation because normal site-packages is not writeable\n",
            "Processing /home/briarmoss/Documents/Boston_311\n",
            "  Installing build dependencies ... \u001b[?25ldone\n",
            "\u001b[?25h  Getting requirements to build wheel ... \u001b[?25ldone\n",
            "\u001b[?25h  Preparing metadata (pyproject.toml) ... \u001b[?25ldone\n",
            "\u001b[?25hRequirement already satisfied: tensorflow in /home/briarmoss/.local/lib/python3.10/site-packages (from boston311==0.1.0) (2.12.0)\n",
            "Requirement already satisfied: scikit-learn in /home/briarmoss/.local/lib/python3.10/site-packages (from boston311==0.1.0) (1.2.2)\n",
            "Requirement already satisfied: pandas in /home/briarmoss/.local/lib/python3.10/site-packages (from boston311==0.1.0) (2.0.1)\n",
            "Requirement already satisfied: numpy in /home/briarmoss/.local/lib/python3.10/site-packages (from boston311==0.1.0) (1.23.5)\n",
            "Requirement already satisfied: matplotlib in /home/briarmoss/.local/lib/python3.10/site-packages (from boston311==0.1.0) (3.7.1)\n",
            "Requirement already satisfied: python-dateutil>=2.7 in /home/briarmoss/.local/lib/python3.10/site-packages (from matplotlib->boston311==0.1.0) (2.8.2)\n",
            "Requirement already satisfied: cycler>=0.10 in /home/briarmoss/.local/lib/python3.10/site-packages (from matplotlib->boston311==0.1.0) (0.11.0)\n",
            "Requirement already satisfied: contourpy>=1.0.1 in /home/briarmoss/.local/lib/python3.10/site-packages (from matplotlib->boston311==0.1.0) (1.0.7)\n",
            "Requirement already satisfied: fonttools>=4.22.0 in /home/briarmoss/.local/lib/python3.10/site-packages (from matplotlib->boston311==0.1.0) (4.39.4)\n",
            "Requirement already satisfied: packaging>=20.0 in /home/briarmoss/.local/lib/python3.10/site-packages (from matplotlib->boston311==0.1.0) (23.1)\n",
            "Requirement already satisfied: pillow>=6.2.0 in /usr/lib/python3/dist-packages (from matplotlib->boston311==0.1.0) (9.0.1)\n",
            "Requirement already satisfied: kiwisolver>=1.0.1 in /home/briarmoss/.local/lib/python3.10/site-packages (from matplotlib->boston311==0.1.0) (1.4.4)\n",
            "Requirement already satisfied: pyparsing>=2.3.1 in /usr/lib/python3/dist-packages (from matplotlib->boston311==0.1.0) (2.4.7)\n",
            "Requirement already satisfied: pytz>=2020.1 in /usr/lib/python3/dist-packages (from pandas->boston311==0.1.0) (2022.1)\n",
            "Requirement already satisfied: tzdata>=2022.1 in /home/briarmoss/.local/lib/python3.10/site-packages (from pandas->boston311==0.1.0) (2023.3)\n",
            "Requirement already satisfied: scipy>=1.3.2 in /home/briarmoss/.local/lib/python3.10/site-packages (from scikit-learn->boston311==0.1.0) (1.10.1)\n",
            "Requirement already satisfied: joblib>=1.1.1 in /home/briarmoss/.local/lib/python3.10/site-packages (from scikit-learn->boston311==0.1.0) (1.2.0)\n",
            "Requirement already satisfied: threadpoolctl>=2.0.0 in /home/briarmoss/.local/lib/python3.10/site-packages (from scikit-learn->boston311==0.1.0) (3.1.0)\n",
            "Requirement already satisfied: six>=1.12.0 in /usr/lib/python3/dist-packages (from tensorflow->boston311==0.1.0) (1.16.0)\n",
            "Requirement already satisfied: flatbuffers>=2.0 in /home/briarmoss/.local/lib/python3.10/site-packages (from tensorflow->boston311==0.1.0) (23.5.9)\n",
            "Requirement already satisfied: libclang>=13.0.0 in /home/briarmoss/.local/lib/python3.10/site-packages (from tensorflow->boston311==0.1.0) (16.0.0)\n",
            "Requirement already satisfied: absl-py>=1.0.0 in /home/briarmoss/.local/lib/python3.10/site-packages (from tensorflow->boston311==0.1.0) (1.4.0)\n",
            "Requirement already satisfied: tensorboard<2.13,>=2.12 in /home/briarmoss/.local/lib/python3.10/site-packages (from tensorflow->boston311==0.1.0) (2.12.3)\n",
            "Requirement already satisfied: gast<=0.4.0,>=0.2.1 in /home/briarmoss/.local/lib/python3.10/site-packages (from tensorflow->boston311==0.1.0) (0.4.0)\n",
            "Requirement already satisfied: astunparse>=1.6.0 in /home/briarmoss/.local/lib/python3.10/site-packages (from tensorflow->boston311==0.1.0) (1.6.3)\n",
            "Requirement already satisfied: setuptools in /usr/lib/python3/dist-packages (from tensorflow->boston311==0.1.0) (59.6.0)\n",
            "Requirement already satisfied: google-pasta>=0.1.1 in /home/briarmoss/.local/lib/python3.10/site-packages (from tensorflow->boston311==0.1.0) (0.2.0)\n",
            "Requirement already satisfied: opt-einsum>=2.3.2 in /home/briarmoss/.local/lib/python3.10/site-packages (from tensorflow->boston311==0.1.0) (3.3.0)\n",
            "Requirement already satisfied: keras<2.13,>=2.12.0 in /home/briarmoss/.local/lib/python3.10/site-packages (from tensorflow->boston311==0.1.0) (2.12.0)\n",
            "Requirement already satisfied: jax>=0.3.15 in /home/briarmoss/.local/lib/python3.10/site-packages (from tensorflow->boston311==0.1.0) (0.4.10)\n",
            "Requirement already satisfied: protobuf!=4.21.0,!=4.21.1,!=4.21.2,!=4.21.3,!=4.21.4,!=4.21.5,<5.0.0dev,>=3.20.3 in /home/briarmoss/.local/lib/python3.10/site-packages (from tensorflow->boston311==0.1.0) (4.23.0)\n",
            "Requirement already satisfied: termcolor>=1.1.0 in /home/briarmoss/.local/lib/python3.10/site-packages (from tensorflow->boston311==0.1.0) (2.3.0)\n",
            "Requirement already satisfied: tensorflow-estimator<2.13,>=2.12.0 in /home/briarmoss/.local/lib/python3.10/site-packages (from tensorflow->boston311==0.1.0) (2.12.0)\n",
            "Requirement already satisfied: tensorflow-io-gcs-filesystem>=0.23.1 in /home/briarmoss/.local/lib/python3.10/site-packages (from tensorflow->boston311==0.1.0) (0.32.0)\n",
            "Requirement already satisfied: h5py>=2.9.0 in /home/briarmoss/.local/lib/python3.10/site-packages (from tensorflow->boston311==0.1.0) (3.8.0)\n",
            "Requirement already satisfied: typing-extensions>=3.6.6 in /home/briarmoss/.local/lib/python3.10/site-packages (from tensorflow->boston311==0.1.0) (4.5.0)\n",
            "Requirement already satisfied: wrapt<1.15,>=1.11.0 in /home/briarmoss/.local/lib/python3.10/site-packages (from tensorflow->boston311==0.1.0) (1.14.1)\n",
            "Requirement already satisfied: grpcio<2.0,>=1.24.3 in /home/briarmoss/.local/lib/python3.10/site-packages (from tensorflow->boston311==0.1.0) (1.54.2)\n",
            "Requirement already satisfied: wheel<1.0,>=0.23.0 in /usr/lib/python3/dist-packages (from astunparse>=1.6.0->tensorflow->boston311==0.1.0) (0.37.1)\n",
            "Requirement already satisfied: ml-dtypes>=0.1.0 in /home/briarmoss/.local/lib/python3.10/site-packages (from jax>=0.3.15->tensorflow->boston311==0.1.0) (0.1.0)\n",
            "Requirement already satisfied: google-auth-oauthlib<1.1,>=0.5 in /home/briarmoss/.local/lib/python3.10/site-packages (from tensorboard<2.13,>=2.12->tensorflow->boston311==0.1.0) (1.0.0)\n",
            "Requirement already satisfied: tensorboard-data-server<0.8.0,>=0.7.0 in /home/briarmoss/.local/lib/python3.10/site-packages (from tensorboard<2.13,>=2.12->tensorflow->boston311==0.1.0) (0.7.0)\n",
            "Requirement already satisfied: werkzeug>=1.0.1 in /home/briarmoss/.local/lib/python3.10/site-packages (from tensorboard<2.13,>=2.12->tensorflow->boston311==0.1.0) (2.3.4)\n",
            "Requirement already satisfied: requests<3,>=2.21.0 in /usr/lib/python3/dist-packages (from tensorboard<2.13,>=2.12->tensorflow->boston311==0.1.0) (2.25.1)\n",
            "Requirement already satisfied: google-auth<3,>=1.6.3 in /home/briarmoss/.local/lib/python3.10/site-packages (from tensorboard<2.13,>=2.12->tensorflow->boston311==0.1.0) (2.18.0)\n",
            "Requirement already satisfied: markdown>=2.6.8 in /home/briarmoss/.local/lib/python3.10/site-packages (from tensorboard<2.13,>=2.12->tensorflow->boston311==0.1.0) (3.4.3)\n",
            "Requirement already satisfied: rsa<5,>=3.1.4 in /home/briarmoss/.local/lib/python3.10/site-packages (from google-auth<3,>=1.6.3->tensorboard<2.13,>=2.12->tensorflow->boston311==0.1.0) (4.9)\n",
            "Requirement already satisfied: cachetools<6.0,>=2.0.0 in /home/briarmoss/.local/lib/python3.10/site-packages (from google-auth<3,>=1.6.3->tensorboard<2.13,>=2.12->tensorflow->boston311==0.1.0) (5.3.0)\n",
            "Requirement already satisfied: urllib3<2.0 in /usr/lib/python3/dist-packages (from google-auth<3,>=1.6.3->tensorboard<2.13,>=2.12->tensorflow->boston311==0.1.0) (1.26.5)\n",
            "Requirement already satisfied: pyasn1-modules>=0.2.1 in /home/briarmoss/.local/lib/python3.10/site-packages (from google-auth<3,>=1.6.3->tensorboard<2.13,>=2.12->tensorflow->boston311==0.1.0) (0.3.0)\n",
            "Requirement already satisfied: requests-oauthlib>=0.7.0 in /home/briarmoss/.local/lib/python3.10/site-packages (from google-auth-oauthlib<1.1,>=0.5->tensorboard<2.13,>=2.12->tensorflow->boston311==0.1.0) (1.3.1)\n",
            "Requirement already satisfied: MarkupSafe>=2.1.1 in /home/briarmoss/.local/lib/python3.10/site-packages (from werkzeug>=1.0.1->tensorboard<2.13,>=2.12->tensorflow->boston311==0.1.0) (2.1.2)\n",
            "Requirement already satisfied: pyasn1<0.6.0,>=0.4.6 in /home/briarmoss/.local/lib/python3.10/site-packages (from pyasn1-modules>=0.2.1->google-auth<3,>=1.6.3->tensorboard<2.13,>=2.12->tensorflow->boston311==0.1.0) (0.5.0)\n",
            "Requirement already satisfied: oauthlib>=3.0.0 in /usr/lib/python3/dist-packages (from requests-oauthlib>=0.7.0->google-auth-oauthlib<1.1,>=0.5->tensorboard<2.13,>=2.12->tensorflow->boston311==0.1.0) (3.2.0)\n",
            "Building wheels for collected packages: boston311\n",
            "  Building wheel for boston311 (pyproject.toml) ... \u001b[?25ldone\n",
            "\u001b[?25h  Created wheel for boston311: filename=boston311-0.1.0-py3-none-any.whl size=19999 sha256=de53473995c392398a2cbcb68232c96c54c16d1f9dcd6f2a4025625f6f6947ce\n",
            "  Stored in directory: /tmp/pip-ephem-wheel-cache-xs1j5d8c/wheels/3d/69/ee/0a6ac96b9c09c948fc0e74f2724a9703aa39749a41fa757c9e\n",
            "Successfully built boston311\n",
            "Installing collected packages: boston311\n",
            "  Attempting uninstall: boston311\n",
            "    Found existing installation: boston311 0.1\n",
            "    Uninstalling boston311-0.1:\n",
            "      Successfully uninstalled boston311-0.1\n",
            "Successfully installed boston311-0.1.0\n"
          ]
        }
      ],
      "source": [
        "! pip install ../"
      ]
    },
    {
      "cell_type": "markdown",
      "metadata": {
        "id": "XP7Hzen_iEAl"
      },
      "source": [
        "##Import the Boston311Model class"
      ]
    },
    {
      "cell_type": "code",
      "execution_count": 2,
      "metadata": {},
      "outputs": [
        {
          "name": "stdout",
          "output_type": "stream",
          "text": [
            "Name: boston311\n",
            "Version: 0.1.0\n",
            "Summary: A package for training machine learning models on Boston 311 data\n",
            "Home-page: https://github.com/mindfulcoder49/Boston_311\n",
            "Author: Alex Alcivar\n",
            "Author-email: alex.g.alcivar49@gmail.com\n",
            "License: UNKNOWN\n",
            "Location: /home/briarmoss/.local/lib/python3.10/site-packages\n",
            "Requires: matplotlib, numpy, pandas, scikit-learn, tensorflow\n",
            "Required-by: \n"
          ]
        }
      ],
      "source": [
        "! pip show boston311"
      ]
    },
    {
      "cell_type": "code",
      "execution_count": 3,
      "metadata": {
        "id": "LdhJESm7eWaY"
      },
      "outputs": [
        {
          "name": "stderr",
          "output_type": "stream",
          "text": [
            "2023-06-16 11:07:12.893854: I tensorflow/tsl/cuda/cudart_stub.cc:28] Could not find cuda drivers on your machine, GPU will not be used.\n",
            "2023-06-16 11:07:13.370424: I tensorflow/tsl/cuda/cudart_stub.cc:28] Could not find cuda drivers on your machine, GPU will not be used.\n",
            "2023-06-16 11:07:13.373510: I tensorflow/core/platform/cpu_feature_guard.cc:182] This TensorFlow binary is optimized to use available CPU instructions in performance-critical operations.\n",
            "To enable the following instructions: AVX2 FMA, in other operations, rebuild TensorFlow with the appropriate compiler flags.\n",
            "2023-06-16 11:07:16.500491: W tensorflow/compiler/tf2tensorrt/utils/py_utils.cc:38] TF-TRT Warning: Could not find TensorRT\n"
          ]
        }
      ],
      "source": [
        "from boston311 import Boston311LogReg, Boston311EventDecTree, Boston311SurvDecTree"
      ]
    },
    {
      "cell_type": "markdown",
      "metadata": {
        "id": "oq06XnVjPxvg"
      },
      "source": [
        "##Get latest file URLS and Current Date Ranges"
      ]
    },
    {
      "cell_type": "code",
      "execution_count": 4,
      "metadata": {
        "id": "_2FYkUb2P1LR"
      },
      "outputs": [],
      "source": [
        "logregmodel = Boston311LogReg()\n",
        "logregmodel.load('logregproperties.json', 'logreg.h5')"
      ]
    },
    {
      "cell_type": "code",
      "execution_count": 5,
      "metadata": {
        "colab": {
          "base_uri": "https://localhost:8080/"
        },
        "id": "uUMCPAELR9h7",
        "outputId": "05fcba64-1b74-4fb7-a52c-d3f8a499bcc6"
      },
      "outputs": [
        {
          "name": "stdout",
          "output_type": "stream",
          "text": [
            "2023-06-16 2023-05-17\n"
          ]
        }
      ],
      "source": [
        "from datetime import datetime, timedelta\n",
        "now = datetime.now()\n",
        "thirty_days = timedelta(days=30)\n",
        "thirty_days_ago = now - thirty_days\n",
        "today_datestring = now.strftime(\"%Y-%m-%d\")\n",
        "thirty_days_ago_datestring = thirty_days_ago.strftime(\"%Y-%m-%d\")\n",
        "\n",
        "print(today_datestring, thirty_days_ago_datestring)"
      ]
    },
    {
      "cell_type": "code",
      "execution_count": 40,
      "metadata": {},
      "outputs": [],
      "source": [
        "logregmodel.predict_date_range = {'start': thirty_days_ago_datestring, 'end': today_datestring}"
      ]
    },
    {
      "cell_type": "code",
      "execution_count": 41,
      "metadata": {},
      "outputs": [
        {
          "name": "stdout",
          "output_type": "stream",
          "text": [
            "Files with different number of columns from File 0:  []\n",
            "Files with same number of columns as File 0:  [0]\n",
            "Files with different column order from File 0:  []\n",
            "Files with same column order as File 0:  [0]\n",
            "770/770 [==============================] - 4s 5ms/step\n"
          ]
        }
      ],
      "source": [
        "logregmodel_prediction = logregmodel.predict()"
      ]
    },
    {
      "cell_type": "code",
      "execution_count": 42,
      "metadata": {},
      "outputs": [
        {
          "data": {
            "text/html": [
              "<div>\n",
              "<style scoped>\n",
              "    .dataframe tbody tr th:only-of-type {\n",
              "        vertical-align: middle;\n",
              "    }\n",
              "\n",
              "    .dataframe tbody tr th {\n",
              "        vertical-align: top;\n",
              "    }\n",
              "\n",
              "    .dataframe thead th {\n",
              "        text-align: right;\n",
              "    }\n",
              "</style>\n",
              "<table border=\"1\" class=\"dataframe\">\n",
              "  <thead>\n",
              "    <tr style=\"text-align: right;\">\n",
              "      <th></th>\n",
              "      <th>case_enquiry_id</th>\n",
              "      <th>open_dt</th>\n",
              "      <th>target_dt</th>\n",
              "      <th>closed_dt</th>\n",
              "      <th>ontime</th>\n",
              "      <th>case_status</th>\n",
              "      <th>closure_reason</th>\n",
              "      <th>case_title</th>\n",
              "      <th>subject</th>\n",
              "      <th>reason</th>\n",
              "      <th>...</th>\n",
              "      <th>location_street_name</th>\n",
              "      <th>location_zipcode</th>\n",
              "      <th>latitude</th>\n",
              "      <th>longitude</th>\n",
              "      <th>source</th>\n",
              "      <th>survival_time</th>\n",
              "      <th>event</th>\n",
              "      <th>ward_number</th>\n",
              "      <th>survival_time_hours</th>\n",
              "      <th>event_prediction</th>\n",
              "    </tr>\n",
              "  </thead>\n",
              "  <tbody>\n",
              "    <tr>\n",
              "      <th>8186</th>\n",
              "      <td>101004841184</td>\n",
              "      <td>2023-05-18 10:22:00</td>\n",
              "      <td>2023-05-23 10:22:13</td>\n",
              "      <td>NaT</td>\n",
              "      <td>OVERDUE</td>\n",
              "      <td>Open</td>\n",
              "      <td></td>\n",
              "      <td>Work Hours-Loud Noise Complaints</td>\n",
              "      <td>Public Works Department</td>\n",
              "      <td>Highway Maintenance</td>\n",
              "      <td>...</td>\n",
              "      <td>65-69 Wareham St</td>\n",
              "      <td>2118.0</td>\n",
              "      <td>42.3390</td>\n",
              "      <td>-71.0674</td>\n",
              "      <td>Constituent Call</td>\n",
              "      <td>NaT</td>\n",
              "      <td>0</td>\n",
              "      <td>8</td>\n",
              "      <td>NaN</td>\n",
              "      <td>0.999817</td>\n",
              "    </tr>\n",
              "    <tr>\n",
              "      <th>8323</th>\n",
              "      <td>101004860588</td>\n",
              "      <td>2023-05-31 21:31:00</td>\n",
              "      <td>2023-06-02 08:30:00</td>\n",
              "      <td>NaT</td>\n",
              "      <td>OVERDUE</td>\n",
              "      <td>Open</td>\n",
              "      <td></td>\n",
              "      <td>Sidewalk Repair (Make Safe)</td>\n",
              "      <td>Public Works Department</td>\n",
              "      <td>Highway Maintenance</td>\n",
              "      <td>...</td>\n",
              "      <td>28 Walker St</td>\n",
              "      <td>2129.0</td>\n",
              "      <td>42.3791</td>\n",
              "      <td>-71.0672</td>\n",
              "      <td>Citizens Connect App</td>\n",
              "      <td>NaT</td>\n",
              "      <td>0</td>\n",
              "      <td>2</td>\n",
              "      <td>NaN</td>\n",
              "      <td>0.036834</td>\n",
              "    </tr>\n",
              "    <tr>\n",
              "      <th>8396</th>\n",
              "      <td>101004844360</td>\n",
              "      <td>2023-05-20 13:35:00</td>\n",
              "      <td>2023-06-08 08:30:00</td>\n",
              "      <td>NaT</td>\n",
              "      <td>OVERDUE</td>\n",
              "      <td>Open</td>\n",
              "      <td></td>\n",
              "      <td>Abandoned Vehicles</td>\n",
              "      <td>Transportation - Traffic Division</td>\n",
              "      <td>Enforcement &amp; Abandoned Vehicles</td>\n",
              "      <td>...</td>\n",
              "      <td>346-348 Tremont St</td>\n",
              "      <td>2116.0</td>\n",
              "      <td>42.3482</td>\n",
              "      <td>-71.0665</td>\n",
              "      <td>Citizens Connect App</td>\n",
              "      <td>NaT</td>\n",
              "      <td>0</td>\n",
              "      <td>5</td>\n",
              "      <td>NaN</td>\n",
              "      <td>0.797962</td>\n",
              "    </tr>\n",
              "    <tr>\n",
              "      <th>8402</th>\n",
              "      <td>101004861372</td>\n",
              "      <td>2023-06-01 11:10:00</td>\n",
              "      <td>2023-09-29 11:10:11</td>\n",
              "      <td>NaT</td>\n",
              "      <td>ONTIME</td>\n",
              "      <td>Open</td>\n",
              "      <td></td>\n",
              "      <td>SCH6/6Unsatisfactory Living Conditions</td>\n",
              "      <td>Inspectional Services</td>\n",
              "      <td>Housing</td>\n",
              "      <td>...</td>\n",
              "      <td>19 Centre St</td>\n",
              "      <td>2119.0</td>\n",
              "      <td>42.3299</td>\n",
              "      <td>-71.0929</td>\n",
              "      <td>Constituent Call</td>\n",
              "      <td>NaT</td>\n",
              "      <td>0</td>\n",
              "      <td>9</td>\n",
              "      <td>NaN</td>\n",
              "      <td>0.829286</td>\n",
              "    </tr>\n",
              "    <tr>\n",
              "      <th>8523</th>\n",
              "      <td>101004865438</td>\n",
              "      <td>2023-06-04 16:29:00</td>\n",
              "      <td>2023-06-20 08:30:00</td>\n",
              "      <td>NaT</td>\n",
              "      <td>ONTIME</td>\n",
              "      <td>Open</td>\n",
              "      <td></td>\n",
              "      <td>Sign Repair</td>\n",
              "      <td>Transportation - Traffic Division</td>\n",
              "      <td>Signs &amp; Signals</td>\n",
              "      <td>...</td>\n",
              "      <td>170-174 South St</td>\n",
              "      <td>2130.0</td>\n",
              "      <td>42.3040</td>\n",
              "      <td>-71.1145</td>\n",
              "      <td>Citizens Connect App</td>\n",
              "      <td>NaT</td>\n",
              "      <td>0</td>\n",
              "      <td>11</td>\n",
              "      <td>NaN</td>\n",
              "      <td>0.139146</td>\n",
              "    </tr>\n",
              "  </tbody>\n",
              "</table>\n",
              "<p>5 rows × 34 columns</p>\n",
              "</div>"
            ],
            "text/plain": [
              "      case_enquiry_id             open_dt            target_dt closed_dt   \n",
              "8186     101004841184 2023-05-18 10:22:00  2023-05-23 10:22:13       NaT  \\\n",
              "8323     101004860588 2023-05-31 21:31:00  2023-06-02 08:30:00       NaT   \n",
              "8396     101004844360 2023-05-20 13:35:00  2023-06-08 08:30:00       NaT   \n",
              "8402     101004861372 2023-06-01 11:10:00  2023-09-29 11:10:11       NaT   \n",
              "8523     101004865438 2023-06-04 16:29:00  2023-06-20 08:30:00       NaT   \n",
              "\n",
              "       ontime case_status closure_reason   \n",
              "8186  OVERDUE        Open                 \\\n",
              "8323  OVERDUE        Open                  \n",
              "8396  OVERDUE        Open                  \n",
              "8402   ONTIME        Open                  \n",
              "8523   ONTIME        Open                  \n",
              "\n",
              "                                  case_title   \n",
              "8186        Work Hours-Loud Noise Complaints  \\\n",
              "8323             Sidewalk Repair (Make Safe)   \n",
              "8396                      Abandoned Vehicles   \n",
              "8402  SCH6/6Unsatisfactory Living Conditions   \n",
              "8523                             Sign Repair   \n",
              "\n",
              "                                subject                            reason   \n",
              "8186            Public Works Department               Highway Maintenance  \\\n",
              "8323            Public Works Department               Highway Maintenance   \n",
              "8396  Transportation - Traffic Division  Enforcement & Abandoned Vehicles   \n",
              "8402              Inspectional Services                           Housing   \n",
              "8523  Transportation - Traffic Division                   Signs & Signals   \n",
              "\n",
              "      ... location_street_name location_zipcode latitude longitude   \n",
              "8186  ...     65-69 Wareham St           2118.0  42.3390  -71.0674  \\\n",
              "8323  ...         28 Walker St           2129.0  42.3791  -71.0672   \n",
              "8396  ...   346-348 Tremont St           2116.0  42.3482  -71.0665   \n",
              "8402  ...         19 Centre St           2119.0  42.3299  -71.0929   \n",
              "8523  ...     170-174 South St           2130.0  42.3040  -71.1145   \n",
              "\n",
              "                    source survival_time event ward_number   \n",
              "8186      Constituent Call           NaT     0           8  \\\n",
              "8323  Citizens Connect App           NaT     0           2   \n",
              "8396  Citizens Connect App           NaT     0           5   \n",
              "8402      Constituent Call           NaT     0           9   \n",
              "8523  Citizens Connect App           NaT     0          11   \n",
              "\n",
              "     survival_time_hours event_prediction  \n",
              "8186                 NaN         0.999817  \n",
              "8323                 NaN         0.036834  \n",
              "8396                 NaN         0.797962  \n",
              "8402                 NaN         0.829286  \n",
              "8523                 NaN         0.139146  \n",
              "\n",
              "[5 rows x 34 columns]"
            ]
          },
          "execution_count": 42,
          "metadata": {},
          "output_type": "execute_result"
        }
      ],
      "source": [
        "logregmodel_prediction.head()"
      ]
    },
    {
      "cell_type": "code",
      "execution_count": 52,
      "metadata": {},
      "outputs": [],
      "source": [
        "import pandas as pd\n",
        "\n",
        "ml_model_name = 'logregmodel'\n",
        "ml_model_type = 'logistic regression'\n",
        "ml_model_id = 1\n",
        "\n",
        "#create a new dataframe with new columns, ml_model_name, ml_model_type, ml_model_id\n",
        "ml_model_df = pd.DataFrame({'ml_model_name': [ml_model_name], \n",
        "                                    'ml_model_type': [ml_model_type],\n",
        "                                    'id': [ml_model_id],\n",
        "                                    'ml_model_date': [today_datestring]})\n",
        "\n",
        "\n"
      ]
    },
    {
      "cell_type": "code",
      "execution_count": 56,
      "metadata": {},
      "outputs": [],
      "source": [
        "#get new dataframe with just the event_prediction column from the logregmodel_prediction dataframe\n",
        "logregmodel_prediction_event = logregmodel_prediction[['event_prediction','case_enquiry_id']].copy()\n",
        "logregmodel_prediction_event['ml_model_id'] = ml_model_id\n",
        "#add today's date to the dataframe\n",
        "logregmodel_prediction_event['prediction_date'] = today_datestring\n",
        "#rename the event_prediction column to prediction\n",
        "logregmodel_prediction_event.rename(columns={'event_prediction': 'prediction'}, inplace=True)\n"
      ]
    },
    {
      "cell_type": "code",
      "execution_count": 46,
      "metadata": {},
      "outputs": [],
      "source": [
        "#remove logregmodel_prediction event_prediction column\n",
        "logregmodel_cases = logregmodel_prediction.drop('event_prediction', axis=1).copy()"
      ]
    },
    {
      "cell_type": "code",
      "execution_count": 47,
      "metadata": {},
      "outputs": [
        {
          "data": {
            "text/html": [
              "<div>\n",
              "<style scoped>\n",
              "    .dataframe tbody tr th:only-of-type {\n",
              "        vertical-align: middle;\n",
              "    }\n",
              "\n",
              "    .dataframe tbody tr th {\n",
              "        vertical-align: top;\n",
              "    }\n",
              "\n",
              "    .dataframe thead th {\n",
              "        text-align: right;\n",
              "    }\n",
              "</style>\n",
              "<table border=\"1\" class=\"dataframe\">\n",
              "  <thead>\n",
              "    <tr style=\"text-align: right;\">\n",
              "      <th></th>\n",
              "      <th>case_enquiry_id</th>\n",
              "      <th>open_dt</th>\n",
              "      <th>target_dt</th>\n",
              "      <th>closed_dt</th>\n",
              "      <th>ontime</th>\n",
              "      <th>case_status</th>\n",
              "      <th>closure_reason</th>\n",
              "      <th>case_title</th>\n",
              "      <th>subject</th>\n",
              "      <th>reason</th>\n",
              "      <th>...</th>\n",
              "      <th>precinct</th>\n",
              "      <th>location_street_name</th>\n",
              "      <th>location_zipcode</th>\n",
              "      <th>latitude</th>\n",
              "      <th>longitude</th>\n",
              "      <th>source</th>\n",
              "      <th>survival_time</th>\n",
              "      <th>event</th>\n",
              "      <th>ward_number</th>\n",
              "      <th>survival_time_hours</th>\n",
              "    </tr>\n",
              "  </thead>\n",
              "  <tbody>\n",
              "    <tr>\n",
              "      <th>8186</th>\n",
              "      <td>101004841184</td>\n",
              "      <td>2023-05-18 10:22:00</td>\n",
              "      <td>2023-05-23 10:22:13</td>\n",
              "      <td>NaT</td>\n",
              "      <td>OVERDUE</td>\n",
              "      <td>Open</td>\n",
              "      <td></td>\n",
              "      <td>Work Hours-Loud Noise Complaints</td>\n",
              "      <td>Public Works Department</td>\n",
              "      <td>Highway Maintenance</td>\n",
              "      <td>...</td>\n",
              "      <td>0801</td>\n",
              "      <td>65-69 Wareham St</td>\n",
              "      <td>2118.0</td>\n",
              "      <td>42.3390</td>\n",
              "      <td>-71.0674</td>\n",
              "      <td>Constituent Call</td>\n",
              "      <td>NaT</td>\n",
              "      <td>0</td>\n",
              "      <td>8</td>\n",
              "      <td>NaN</td>\n",
              "    </tr>\n",
              "    <tr>\n",
              "      <th>8323</th>\n",
              "      <td>101004860588</td>\n",
              "      <td>2023-05-31 21:31:00</td>\n",
              "      <td>2023-06-02 08:30:00</td>\n",
              "      <td>NaT</td>\n",
              "      <td>OVERDUE</td>\n",
              "      <td>Open</td>\n",
              "      <td></td>\n",
              "      <td>Sidewalk Repair (Make Safe)</td>\n",
              "      <td>Public Works Department</td>\n",
              "      <td>Highway Maintenance</td>\n",
              "      <td>...</td>\n",
              "      <td>0206</td>\n",
              "      <td>28 Walker St</td>\n",
              "      <td>2129.0</td>\n",
              "      <td>42.3791</td>\n",
              "      <td>-71.0672</td>\n",
              "      <td>Citizens Connect App</td>\n",
              "      <td>NaT</td>\n",
              "      <td>0</td>\n",
              "      <td>2</td>\n",
              "      <td>NaN</td>\n",
              "    </tr>\n",
              "    <tr>\n",
              "      <th>8396</th>\n",
              "      <td>101004844360</td>\n",
              "      <td>2023-05-20 13:35:00</td>\n",
              "      <td>2023-06-08 08:30:00</td>\n",
              "      <td>NaT</td>\n",
              "      <td>OVERDUE</td>\n",
              "      <td>Open</td>\n",
              "      <td></td>\n",
              "      <td>Abandoned Vehicles</td>\n",
              "      <td>Transportation - Traffic Division</td>\n",
              "      <td>Enforcement &amp; Abandoned Vehicles</td>\n",
              "      <td>...</td>\n",
              "      <td>0501</td>\n",
              "      <td>346-348 Tremont St</td>\n",
              "      <td>2116.0</td>\n",
              "      <td>42.3482</td>\n",
              "      <td>-71.0665</td>\n",
              "      <td>Citizens Connect App</td>\n",
              "      <td>NaT</td>\n",
              "      <td>0</td>\n",
              "      <td>5</td>\n",
              "      <td>NaN</td>\n",
              "    </tr>\n",
              "    <tr>\n",
              "      <th>8402</th>\n",
              "      <td>101004861372</td>\n",
              "      <td>2023-06-01 11:10:00</td>\n",
              "      <td>2023-09-29 11:10:11</td>\n",
              "      <td>NaT</td>\n",
              "      <td>ONTIME</td>\n",
              "      <td>Open</td>\n",
              "      <td></td>\n",
              "      <td>SCH6/6Unsatisfactory Living Conditions</td>\n",
              "      <td>Inspectional Services</td>\n",
              "      <td>Housing</td>\n",
              "      <td>...</td>\n",
              "      <td>0905</td>\n",
              "      <td>19 Centre St</td>\n",
              "      <td>2119.0</td>\n",
              "      <td>42.3299</td>\n",
              "      <td>-71.0929</td>\n",
              "      <td>Constituent Call</td>\n",
              "      <td>NaT</td>\n",
              "      <td>0</td>\n",
              "      <td>9</td>\n",
              "      <td>NaN</td>\n",
              "    </tr>\n",
              "    <tr>\n",
              "      <th>8523</th>\n",
              "      <td>101004865438</td>\n",
              "      <td>2023-06-04 16:29:00</td>\n",
              "      <td>2023-06-20 08:30:00</td>\n",
              "      <td>NaT</td>\n",
              "      <td>ONTIME</td>\n",
              "      <td>Open</td>\n",
              "      <td></td>\n",
              "      <td>Sign Repair</td>\n",
              "      <td>Transportation - Traffic Division</td>\n",
              "      <td>Signs &amp; Signals</td>\n",
              "      <td>...</td>\n",
              "      <td>1110</td>\n",
              "      <td>170-174 South St</td>\n",
              "      <td>2130.0</td>\n",
              "      <td>42.3040</td>\n",
              "      <td>-71.1145</td>\n",
              "      <td>Citizens Connect App</td>\n",
              "      <td>NaT</td>\n",
              "      <td>0</td>\n",
              "      <td>11</td>\n",
              "      <td>NaN</td>\n",
              "    </tr>\n",
              "  </tbody>\n",
              "</table>\n",
              "<p>5 rows × 33 columns</p>\n",
              "</div>"
            ],
            "text/plain": [
              "      case_enquiry_id             open_dt            target_dt closed_dt   \n",
              "8186     101004841184 2023-05-18 10:22:00  2023-05-23 10:22:13       NaT  \\\n",
              "8323     101004860588 2023-05-31 21:31:00  2023-06-02 08:30:00       NaT   \n",
              "8396     101004844360 2023-05-20 13:35:00  2023-06-08 08:30:00       NaT   \n",
              "8402     101004861372 2023-06-01 11:10:00  2023-09-29 11:10:11       NaT   \n",
              "8523     101004865438 2023-06-04 16:29:00  2023-06-20 08:30:00       NaT   \n",
              "\n",
              "       ontime case_status closure_reason   \n",
              "8186  OVERDUE        Open                 \\\n",
              "8323  OVERDUE        Open                  \n",
              "8396  OVERDUE        Open                  \n",
              "8402   ONTIME        Open                  \n",
              "8523   ONTIME        Open                  \n",
              "\n",
              "                                  case_title   \n",
              "8186        Work Hours-Loud Noise Complaints  \\\n",
              "8323             Sidewalk Repair (Make Safe)   \n",
              "8396                      Abandoned Vehicles   \n",
              "8402  SCH6/6Unsatisfactory Living Conditions   \n",
              "8523                             Sign Repair   \n",
              "\n",
              "                                subject                            reason   \n",
              "8186            Public Works Department               Highway Maintenance  \\\n",
              "8323            Public Works Department               Highway Maintenance   \n",
              "8396  Transportation - Traffic Division  Enforcement & Abandoned Vehicles   \n",
              "8402              Inspectional Services                           Housing   \n",
              "8523  Transportation - Traffic Division                   Signs & Signals   \n",
              "\n",
              "      ... precinct location_street_name location_zipcode latitude longitude   \n",
              "8186  ...     0801     65-69 Wareham St           2118.0  42.3390  -71.0674  \\\n",
              "8323  ...     0206         28 Walker St           2129.0  42.3791  -71.0672   \n",
              "8396  ...     0501   346-348 Tremont St           2116.0  42.3482  -71.0665   \n",
              "8402  ...     0905         19 Centre St           2119.0  42.3299  -71.0929   \n",
              "8523  ...     1110     170-174 South St           2130.0  42.3040  -71.1145   \n",
              "\n",
              "                    source survival_time event ward_number survival_time_hours  \n",
              "8186      Constituent Call           NaT     0           8                 NaN  \n",
              "8323  Citizens Connect App           NaT     0           2                 NaN  \n",
              "8396  Citizens Connect App           NaT     0           5                 NaN  \n",
              "8402      Constituent Call           NaT     0           9                 NaN  \n",
              "8523  Citizens Connect App           NaT     0          11                 NaN  \n",
              "\n",
              "[5 rows x 33 columns]"
            ]
          },
          "execution_count": 47,
          "metadata": {},
          "output_type": "execute_result"
        }
      ],
      "source": [
        "logregmodel_cases.head()"
      ]
    },
    {
      "cell_type": "markdown",
      "metadata": {
        "id": "I4dxuwJdgrZr"
      },
      "source": [
        "##Save the prediction data"
      ]
    },
    {
      "cell_type": "code",
      "execution_count": 48,
      "metadata": {
        "id": "aI0HHI6YjMoQ"
      },
      "outputs": [],
      "source": [
        "logregmodel_cases.to_csv('311.csv', index=False)\n"
      ]
    },
    {
      "cell_type": "code",
      "execution_count": 57,
      "metadata": {},
      "outputs": [],
      "source": [
        "\n",
        "logregmodel_prediction_event.to_csv('311_predictions.csv', index=False)"
      ]
    },
    {
      "cell_type": "code",
      "execution_count": 53,
      "metadata": {},
      "outputs": [],
      "source": [
        "\n",
        "ml_model_df.to_csv('311_ml_models.csv', index=False)"
      ]
    }
  ],
  "metadata": {
    "colab": {
      "provenance": []
    },
    "kernelspec": {
      "display_name": "Python 3",
      "name": "python3"
    },
    "language_info": {
      "codemirror_mode": {
        "name": "ipython",
        "version": 3
      },
      "file_extension": ".py",
      "mimetype": "text/x-python",
      "name": "python",
      "nbconvert_exporter": "python",
      "pygments_lexer": "ipython3",
      "version": "3.10.6"
    }
  },
  "nbformat": 4,
  "nbformat_minor": 0
}
