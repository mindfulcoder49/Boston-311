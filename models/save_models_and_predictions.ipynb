{
  "cells": [
    {
      "cell_type": "markdown",
      "metadata": {
        "id": "P1BXqsllgueC"
      },
      "source": [
        "#Boston 311 Tutorial\n",
        "\n",
        "This notebook will run you through the basic usage of this package to train 3 models on the Boston 311 data and use them to predict the outcome of cases from the last 30 days"
      ]
    },
    {
      "cell_type": "markdown",
      "metadata": {
        "id": "u54v241Vh-gN"
      },
      "source": [
        "##Install the package from github using pip"
      ]
    },
    {
      "cell_type": "code",
      "execution_count": null,
      "metadata": {
        "id": "HF8wNhboPQ1z"
      },
      "outputs": [],
      "source": [
        "#This library is only needed for the Cox Regression Model, which is not included in this tutorial\n",
        "! pip install lifelines"
      ]
    },
    {
      "cell_type": "code",
      "execution_count": 1,
      "metadata": {},
      "outputs": [
        {
          "data": {
            "text/plain": [
              "'/home/briarmoss/Documents/Boston_311/models'"
            ]
          },
          "execution_count": 1,
          "metadata": {},
          "output_type": "execute_result"
        }
      ],
      "source": [
        "pwd()"
      ]
    },
    {
      "cell_type": "code",
      "execution_count": 4,
      "metadata": {
        "colab": {
          "base_uri": "https://localhost:8080/"
        },
        "id": "rlLnbD24LDtG",
        "outputId": "6520c1c5-4219-49a4-ba28-7d06451fdfee"
      },
      "outputs": [
        {
          "name": "stdout",
          "output_type": "stream",
          "text": [
            "Defaulting to user installation because normal site-packages is not writeable\n",
            "Processing /home/briarmoss/Documents/Boston_311\n",
            "  Installing build dependencies ... \u001b[?25ldone\n",
            "\u001b[?25h  Getting requirements to build wheel ... \u001b[?25ldone\n",
            "\u001b[?25h  Preparing metadata (pyproject.toml) ... \u001b[?25ldone\n",
            "\u001b[?25hRequirement already satisfied: tensorflow in /home/briarmoss/.local/lib/python3.10/site-packages (from boston311==0.1.0) (2.12.0)\n",
            "Requirement already satisfied: scikit-learn in /home/briarmoss/.local/lib/python3.10/site-packages (from boston311==0.1.0) (1.2.2)\n",
            "Requirement already satisfied: pandas in /home/briarmoss/.local/lib/python3.10/site-packages (from boston311==0.1.0) (2.0.1)\n",
            "Requirement already satisfied: numpy in /home/briarmoss/.local/lib/python3.10/site-packages (from boston311==0.1.0) (1.23.5)\n",
            "Requirement already satisfied: matplotlib in /home/briarmoss/.local/lib/python3.10/site-packages (from boston311==0.1.0) (3.7.1)\n",
            "Requirement already satisfied: python-dateutil>=2.7 in /home/briarmoss/.local/lib/python3.10/site-packages (from matplotlib->boston311==0.1.0) (2.8.2)\n",
            "Requirement already satisfied: cycler>=0.10 in /home/briarmoss/.local/lib/python3.10/site-packages (from matplotlib->boston311==0.1.0) (0.11.0)\n",
            "Requirement already satisfied: contourpy>=1.0.1 in /home/briarmoss/.local/lib/python3.10/site-packages (from matplotlib->boston311==0.1.0) (1.0.7)\n",
            "Requirement already satisfied: fonttools>=4.22.0 in /home/briarmoss/.local/lib/python3.10/site-packages (from matplotlib->boston311==0.1.0) (4.39.4)\n",
            "Requirement already satisfied: packaging>=20.0 in /home/briarmoss/.local/lib/python3.10/site-packages (from matplotlib->boston311==0.1.0) (23.1)\n",
            "Requirement already satisfied: pillow>=6.2.0 in /usr/lib/python3/dist-packages (from matplotlib->boston311==0.1.0) (9.0.1)\n",
            "Requirement already satisfied: kiwisolver>=1.0.1 in /home/briarmoss/.local/lib/python3.10/site-packages (from matplotlib->boston311==0.1.0) (1.4.4)\n",
            "Requirement already satisfied: pyparsing>=2.3.1 in /usr/lib/python3/dist-packages (from matplotlib->boston311==0.1.0) (2.4.7)\n",
            "Requirement already satisfied: pytz>=2020.1 in /usr/lib/python3/dist-packages (from pandas->boston311==0.1.0) (2022.1)\n",
            "Requirement already satisfied: tzdata>=2022.1 in /home/briarmoss/.local/lib/python3.10/site-packages (from pandas->boston311==0.1.0) (2023.3)\n",
            "Requirement already satisfied: scipy>=1.3.2 in /home/briarmoss/.local/lib/python3.10/site-packages (from scikit-learn->boston311==0.1.0) (1.10.1)\n",
            "Requirement already satisfied: joblib>=1.1.1 in /home/briarmoss/.local/lib/python3.10/site-packages (from scikit-learn->boston311==0.1.0) (1.2.0)\n",
            "Requirement already satisfied: threadpoolctl>=2.0.0 in /home/briarmoss/.local/lib/python3.10/site-packages (from scikit-learn->boston311==0.1.0) (3.1.0)\n",
            "Requirement already satisfied: six>=1.12.0 in /usr/lib/python3/dist-packages (from tensorflow->boston311==0.1.0) (1.16.0)\n",
            "Requirement already satisfied: flatbuffers>=2.0 in /home/briarmoss/.local/lib/python3.10/site-packages (from tensorflow->boston311==0.1.0) (23.5.9)\n",
            "Requirement already satisfied: libclang>=13.0.0 in /home/briarmoss/.local/lib/python3.10/site-packages (from tensorflow->boston311==0.1.0) (16.0.0)\n",
            "Requirement already satisfied: absl-py>=1.0.0 in /home/briarmoss/.local/lib/python3.10/site-packages (from tensorflow->boston311==0.1.0) (1.4.0)\n",
            "Requirement already satisfied: tensorboard<2.13,>=2.12 in /home/briarmoss/.local/lib/python3.10/site-packages (from tensorflow->boston311==0.1.0) (2.12.3)\n",
            "Requirement already satisfied: gast<=0.4.0,>=0.2.1 in /home/briarmoss/.local/lib/python3.10/site-packages (from tensorflow->boston311==0.1.0) (0.4.0)\n",
            "Requirement already satisfied: astunparse>=1.6.0 in /home/briarmoss/.local/lib/python3.10/site-packages (from tensorflow->boston311==0.1.0) (1.6.3)\n",
            "Requirement already satisfied: setuptools in /usr/lib/python3/dist-packages (from tensorflow->boston311==0.1.0) (59.6.0)\n",
            "Requirement already satisfied: google-pasta>=0.1.1 in /home/briarmoss/.local/lib/python3.10/site-packages (from tensorflow->boston311==0.1.0) (0.2.0)\n",
            "Requirement already satisfied: opt-einsum>=2.3.2 in /home/briarmoss/.local/lib/python3.10/site-packages (from tensorflow->boston311==0.1.0) (3.3.0)\n",
            "Requirement already satisfied: keras<2.13,>=2.12.0 in /home/briarmoss/.local/lib/python3.10/site-packages (from tensorflow->boston311==0.1.0) (2.12.0)\n",
            "Requirement already satisfied: jax>=0.3.15 in /home/briarmoss/.local/lib/python3.10/site-packages (from tensorflow->boston311==0.1.0) (0.4.10)\n",
            "Requirement already satisfied: protobuf!=4.21.0,!=4.21.1,!=4.21.2,!=4.21.3,!=4.21.4,!=4.21.5,<5.0.0dev,>=3.20.3 in /home/briarmoss/.local/lib/python3.10/site-packages (from tensorflow->boston311==0.1.0) (4.23.0)\n",
            "Requirement already satisfied: termcolor>=1.1.0 in /home/briarmoss/.local/lib/python3.10/site-packages (from tensorflow->boston311==0.1.0) (2.3.0)\n",
            "Requirement already satisfied: tensorflow-estimator<2.13,>=2.12.0 in /home/briarmoss/.local/lib/python3.10/site-packages (from tensorflow->boston311==0.1.0) (2.12.0)\n",
            "Requirement already satisfied: tensorflow-io-gcs-filesystem>=0.23.1 in /home/briarmoss/.local/lib/python3.10/site-packages (from tensorflow->boston311==0.1.0) (0.32.0)\n",
            "Requirement already satisfied: h5py>=2.9.0 in /home/briarmoss/.local/lib/python3.10/site-packages (from tensorflow->boston311==0.1.0) (3.8.0)\n",
            "Requirement already satisfied: typing-extensions>=3.6.6 in /home/briarmoss/.local/lib/python3.10/site-packages (from tensorflow->boston311==0.1.0) (4.5.0)\n",
            "Requirement already satisfied: wrapt<1.15,>=1.11.0 in /home/briarmoss/.local/lib/python3.10/site-packages (from tensorflow->boston311==0.1.0) (1.14.1)\n",
            "Requirement already satisfied: grpcio<2.0,>=1.24.3 in /home/briarmoss/.local/lib/python3.10/site-packages (from tensorflow->boston311==0.1.0) (1.54.2)\n",
            "Requirement already satisfied: wheel<1.0,>=0.23.0 in /usr/lib/python3/dist-packages (from astunparse>=1.6.0->tensorflow->boston311==0.1.0) (0.37.1)\n",
            "Requirement already satisfied: ml-dtypes>=0.1.0 in /home/briarmoss/.local/lib/python3.10/site-packages (from jax>=0.3.15->tensorflow->boston311==0.1.0) (0.1.0)\n",
            "Requirement already satisfied: google-auth-oauthlib<1.1,>=0.5 in /home/briarmoss/.local/lib/python3.10/site-packages (from tensorboard<2.13,>=2.12->tensorflow->boston311==0.1.0) (1.0.0)\n",
            "Requirement already satisfied: tensorboard-data-server<0.8.0,>=0.7.0 in /home/briarmoss/.local/lib/python3.10/site-packages (from tensorboard<2.13,>=2.12->tensorflow->boston311==0.1.0) (0.7.0)\n",
            "Requirement already satisfied: werkzeug>=1.0.1 in /home/briarmoss/.local/lib/python3.10/site-packages (from tensorboard<2.13,>=2.12->tensorflow->boston311==0.1.0) (2.3.4)\n",
            "Requirement already satisfied: requests<3,>=2.21.0 in /usr/lib/python3/dist-packages (from tensorboard<2.13,>=2.12->tensorflow->boston311==0.1.0) (2.25.1)\n",
            "Requirement already satisfied: google-auth<3,>=1.6.3 in /home/briarmoss/.local/lib/python3.10/site-packages (from tensorboard<2.13,>=2.12->tensorflow->boston311==0.1.0) (2.18.0)\n",
            "Requirement already satisfied: markdown>=2.6.8 in /home/briarmoss/.local/lib/python3.10/site-packages (from tensorboard<2.13,>=2.12->tensorflow->boston311==0.1.0) (3.4.3)\n",
            "Requirement already satisfied: rsa<5,>=3.1.4 in /home/briarmoss/.local/lib/python3.10/site-packages (from google-auth<3,>=1.6.3->tensorboard<2.13,>=2.12->tensorflow->boston311==0.1.0) (4.9)\n",
            "Requirement already satisfied: cachetools<6.0,>=2.0.0 in /home/briarmoss/.local/lib/python3.10/site-packages (from google-auth<3,>=1.6.3->tensorboard<2.13,>=2.12->tensorflow->boston311==0.1.0) (5.3.0)\n",
            "Requirement already satisfied: urllib3<2.0 in /usr/lib/python3/dist-packages (from google-auth<3,>=1.6.3->tensorboard<2.13,>=2.12->tensorflow->boston311==0.1.0) (1.26.5)\n",
            "Requirement already satisfied: pyasn1-modules>=0.2.1 in /home/briarmoss/.local/lib/python3.10/site-packages (from google-auth<3,>=1.6.3->tensorboard<2.13,>=2.12->tensorflow->boston311==0.1.0) (0.3.0)\n",
            "Requirement already satisfied: requests-oauthlib>=0.7.0 in /home/briarmoss/.local/lib/python3.10/site-packages (from google-auth-oauthlib<1.1,>=0.5->tensorboard<2.13,>=2.12->tensorflow->boston311==0.1.0) (1.3.1)\n",
            "Requirement already satisfied: MarkupSafe>=2.1.1 in /home/briarmoss/.local/lib/python3.10/site-packages (from werkzeug>=1.0.1->tensorboard<2.13,>=2.12->tensorflow->boston311==0.1.0) (2.1.2)\n",
            "Requirement already satisfied: pyasn1<0.6.0,>=0.4.6 in /home/briarmoss/.local/lib/python3.10/site-packages (from pyasn1-modules>=0.2.1->google-auth<3,>=1.6.3->tensorboard<2.13,>=2.12->tensorflow->boston311==0.1.0) (0.5.0)\n",
            "Requirement already satisfied: oauthlib>=3.0.0 in /usr/lib/python3/dist-packages (from requests-oauthlib>=0.7.0->google-auth-oauthlib<1.1,>=0.5->tensorboard<2.13,>=2.12->tensorflow->boston311==0.1.0) (3.2.0)\n",
            "Building wheels for collected packages: boston311\n",
            "  Building wheel for boston311 (pyproject.toml) ... \u001b[?25ldone\n",
            "\u001b[?25h  Created wheel for boston311: filename=boston311-0.1.0-py3-none-any.whl size=19999 sha256=de53473995c392398a2cbcb68232c96c54c16d1f9dcd6f2a4025625f6f6947ce\n",
            "  Stored in directory: /tmp/pip-ephem-wheel-cache-xs1j5d8c/wheels/3d/69/ee/0a6ac96b9c09c948fc0e74f2724a9703aa39749a41fa757c9e\n",
            "Successfully built boston311\n",
            "Installing collected packages: boston311\n",
            "  Attempting uninstall: boston311\n",
            "    Found existing installation: boston311 0.1\n",
            "    Uninstalling boston311-0.1:\n",
            "      Successfully uninstalled boston311-0.1\n",
            "Successfully installed boston311-0.1.0\n"
          ]
        }
      ],
      "source": [
        "! pip install ../"
      ]
    },
    {
      "cell_type": "markdown",
      "metadata": {
        "id": "XP7Hzen_iEAl"
      },
      "source": [
        "##Import the Boston311Model class"
      ]
    },
    {
      "cell_type": "code",
      "execution_count": 2,
      "metadata": {},
      "outputs": [
        {
          "name": "stdout",
          "output_type": "stream",
          "text": [
            "Name: boston311\n",
            "Version: 0.1.0\n",
            "Summary: A package for training machine learning models on Boston 311 data\n",
            "Home-page: https://github.com/mindfulcoder49/Boston_311\n",
            "Author: Alex Alcivar\n",
            "Author-email: alex.g.alcivar49@gmail.com\n",
            "License: UNKNOWN\n",
            "Location: /home/briarmoss/.local/lib/python3.10/site-packages\n",
            "Requires: matplotlib, numpy, pandas, scikit-learn, tensorflow\n",
            "Required-by: \n"
          ]
        }
      ],
      "source": [
        "! pip show boston311"
      ]
    },
    {
      "cell_type": "code",
      "execution_count": 3,
      "metadata": {
        "id": "LdhJESm7eWaY"
      },
      "outputs": [
        {
          "name": "stderr",
          "output_type": "stream",
          "text": [
            "2023-09-05 14:34:21.624060: I tensorflow/tsl/cuda/cudart_stub.cc:28] Could not find cuda drivers on your machine, GPU will not be used.\n",
            "2023-09-05 14:34:21.982172: I tensorflow/tsl/cuda/cudart_stub.cc:28] Could not find cuda drivers on your machine, GPU will not be used.\n",
            "2023-09-05 14:34:21.986261: I tensorflow/core/platform/cpu_feature_guard.cc:182] This TensorFlow binary is optimized to use available CPU instructions in performance-critical operations.\n",
            "To enable the following instructions: AVX2 FMA, in other operations, rebuild TensorFlow with the appropriate compiler flags.\n",
            "2023-09-05 14:34:24.310449: W tensorflow/compiler/tf2tensorrt/utils/py_utils.cc:38] TF-TRT Warning: Could not find TensorRT\n"
          ]
        }
      ],
      "source": [
        "from boston311 import Boston311LogReg, Boston311EventDecTree, Boston311SurvDecTree"
      ]
    },
    {
      "cell_type": "markdown",
      "metadata": {
        "id": "oq06XnVjPxvg"
      },
      "source": [
        "##Get latest file URLS and Current Date Ranges"
      ]
    },
    {
      "cell_type": "code",
      "execution_count": 4,
      "metadata": {
        "id": "_2FYkUb2P1LR"
      },
      "outputs": [],
      "source": [
        "logregmodel = Boston311LogReg()\n",
        "logregmodel.load('logregproperties.json', 'logreg.h5')"
      ]
    },
    {
      "cell_type": "code",
      "execution_count": 5,
      "metadata": {
        "colab": {
          "base_uri": "https://localhost:8080/"
        },
        "id": "uUMCPAELR9h7",
        "outputId": "05fcba64-1b74-4fb7-a52c-d3f8a499bcc6"
      },
      "outputs": [
        {
          "name": "stdout",
          "output_type": "stream",
          "text": [
            "2023-09-05 2023-08-06\n"
          ]
        }
      ],
      "source": [
        "from datetime import datetime, timedelta\n",
        "now = datetime.now()\n",
        "thirty_days = timedelta(days=30)\n",
        "thirty_days_ago = now - thirty_days\n",
        "today_datestring = now.strftime(\"%Y-%m-%d\")\n",
        "thirty_days_ago_datestring = thirty_days_ago.strftime(\"%Y-%m-%d\")\n",
        "\n",
        "print(today_datestring, thirty_days_ago_datestring)"
      ]
    },
    {
      "cell_type": "code",
      "execution_count": 6,
      "metadata": {},
      "outputs": [],
      "source": [
        "logregmodel.predict_date_range = {'start': thirty_days_ago_datestring, 'end': today_datestring}"
      ]
    },
    {
      "cell_type": "code",
      "execution_count": 7,
      "metadata": {},
      "outputs": [
        {
          "name": "stdout",
          "output_type": "stream",
          "text": [
            "Files with different number of columns from File 0:  []\n",
            "Files with same number of columns as File 0:  [0]\n",
            "Files with different column order from File 0:  []\n",
            "Files with same column order as File 0:  [0]\n",
            "883/883 [==============================] - 2s 2ms/step\n"
          ]
        }
      ],
      "source": [
        "logregmodel_prediction = logregmodel.predict()"
      ]
    },
    {
      "cell_type": "code",
      "execution_count": 8,
      "metadata": {},
      "outputs": [
        {
          "data": {
            "text/html": [
              "<div>\n",
              "<style scoped>\n",
              "    .dataframe tbody tr th:only-of-type {\n",
              "        vertical-align: middle;\n",
              "    }\n",
              "\n",
              "    .dataframe tbody tr th {\n",
              "        vertical-align: top;\n",
              "    }\n",
              "\n",
              "    .dataframe thead th {\n",
              "        text-align: right;\n",
              "    }\n",
              "</style>\n",
              "<table border=\"1\" class=\"dataframe\">\n",
              "  <thead>\n",
              "    <tr style=\"text-align: right;\">\n",
              "      <th></th>\n",
              "      <th>case_enquiry_id</th>\n",
              "      <th>open_dt</th>\n",
              "      <th>sla_target_dt</th>\n",
              "      <th>closed_dt</th>\n",
              "      <th>on_time</th>\n",
              "      <th>case_status</th>\n",
              "      <th>closure_reason</th>\n",
              "      <th>case_title</th>\n",
              "      <th>subject</th>\n",
              "      <th>reason</th>\n",
              "      <th>...</th>\n",
              "      <th>location_zipcode</th>\n",
              "      <th>latitude</th>\n",
              "      <th>longitude</th>\n",
              "      <th>geom_4326</th>\n",
              "      <th>source</th>\n",
              "      <th>survival_time</th>\n",
              "      <th>event</th>\n",
              "      <th>ward_number</th>\n",
              "      <th>survival_time_hours</th>\n",
              "      <th>event_prediction</th>\n",
              "    </tr>\n",
              "  </thead>\n",
              "  <tbody>\n",
              "    <tr>\n",
              "      <th>5</th>\n",
              "      <td>101005033782</td>\n",
              "      <td>2023-09-04 12:39:53</td>\n",
              "      <td>2023-09-07 04:30:00</td>\n",
              "      <td>NaT</td>\n",
              "      <td>ONTIME</td>\n",
              "      <td>Open</td>\n",
              "      <td></td>\n",
              "      <td>Improper Storage of Trash (Barrels)</td>\n",
              "      <td>Public Works Department</td>\n",
              "      <td>Code Enforcement</td>\n",
              "      <td>...</td>\n",
              "      <td>2125.0</td>\n",
              "      <td>42.32328</td>\n",
              "      <td>-71.059691</td>\n",
              "      <td>0101000020E6100000D35D38F8D1C351C03B8A35396129...</td>\n",
              "      <td>Citizens Connect App</td>\n",
              "      <td>NaT</td>\n",
              "      <td>0</td>\n",
              "      <td>7</td>\n",
              "      <td>NaN</td>\n",
              "      <td>1.0</td>\n",
              "    </tr>\n",
              "    <tr>\n",
              "      <th>6</th>\n",
              "      <td>101005033789</td>\n",
              "      <td>2023-09-04 12:48:09</td>\n",
              "      <td>2023-09-07 04:30:00</td>\n",
              "      <td>NaT</td>\n",
              "      <td>ONTIME</td>\n",
              "      <td>Open</td>\n",
              "      <td></td>\n",
              "      <td>Improper Storage of Trash (Barrels)</td>\n",
              "      <td>Public Works Department</td>\n",
              "      <td>Code Enforcement</td>\n",
              "      <td>...</td>\n",
              "      <td>2125.0</td>\n",
              "      <td>42.31850</td>\n",
              "      <td>-71.060351</td>\n",
              "      <td>0101000020E61000008CDA82C8DCC351C0B168AC97C428...</td>\n",
              "      <td>Citizens Connect App</td>\n",
              "      <td>NaT</td>\n",
              "      <td>0</td>\n",
              "      <td>7</td>\n",
              "      <td>NaN</td>\n",
              "      <td>1.0</td>\n",
              "    </tr>\n",
              "    <tr>\n",
              "      <th>7</th>\n",
              "      <td>101005033798</td>\n",
              "      <td>2023-09-04 12:51:00</td>\n",
              "      <td>NaN</td>\n",
              "      <td>NaT</td>\n",
              "      <td>ONTIME</td>\n",
              "      <td>Open</td>\n",
              "      <td></td>\n",
              "      <td>Mattress Pickup</td>\n",
              "      <td>Public Works Department</td>\n",
              "      <td>Sanitation</td>\n",
              "      <td>...</td>\n",
              "      <td>2126.0</td>\n",
              "      <td>42.26475</td>\n",
              "      <td>-71.109651</td>\n",
              "      <td>0101000020E61000008798AB8404C751C0CD869D50E321...</td>\n",
              "      <td>Constituent Call</td>\n",
              "      <td>NaT</td>\n",
              "      <td>0</td>\n",
              "      <td>18</td>\n",
              "      <td>NaN</td>\n",
              "      <td>1.0</td>\n",
              "    </tr>\n",
              "    <tr>\n",
              "      <th>8</th>\n",
              "      <td>101005033801</td>\n",
              "      <td>2023-09-04 12:53:00</td>\n",
              "      <td>NaN</td>\n",
              "      <td>NaT</td>\n",
              "      <td>ONTIME</td>\n",
              "      <td>Open</td>\n",
              "      <td></td>\n",
              "      <td>Mattress Pickup</td>\n",
              "      <td>Public Works Department</td>\n",
              "      <td>Sanitation</td>\n",
              "      <td>...</td>\n",
              "      <td>2120.0</td>\n",
              "      <td>42.32829</td>\n",
              "      <td>-71.107271</td>\n",
              "      <td>0101000020E6100000B2909B85DDC651C0E4CEA964052A...</td>\n",
              "      <td>Constituent Call</td>\n",
              "      <td>NaT</td>\n",
              "      <td>0</td>\n",
              "      <td>10</td>\n",
              "      <td>NaN</td>\n",
              "      <td>1.0</td>\n",
              "    </tr>\n",
              "    <tr>\n",
              "      <th>29114</th>\n",
              "      <td>101004973346</td>\n",
              "      <td>2023-08-07 12:40:00</td>\n",
              "      <td>NaN</td>\n",
              "      <td>NaT</td>\n",
              "      <td>ONTIME</td>\n",
              "      <td>Open</td>\n",
              "      <td></td>\n",
              "      <td>Mattress Pickup</td>\n",
              "      <td>Public Works Department</td>\n",
              "      <td>Sanitation</td>\n",
              "      <td>...</td>\n",
              "      <td>2124.0</td>\n",
              "      <td>42.29028</td>\n",
              "      <td>-71.074081</td>\n",
              "      <td>0101000020E61000000EB1B3BCBDC451C0D7B254E12725...</td>\n",
              "      <td>Constituent Call</td>\n",
              "      <td>NaT</td>\n",
              "      <td>0</td>\n",
              "      <td>17</td>\n",
              "      <td>NaN</td>\n",
              "      <td>1.0</td>\n",
              "    </tr>\n",
              "  </tbody>\n",
              "</table>\n",
              "<p>5 rows × 35 columns</p>\n",
              "</div>"
            ],
            "text/plain": [
              "       case_enquiry_id             open_dt        sla_target_dt closed_dt   \n",
              "5         101005033782 2023-09-04 12:39:53  2023-09-07 04:30:00       NaT  \\\n",
              "6         101005033789 2023-09-04 12:48:09  2023-09-07 04:30:00       NaT   \n",
              "7         101005033798 2023-09-04 12:51:00                  NaN       NaT   \n",
              "8         101005033801 2023-09-04 12:53:00                  NaN       NaT   \n",
              "29114     101004973346 2023-08-07 12:40:00                  NaN       NaT   \n",
              "\n",
              "      on_time case_status closure_reason                           case_title   \n",
              "5      ONTIME        Open                 Improper Storage of Trash (Barrels)  \\\n",
              "6      ONTIME        Open                 Improper Storage of Trash (Barrels)   \n",
              "7      ONTIME        Open                                     Mattress Pickup   \n",
              "8      ONTIME        Open                                     Mattress Pickup   \n",
              "29114  ONTIME        Open                                     Mattress Pickup   \n",
              "\n",
              "                       subject            reason  ... location_zipcode   \n",
              "5      Public Works Department  Code Enforcement  ...           2125.0  \\\n",
              "6      Public Works Department  Code Enforcement  ...           2125.0   \n",
              "7      Public Works Department        Sanitation  ...           2126.0   \n",
              "8      Public Works Department        Sanitation  ...           2120.0   \n",
              "29114  Public Works Department        Sanitation  ...           2124.0   \n",
              "\n",
              "       latitude  longitude                                          geom_4326   \n",
              "5      42.32328 -71.059691  0101000020E6100000D35D38F8D1C351C03B8A35396129...  \\\n",
              "6      42.31850 -71.060351  0101000020E61000008CDA82C8DCC351C0B168AC97C428...   \n",
              "7      42.26475 -71.109651  0101000020E61000008798AB8404C751C0CD869D50E321...   \n",
              "8      42.32829 -71.107271  0101000020E6100000B2909B85DDC651C0E4CEA964052A...   \n",
              "29114  42.29028 -71.074081  0101000020E61000000EB1B3BCBDC451C0D7B254E12725...   \n",
              "\n",
              "                     source survival_time event ward_number   \n",
              "5      Citizens Connect App           NaT     0           7  \\\n",
              "6      Citizens Connect App           NaT     0           7   \n",
              "7          Constituent Call           NaT     0          18   \n",
              "8          Constituent Call           NaT     0          10   \n",
              "29114      Constituent Call           NaT     0          17   \n",
              "\n",
              "      survival_time_hours event_prediction  \n",
              "5                     NaN              1.0  \n",
              "6                     NaN              1.0  \n",
              "7                     NaN              1.0  \n",
              "8                     NaN              1.0  \n",
              "29114                 NaN              1.0  \n",
              "\n",
              "[5 rows x 35 columns]"
            ]
          },
          "execution_count": 8,
          "metadata": {},
          "output_type": "execute_result"
        }
      ],
      "source": [
        "logregmodel_prediction.head()"
      ]
    },
    {
      "cell_type": "code",
      "execution_count": 12,
      "metadata": {},
      "outputs": [],
      "source": [
        "import pandas as pd\n",
        "\n",
        "ml_model_name = 'logregmodel'\n",
        "ml_model_type = 'logistic regression'\n",
        "# set ml_model_id to 1 , an underscore and then today_datestring \n",
        "ml_model_id = '1_' + today_datestring\n",
        "\n",
        "#create a new dataframe with new columns, ml_model_name, ml_model_type, ml_model_id\n",
        "ml_model_df = pd.DataFrame({'ml_model_name': [ml_model_name], \n",
        "                                    'ml_model_type': [ml_model_type],\n",
        "                                    'id': [ml_model_id],\n",
        "                                    'ml_model_date': [today_datestring]})\n",
        "\n",
        "\n"
      ]
    },
    {
      "cell_type": "code",
      "execution_count": 13,
      "metadata": {},
      "outputs": [],
      "source": [
        "#get new dataframe with just the event_prediction column from the logregmodel_prediction dataframe\n",
        "logregmodel_prediction_event = logregmodel_prediction[['event_prediction','case_enquiry_id']].copy()\n",
        "logregmodel_prediction_event['ml_model_id'] = ml_model_id\n",
        "#add today's date to the dataframe\n",
        "logregmodel_prediction_event['prediction_date'] = today_datestring\n",
        "#rename the event_prediction column to prediction\n",
        "logregmodel_prediction_event.rename(columns={'event_prediction': 'prediction'}, inplace=True)\n"
      ]
    },
    {
      "cell_type": "code",
      "execution_count": 14,
      "metadata": {},
      "outputs": [],
      "source": [
        "#remove logregmodel_prediction event_prediction column\n",
        "logregmodel_cases = logregmodel_prediction.drop('event_prediction', axis=1).copy()"
      ]
    },
    {
      "cell_type": "code",
      "execution_count": 19,
      "metadata": {},
      "outputs": [],
      "source": [
        "#remove geom column in logregmodel_cases\n",
        "logregmodel_cases = logregmodel_cases.drop('geom_4326', axis=1).copy()"
      ]
    },
    {
      "cell_type": "code",
      "execution_count": 20,
      "metadata": {},
      "outputs": [
        {
          "data": {
            "text/html": [
              "<div>\n",
              "<style scoped>\n",
              "    .dataframe tbody tr th:only-of-type {\n",
              "        vertical-align: middle;\n",
              "    }\n",
              "\n",
              "    .dataframe tbody tr th {\n",
              "        vertical-align: top;\n",
              "    }\n",
              "\n",
              "    .dataframe thead th {\n",
              "        text-align: right;\n",
              "    }\n",
              "</style>\n",
              "<table border=\"1\" class=\"dataframe\">\n",
              "  <thead>\n",
              "    <tr style=\"text-align: right;\">\n",
              "      <th></th>\n",
              "      <th>case_enquiry_id</th>\n",
              "      <th>open_dt</th>\n",
              "      <th>sla_target_dt</th>\n",
              "      <th>closed_dt</th>\n",
              "      <th>on_time</th>\n",
              "      <th>case_status</th>\n",
              "      <th>closure_reason</th>\n",
              "      <th>case_title</th>\n",
              "      <th>subject</th>\n",
              "      <th>reason</th>\n",
              "      <th>...</th>\n",
              "      <th>precinct</th>\n",
              "      <th>location_street_name</th>\n",
              "      <th>location_zipcode</th>\n",
              "      <th>latitude</th>\n",
              "      <th>longitude</th>\n",
              "      <th>source</th>\n",
              "      <th>survival_time</th>\n",
              "      <th>event</th>\n",
              "      <th>ward_number</th>\n",
              "      <th>survival_time_hours</th>\n",
              "    </tr>\n",
              "  </thead>\n",
              "  <tbody>\n",
              "    <tr>\n",
              "      <th>5</th>\n",
              "      <td>101005033782</td>\n",
              "      <td>2023-09-04 12:39:53</td>\n",
              "      <td>2023-09-07 04:30:00</td>\n",
              "      <td>NaT</td>\n",
              "      <td>ONTIME</td>\n",
              "      <td>Open</td>\n",
              "      <td></td>\n",
              "      <td>Improper Storage of Trash (Barrels)</td>\n",
              "      <td>Public Works Department</td>\n",
              "      <td>Code Enforcement</td>\n",
              "      <td>...</td>\n",
              "      <td>0709</td>\n",
              "      <td>68 Harvest St</td>\n",
              "      <td>2125.0</td>\n",
              "      <td>42.32328</td>\n",
              "      <td>-71.059691</td>\n",
              "      <td>Citizens Connect App</td>\n",
              "      <td>NaT</td>\n",
              "      <td>0</td>\n",
              "      <td>7</td>\n",
              "      <td>NaN</td>\n",
              "    </tr>\n",
              "    <tr>\n",
              "      <th>6</th>\n",
              "      <td>101005033789</td>\n",
              "      <td>2023-09-04 12:48:09</td>\n",
              "      <td>2023-09-07 04:30:00</td>\n",
              "      <td>NaT</td>\n",
              "      <td>ONTIME</td>\n",
              "      <td>Open</td>\n",
              "      <td></td>\n",
              "      <td>Improper Storage of Trash (Barrels)</td>\n",
              "      <td>Public Works Department</td>\n",
              "      <td>Code Enforcement</td>\n",
              "      <td>...</td>\n",
              "      <td>0709</td>\n",
              "      <td>20 Dawes St</td>\n",
              "      <td>2125.0</td>\n",
              "      <td>42.31850</td>\n",
              "      <td>-71.060351</td>\n",
              "      <td>Citizens Connect App</td>\n",
              "      <td>NaT</td>\n",
              "      <td>0</td>\n",
              "      <td>7</td>\n",
              "      <td>NaN</td>\n",
              "    </tr>\n",
              "    <tr>\n",
              "      <th>7</th>\n",
              "      <td>101005033798</td>\n",
              "      <td>2023-09-04 12:51:00</td>\n",
              "      <td>NaN</td>\n",
              "      <td>NaT</td>\n",
              "      <td>ONTIME</td>\n",
              "      <td>Open</td>\n",
              "      <td></td>\n",
              "      <td>Mattress Pickup</td>\n",
              "      <td>Public Works Department</td>\n",
              "      <td>Sanitation</td>\n",
              "      <td>...</td>\n",
              "      <td>1806</td>\n",
              "      <td>274 Wood Ave</td>\n",
              "      <td>2126.0</td>\n",
              "      <td>42.26475</td>\n",
              "      <td>-71.109651</td>\n",
              "      <td>Constituent Call</td>\n",
              "      <td>NaT</td>\n",
              "      <td>0</td>\n",
              "      <td>18</td>\n",
              "      <td>NaN</td>\n",
              "    </tr>\n",
              "    <tr>\n",
              "      <th>8</th>\n",
              "      <td>101005033801</td>\n",
              "      <td>2023-09-04 12:53:00</td>\n",
              "      <td>NaN</td>\n",
              "      <td>NaT</td>\n",
              "      <td>ONTIME</td>\n",
              "      <td>Open</td>\n",
              "      <td></td>\n",
              "      <td>Mattress Pickup</td>\n",
              "      <td>Public Works Department</td>\n",
              "      <td>Sanitation</td>\n",
              "      <td>...</td>\n",
              "      <td>1006</td>\n",
              "      <td>168A Fisher Ave</td>\n",
              "      <td>2120.0</td>\n",
              "      <td>42.32829</td>\n",
              "      <td>-71.107271</td>\n",
              "      <td>Constituent Call</td>\n",
              "      <td>NaT</td>\n",
              "      <td>0</td>\n",
              "      <td>10</td>\n",
              "      <td>NaN</td>\n",
              "    </tr>\n",
              "    <tr>\n",
              "      <th>29114</th>\n",
              "      <td>101004973346</td>\n",
              "      <td>2023-08-07 12:40:00</td>\n",
              "      <td>NaN</td>\n",
              "      <td>NaT</td>\n",
              "      <td>ONTIME</td>\n",
              "      <td>Open</td>\n",
              "      <td></td>\n",
              "      <td>Mattress Pickup</td>\n",
              "      <td>Public Works Department</td>\n",
              "      <td>Sanitation</td>\n",
              "      <td>...</td>\n",
              "      <td>1705</td>\n",
              "      <td>50 Southern Ave</td>\n",
              "      <td>2124.0</td>\n",
              "      <td>42.29028</td>\n",
              "      <td>-71.074081</td>\n",
              "      <td>Constituent Call</td>\n",
              "      <td>NaT</td>\n",
              "      <td>0</td>\n",
              "      <td>17</td>\n",
              "      <td>NaN</td>\n",
              "    </tr>\n",
              "  </tbody>\n",
              "</table>\n",
              "<p>5 rows × 33 columns</p>\n",
              "</div>"
            ],
            "text/plain": [
              "       case_enquiry_id             open_dt        sla_target_dt closed_dt   \n",
              "5         101005033782 2023-09-04 12:39:53  2023-09-07 04:30:00       NaT  \\\n",
              "6         101005033789 2023-09-04 12:48:09  2023-09-07 04:30:00       NaT   \n",
              "7         101005033798 2023-09-04 12:51:00                  NaN       NaT   \n",
              "8         101005033801 2023-09-04 12:53:00                  NaN       NaT   \n",
              "29114     101004973346 2023-08-07 12:40:00                  NaN       NaT   \n",
              "\n",
              "      on_time case_status closure_reason                           case_title   \n",
              "5      ONTIME        Open                 Improper Storage of Trash (Barrels)  \\\n",
              "6      ONTIME        Open                 Improper Storage of Trash (Barrels)   \n",
              "7      ONTIME        Open                                     Mattress Pickup   \n",
              "8      ONTIME        Open                                     Mattress Pickup   \n",
              "29114  ONTIME        Open                                     Mattress Pickup   \n",
              "\n",
              "                       subject            reason  ... precinct   \n",
              "5      Public Works Department  Code Enforcement  ...     0709  \\\n",
              "6      Public Works Department  Code Enforcement  ...     0709   \n",
              "7      Public Works Department        Sanitation  ...     1806   \n",
              "8      Public Works Department        Sanitation  ...     1006   \n",
              "29114  Public Works Department        Sanitation  ...     1705   \n",
              "\n",
              "      location_street_name location_zipcode  latitude  longitude   \n",
              "5            68 Harvest St           2125.0  42.32328 -71.059691  \\\n",
              "6              20 Dawes St           2125.0  42.31850 -71.060351   \n",
              "7             274 Wood Ave           2126.0  42.26475 -71.109651   \n",
              "8          168A Fisher Ave           2120.0  42.32829 -71.107271   \n",
              "29114      50 Southern Ave           2124.0  42.29028 -71.074081   \n",
              "\n",
              "                     source survival_time event ward_number   \n",
              "5      Citizens Connect App           NaT     0           7  \\\n",
              "6      Citizens Connect App           NaT     0           7   \n",
              "7          Constituent Call           NaT     0          18   \n",
              "8          Constituent Call           NaT     0          10   \n",
              "29114      Constituent Call           NaT     0          17   \n",
              "\n",
              "      survival_time_hours  \n",
              "5                     NaN  \n",
              "6                     NaN  \n",
              "7                     NaN  \n",
              "8                     NaN  \n",
              "29114                 NaN  \n",
              "\n",
              "[5 rows x 33 columns]"
            ]
          },
          "execution_count": 20,
          "metadata": {},
          "output_type": "execute_result"
        }
      ],
      "source": [
        "logregmodel_cases.head()"
      ]
    },
    {
      "cell_type": "markdown",
      "metadata": {
        "id": "I4dxuwJdgrZr"
      },
      "source": [
        "##Save the prediction data"
      ]
    },
    {
      "cell_type": "code",
      "execution_count": 21,
      "metadata": {
        "id": "aI0HHI6YjMoQ"
      },
      "outputs": [],
      "source": [
        "logregmodel_cases.to_csv('311.csv', index=False)\n"
      ]
    },
    {
      "cell_type": "code",
      "execution_count": 17,
      "metadata": {},
      "outputs": [],
      "source": [
        "\n",
        "logregmodel_prediction_event.to_csv('311_predictions.csv', index=False)"
      ]
    },
    {
      "cell_type": "code",
      "execution_count": 18,
      "metadata": {},
      "outputs": [],
      "source": [
        "\n",
        "ml_model_df.to_csv('311_ml_models.csv', index=False)"
      ]
    }
  ],
  "metadata": {
    "colab": {
      "provenance": []
    },
    "kernelspec": {
      "display_name": "Python 3",
      "name": "python3"
    },
    "language_info": {
      "codemirror_mode": {
        "name": "ipython",
        "version": 3
      },
      "file_extension": ".py",
      "mimetype": "text/x-python",
      "name": "python",
      "nbconvert_exporter": "python",
      "pygments_lexer": "ipython3",
      "version": "3.10.12"
    }
  },
  "nbformat": 4,
  "nbformat_minor": 0
}
