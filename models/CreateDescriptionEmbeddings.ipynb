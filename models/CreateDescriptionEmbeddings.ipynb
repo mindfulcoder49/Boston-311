{
 "cells": [
  {
   "cell_type": "markdown",
   "metadata": {},
   "source": [
    "# Let's make embeddings from the descriptions we downloaded in Download311fromAPI.ipynb"
   ]
  },
  {
   "cell_type": "code",
   "execution_count": 5,
   "metadata": {},
   "outputs": [],
   "source": [
    "!pip install -q keras-core \n",
    "!pip install -q --upgrade keras-nlp"
   ]
  },
  {
   "cell_type": "code",
   "execution_count": 6,
   "metadata": {},
   "outputs": [],
   "source": [
    "import os\n",
    "\n",
    "os.environ[\"KERAS_BACKEND\"] = \"tensorflow\"  # or \"tensorflow\" or \"torch\"\n",
    "\n",
    "import keras_nlp\n",
    "import keras_core as keras\n",
    "import pandas as pd\n",
    "import numpy as np\n",
    "import csv"
   ]
  },
  {
   "cell_type": "code",
   "execution_count": 9,
   "metadata": {},
   "outputs": [
    {
     "name": "stdout",
     "output_type": "stream",
     "text": [
      "\u001b[1m32/32\u001b[0m \u001b[32m━━━━━━━━━━━━━━━━━━━━\u001b[0m\u001b[37m\u001b[0m \u001b[1m6s\u001b[0m 178ms/step\n",
      "\u001b[1m26/26\u001b[0m \u001b[32m━━━━━━━━━━━━━━━━━━━━\u001b[0m\u001b[37m\u001b[0m \u001b[1m5s\u001b[0m 172ms/step\n"
     ]
    }
   ],
   "source": [
    "# Initialize tokenizer and preprocessor\n",
    "tokenizer = keras_nlp.models.BertTokenizer.from_preset(\"bert_tiny_en_uncased\")\n",
    "preprocessor = keras_nlp.models.BertPreprocessor(tokenizer=tokenizer)\n",
    "\n",
    "# Initialize the BERT backbone model from a preset\n",
    "bert_backbone = keras_nlp.models.BertBackbone.from_preset(\"bert_tiny_en_uncased\")\n",
    "\n",
    "# Load the data\n",
    "boston_311_data = pd.read_csv('./all_311_cases_api.csv')\n",
    "\n",
    "# Define the output CSV file path\n",
    "output_csv_path = './cls_and_pooled_embeddings_with_service_id.csv'\n",
    "\n",
    "# Load the output CSV file if it exists\n",
    "if os.path.exists(output_csv_path):\n",
    "    final_embeddings_df = pd.read_csv(output_csv_path)\n",
    "\n",
    "    # Remove the rows that have already been processed\n",
    "    boston_311_data = boston_311_data[~boston_311_data['service_request_id'].isin(final_embeddings_df['service_request_id'])]\n",
    "\n",
    "    # Reset the index\n",
    "    boston_311_data.reset_index(drop=True, inplace=True)\n",
    "\n",
    "else :\n",
    "    # Initialize an empty DataFrame to hold the final embeddings\n",
    "    final_embeddings_df = pd.DataFrame()\n",
    "\n",
    "# Define the batch size\n",
    "batch_size = 1000  # Adjust this based on your machine's capabilities\n",
    "\n",
    "file_empty = not os.path.exists(output_csv_path) or os.path.getsize(output_csv_path) == 0\n",
    "\n",
    "\n",
    "# Initialize the CSV file and write the header\n",
    "with open(output_csv_path, 'a', newline='') as csv_file:\n",
    "    csv_writer = csv.writer(csv_file)\n",
    "    \n",
    "    # Write the header to the CSV file if it is empty\n",
    "    if file_empty:\n",
    "        csv_writer.writerow(['service_request_id', 'cls_embedding', 'pooled_embedding'])\n",
    "\n",
    "    # Loop through the data in batches\n",
    "    for i in range(0, len(boston_311_data), batch_size):\n",
    "        batch_data = boston_311_data.iloc[i:i+batch_size]\n",
    "        preprocessed_data = preprocessor(batch_data['description'].astype(str))\n",
    "\n",
    "        # Generate embeddings\n",
    "        embeddings = bert_backbone.predict(preprocessed_data)\n",
    "\n",
    "        # Extract [CLS] embeddings and pooled_output\n",
    "        cls_embeddings = embeddings['sequence_output'][:, 0, :]\n",
    "        pooled_output = embeddings['pooled_output']\n",
    "\n",
    "        # Write the batch data to the CSV file\n",
    "        for j in range(len(batch_data)):\n",
    "            row_data = [\n",
    "                batch_data.iloc[j]['service_request_id'],\n",
    "                cls_embeddings[j].tolist(),\n",
    "                pooled_output[j].tolist()\n",
    "            ]\n",
    "            csv_writer.writerow(row_data)\n",
    "\n",
    "# The data has been saved to the CSV file incrementally\n"
   ]
  },
  {
   "cell_type": "code",
   "execution_count": 8,
   "metadata": {},
   "outputs": [
    {
     "name": "stdout",
     "output_type": "stream",
     "text": [
      "241115 ./cls_and_pooled_embeddings_with_service_id.csv\n"
     ]
    }
   ],
   "source": [
    "#use jupyter ! notation to run wc -l on the file\n",
    "!wc -l $output_csv_path"
   ]
  },
  {
   "cell_type": "code",
   "execution_count": null,
   "metadata": {},
   "outputs": [],
   "source": []
  }
 ],
 "metadata": {
  "kernelspec": {
   "display_name": "Python 3",
   "language": "python",
   "name": "python3"
  },
  "language_info": {
   "codemirror_mode": {
    "name": "ipython",
    "version": 3
   },
   "file_extension": ".py",
   "mimetype": "text/x-python",
   "name": "python",
   "nbconvert_exporter": "python",
   "pygments_lexer": "ipython3",
   "version": "3.10.12"
  },
  "orig_nbformat": 4
 },
 "nbformat": 4,
 "nbformat_minor": 2
}
