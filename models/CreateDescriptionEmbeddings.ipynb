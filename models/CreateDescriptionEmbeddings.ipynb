{
 "cells": [
  {
   "cell_type": "markdown",
   "metadata": {},
   "source": [
    "# Let's make embeddings from the descriptions we downloaded in Download311fromAPI.ipynb"
   ]
  },
  {
   "cell_type": "code",
   "execution_count": 6,
   "metadata": {},
   "outputs": [
    {
     "name": "stdout",
     "output_type": "stream",
     "text": [
      "^C\n",
      "\u001b[31mERROR: Operation cancelled by user\u001b[0m\u001b[31m\n",
      "\u001b[0m"
     ]
    }
   ],
   "source": [
    "!pip install -q keras-core \n",
    "!pip install -q --upgrade keras-nlp"
   ]
  },
  {
   "cell_type": "code",
   "execution_count": null,
   "metadata": {},
   "outputs": [],
   "source": [
    "import os\n",
    "\n",
    "os.environ[\"KERAS_BACKEND\"] = \"tensorflow\"  # or \"tensorflow\" or \"torch\"\n",
    "\n",
    "import keras_nlp\n",
    "import keras_core as keras\n",
    "import pandas as pd\n",
    "import numpy as np"
   ]
  },
  {
   "cell_type": "code",
   "execution_count": 4,
   "metadata": {},
   "outputs": [
    {
     "ename": "ModuleNotFoundError",
     "evalue": "No module named 'keras_nlp'",
     "output_type": "error",
     "traceback": [
      "\u001b[0;31m---------------------------------------------------------------------------\u001b[0m",
      "\u001b[0;31mModuleNotFoundError\u001b[0m                       Traceback (most recent call last)",
      "\u001b[1;32m/home/briarmoss/Documents/Boston_311/models/CreateDescriptionEmbeddings.ipynb Cell 3\u001b[0m line \u001b[0;36m3\n\u001b[1;32m      <a href='vscode-notebook-cell:/home/briarmoss/Documents/Boston_311/models/CreateDescriptionEmbeddings.ipynb#W0sZmlsZQ%3D%3D?line=0'>1</a>\u001b[0m \u001b[39mimport\u001b[39;00m \u001b[39mpandas\u001b[39;00m \u001b[39mas\u001b[39;00m \u001b[39mpd\u001b[39;00m\n\u001b[1;32m      <a href='vscode-notebook-cell:/home/briarmoss/Documents/Boston_311/models/CreateDescriptionEmbeddings.ipynb#W0sZmlsZQ%3D%3D?line=1'>2</a>\u001b[0m \u001b[39mimport\u001b[39;00m \u001b[39mnumpy\u001b[39;00m \u001b[39mas\u001b[39;00m \u001b[39mnp\u001b[39;00m\n\u001b[0;32m----> <a href='vscode-notebook-cell:/home/briarmoss/Documents/Boston_311/models/CreateDescriptionEmbeddings.ipynb#W0sZmlsZQ%3D%3D?line=2'>3</a>\u001b[0m \u001b[39mimport\u001b[39;00m \u001b[39mkeras_nlp\u001b[39;00m\n\u001b[1;32m      <a href='vscode-notebook-cell:/home/briarmoss/Documents/Boston_311/models/CreateDescriptionEmbeddings.ipynb#W0sZmlsZQ%3D%3D?line=3'>4</a>\u001b[0m \u001b[39mimport\u001b[39;00m \u001b[39mkeras_core\u001b[39;00m \u001b[39mas\u001b[39;00m \u001b[39mkeras\u001b[39;00m\n\u001b[1;32m      <a href='vscode-notebook-cell:/home/briarmoss/Documents/Boston_311/models/CreateDescriptionEmbeddings.ipynb#W0sZmlsZQ%3D%3D?line=5'>6</a>\u001b[0m \u001b[39m# Load the data\u001b[39;00m\n",
      "\u001b[0;31mModuleNotFoundError\u001b[0m: No module named 'keras_nlp'"
     ]
    }
   ],
   "source": [
    "\n",
    "# Initialize tokenizer and preprocessor\n",
    "tokenizer = keras_nlp.models.BertTokenizer.from_preset(\"bert_tiny_en_uncased\")\n",
    "preprocessor = keras_nlp.models.BertPreprocessor(tokenizer=tokenizer)\n",
    "\n",
    "# Initialize the BERT backbone model from a preset\n",
    "bert_backbone = keras_nlp.models.BertBackbone.from_preset(\"bert_tiny_en_uncased\")\n",
    "\n",
    "# Initialize an empty DataFrame to hold the final embeddings\n",
    "final_embeddings_df = pd.DataFrame()\n",
    "\n",
    "# Load the data\n",
    "boston_311_data = pd.read_csv('./boston_311_data.csv')\n",
    "\n",
    "# Loop through the data in batches\n",
    "batch_size = 10000  # Adjust this based on your machine's capabilities\n",
    "for i in range(0, len(boston_311_data), batch_size):\n",
    "    batch_data = boston_311_data.iloc[i:i+batch_size]\n",
    "    preprocessed_data = preprocessor(batch_data['description'].astype(str))\n",
    "    \n",
    "    # Generate embeddings\n",
    "    embeddings = bert_backbone.predict(preprocessed_data)\n",
    "    \n",
    "    # Extract [CLS] embeddings and pooled_output\n",
    "    cls_embeddings = embeddings['sequence_output'][:, 0, :]\n",
    "    pooled_output = embeddings['pooled_output']\n",
    "    \n",
    "    # Combine the embeddings and service_request_id into a single DataFrame\n",
    "    embeddings_df = pd.DataFrame({\n",
    "        'service_request_id': batch_data['service_request_id'].values,\n",
    "        'cls_embedding': list(cls_embeddings),\n",
    "        'pooled_embedding': list(pooled_output)\n",
    "    })\n",
    "\n",
    "    # print(embeddings_df.head(5))\n",
    "    \n",
    "    # Append to the final DataFrame\n",
    "    final_embeddings_df = pd.concat([final_embeddings_df, embeddings_df], ignore_index=True)\n",
    "\n",
    "# Optional: Save to CSV\n",
    "final_embeddings_df.to_csv('./cls_and_pooled_embeddings_with_service_id.csv', index=False)\n"
   ]
  },
  {
   "cell_type": "code",
   "execution_count": null,
   "metadata": {},
   "outputs": [],
   "source": []
  }
 ],
 "metadata": {
  "kernelspec": {
   "display_name": "Python 3",
   "language": "python",
   "name": "python3"
  },
  "language_info": {
   "codemirror_mode": {
    "name": "ipython",
    "version": 3
   },
   "file_extension": ".py",
   "mimetype": "text/x-python",
   "name": "python",
   "nbconvert_exporter": "python",
   "pygments_lexer": "ipython3",
   "version": "3.10.12"
  },
  "orig_nbformat": 4
 },
 "nbformat": 4,
 "nbformat_minor": 2
}
