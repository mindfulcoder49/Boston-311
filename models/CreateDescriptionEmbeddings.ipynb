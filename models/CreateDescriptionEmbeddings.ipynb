{
 "cells": [
  {
   "cell_type": "markdown",
   "metadata": {},
   "source": [
    "# Let's make embeddings from the descriptions we downloaded in Download311fromAPI.ipynb"
   ]
  },
  {
   "cell_type": "code",
   "execution_count": 1,
   "metadata": {},
   "outputs": [],
   "source": [
    "#!pip install -q keras-core \n",
    "#!pip install -q --upgrade keras-nlp"
   ]
  },
  {
   "cell_type": "code",
   "execution_count": 2,
   "metadata": {},
   "outputs": [
    {
     "name": "stdout",
     "output_type": "stream",
     "text": [
      "Using TensorFlow backend\n"
     ]
    },
    {
     "name": "stderr",
     "output_type": "stream",
     "text": [
      "2023-10-27 13:06:38.275215: I tensorflow/tsl/cuda/cudart_stub.cc:28] Could not find cuda drivers on your machine, GPU will not be used.\n",
      "2023-10-27 13:06:38.314971: I tensorflow/tsl/cuda/cudart_stub.cc:28] Could not find cuda drivers on your machine, GPU will not be used.\n",
      "2023-10-27 13:06:38.315696: I tensorflow/core/platform/cpu_feature_guard.cc:182] This TensorFlow binary is optimized to use available CPU instructions in performance-critical operations.\n",
      "To enable the following instructions: AVX2 FMA, in other operations, rebuild TensorFlow with the appropriate compiler flags.\n",
      "2023-10-27 13:06:38.806540: W tensorflow/compiler/tf2tensorrt/utils/py_utils.cc:38] TF-TRT Warning: Could not find TensorRT\n"
     ]
    }
   ],
   "source": [
    "import os\n",
    "\n",
    "os.environ[\"KERAS_BACKEND\"] = \"tensorflow\"  # or \"tensorflow\" or \"torch\"\n",
    "\n",
    "import keras_nlp\n",
    "import keras_core as keras\n",
    "import pandas as pd\n",
    "import numpy as np\n",
    "import csv"
   ]
  },
  {
   "cell_type": "code",
   "execution_count": 3,
   "metadata": {},
   "outputs": [
    {
     "name": "stderr",
     "output_type": "stream",
     "text": [
      "2023-10-27 13:07:02.226487: I tensorflow/compiler/xla/service/service.cc:168] XLA service 0x7fe4b0010140 initialized for platform Host (this does not guarantee that XLA will be used). Devices:\n",
      "2023-10-27 13:07:02.226517: I tensorflow/compiler/xla/service/service.cc:176]   StreamExecutor device (0): Host, Default Version\n",
      "2023-10-27 13:07:02.258696: I tensorflow/compiler/mlir/tensorflow/utils/dump_mlir_util.cc:255] disabling MLIR crash reproducer, set env var `MLIR_CRASH_REPRODUCER_DIRECTORY` to enable.\n",
      "2023-10-27 13:07:02.726223: I ./tensorflow/compiler/jit/device_compiler.h:186] Compiled cluster using XLA!  This line is logged at most once for the lifetime of the process.\n"
     ]
    },
    {
     "name": "stdout",
     "output_type": "stream",
     "text": [
      "\u001b[1m17/17\u001b[0m \u001b[32m━━━━━━━━━━━━━━━━━━━━\u001b[0m\u001b[37m\u001b[0m \u001b[1m5s\u001b[0m 204ms/step\n",
      "\u001b[1m17/17\u001b[0m \u001b[32m━━━━━━━━━━━━━━━━━━━━\u001b[0m\u001b[37m\u001b[0m \u001b[1m3s\u001b[0m 164ms/step\n",
      "\u001b[1m17/17\u001b[0m \u001b[32m━━━━━━━━━━━━━━━━━━━━\u001b[0m\u001b[37m\u001b[0m \u001b[1m3s\u001b[0m 165ms/step\n"
     ]
    }
   ],
   "source": [
    "# Initialize tokenizer and preprocessor\n",
    "tokenizer = keras_nlp.models.BertTokenizer.from_preset(\"bert_tiny_en_uncased\")\n",
    "preprocessor = keras_nlp.models.BertPreprocessor(tokenizer=tokenizer)\n",
    "\n",
    "# Initialize the BERT backbone model from a preset\n",
    "bert_backbone = keras_nlp.models.BertBackbone.from_preset(\"bert_tiny_en_uncased\")\n",
    "\n",
    "# Load the data\n",
    "boston_311_data = pd.read_csv('./all_311_cases_api.csv')\n",
    "\n",
    "# Define the output CSV file path\n",
    "output_csv_path = './cls_and_pooled_embeddings_with_three_cols.csv'\n",
    "\n",
    "# Load the output CSV file if it exists\n",
    "if os.path.exists(output_csv_path):\n",
    "    final_embeddings_df = pd.read_csv(output_csv_path)\n",
    "\n",
    "    # Remove the rows that have already been processed\n",
    "    boston_311_data = boston_311_data[~boston_311_data['service_request_id'].isin(final_embeddings_df['service_request_id'])]\n",
    "\n",
    "    # Reset the index\n",
    "    boston_311_data.reset_index(drop=True, inplace=True)\n",
    "\n",
    "else :\n",
    "    # Initialize an empty DataFrame to hold the final embeddings\n",
    "    final_embeddings_df = pd.DataFrame()\n",
    "\n",
    "# Define the batch size\n",
    "batch_size = 1000  # Adjust this based on your machine's capabilities\n",
    "\n",
    "file_empty = not os.path.exists(output_csv_path) or os.path.getsize(output_csv_path) == 0\n",
    "\n",
    "\n",
    "# Initialize the CSV file and write the header\n",
    "with open(output_csv_path, 'a', newline='') as csv_file:\n",
    "    csv_writer = csv.writer(csv_file)\n",
    "    \n",
    "    # Write the header to the CSV file if it is empty\n",
    "    if file_empty:\n",
    "        csv_writer.writerow(['service_request_id', 'desc_cls_embedding', 'desc_pooled_embedding', 'name_cls_embedding', 'name_pooled_embedding', 'code_cls_embedding', 'code_pooled_embedding'])\n",
    "\n",
    "    # Loop through the data in batches\n",
    "    for i in range(0, len(boston_311_data), batch_size):\n",
    "        batch_data = boston_311_data.iloc[i:i+batch_size]\n",
    "                # Initialize row data for CSV\n",
    "        csv_rows = []\n",
    "        \n",
    "        #possible columns are service_request_id,status,service_name,service_code,description,requested_datetime,updated_datetime,address,lat,long,token\n",
    "        #for now we will only use description, service_name, and service_code\n",
    "        for column in ['description',  'service_name', 'service_code']:\n",
    "            preprocessed_data = preprocessor(batch_data[column].astype(str))\n",
    "            \n",
    "            # Generate embeddings\n",
    "            embeddings = bert_backbone.predict(preprocessed_data)\n",
    "\n",
    "            # Extract [CLS] embeddings and pooled_output\n",
    "            cls_embeddings = embeddings['sequence_output'][:, 0, :]\n",
    "            pooled_output = embeddings['pooled_output']\n",
    "            \n",
    "            # Append to CSV row data\n",
    "            for j, service_request_id in enumerate(batch_data['service_request_id']):\n",
    "                if j >= len(csv_rows):\n",
    "                    csv_rows.append([service_request_id])\n",
    "                csv_rows[j].extend([cls_embeddings[j].tolist(), pooled_output[j].tolist()])\n",
    "        \n",
    "        # Write the batch data to the CSV file\n",
    "        csv_writer.writerows(csv_rows)\n",
    "# The data has been saved to the CSV file incrementally\n"
   ]
  },
  {
   "cell_type": "code",
   "execution_count": 4,
   "metadata": {},
   "outputs": [
    {
     "name": "stdout",
     "output_type": "stream",
     "text": [
      "291560 ./cls_and_pooled_embeddings_with_three_cols.csv\n"
     ]
    }
   ],
   "source": [
    "#use jupyter ! notation to run wc -l on the file\n",
    "!wc -l $output_csv_path"
   ]
  },
  {
   "cell_type": "code",
   "execution_count": 5,
   "metadata": {},
   "outputs": [],
   "source": [
    "#function to replace the header row in a csv file\n",
    "def replace_header(file_name, header):\n",
    "    lines = []\n",
    "    with open(file_name, 'r') as readFile:\n",
    "        reader = csv.reader(readFile)\n",
    "        lines = list(reader)\n",
    "        lines[0] = header\n",
    "    with open(file_name, 'w') as writeFile:\n",
    "        writer = csv.writer(writeFile)\n",
    "        writer.writerows(lines)\n",
    "\n",
    "output_csv_path = './cls_and_pooled_embeddings_with_three_cols.csv'\n",
    "#replace the header row in the csv file\n",
    "#replace_header(output_csv_path, ['service_request_id', 'desc_cls_embedding', 'desc_pooled_embedding', 'name_cls_embedding', 'name_pooled_embedding', 'code_cls_embedding', 'code_pooled_embedding'])"
   ]
  },
  {
   "cell_type": "code",
   "execution_count": null,
   "metadata": {},
   "outputs": [],
   "source": []
  }
 ],
 "metadata": {
  "kernelspec": {
   "display_name": "Python 3",
   "language": "python",
   "name": "python3"
  },
  "language_info": {
   "codemirror_mode": {
    "name": "ipython",
    "version": 3
   },
   "file_extension": ".py",
   "mimetype": "text/x-python",
   "name": "python",
   "nbconvert_exporter": "python",
   "pygments_lexer": "ipython3",
   "version": "3.10.12"
  },
  "orig_nbformat": 4
 },
 "nbformat": 4,
 "nbformat_minor": 2
}
