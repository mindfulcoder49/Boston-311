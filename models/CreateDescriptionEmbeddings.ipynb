{
 "cells": [
  {
   "cell_type": "markdown",
   "metadata": {},
   "source": [
    "# Let's make embeddings from the descriptions we downloaded in Download311fromAPI.ipynb"
   ]
  },
  {
   "cell_type": "code",
   "execution_count": 11,
   "metadata": {},
   "outputs": [],
   "source": [
    "#!pip install -q keras-core \n",
    "#!pip install -q --upgrade keras-nlp"
   ]
  },
  {
   "cell_type": "code",
   "execution_count": 12,
   "metadata": {},
   "outputs": [],
   "source": [
    "import os\n",
    "\n",
    "os.environ[\"KERAS_BACKEND\"] = \"tensorflow\"  # or \"tensorflow\" or \"torch\"\n",
    "\n",
    "import keras_nlp\n",
    "import keras_core as keras\n",
    "import pandas as pd\n",
    "import numpy as np\n",
    "import csv"
   ]
  },
  {
   "cell_type": "code",
   "execution_count": 13,
   "metadata": {},
   "outputs": [
    {
     "name": "stdout",
     "output_type": "stream",
     "text": [
      "\u001b[1m21/21\u001b[0m \u001b[32m━━━━━━━━━━━━━━━━━━━━\u001b[0m\u001b[37m\u001b[0m \u001b[1m6s\u001b[0m 229ms/step\n",
      "\u001b[1m21/21\u001b[0m \u001b[32m━━━━━━━━━━━━━━━━━━━━\u001b[0m\u001b[37m\u001b[0m \u001b[1m4s\u001b[0m 173ms/step\n",
      "\u001b[1m21/21\u001b[0m \u001b[32m━━━━━━━━━━━━━━━━━━━━\u001b[0m\u001b[37m\u001b[0m \u001b[1m4s\u001b[0m 174ms/step\n"
     ]
    }
   ],
   "source": [
    "# Initialize tokenizer and preprocessor\n",
    "tokenizer = keras_nlp.models.BertTokenizer.from_preset(\"bert_tiny_en_uncased\")\n",
    "preprocessor = keras_nlp.models.BertPreprocessor(tokenizer=tokenizer)\n",
    "\n",
    "# Initialize the BERT backbone model from a preset\n",
    "bert_backbone = keras_nlp.models.BertBackbone.from_preset(\"bert_tiny_en_uncased\")\n",
    "\n",
    "# Load the data\n",
    "boston_311_data = pd.read_csv('./all_311_cases_api.csv')\n",
    "\n",
    "# Define the output CSV file path\n",
    "output_csv_path = './cls_and_pooled_embeddings_with_three_cols.csv'\n",
    "\n",
    "# Load the output CSV file if it exists\n",
    "if os.path.exists(output_csv_path):\n",
    "    final_embeddings_df = pd.read_csv(output_csv_path)\n",
    "\n",
    "    # Remove the rows that have already been processed\n",
    "    boston_311_data = boston_311_data[~boston_311_data['service_request_id'].isin(final_embeddings_df['service_request_id'])]\n",
    "\n",
    "    # Reset the index\n",
    "    boston_311_data.reset_index(drop=True, inplace=True)\n",
    "\n",
    "else :\n",
    "    # Initialize an empty DataFrame to hold the final embeddings\n",
    "    final_embeddings_df = pd.DataFrame()\n",
    "\n",
    "# Define the batch size\n",
    "batch_size = 1000  # Adjust this based on your machine's capabilities\n",
    "\n",
    "file_empty = not os.path.exists(output_csv_path) or os.path.getsize(output_csv_path) == 0\n",
    "\n",
    "\n",
    "# Initialize the CSV file and write the header\n",
    "with open(output_csv_path, 'a', newline='') as csv_file:\n",
    "    csv_writer = csv.writer(csv_file)\n",
    "    \n",
    "    # Write the header to the CSV file if it is empty\n",
    "    if file_empty:\n",
    "        csv_writer.writerow(['service_request_id', 'desc_cls_embedding', 'desc_pooled_embedding', 'name_cls_embedding', 'name_pooled_embedding', 'code_cls_embedding', 'code_pooled_embedding'])\n",
    "\n",
    "    # Loop through the data in batches\n",
    "    for i in range(0, len(boston_311_data), batch_size):\n",
    "        batch_data = boston_311_data.iloc[i:i+batch_size]\n",
    "                # Initialize row data for CSV\n",
    "        csv_rows = []\n",
    "        \n",
    "        #possible columns are service_request_id,status,service_name,service_code,description,requested_datetime,updated_datetime,address,lat,long,token\n",
    "        #for now we will only use description, service_name, and service_code\n",
    "        for column in ['description',  'service_name', 'service_code']:\n",
    "            preprocessed_data = preprocessor(batch_data[column].astype(str))\n",
    "            \n",
    "            # Generate embeddings\n",
    "            embeddings = bert_backbone.predict(preprocessed_data)\n",
    "\n",
    "            # Extract [CLS] embeddings and pooled_output\n",
    "            cls_embeddings = embeddings['sequence_output'][:, 0, :]\n",
    "            pooled_output = embeddings['pooled_output']\n",
    "            \n",
    "            # Append to CSV row data\n",
    "            for j, service_request_id in enumerate(batch_data['service_request_id']):\n",
    "                if j >= len(csv_rows):\n",
    "                    csv_rows.append([service_request_id])\n",
    "                csv_rows[j].extend([cls_embeddings[j].tolist(), pooled_output[j].tolist()])\n",
    "        \n",
    "        # Write the batch data to the CSV file\n",
    "        csv_writer.writerows(csv_rows)\n",
    "# The data has been saved to the CSV file incrementally\n"
   ]
  },
  {
   "cell_type": "code",
   "execution_count": 14,
   "metadata": {},
   "outputs": [
    {
     "name": "stdout",
     "output_type": "stream",
     "text": [
      "293545 ./cls_and_pooled_embeddings_with_three_cols.csv\n"
     ]
    }
   ],
   "source": [
    "#use jupyter ! notation to run wc -l on the file\n",
    "!wc -l $output_csv_path"
   ]
  },
  {
   "cell_type": "code",
   "execution_count": 15,
   "metadata": {},
   "outputs": [],
   "source": [
    "#function to replace the header row in a csv file\n",
    "def replace_header(file_name, header):\n",
    "    lines = []\n",
    "    with open(file_name, 'r') as readFile:\n",
    "        reader = csv.reader(readFile)\n",
    "        lines = list(reader)\n",
    "        lines[0] = header\n",
    "    with open(file_name, 'w') as writeFile:\n",
    "        writer = csv.writer(writeFile)\n",
    "        writer.writerows(lines)\n",
    "\n",
    "output_csv_path = './cls_and_pooled_embeddings_with_three_cols.csv'\n",
    "#replace the header row in the csv file\n",
    "#replace_header(output_csv_path, ['service_request_id', 'desc_cls_embedding', 'desc_pooled_embedding', 'name_cls_embedding', 'name_pooled_embedding', 'code_cls_embedding', 'code_pooled_embedding'])"
   ]
  },
  {
   "cell_type": "code",
   "execution_count": null,
   "metadata": {},
   "outputs": [],
   "source": []
  }
 ],
 "metadata": {
  "kernelspec": {
   "display_name": "Python 3",
   "language": "python",
   "name": "python3"
  },
  "language_info": {
   "codemirror_mode": {
    "name": "ipython",
    "version": 3
   },
   "file_extension": ".py",
   "mimetype": "text/x-python",
   "name": "python",
   "nbconvert_exporter": "python",
   "pygments_lexer": "ipython3",
   "version": "3.10.12"
  },
  "orig_nbformat": 4
 },
 "nbformat": 4,
 "nbformat_minor": 2
}
