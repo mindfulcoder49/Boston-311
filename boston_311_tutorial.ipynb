{
  "cells": [
    {
      "cell_type": "markdown",
      "metadata": {
        "id": "P1BXqsllgueC"
      },
      "source": [
        "# Boston 311 Tutorial\n",
        "\n",
        "This notebook will run you through the basic usage of this package to train 4 models on the Boston 311 data and use them to predict the outcome of cases from the last 30 days"
      ]
    },
    {
      "cell_type": "code",
      "execution_count": null,
      "metadata": {
        "id": "HF8wNhboPQ1z"
      },
      "outputs": [],
      "source": [
        "#The lifelines library is only needed for the Cox Regression Model, which is not included in this tutorial\n",
        "#The keras-tuner library is needed for the neural network model\n",
        "#The seaborn library is needed for visualization of results at the end\n",
        "! pip install -q lifelines keras-tuner seaborn"
      ]
    },
    {
      "cell_type": "code",
      "execution_count": null,
      "metadata": {
        "colab": {
          "base_uri": "https://localhost:8080/"
        },
        "id": "rlLnbD24LDtG",
        "outputId": "6520c1c5-4219-49a4-ba28-7d06451fdfee"
      },
      "outputs": [],
      "source": [
        "! pip install git+https://github.com/mindfulcoder49/Boston_311.git\n",
        "\n",
        "#! pip install . "
      ]
    },
    {
      "cell_type": "markdown",
      "metadata": {
        "id": "XP7Hzen_iEAl"
      },
      "source": [
        "## Import the Boston311Model classes"
      ]
    },
    {
      "cell_type": "code",
      "execution_count": null,
      "metadata": {},
      "outputs": [],
      "source": [
        "import pandas as pd\n",
        "import numpy as np\n",
        "import matplotlib.pyplot as plt\n",
        "import seaborn as sns\n",
        "from keras_tuner import HyperParameters"
      ]
    },
    {
      "cell_type": "code",
      "execution_count": null,
      "metadata": {
        "id": "LdhJESm7eWaY"
      },
      "outputs": [],
      "source": [
        "from boston311 import Boston311LogReg, Boston311EventDecTree, Boston311SurvDecTree, Boston311KerasNN"
      ]
    },
    {
      "cell_type": "markdown",
      "metadata": {
        "id": "oq06XnVjPxvg"
      },
      "source": [
        "## Get latest file URLS, Data, and Current Date Ranges"
      ]
    },
    {
      "cell_type": "code",
      "execution_count": null,
      "metadata": {
        "id": "_2FYkUb2P1LR"
      },
      "outputs": [],
      "source": [
        "latest_URLS = Boston311LogReg().get311URLs()"
      ]
    },
    {
      "cell_type": "code",
      "execution_count": null,
      "metadata": {
        "colab": {
          "base_uri": "https://localhost:8080/"
        },
        "id": "Mpg9Czm3QDpu",
        "outputId": "5e2b399b-0999-45d4-f9f9-d80ec19941ff"
      },
      "outputs": [],
      "source": [
        "print(latest_URLS)"
      ]
    },
    {
      "cell_type": "code",
      "execution_count": null,
      "metadata": {
        "colab": {
          "base_uri": "https://localhost:8080/"
        },
        "id": "uUMCPAELR9h7",
        "outputId": "05fcba64-1b74-4fb7-a52c-d3f8a499bcc6"
      },
      "outputs": [],
      "source": [
        "today_datestring, tomorrow_datestring, thirty_days_ago_datestring = Boston311LogReg().get_datestrings()"
      ]
    },
    {
      "cell_type": "markdown",
      "metadata": {
        "id": "NN_UiAIvb9MT"
      },
      "source": [
        "## Define several models"
      ]
    },
    {
      "cell_type": "code",
      "execution_count": null,
      "metadata": {
        "id": "nmi4jJgDF4Fv"
      },
      "outputs": [],
      "source": [
        "linear_tree_model = Boston311SurvDecTree(train_date_range={'start':'2023-01-01','end':thirty_days_ago_datestring},\n",
        "                            predict_date_range={'start':thirty_days_ago_datestring,'end':today_datestring},\n",
        "                            feature_columns=['type','queue'],\n",
        "                            scenario={'dropColumnValues': {'source':['City Worker App', 'Employee Generated']},\n",
        "                                      'survivalTimeMin':0,\n",
        "                                      'survivalTimeFill':tomorrow_datestring},\n",
        "                            files_dict=latest_URLS)\n",
        "\n",
        "hour_interval = 48\n",
        "max_days = 120\n",
        "\n",
        "linear_tree_model.bin_edges = linear_tree_model.generate_time_bins_fixed_interval(hour_interval, max_days)\n",
        "linear_tree_model.bin_labels = linear_tree_model.generate_bin_labels(linear_tree_model.bin_edges)"
      ]
    },
    {
      "cell_type": "code",
      "execution_count": null,
      "metadata": {
        "id": "GGSlYgH6s54c"
      },
      "outputs": [],
      "source": [
        "logistic_model = Boston311LogReg(train_date_range={'start':'2023-01-01','end':thirty_days_ago_datestring},\n",
        "                            predict_date_range={'start':thirty_days_ago_datestring,'end':today_datestring},\n",
        "                            feature_columns=['type', 'queue'],\n",
        "                            scenario={'dropColumnValues': {'source':['City Worker App', 'Employee Generated']},\n",
        "                                      'survivalTimeMin':0},\n",
        "                            files_dict=latest_URLS)"
      ]
    },
    {
      "cell_type": "code",
      "execution_count": null,
      "metadata": {
        "id": "_Ddtw6t8s5rj"
      },
      "outputs": [],
      "source": [
        "logistic_tree_model = Boston311EventDecTree(train_date_range={'start':'2023-01-01','end':thirty_days_ago_datestring},\n",
        "                            predict_date_range={'start':thirty_days_ago_datestring,'end':today_datestring},\n",
        "                            feature_columns=['type', 'queue'],\n",
        "                            scenario={'dropColumnValues': {'source':['City Worker App', 'Employee Generated']},\n",
        "                                      'survivalTimeMin':0},\n",
        "                            files_dict=latest_URLS)"
      ]
    },
    {
      "cell_type": "markdown",
      "metadata": {},
      "source": [
        "## Load the data once and store it for use on all the models"
      ]
    },
    {
      "cell_type": "code",
      "execution_count": null,
      "metadata": {},
      "outputs": [],
      "source": [
        "all_2023_data = Boston311LogReg(train_date_range={'start':'2023-01-01','end':'2023-12-31'}).load_data()"
      ]
    },
    {
      "cell_type": "code",
      "execution_count": null,
      "metadata": {},
      "outputs": [],
      "source": [
        "prediction_data_2023 = linear_tree_model.load_data(data=all_2023_data, train_or_predict='predict')    "
      ]
    },
    {
      "cell_type": "code",
      "execution_count": null,
      "metadata": {},
      "outputs": [],
      "source": [
        "case_data_2023 = linear_tree_model.load_data(data=all_2023_data)"
      ]
    },
    {
      "cell_type": "markdown",
      "metadata": {
        "id": "sSSkyth-2K3A"
      },
      "source": [
        "## Train several models"
      ]
    },
    {
      "cell_type": "code",
      "execution_count": null,
      "metadata": {
        "colab": {
          "base_uri": "https://localhost:8080/"
        },
        "id": "Lv4ivBuvinss",
        "outputId": "814ef4fb-e100-4b22-ccbc-6b9d91e5a341"
      },
      "outputs": [],
      "source": [
        "logistic_tree_model.run_pipeline(data=case_data_2023)"
      ]
    },
    {
      "cell_type": "code",
      "execution_count": null,
      "metadata": {
        "colab": {
          "base_uri": "https://localhost:8080/"
        },
        "id": "n7Tg3AZ17d0u",
        "outputId": "edf553c5-418d-4a5a-d468-428463c2aef4"
      },
      "outputs": [],
      "source": [
        "logistic_tree_prediction = logistic_tree_model.predict(data=prediction_data_2023)"
      ]
    },
    {
      "cell_type": "code",
      "execution_count": null,
      "metadata": {
        "colab": {
          "base_uri": "https://localhost:8080/"
        },
        "id": "WMsNJO-G7t9v",
        "outputId": "5555616e-b5f8-478b-f38d-c72415b85ed9"
      },
      "outputs": [],
      "source": [
        "logistic_tree_prediction['event_prediction'].value_counts()"
      ]
    },
    {
      "cell_type": "code",
      "execution_count": null,
      "metadata": {
        "colab": {
          "base_uri": "https://localhost:8080/",
          "height": 1728
        },
        "id": "tlzbWH7h83jV",
        "outputId": "e7977dbf-f299-471e-f669-62337e2de8cc"
      },
      "outputs": [],
      "source": [
        "logistic_tree_prediction[logistic_tree_prediction['event'] == 0].head(100)"
      ]
    },
    {
      "cell_type": "code",
      "execution_count": null,
      "metadata": {
        "id": "2ClF204O_OfC"
      },
      "outputs": [],
      "source": [
        "logistic_tree_model.save('.','logtree','logtreeproperties')"
      ]
    },
    {
      "cell_type": "code",
      "execution_count": null,
      "metadata": {
        "colab": {
          "base_uri": "https://localhost:8080/"
        },
        "id": "_UIaks6jjPkU",
        "outputId": "0e365ed1-472e-4cb1-cdde-ae0a2d32722e"
      },
      "outputs": [],
      "source": [
        "logistic_model.run_pipeline(data=case_data_2023)"
      ]
    },
    {
      "cell_type": "code",
      "execution_count": null,
      "metadata": {
        "id": "P1f_HLnp_6v3"
      },
      "outputs": [],
      "source": [
        "logistic_model.save('.','logreg','logregproperties')"
      ]
    },
    {
      "cell_type": "code",
      "execution_count": null,
      "metadata": {
        "colab": {
          "base_uri": "https://localhost:8080/"
        },
        "id": "KlZ3gZb5AXwj",
        "outputId": "670f5204-e3ce-41d9-b240-eafb998d8149"
      },
      "outputs": [],
      "source": [
        "logistic_prediction = logistic_model.predict(data=prediction_data_2023)"
      ]
    },
    {
      "cell_type": "code",
      "execution_count": null,
      "metadata": {
        "colab": {
          "base_uri": "https://localhost:8080/"
        },
        "id": "9z7NnbgdAXwv",
        "outputId": "b1cc56c8-7e85-49c9-f6e5-c99315518893"
      },
      "outputs": [],
      "source": [
        "logistic_prediction[logistic_prediction['event_prediction'] < .5].shape[0]"
      ]
    },
    {
      "cell_type": "code",
      "execution_count": null,
      "metadata": {},
      "outputs": [],
      "source": [
        "def plot_prediction_distribution(df, column):\n",
        "    if column not in df.columns:\n",
        "        raise ValueError(f\"Column '{column}' not found in the dataframe.\")\n",
        "\n",
        "    data = df[column]  # Extract the data from the dataframe\n",
        "\n",
        "    plt.figure(figsize=(10, 6))\n",
        "    n, bins, patches = plt.hist(data, bins=20, alpha=0.6, color='b')\n",
        "\n",
        "    # Add counts above the bins\n",
        "    for count, rect in zip(n, patches):\n",
        "        height = rect.get_height()\n",
        "        plt.text(rect.get_x() + rect.get_width() / 2, height, f'{int(count)}', ha='center', va='bottom')\n",
        "\n",
        "    plt.title('Distribution of Predictions')\n",
        "    plt.xlabel('Predicted Value')\n",
        "    plt.ylabel('Count')\n",
        "    plt.xlim(0, 1)  # Assuming the predictions are probabilities [0, 1]\n",
        "    plt.show()\n",
        "\n",
        "# Example usage:\n",
        "plot_prediction_distribution(logistic_prediction, 'event_prediction')\n"
      ]
    },
    {
      "cell_type": "code",
      "execution_count": null,
      "metadata": {
        "colab": {
          "base_uri": "https://localhost:8080/"
        },
        "id": "qOwuvqxIjbGW",
        "outputId": "e9dc68d3-e497-4eab-98d2-78b9dc69fe32"
      },
      "outputs": [],
      "source": [
        "linear_tree_model.run_pipeline(data=case_data_2023)"
      ]
    },
    {
      "cell_type": "code",
      "execution_count": null,
      "metadata": {
        "colab": {
          "base_uri": "https://localhost:8080/"
        },
        "id": "oR7gp4-UDzHi",
        "outputId": "448cf759-91ca-41a7-ee93-467a496b2f1e"
      },
      "outputs": [],
      "source": [
        "linear_prediction = linear_tree_model.predict(data=prediction_data_2023)"
      ]
    },
    {
      "cell_type": "code",
      "execution_count": null,
      "metadata": {
        "colab": {
          "base_uri": "https://localhost:8080/",
          "height": 1000
        },
        "id": "LV6A7nf3pJf7",
        "outputId": "93c0c299-b754-44ea-937b-572be196104d"
      },
      "outputs": [],
      "source": [
        "linear_prediction.head(20)"
      ]
    },
    {
      "cell_type": "code",
      "execution_count": null,
      "metadata": {
        "colab": {
          "base_uri": "https://localhost:8080/"
        },
        "id": "qLxfVdyhDfc3",
        "outputId": "62581dac-f43a-47b2-f9dd-1efc654bc0bf"
      },
      "outputs": [],
      "source": [
        "linear_prediction.shape[0]"
      ]
    },
    {
      "cell_type": "code",
      "execution_count": null,
      "metadata": {
        "colab": {
          "base_uri": "https://localhost:8080/"
        },
        "id": "Xo56aEFrDknR",
        "outputId": "603ad66c-32a4-4232-a558-b2361ad829df"
      },
      "outputs": [],
      "source": [
        "logistic_prediction.shape[0]"
      ]
    },
    {
      "cell_type": "code",
      "execution_count": null,
      "metadata": {
        "colab": {
          "base_uri": "https://localhost:8080/"
        },
        "id": "W4DEitJADp-X",
        "outputId": "abcafa00-5723-4937-d10a-cabd6459b894"
      },
      "outputs": [],
      "source": [
        "logistic_tree_prediction.shape[0]"
      ]
    },
    {
      "cell_type": "markdown",
      "metadata": {
        "id": "lTyZ_4PDRv8M"
      },
      "source": [
        "##Join the tables"
      ]
    },
    {
      "cell_type": "code",
      "execution_count": null,
      "metadata": {
        "id": "CrZozETHE5Jk"
      },
      "outputs": [],
      "source": [
        "merged_df = logistic_tree_prediction.merge(logistic_prediction[['case_enquiry_id','event_prediction']], on='case_enquiry_id', how=\"outer\").merge(linear_prediction[['case_enquiry_id','survival_prediction']], on='case_enquiry_id', how=\"outer\")"
      ]
    },
    {
      "cell_type": "code",
      "execution_count": null,
      "metadata": {
        "colab": {
          "base_uri": "https://localhost:8080/"
        },
        "id": "keLAa6bMG12W",
        "outputId": "8ce124f0-e4d9-4d2a-f58c-5c58c5c2b255"
      },
      "outputs": [],
      "source": [
        "merged_df.shape[0]"
      ]
    },
    {
      "cell_type": "code",
      "execution_count": null,
      "metadata": {
        "colab": {
          "base_uri": "https://localhost:8080/",
          "height": 473
        },
        "id": "mJY98FxXG5NU",
        "outputId": "4f481dff-3661-4dc4-ee6f-892dd82ba906"
      },
      "outputs": [],
      "source": [
        "merged_df.head()"
      ]
    },
    {
      "cell_type": "markdown",
      "metadata": {
        "id": "I4dxuwJdgrZr"
      },
      "source": [
        "##Save the prediction data"
      ]
    },
    {
      "cell_type": "code",
      "execution_count": null,
      "metadata": {
        "id": "aI0HHI6YjMoQ"
      },
      "outputs": [],
      "source": [
        "merged_df.to_csv('predictions.csv', index=False)"
      ]
    },
    {
      "cell_type": "code",
      "execution_count": null,
      "metadata": {
        "colab": {
          "base_uri": "https://localhost:8080/"
        },
        "id": "-z9qFvSBirU5",
        "outputId": "f1f40dfd-2074-40ef-b0b4-9bde7b373058"
      },
      "outputs": [],
      "source": [
        "import gc\n",
        "gc.collect()"
      ]
    },
    {
      "cell_type": "markdown",
      "metadata": {},
      "source": [
        "# Enter the Neural Network #"
      ]
    },
    {
      "cell_type": "code",
      "execution_count": null,
      "metadata": {},
      "outputs": [],
      "source": [
        "KerasNN_model = Boston311KerasNN()"
      ]
    },
    {
      "cell_type": "code",
      "execution_count": null,
      "metadata": {},
      "outputs": [],
      "source": [
        "KerasNN_model.train_date_range={'start':'2023-01-01','end':thirty_days_ago_datestring}\n",
        "\n",
        "KerasNN_model.predict_date_range={'start':thirty_days_ago_datestring,'end':today_datestring}\n",
        "\n",
        "KerasNN_model.feature_columns=['queue', 'type']\n",
        "\n",
        "KerasNN_model.scenario={'dropColumnValues': {'source':['City Worker App', 'Employee Generated']}, 'survivalTimeMin':0, 'survivalTimeFill':tomorrow_datestring}\n",
        "\n",
        "KerasNN_model.epochs = 2\n",
        "KerasNN_model.batch_size = 32"
      ]
    },
    {
      "cell_type": "code",
      "execution_count": null,
      "metadata": {},
      "outputs": [],
      "source": [
        "\n",
        "hour_interval = 48\n",
        "max_days = 120\n",
        "\n",
        "#KerasNN_model.bin_edges = KerasNN_model.generate_time_bins_statistics(df, num_intervals=60)\n",
        "KerasNN_model.bin_edges = KerasNN_model.generate_time_bins_fixed_interval(hour_interval, max_days)\n",
        "\n",
        "start_nodes = 256\n",
        "end_nodes = 128\n",
        "#l2_0 = 0.00001\n",
        "#learning_rate = 7.5842e-05\n",
        "l2_0 = 0.001\n",
        "learning_rate = 0.0001\n",
        "\n",
        "hp = HyperParameters()\n",
        "hp.Fixed('start_nodes', start_nodes)\n",
        "hp.Fixed('end_nodes', end_nodes)\n",
        "hp.Fixed('l2_0', l2_0)\n",
        "hp.Fixed('learning_rate', learning_rate)\n",
        "bin_number = len(KerasNN_model.bin_edges) - 1\n",
        "hp.Fixed('final_layer', bin_number)\n",
        "hp.Fixed('final_activation', 'softmax')\n",
        "KerasNN_model.best_hyperparameters = hp"
      ]
    },
    {
      "cell_type": "code",
      "execution_count": null,
      "metadata": {},
      "outputs": [],
      "source": [
        "KerasNN_model.run_pipeline(data=case_data_2023)"
      ]
    },
    {
      "cell_type": "code",
      "execution_count": null,
      "metadata": {},
      "outputs": [],
      "source": [
        "predictions, data = KerasNN_model.predict(data=prediction_data_2023)"
      ]
    },
    {
      "cell_type": "code",
      "execution_count": null,
      "metadata": {},
      "outputs": [],
      "source": [
        "def get_top_predictions(bin_labels, predictions):\n",
        "    # Check if the number of columns in predictions matches the length of bin_labels\n",
        "    if len(bin_labels) != predictions.shape[1]:\n",
        "        raise ValueError(\"The length of bin_labels must be equal to the number of columns in predictions\")\n",
        "\n",
        "    # Get the indices of the top 3 predictions for each row\n",
        "    top_3_indices = np.argsort(-predictions, axis=1)[:, :3]\n",
        "\n",
        "    # Map the indices to labels\n",
        "    top_3_labels = np.array(bin_labels)[top_3_indices]\n",
        "\n",
        "    return top_3_labels\n",
        "\n",
        "def add_prediction_columns(cases_df, top_predictions):\n",
        "    # Check if the number of rows in the DataFrame matches the number of predictions\n",
        "    if cases_df.shape[0] != top_predictions.shape[0]:\n",
        "        raise ValueError(\"The number of rows in cases_df must be equal to the number of predictions\")\n",
        "\n",
        "    # Create new columns for the predictions\n",
        "    #cases_df['1st_prediction'] = top_predictions[:, 0]\n",
        "    #cases_df['2nd_prediction'] = top_predictions[:, 1]\n",
        "    #cases_df['3rd_prediction'] = top_predictions[:, 2]\n",
        "    #use insert instead to put them on the left side\n",
        "    cases_df.insert(0, '1st_prediction', top_predictions[:, 0])\n",
        "    cases_df.insert(1, '2nd_prediction', top_predictions[:, 1])\n",
        "    cases_df.insert(2, '3rd_prediction', top_predictions[:, 2])\n",
        "    \n",
        "    return cases_df\n",
        "\n",
        "prediction_labels = get_top_predictions(KerasNN_model.bin_labels, predictions)\n",
        "df_predictions = add_prediction_columns(data, prediction_labels)"
      ]
    },
    {
      "cell_type": "code",
      "execution_count": null,
      "metadata": {},
      "outputs": [],
      "source": [
        "df_predictions.shape[0]"
      ]
    },
    {
      "cell_type": "code",
      "execution_count": null,
      "metadata": {},
      "outputs": [],
      "source": [
        "df_predictions.head(100)"
      ]
    },
    {
      "cell_type": "code",
      "execution_count": null,
      "metadata": {},
      "outputs": [],
      "source": [
        "#add the three prediction columns to the merged_df by merging on case_enquiry_id\n",
        "merged_df = merged_df.merge(df_predictions[['case_enquiry_id','1st_prediction','2nd_prediction','3rd_prediction']], on='case_enquiry_id', how=\"outer\")"
      ]
    },
    {
      "cell_type": "code",
      "execution_count": null,
      "metadata": {},
      "outputs": [],
      "source": [
        "# Select and view the first 20 records of the specified columns\n",
        "columns_to_view = ['1st_prediction', '2nd_prediction', '3rd_prediction', 'survival_prediction', 'event_prediction_x', 'event_prediction_y', 'case_enquiry_id','open_dt','closed_dt','survival_time','case_title','type','queue']\n",
        "merged_df[columns_to_view].head(20)\n"
      ]
    },
    {
      "cell_type": "code",
      "execution_count": null,
      "metadata": {},
      "outputs": [],
      "source": [
        "#now show the first 20 that have event=0\n",
        "merged_df[merged_df['event'] == 0][columns_to_view].head(20)"
      ]
    },
    {
      "cell_type": "code",
      "execution_count": null,
      "metadata": {},
      "outputs": [],
      "source": [
        "\n",
        "\n",
        "def plot_prediction_distribution(df, prediction_cols):\n",
        "    # Set the aesthetic style of the plots\n",
        "    sns.set_style(\"whitegrid\")\n",
        "\n",
        "    # Create figure and axes\n",
        "    fig, axes = plt.subplots(nrows=len(prediction_cols), figsize=(10, 5 * len(prediction_cols)))\n",
        "\n",
        "    if not isinstance(axes, np.ndarray):\n",
        "        axes = [axes]\n",
        "\n",
        "    # Plot the distribution of each prediction\n",
        "    for ax, col in zip(axes, prediction_cols):\n",
        "        sns.countplot(data=df, x=col, hue=col, palette=\"viridis\", order=df[col].value_counts().index, ax=ax)\n",
        "        ax.set_title(f'Distribution of {col}')\n",
        "        ax.set_xlabel('Labels')\n",
        "        ax.set_ylabel('Frequency')\n",
        "        for p in ax.patches:\n",
        "            ax.annotate(f'{p.get_height()}', (p.get_x() + p.get_width() / 2., p.get_height()), ha = 'center', va = 'center', xytext = (0, 10), textcoords = 'offset points')\n",
        "        plt.xticks(rotation=45)\n",
        "\n",
        "    # Adjust layout\n",
        "    plt.tight_layout()\n",
        "    plt.show()"
      ]
    },
    {
      "cell_type": "code",
      "execution_count": null,
      "metadata": {},
      "outputs": [],
      "source": [
        "# Assuming `merged_df` is your DataFrame with columns '1st_prediction', '2nd_prediction', '3rd_prediction'\n",
        "# Example usage:\n",
        "plot_prediction_distribution(merged_df, ['event_prediction_x'])"
      ]
    },
    {
      "cell_type": "code",
      "execution_count": null,
      "metadata": {},
      "outputs": [],
      "source": [
        "merged_df['survival_prediction'].value_counts()"
      ]
    },
    {
      "cell_type": "code",
      "execution_count": null,
      "metadata": {},
      "outputs": [],
      "source": [
        "\n",
        "plot_prediction_distribution(merged_df, ['survival_prediction'])"
      ]
    },
    {
      "cell_type": "code",
      "execution_count": null,
      "metadata": {},
      "outputs": [],
      "source": [
        "\n",
        "plot_prediction_distribution(merged_df, ['1st_prediction'])"
      ]
    },
    {
      "cell_type": "code",
      "execution_count": null,
      "metadata": {},
      "outputs": [],
      "source": [
        "\n",
        "plot_prediction_distribution(merged_df, ['2nd_prediction'])"
      ]
    },
    {
      "cell_type": "code",
      "execution_count": null,
      "metadata": {},
      "outputs": [],
      "source": [
        "\n",
        "plot_prediction_distribution(merged_df, ['3rd_prediction'])"
      ]
    },
    {
      "cell_type": "code",
      "execution_count": null,
      "metadata": {},
      "outputs": [],
      "source": []
    }
  ],
  "metadata": {
    "colab": {
      "provenance": []
    },
    "kernelspec": {
      "display_name": "Python 3",
      "name": "python3"
    },
    "language_info": {
      "codemirror_mode": {
        "name": "ipython",
        "version": 3
      },
      "file_extension": ".py",
      "mimetype": "text/x-python",
      "name": "python",
      "nbconvert_exporter": "python",
      "pygments_lexer": "ipython3",
      "version": "3.10.12"
    }
  },
  "nbformat": 4,
  "nbformat_minor": 0
}
